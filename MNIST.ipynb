{
 "cells": [
  {
   "cell_type": "markdown",
   "id": "094f617d-4899-4428-a6cc-c6b9b027c255",
   "metadata": {},
   "source": [
    "# Load Packages"
   ]
  },
  {
   "cell_type": "markdown",
   "id": "8fdac296-1121-4528-a6fb-b10597f1b386",
   "metadata": {},
   "source": [
    "- We use `torch`package.\n",
    "- We use `pytorch_lightning` packages to simplify fitting and evaluate models."
   ]
  },
  {
   "cell_type": "code",
   "execution_count": 1,
   "id": "71bd6b71",
   "metadata": {
    "lines_to_next_cell": 2
   },
   "outputs": [],
   "source": [
    "import numpy as np, pandas as pd, matplotlib.pyplot as plt\n",
    "from sklearn.linear_model import \\\n",
    "     (LinearRegression, LogisticRegression, Lasso)\n",
    "from sklearn.preprocessing import StandardScaler\n",
    "from sklearn.model_selection import KFold, train_test_split, GridSearchCV\n",
    "from sklearn.pipeline import Pipeline\n",
    "from ISLP import load_data\n",
    "from ISLP.models import ModelSpec as MS"
   ]
  },
  {
   "cell_type": "markdown",
   "id": "9b799d88",
   "metadata": {},
   "source": [
    "### Torch-Specific Imports\n",
    "There are a number of imports for `torch`. (These are not\n",
    "included with `ISLP`, so must be installed separately.)\n",
    "First we import the main library\n",
    "and essential tools used to specify sequentially-structured networks."
   ]
  },
  {
   "cell_type": "markdown",
   "id": "b53d64db-af55-48a3-bb2f-acddf81c9ad6",
   "metadata": {},
   "source": [
    "- Main library and essential tools to specify sequentially-structured networks"
   ]
  },
  {
   "cell_type": "code",
   "execution_count": 2,
   "id": "3298bdf1",
   "metadata": {},
   "outputs": [],
   "source": [
    "import torch\n",
    "from torch import nn\n",
    "from torch.optim import RMSprop\n",
    "from torch.utils.data import TensorDataset"
   ]
  },
  {
   "cell_type": "markdown",
   "id": "d08cce9d-038e-4154-829a-f145909e6eda",
   "metadata": {},
   "source": [
    "- Tools from `torchmetrics` to compute metrics to evaluate performance.\n",
    "- Tools from `torchinfo` to summarize info of the layers of a model.\n",
    "    - `read_image()` load test images"
   ]
  },
  {
   "cell_type": "code",
   "execution_count": 3,
   "id": "aeae9bd9",
   "metadata": {},
   "outputs": [],
   "source": [
    "from torchmetrics import (MeanAbsoluteError, R2Score)\n",
    "from torchinfo import summary"
   ]
  },
  {
   "cell_type": "markdown",
   "id": "93a3e7e5-013f-460b-8cd6-0c4ef6792d8e",
   "metadata": {},
   "source": [
    "- `pytorch_lightning` package simplifies the specification and fitting and evaluate models by reducing amount of boilerplate code needed.\n",
    "- `pytorch_lightning` is higher-level interface than `torch`.\n",
    "- `pytorch_lightning` is a high-level module for fitting `torch` models"
   ]
  },
  {
   "cell_type": "code",
   "execution_count": 4,
   "id": "a5a39702",
   "metadata": {},
   "outputs": [],
   "source": [
    "from pytorch_lightning import Trainer\n",
    "from pytorch_lightning.loggers import CSVLogger"
   ]
  },
  {
   "cell_type": "markdown",
   "id": "e1b27f4d",
   "metadata": {},
   "source": [
    "- `seed_everything()` set seed.\n",
    "- `use_deterministic_algorithms` fix algorithms."
   ]
  },
  {
   "cell_type": "code",
   "execution_count": 5,
   "id": "11bf06a4",
   "metadata": {},
   "outputs": [
    {
     "name": "stderr",
     "output_type": "stream",
     "text": [
      "Seed set to 0\n"
     ]
    }
   ],
   "source": [
    "from pytorch_lightning import seed_everything\n",
    "seed_everything(0, workers=True)\n",
    "torch.use_deterministic_algorithms(True, warn_only=True)"
   ]
  },
  {
   "cell_type": "markdown",
   "id": "4bd719f8",
   "metadata": {},
   "source": [
    "- We use datasets from `torchvision`.\n",
    "- We use transforms from `torchvision` for preprocessing.\n",
    "- We use a pretrained network for image classification"
   ]
  },
  {
   "cell_type": "code",
   "execution_count": 6,
   "id": "062cd869",
   "metadata": {
    "lines_to_next_cell": 0
   },
   "outputs": [],
   "source": [
    "from torchvision.io import read_image\n",
    "from torchvision.datasets import MNIST, CIFAR100\n",
    "from torchvision.models import (resnet50, ResNet50_Weights)\n",
    "from torchvision.transforms import (Resize, Normalize,\n",
    "                                    CenterCrop, ToTensor)"
   ]
  },
  {
   "cell_type": "markdown",
   "id": "7c2a507a",
   "metadata": {},
   "source": [
    "- `SimpleDataModule` and `SimpleModule` from `ISLP.torch` are simple versions of objects used in `pytorch_lightning`.\n",
    "- `ErrorTracker` collects targets and predictions over each mini-batch during validation or testing, enabling metric computation over the entire validation or test data set."
   ]
  },
  {
   "cell_type": "code",
   "execution_count": 7,
   "id": "4a05884a",
   "metadata": {},
   "outputs": [],
   "source": [
    "from ISLP.torch import (SimpleDataModule, SimpleModule,\n",
    "                        ErrorTracker, rec_num_workers)"
   ]
  },
  {
   "cell_type": "markdown",
   "id": "b7b882b7-e23d-4ff0-821d-c859fc88c60a",
   "metadata": {},
   "source": [
    "- We use helper functions from `ISLP.torch.imdb` to load data, lookup that maps integers to keys in data.\n",
    "- We use a modified copy of the preprocessed `imdb` data from `keras`. It saves time for preprocessing.\n",
    "    - `keras` is a separate package for fitting deep learning models."
   ]
  },
  {
   "cell_type": "code",
   "execution_count": 8,
   "id": "1474e88b",
   "metadata": {},
   "outputs": [],
   "source": [
    "from ISLP.torch.imdb import (load_lookup, load_tensor,\n",
    "                             load_sparse, load_sequential)"
   ]
  },
  {
   "cell_type": "markdown",
   "id": "59a9d9b2-b2f7-44e4-971f-1d6ef923e63d",
   "metadata": {},
   "source": [
    "- We use `glob()` from `glob` package to find all files matching wildcard characters.\n",
    "- We use `json` module to load JSON file for looking up classes to identify labels of the pictures in `ResNet50`."
   ]
  },
  {
   "cell_type": "code",
   "execution_count": 9,
   "id": "0100ff28",
   "metadata": {
    "lines_to_next_cell": 2
   },
   "outputs": [],
   "source": [
    "from glob import glob; import json"
   ]
  },
  {
   "cell_type": "markdown",
   "id": "7a8a1c9f",
   "metadata": {},
   "source": [
    "# MNIST\n",
    "- Modified National Institute of Standards and Technology.\n",
    "- A collection of handwritten digits.\n",
    "- It contains 60,000 training images and 10,000 testing images.\n",
    "- Each image is 28x28 = 784 pixels.\n",
    "- Each pixel is an integer between 0 and 255.\n",
    "- Each image is labeled with the digit it represents, from 0 to 9.\n",
    "- The images are stored in a flatten format, with 784 pixels per image."
   ]
  },
  {
   "cell_type": "code",
   "execution_count": 10,
   "id": "e8a5545b",
   "metadata": {},
   "outputs": [],
   "source": [
    "mnist_train = MNIST(root='data', train=True, download=True, transform=ToTensor())\n",
    "mnist_test = MNIST(root='data', train=False, download=True, transform=ToTensor())\n",
    "# mnist_train, mnist_test = [MNIST(root='data', train=train, download=True, transform=ToTensor()) for train in [True, False]]"
   ]
  },
  {
   "cell_type": "code",
   "execution_count": 11,
   "id": "6b83b2c9",
   "metadata": {},
   "outputs": [
    {
     "data": {
      "image/png": "[encoded data removed]",
      "text/plain": [
       "<Figure size 640x480 with 1 Axes>"
      ]
     },
     "metadata": {},
     "output_type": "display_data"
    }
   ],
   "source": [
    "# Get a sample image and its label from the training set\n",
    "image, label = mnist_train[0]\n",
    "# Plot the image\n",
    "plt.imshow(image.squeeze(), cmap='gray')\n",
    "plt.title(f'Label: {label}');"
   ]
  },
  {
   "cell_type": "code",
   "execution_count": 12,
   "id": "26b57efb",
   "metadata": {},
   "outputs": [
    {
     "name": "stdout",
     "output_type": "stream",
     "text": [
      "Training Dataset:\n",
      "Number of samples: 60000\n",
      "Image shape: torch.Size([1, 28, 28])\n",
      "Labels: {0, 1, 2, 3, 4, 5, 6, 7, 8, 9}\n",
      "\n",
      "Test Dataset:\n",
      "Number of samples: 10000\n",
      "Image shape: torch.Size([1, 28, 28])\n",
      "Labels: {0, 1, 2, 3, 4, 5, 6, 7, 8, 9}\n"
     ]
    }
   ],
   "source": [
    "# Describe the training dataset\n",
    "print(\"Training Dataset:\")\n",
    "print(f\"Number of samples: {len(mnist_train)}\")\n",
    "print(f\"Image shape: {mnist_train[0][0].shape}\")\n",
    "print(f\"Labels: {set(mnist_train.targets.numpy())}\")\n",
    "\n",
    "# Describe the test dataset\n",
    "print(\"\\nTest Dataset:\")\n",
    "print(f\"Number of samples: {len(mnist_test)}\")\n",
    "print(f\"Image shape: {mnist_test[0][0].shape}\")\n",
    "print(f\"Labels: {set(mnist_test.targets.numpy())}\")"
   ]
  },
  {
   "cell_type": "markdown",
   "id": "aae17ca9",
   "metadata": {},
   "source": [
    "- Neural networks are sensitive to the scale of their input data, similar to ridge and lasso regression. Therefore, we scale the pixel values to be between 0 and 1 by dividing each pixel value by 255.\n",
    "- `ToTensor()` from `torchvision.transforms` package performs this rescaling automatically. It converts an image (PIL or NumPy) with pixel values [0, 255] to a PyTorch tensor with values [0, 1].\n",
    "- `ToTensor()` also reorders the dimensions of the image from H x W x C to C x H x W, where C is the number of channels (1 for grayscale, 3 for RGB).\n",
    "- We create a data module (_dm) from the training and test datasets, reserving 20% of the training images for validation."
   ]
  },
  {
   "cell_type": "code",
   "execution_count": 13,
   "id": "8da306da",
   "metadata": {},
   "outputs": [],
   "source": [
    "max_num_workers = rec_num_workers()\n",
    "mnist_dm = SimpleDataModule(mnist_train, mnist_test,\n",
    "                            validation=0.2,\n",
    "                            num_workers=max_num_workers,\n",
    "                            batch_size=256)"
   ]
  },
  {
   "cell_type": "markdown",
   "id": "3d077716-057f-4411-8b4c-1742c69d2ba1",
   "metadata": {},
   "source": [
    "- We look at the data that will get fed into our network. We loop through the first two chunks of the training dataset:\n",
    "    - We iterate the first two batches of the training set and display its shape.\n",
    "    - Each batch size is 265 images.\n",
    "    - Each image has dimensions 1 x 28 x 28. 1 channel, 28 rows, and 28 columns."
   ]
  },
  {
   "cell_type": "code",
   "execution_count": 14,
   "id": "8394912e-a186-4d46-a67c-9a6ce61f39e7",
   "metadata": {
    "lines_to_next_cell": 2
   },
   "outputs": [
    {
     "name": "stdout",
     "output_type": "stream",
     "text": [
      "X:  torch.Size([256, 1, 28, 28])\n",
      "Y:  torch.Size([256])\n",
      "X:  torch.Size([256, 1, 28, 28])\n",
      "Y:  torch.Size([256])\n"
     ]
    }
   ],
   "source": [
    "for idx, (X_ ,Y_) in enumerate(mnist_dm.train_dataloader()):\n",
    "    print('X: ', X_.shape)\n",
    "    print('Y: ', Y_.shape)\n",
    "    if idx >= 1:\n",
    "        break"
   ]
  },
  {
   "cell_type": "markdown",
   "id": "b1b6f192-106d-4fb5-a3b2-d1c796c1a9a7",
   "metadata": {},
   "source": [
    "- We define class MINISTModel that inherits from `nn.Module`.\n",
    "- Layer 1: `nn.Sequential` is a container for a sequence of layers.\n",
    "    - `nn.Flatten()` flattens each 1x28x28 image into a 1x784 tensor.\n",
    "    - `nn.Linear(28*28, 256)` is a fully connected layer with 784 input features and 256 output features.\n",
    "    - `nn.ReLU()` is a rectified linear unit activation function.\n",
    "    - `nn.Dropout(0.4)` is a dropout layer that randomly sets 40% of the input units to 0 at each update during training.\n",
    "- Layer 2: `nn.Sequential` is a container for a sequence of layers.\n",
    "    - `nn.Linear(256, 128)` is a layer with 256 input features and 128 output features.\n",
    "    - `nn.ReLU()` and `nn.Dropout(0.3)` serve the same purpose as in the first layer.\n",
    "- Forward method: combines the two layers with a final fully connected layer with 128 input features and 10 output features.\n",
    "- We define a forward method of the network. It takes an input tensor `x` and passes it through the sequence of layers defined in `self_forward`."
   ]
  },
  {
   "cell_type": "code",
   "execution_count": 15,
   "id": "1a2f2960-9482-4a36-a7ac-9851df93f6e5",
   "metadata": {},
   "outputs": [],
   "source": [
    "class MNISTModel(nn.Module):\n",
    "    def __init__(self):\n",
    "        super(MNISTModel, self).__init__()\n",
    "        self.layer1 = nn.Sequential(\n",
    "            nn.Flatten(),\n",
    "            nn.Linear(28*28, 256),\n",
    "            nn.ReLU(),\n",
    "            nn.Dropout(0.4))\n",
    "        self.layer2 = nn.Sequential(\n",
    "            nn.Linear(256, 128),\n",
    "            nn.ReLU(),\n",
    "            nn.Dropout(0.3))\n",
    "        self._forward = nn.Sequential(\n",
    "            self.layer1,\n",
    "            self.layer2,\n",
    "            nn.Linear(128, 10))\n",
    "    def forward(self, x):\n",
    "        return self._forward(x)"
   ]
  },
  {
   "cell_type": "code",
   "execution_count": 16,
   "id": "f90e0211-6325-4cc3-9f2b-73f33e86514b",
   "metadata": {},
   "outputs": [],
   "source": [
    "mnist_model = MNISTModel()"
   ]
  },
  {
   "cell_type": "markdown",
   "id": "813e5111-dc18-4263-98c4-e6c443ad9a37",
   "metadata": {},
   "source": [
    "- We verify that the model outputs the expected size using the existing batch `X_` above."
   ]
  },
  {
   "cell_type": "code",
   "execution_count": 17,
   "id": "a5a2bcc4-a4af-40c0-af6e-2f9c4d0399bd",
   "metadata": {},
   "outputs": [
    {
     "data": {
      "text/plain": [
       "torch.Size([256, 10])"
      ]
     },
     "execution_count": 17,
     "metadata": {},
     "output_type": "execute_result"
    }
   ],
   "source": [
    "mnist_model(X_).size()"
   ]
  },
  {
   "cell_type": "markdown",
   "id": "7486f839-d558-4bce-8670-cbc5047aa2c3",
   "metadata": {},
   "source": [
    "- We pass a tensor of correct shape. For this case, `X_` matches the expected input shape [batch_size, channel, height, width] = [256, 1, 28, 28].\n",
    "- We specify the list of column names to include in the summary output."
   ]
  },
  {
   "cell_type": "code",
   "execution_count": 18,
   "id": "d77968b0-8f1a-4ae1-a332-1a0b22d7fc75",
   "metadata": {
    "scrolled": true
   },
   "outputs": [
    {
     "data": {
      "text/plain": [
       "===================================================================================================================\n",
       "Layer (type:depth-idx)                   Input Shape               Output Shape              Param #\n",
       "===================================================================================================================\n",
       "MNISTModel                               [256, 1, 28, 28]          [256, 10]                 --\n",
       "├─Sequential: 1-1                        [256, 1, 28, 28]          [256, 10]                 --\n",
       "│    └─Sequential: 2-1                   [256, 1, 28, 28]          [256, 256]                --\n",
       "│    │    └─Flatten: 3-1                 [256, 1, 28, 28]          [256, 784]                --\n",
       "│    │    └─Linear: 3-2                  [256, 784]                [256, 256]                200,960\n",
       "│    │    └─ReLU: 3-3                    [256, 256]                [256, 256]                --\n",
       "│    │    └─Dropout: 3-4                 [256, 256]                [256, 256]                --\n",
       "│    └─Sequential: 2-2                   [256, 256]                [256, 128]                --\n",
       "│    │    └─Linear: 3-5                  [256, 256]                [256, 128]                32,896\n",
       "│    │    └─ReLU: 3-6                    [256, 128]                [256, 128]                --\n",
       "│    │    └─Dropout: 3-7                 [256, 128]                [256, 128]                --\n",
       "│    └─Linear: 2-3                       [256, 128]                [256, 10]                 1,290\n",
       "===================================================================================================================\n",
       "Total params: 235,146\n",
       "Trainable params: 235,146\n",
       "Non-trainable params: 0\n",
       "Total mult-adds (Units.MEGABYTES): 60.20\n",
       "===================================================================================================================\n",
       "Input size (MB): 0.80\n",
       "Forward/backward pass size (MB): 0.81\n",
       "Params size (MB): 0.94\n",
       "Estimated Total Size (MB): 2.55\n",
       "==================================================================================================================="
      ]
     },
     "execution_count": 18,
     "metadata": {},
     "output_type": "execute_result"
    }
   ],
   "source": [
    "summary(mnist_model, input_data=X_,\n",
    "        col_names=['input_size', 'output_size', 'num_params'])"
   ]
  },
  {
   "cell_type": "markdown",
   "id": "144fdac3-dbf9-4aff-9f49-d8c3aa5ecdcd",
   "metadata": {},
   "source": [
    "- We use `SimpleModule.classification()` which uses the cross-entropy loss function instead of mean squared error.\n",
    "    - We must supply the number of classes.\n",
    "- `SimpleModule.classification()` includes an accuracy metric by default. Other classification metrics can be added from `torchmetrics`."
   ]
  },
  {
   "cell_type": "code",
   "execution_count": 19,
   "id": "0bab64ab-5d4a-40ae-b351-5b310b920b5c",
   "metadata": {},
   "outputs": [],
   "source": [
    "mnist_module = SimpleModule.classification(mnist_model, num_classes=10)\n",
    "mnist_logger = CSVLogger('logs', name='MNIST')"
   ]
  },
  {
   "cell_type": "markdown",
   "id": "b94ec328-7d8d-43cb-9f22-802a81b97388",
   "metadata": {},
   "source": [
    "- We define a `Trainer` object to fit the model:\n",
    "    - `deterministic=True` ensures reproducibility.\n",
    "    - `enable_process_bar=False` suppresses the progress bar.\n",
    "    - `callbacks=[ErrorTracker()]` collects targets and predictions over each mini-batch during validation or testing, enabling metric computation over the entire validation or test data set.\n",
    "- To remind, we specified a validation split of 20%, so training is performed on 48,000 of 60,000 images.\n"
   ]
  },
  {
   "cell_type": "code",
   "execution_count": 20,
   "id": "7c374469-4470-4b6a-bd55-1c325337df12",
   "metadata": {
    "lines_to_next_cell": 0
   },
   "outputs": [
    {
     "name": "stderr",
     "output_type": "stream",
     "text": [
      "GPU available: False, used: False\n",
      "TPU available: False, using: 0 TPU cores\n",
      "HPU available: False, using: 0 HPUs\n",
      "\n",
      "  | Name  | Type             | Params | Mode \n",
      "---------------------------------------------------\n",
      "0 | model | MNISTModel       | 235 K  | train\n",
      "1 | loss  | CrossEntropyLoss | 0      | train\n",
      "---------------------------------------------------\n",
      "235 K     Trainable params\n",
      "0         Non-trainable params\n",
      "235 K     Total params\n",
      "0.941     Total estimated model params size (MB)\n",
      "13        Modules in train mode\n",
      "0         Modules in eval mode\n",
      "`Trainer.fit` stopped: `max_epochs=30` reached.\n"
     ]
    }
   ],
   "source": [
    "mnist_trainer = Trainer(deterministic=True,\n",
    "                        max_epochs=30,\n",
    "                        logger=mnist_logger,\n",
    "                        enable_progress_bar=False,\n",
    "                        callbacks=[ErrorTracker()])\n",
    "mnist_trainer.fit(mnist_module,\n",
    "                  datamodule=mnist_dm)"
   ]
  },
  {
   "cell_type": "markdown",
   "id": "31ebff34-1eec-41ea-be19-71091e37232a",
   "metadata": {},
   "source": [
    "We have suppressed the output here, which is a progress report on the\n",
    "fitting of the model, grouped by epoch. This is very useful, since on\n",
    "large datasets fitting can take time. Fitting this model took 245\n",
    "seconds on a MacBook Pro with an Apple M1 Pro chip with 10 cores and 16 GB of RAM.\n",
    "Here we specified a\n",
    "validation split of 20%, so training is actually performed on\n",
    "80% of the 60,000 observations in the training set. This is an\n",
    "alternative to actually supplying validation data, like we did for the `Hitters` data.\n",
    "SGD  uses batches\n",
    "of 256 observations in computing the gradient, and doing the\n",
    "arithmetic, we see that an epoch corresponds to 188 gradient steps."
   ]
  },
  {
   "cell_type": "markdown",
   "id": "f51e4c8a",
   "metadata": {},
   "source": [
    "- We plot the accuracy of the model on the training and validation sets across epochs."
   ]
  },
  {
   "cell_type": "code",
   "execution_count": 21,
   "id": "762c6bcf-571d-409a-9d38-bf0bfa2f894f",
   "metadata": {
    "lines_to_next_cell": 0
   },
   "outputs": [
    {
     "data": {
      "image/png": "[encoded data removed]",
      "text/plain": [
       "<Figure size 600x600 with 1 Axes>"
      ]
     },
     "metadata": {},
     "output_type": "display_data"
    }
   ],
   "source": [
    "mnist_results = pd.read_csv(mnist_logger.experiment.metrics_file_path)\n",
    "fig, ax = plt.subplots(1, 1, figsize=(6, 6))\n",
    "mnist_results.plot(x='epoch', y='train_accuracy_epoch', ax=ax, label='Training', marker='o', color='k')\n",
    "mnist_results.plot(x='epoch', y='valid_accuracy', ax=ax, label='Validation', marker='+', color='r')\n",
    "ax.set_ylim([0.5, 1]); ax.set_ylabel('Accuracy'); ax.set_xticks(np.linspace(0, 30, 7));"
   ]
  },
  {
   "cell_type": "markdown",
   "id": "d360940c-c169-438b-8c9b-dce74120990f",
   "metadata": {},
   "source": [
    "Once again we evaluate the accuracy using the `test()` method of our trainer. This model achieves\n",
    "97% accuracy on the test data."
   ]
  },
  {
   "cell_type": "markdown",
   "id": "02f0a671",
   "metadata": {},
   "source": [
    "- We use the `predict()` method of the trainer to evaluate the model on the test data.\n",
    "- The model achieves 97% accuracy on the test data."
   ]
  },
  {
   "cell_type": "code",
   "execution_count": 22,
   "id": "982dd2e0-4d4b-4151-804d-05f09c28c458",
   "metadata": {},
   "outputs": [
    {
     "data": {
      "text/html": [
       "<pre style=\"white-space:pre;overflow-x:auto;line-height:normal;font-family:Menlo,'DejaVu Sans Mono',consolas,'Courier New',monospace\">┏━━━━━━━━━━━━━━━━━━━━━━━━━━━┳━━━━━━━━━━━━━━━━━━━━━━━━━━━┓\n",
       "┃<span style=\"font-weight: bold\">        Test metric        </span>┃<span style=\"font-weight: bold\">       DataLoader 0        </span>┃\n",
       "┡━━━━━━━━━━━━━━━━━━━━━━━━━━━╇━━━━━━━━━━━━━━━━━━━━━━━━━━━┩\n",
       "│<span style=\"color: #008080; text-decoration-color: #008080\">       test_accuracy       </span>│<span style=\"color: #800080; text-decoration-color: #800080\">     0.96670001745224      </span>│\n",
       "│<span style=\"color: #008080; text-decoration-color: #008080\">         test_loss         </span>│<span style=\"color: #800080; text-decoration-color: #800080\">    0.1460821032524109     </span>│\n",
       "└───────────────────────────┴───────────────────────────┘\n",
       "</pre>\n"
      ],
      "text/plain": [
       "┏━━━━━━━━━━━━━━━━━━━━━━━━━━━┳━━━━━━━━━━━━━━━━━━━━━━━━━━━┓\n",
       "┃\u001b[1m \u001b[0m\u001b[1m       Test metric       \u001b[0m\u001b[1m \u001b[0m┃\u001b[1m \u001b[0m\u001b[1m      DataLoader 0       \u001b[0m\u001b[1m \u001b[0m┃\n",
       "┡━━━━━━━━━━━━━━━━━━━━━━━━━━━╇━━━━━━━━━━━━━━━━━━━━━━━━━━━┩\n",
       "│\u001b[36m \u001b[0m\u001b[36m      test_accuracy      \u001b[0m\u001b[36m \u001b[0m│\u001b[35m \u001b[0m\u001b[35m    0.96670001745224     \u001b[0m\u001b[35m \u001b[0m│\n",
       "│\u001b[36m \u001b[0m\u001b[36m        test_loss        \u001b[0m\u001b[36m \u001b[0m│\u001b[35m \u001b[0m\u001b[35m   0.1460821032524109    \u001b[0m\u001b[35m \u001b[0m│\n",
       "└───────────────────────────┴───────────────────────────┘\n"
      ]
     },
     "metadata": {},
     "output_type": "display_data"
    },
    {
     "data": {
      "text/plain": [
       "[{'test_loss': 0.1460821032524109, 'test_accuracy': 0.96670001745224}]"
      ]
     },
     "execution_count": 22,
     "metadata": {},
     "output_type": "execute_result"
    }
   ],
   "source": [
    "mnist_trainer.test(mnist_module, datamodule=mnist_dm)"
   ]
  },
  {
   "cell_type": "markdown",
   "id": "933b21c4",
   "metadata": {},
   "source": [
    "- We use `SimpleModule.classification()` to fit a logistic regression model. \n",
    "- We must first define new class for this. We simply add an input and output layer, and omit the hidden layers."
   ]
  },
  {
   "cell_type": "code",
   "execution_count": 23,
   "id": "7c534a7c-d637-47d8-b43b-0985d63de597",
   "metadata": {},
   "outputs": [],
   "source": [
    "class MNIST_MLR(nn.Module):\n",
    "    def __init__(self):\n",
    "        super(MNIST_MLR, self).__init__()\n",
    "        self.linear = nn.Sequential(nn.Flatten(),\n",
    "                                    nn.Linear(784, 10))\n",
    "    def forward(self, x):\n",
    "        return self.linear(x)\n",
    "\n",
    "mlr_model = MNIST_MLR()\n",
    "mlr_module = SimpleModule.classification(mlr_model,\n",
    "                                         num_classes=10)\n",
    "mlr_logger = CSVLogger('logs', name='MNIST_MLR')"
   ]
  },
  {
   "cell_type": "code",
   "execution_count": 24,
   "id": "95f60a72-db09-47dc-9348-0089486cfb59",
   "metadata": {
    "lines_to_next_cell": 0
   },
   "outputs": [
    {
     "name": "stderr",
     "output_type": "stream",
     "text": [
      "GPU available: False, used: False\n",
      "TPU available: False, using: 0 TPU cores\n",
      "HPU available: False, using: 0 HPUs\n",
      "\n",
      "  | Name  | Type             | Params | Mode \n",
      "---------------------------------------------------\n",
      "0 | model | MNIST_MLR        | 7.9 K  | train\n",
      "1 | loss  | CrossEntropyLoss | 0      | train\n",
      "---------------------------------------------------\n",
      "7.9 K     Trainable params\n",
      "0         Non-trainable params\n",
      "7.9 K     Total params\n",
      "0.031     Total estimated model params size (MB)\n",
      "5         Modules in train mode\n",
      "0         Modules in eval mode\n",
      "`Trainer.fit` stopped: `max_epochs=30` reached.\n"
     ]
    }
   ],
   "source": [
    "mlr_trainer = Trainer(deterministic=True,\n",
    "                      max_epochs=30,\n",
    "                      enable_progress_bar=False,\n",
    "                      callbacks=[ErrorTracker()])\n",
    "mlr_trainer.fit(mlr_module, datamodule=mnist_dm)"
   ]
  },
  {
   "cell_type": "code",
   "execution_count": 25,
   "id": "887c5a11-8695-4cb2-9101-6ca8260a32c1",
   "metadata": {
    "lines_to_next_cell": 0
   },
   "outputs": [
    {
     "data": {
      "text/html": [
       "<pre style=\"white-space:pre;overflow-x:auto;line-height:normal;font-family:Menlo,'DejaVu Sans Mono',consolas,'Courier New',monospace\">┏━━━━━━━━━━━━━━━━━━━━━━━━━━━┳━━━━━━━━━━━━━━━━━━━━━━━━━━━┓\n",
       "┃<span style=\"font-weight: bold\">        Test metric        </span>┃<span style=\"font-weight: bold\">       DataLoader 0        </span>┃\n",
       "┡━━━━━━━━━━━━━━━━━━━━━━━━━━━╇━━━━━━━━━━━━━━━━━━━━━━━━━━━┩\n",
       "│<span style=\"color: #008080; text-decoration-color: #008080\">       test_accuracy       </span>│<span style=\"color: #800080; text-decoration-color: #800080\">    0.9228000044822693     </span>│\n",
       "│<span style=\"color: #008080; text-decoration-color: #008080\">         test_loss         </span>│<span style=\"color: #800080; text-decoration-color: #800080\">     0.318967342376709     </span>│\n",
       "└───────────────────────────┴───────────────────────────┘\n",
       "</pre>\n"
      ],
      "text/plain": [
       "┏━━━━━━━━━━━━━━━━━━━━━━━━━━━┳━━━━━━━━━━━━━━━━━━━━━━━━━━━┓\n",
       "┃\u001b[1m \u001b[0m\u001b[1m       Test metric       \u001b[0m\u001b[1m \u001b[0m┃\u001b[1m \u001b[0m\u001b[1m      DataLoader 0       \u001b[0m\u001b[1m \u001b[0m┃\n",
       "┡━━━━━━━━━━━━━━━━━━━━━━━━━━━╇━━━━━━━━━━━━━━━━━━━━━━━━━━━┩\n",
       "│\u001b[36m \u001b[0m\u001b[36m      test_accuracy      \u001b[0m\u001b[36m \u001b[0m│\u001b[35m \u001b[0m\u001b[35m   0.9228000044822693    \u001b[0m\u001b[35m \u001b[0m│\n",
       "│\u001b[36m \u001b[0m\u001b[36m        test_loss        \u001b[0m\u001b[36m \u001b[0m│\u001b[35m \u001b[0m\u001b[35m    0.318967342376709    \u001b[0m\u001b[35m \u001b[0m│\n",
       "└───────────────────────────┴───────────────────────────┘\n"
      ]
     },
     "metadata": {},
     "output_type": "display_data"
    },
    {
     "data": {
      "text/plain": [
       "[{'test_loss': 0.318967342376709, 'test_accuracy': 0.9228000044822693}]"
      ]
     },
     "execution_count": 25,
     "metadata": {},
     "output_type": "execute_result"
    }
   ],
   "source": [
    "mlr_trainer.test(mlr_module, datamodule=mnist_dm)"
   ]
  },
  {
   "cell_type": "markdown",
   "id": "6d0c7797-262d-44fb-afc8-5a0158c1b056",
   "metadata": {},
   "source": [
    "- We delete some of the objects we created above."
   ]
  },
  {
   "cell_type": "code",
   "execution_count": 26,
   "id": "5126678f-8aea-4796-960b-fbac44ab441c",
   "metadata": {
    "lines_to_next_cell": 2
   },
   "outputs": [],
   "source": [
    "del(mnist_test,\n",
    "    mnist_train,\n",
    "    mnist_model,\n",
    "    mnist_dm,\n",
    "    mnist_trainer,\n",
    "    mnist_module,\n",
    "    mnist_results,\n",
    "    mlr_model,\n",
    "    mlr_module,\n",
    "    mlr_trainer)"
   ]
  }
 ],
 "metadata": {
  "jupytext": {
   "cell_metadata_filter": "-all",
   "main_language": "python",
   "notebook_metadata_filter": "-all"
  },
  "kernelspec": {
   "display_name": "Python 3 (ipykernel)",
   "language": "python",
   "name": "python3"
  },
  "language_info": {
   "codemirror_mode": {
    "name": "ipython",
    "version": 3
   },
   "file_extension": ".py",
   "mimetype": "text/x-python",
   "name": "python",
   "nbconvert_exporter": "python",
   "pygments_lexer": "ipython3",
   "version": "3.11.9"
  }
 },
 "nbformat": 4,
 "nbformat_minor": 5
}
