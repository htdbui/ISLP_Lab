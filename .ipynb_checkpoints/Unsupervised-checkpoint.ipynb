{
 "cells": [
  {
   "cell_type": "markdown",
   "id": "c46b17a4",
   "metadata": {},
   "source": [
    "# Data Description\n",
    "- This data set provides the following statistics for each of the 50 U.S. states in 1973:\n",
    "    - Crime Rates (per 100,000 residents):\n",
    "        - `Assault`: Assault arrests per 100,000 residents\n",
    "        - `Murder`: Murder arrests per 100,000 residents\n",
    "        - `Rape`: Rape arrests per 100,000 residents\n",
    "    - Demographic Information:\n",
    "        - `UrbanPop`: Percentage of the population living in urban areas\n",
    "- There are 50 rows which are 50 states in US."
   ]
  },
  {
   "cell_type": "markdown",
   "id": "e6899966",
   "metadata": {},
   "source": [
    "# Load Packages and Data"
   ]
  },
  {
   "cell_type": "code",
   "execution_count": 2,
   "id": "ea5779a4",
   "metadata": {},
   "outputs": [],
   "source": [
    "import numpy as np, pandas as pd, matplotlib.pyplot as plt\n",
    "from statsmodels.datasets import get_rdataset\n",
    "from sklearn.decomposition import PCA\n",
    "from sklearn.preprocessing import StandardScaler\n",
    "from ISLP import load_data\n",
    "from sklearn.cluster import KMeans, AgglomerativeClustering\n",
    "from scipy.cluster.hierarchy import dendrogram, cut_tree\n",
    "from ISLP.cluster import compute_linkage"
   ]
  },
  {
   "cell_type": "markdown",
   "id": "3ddbca0a",
   "metadata": {},
   "source": [
    "- `USArrests` is a data set in R computing environment.\n",
    "- We use `get_rdataset()` to retrieve data.\n",
    "- `get_rdataset()` can fetch data from many R packages."
   ]
  },
  {
   "cell_type": "code",
   "execution_count": 3,
   "id": "ead9dc11",
   "metadata": {},
   "outputs": [
    {
     "data": {
      "text/html": [
       "<div>\n",
       "<style scoped>\n",
       "    .dataframe tbody tr th:only-of-type {\n",
       "        vertical-align: middle;\n",
       "    }\n",
       "\n",
       "    .dataframe tbody tr th {\n",
       "        vertical-align: top;\n",
       "    }\n",
       "\n",
       "    .dataframe thead th {\n",
       "        text-align: right;\n",
       "    }\n",
       "</style>\n",
       "<table border=\"1\" class=\"dataframe\">\n",
       "  <thead>\n",
       "    <tr style=\"text-align: right;\">\n",
       "      <th></th>\n",
       "      <th>Murder</th>\n",
       "      <th>Assault</th>\n",
       "      <th>UrbanPop</th>\n",
       "      <th>Rape</th>\n",
       "    </tr>\n",
       "    <tr>\n",
       "      <th>rownames</th>\n",
       "      <th></th>\n",
       "      <th></th>\n",
       "      <th></th>\n",
       "      <th></th>\n",
       "    </tr>\n",
       "  </thead>\n",
       "  <tbody>\n",
       "    <tr>\n",
       "      <th>Alabama</th>\n",
       "      <td>13.2</td>\n",
       "      <td>236</td>\n",
       "      <td>58</td>\n",
       "      <td>21.2</td>\n",
       "    </tr>\n",
       "    <tr>\n",
       "      <th>Alaska</th>\n",
       "      <td>10.0</td>\n",
       "      <td>263</td>\n",
       "      <td>48</td>\n",
       "      <td>44.5</td>\n",
       "    </tr>\n",
       "    <tr>\n",
       "      <th>Arizona</th>\n",
       "      <td>8.1</td>\n",
       "      <td>294</td>\n",
       "      <td>80</td>\n",
       "      <td>31.0</td>\n",
       "    </tr>\n",
       "    <tr>\n",
       "      <th>Arkansas</th>\n",
       "      <td>8.8</td>\n",
       "      <td>190</td>\n",
       "      <td>50</td>\n",
       "      <td>19.5</td>\n",
       "    </tr>\n",
       "    <tr>\n",
       "      <th>California</th>\n",
       "      <td>9.0</td>\n",
       "      <td>276</td>\n",
       "      <td>91</td>\n",
       "      <td>40.6</td>\n",
       "    </tr>\n",
       "  </tbody>\n",
       "</table>\n",
       "</div>"
      ],
      "text/plain": [
       "            Murder  Assault  UrbanPop  Rape\n",
       "rownames                                   \n",
       "Alabama       13.2      236        58  21.2\n",
       "Alaska        10.0      263        48  44.5\n",
       "Arizona        8.1      294        80  31.0\n",
       "Arkansas       8.8      190        50  19.5\n",
       "California     9.0      276        91  40.6"
      ]
     },
     "execution_count": 3,
     "metadata": {},
     "output_type": "execute_result"
    }
   ],
   "source": [
    "USArrests = get_rdataset('USArrests').data\n",
    "USArrests.head()"
   ]
  },
  {
   "cell_type": "code",
   "execution_count": 4,
   "id": "003ae6c9",
   "metadata": {},
   "outputs": [
    {
     "data": {
      "text/html": [
       "<div>\n",
       "<style scoped>\n",
       "    .dataframe tbody tr th:only-of-type {\n",
       "        vertical-align: middle;\n",
       "    }\n",
       "\n",
       "    .dataframe tbody tr th {\n",
       "        vertical-align: top;\n",
       "    }\n",
       "\n",
       "    .dataframe thead th {\n",
       "        text-align: right;\n",
       "    }\n",
       "</style>\n",
       "<table border=\"1\" class=\"dataframe\">\n",
       "  <thead>\n",
       "    <tr style=\"text-align: right;\">\n",
       "      <th></th>\n",
       "      <th>Murder</th>\n",
       "      <th>Assault</th>\n",
       "      <th>UrbanPop</th>\n",
       "      <th>Rape</th>\n",
       "    </tr>\n",
       "  </thead>\n",
       "  <tbody>\n",
       "    <tr>\n",
       "      <th>count</th>\n",
       "      <td>50.00000</td>\n",
       "      <td>50.000000</td>\n",
       "      <td>50.000000</td>\n",
       "      <td>50.000000</td>\n",
       "    </tr>\n",
       "    <tr>\n",
       "      <th>mean</th>\n",
       "      <td>7.78800</td>\n",
       "      <td>170.760000</td>\n",
       "      <td>65.540000</td>\n",
       "      <td>21.232000</td>\n",
       "    </tr>\n",
       "    <tr>\n",
       "      <th>std</th>\n",
       "      <td>4.35551</td>\n",
       "      <td>83.337661</td>\n",
       "      <td>14.474763</td>\n",
       "      <td>9.366385</td>\n",
       "    </tr>\n",
       "    <tr>\n",
       "      <th>min</th>\n",
       "      <td>0.80000</td>\n",
       "      <td>45.000000</td>\n",
       "      <td>32.000000</td>\n",
       "      <td>7.300000</td>\n",
       "    </tr>\n",
       "    <tr>\n",
       "      <th>25%</th>\n",
       "      <td>4.07500</td>\n",
       "      <td>109.000000</td>\n",
       "      <td>54.500000</td>\n",
       "      <td>15.075000</td>\n",
       "    </tr>\n",
       "    <tr>\n",
       "      <th>50%</th>\n",
       "      <td>7.25000</td>\n",
       "      <td>159.000000</td>\n",
       "      <td>66.000000</td>\n",
       "      <td>20.100000</td>\n",
       "    </tr>\n",
       "    <tr>\n",
       "      <th>75%</th>\n",
       "      <td>11.25000</td>\n",
       "      <td>249.000000</td>\n",
       "      <td>77.750000</td>\n",
       "      <td>26.175000</td>\n",
       "    </tr>\n",
       "    <tr>\n",
       "      <th>max</th>\n",
       "      <td>17.40000</td>\n",
       "      <td>337.000000</td>\n",
       "      <td>91.000000</td>\n",
       "      <td>46.000000</td>\n",
       "    </tr>\n",
       "  </tbody>\n",
       "</table>\n",
       "</div>"
      ],
      "text/plain": [
       "         Murder     Assault   UrbanPop       Rape\n",
       "count  50.00000   50.000000  50.000000  50.000000\n",
       "mean    7.78800  170.760000  65.540000  21.232000\n",
       "std     4.35551   83.337661  14.474763   9.366385\n",
       "min     0.80000   45.000000  32.000000   7.300000\n",
       "25%     4.07500  109.000000  54.500000  15.075000\n",
       "50%     7.25000  159.000000  66.000000  20.100000\n",
       "75%    11.25000  249.000000  77.750000  26.175000\n",
       "max    17.40000  337.000000  91.000000  46.000000"
      ]
     },
     "execution_count": 4,
     "metadata": {},
     "output_type": "execute_result"
    }
   ],
   "source": [
    "USArrests.describe()"
   ]
  },
  {
   "cell_type": "markdown",
   "id": "0c4d07a1",
   "metadata": {},
   "source": [
    "# Principal Components Analysis"
   ]
  },
  {
   "cell_type": "markdown",
   "id": "f1b44c62",
   "metadata": {},
   "source": [
    "- Issue with Variable Scales: The variables have vastly different standard deviation. The UrbanPop variable shows the percentage of urban population, while the rape rate is on a different scale. These scale differences can distort PCA results.\n",
    "- Impact on PCA: PCA identifies derived variables (principal components) that capture most of variance in the data. If the variables are not scaled, PCA will be dominated by the variable with the largest variance, which is `Assault`. This would overshadow the contribution of other variables.\n",
    "- Solution: To ensure PCA is not biased by different scales, we standardize the variables to have mean 0 and standard deviation 1 before applying PCA."
   ]
  },
  {
   "cell_type": "code",
   "execution_count": 5,
   "id": "4d6dc20f",
   "metadata": {},
   "outputs": [],
   "source": [
    "scaler = StandardScaler(with_std=True, with_mean=True)\n",
    "USArrests_scaled = scaler.fit_transform(USArrests)"
   ]
  },
  {
   "cell_type": "code",
   "execution_count": 6,
   "id": "02546d3a",
   "metadata": {},
   "outputs": [],
   "source": [
    "pcaUS = PCA()\n",
    "pcaUS.fit(USArrests_scaled);"
   ]
  },
  {
   "cell_type": "markdown",
   "id": "d25b57b5",
   "metadata": {},
   "source": [
    "- By default, the `PCA()` transform centers the variables (i.e., sets their mean to zero) but does not scale them (i.e., does not adjust their standard deviations).  \n",
    "- After calling the `fit()` method, the `pcaUS` object contains several useful quantities:\n",
    "    - The `mean_` attribute contains the mean of each variable.\tBecause we standardized the variables, these are all close to zero.\n",
    "    - The `components_` attribute contains the principal component loadings.\n",
    "    - We use `transform()` method of the `pcaUS` object to compute the principal component scores of the states."
   ]
  },
  {
   "cell_type": "code",
   "execution_count": 7,
   "id": "1a1d1f4b",
   "metadata": {},
   "outputs": [
    {
     "data": {
      "text/plain": [
       "array([-0.,  0., -0.,  0.])"
      ]
     },
     "execution_count": 7,
     "metadata": {},
     "output_type": "execute_result"
    }
   ],
   "source": [
    "pcaUS.mean_.round(3)"
   ]
  },
  {
   "cell_type": "code",
   "execution_count": 8,
   "id": "d5448050",
   "metadata": {},
   "outputs": [
    {
     "data": {
      "text/html": [
       "<div>\n",
       "<style scoped>\n",
       "    .dataframe tbody tr th:only-of-type {\n",
       "        vertical-align: middle;\n",
       "    }\n",
       "\n",
       "    .dataframe tbody tr th {\n",
       "        vertical-align: top;\n",
       "    }\n",
       "\n",
       "    .dataframe thead th {\n",
       "        text-align: right;\n",
       "    }\n",
       "</style>\n",
       "<table border=\"1\" class=\"dataframe\">\n",
       "  <thead>\n",
       "    <tr style=\"text-align: right;\">\n",
       "      <th></th>\n",
       "      <th>Murder</th>\n",
       "      <th>Assault</th>\n",
       "      <th>UrbanPop</th>\n",
       "      <th>Rape</th>\n",
       "    </tr>\n",
       "  </thead>\n",
       "  <tbody>\n",
       "    <tr>\n",
       "      <th>PC1</th>\n",
       "      <td>0.536</td>\n",
       "      <td>0.583</td>\n",
       "      <td>0.278</td>\n",
       "      <td>0.543</td>\n",
       "    </tr>\n",
       "    <tr>\n",
       "      <th>PC2</th>\n",
       "      <td>-0.418</td>\n",
       "      <td>-0.188</td>\n",
       "      <td>0.873</td>\n",
       "      <td>0.167</td>\n",
       "    </tr>\n",
       "    <tr>\n",
       "      <th>PC3</th>\n",
       "      <td>-0.341</td>\n",
       "      <td>-0.268</td>\n",
       "      <td>-0.378</td>\n",
       "      <td>0.818</td>\n",
       "    </tr>\n",
       "    <tr>\n",
       "      <th>PC4</th>\n",
       "      <td>-0.649</td>\n",
       "      <td>0.743</td>\n",
       "      <td>-0.134</td>\n",
       "      <td>-0.089</td>\n",
       "    </tr>\n",
       "  </tbody>\n",
       "</table>\n",
       "</div>"
      ],
      "text/plain": [
       "     Murder  Assault  UrbanPop   Rape\n",
       "PC1   0.536    0.583     0.278  0.543\n",
       "PC2  -0.418   -0.188     0.873  0.167\n",
       "PC3  -0.341   -0.268    -0.378  0.818\n",
       "PC4  -0.649    0.743    -0.134 -0.089"
      ]
     },
     "execution_count": 8,
     "metadata": {},
     "output_type": "execute_result"
    }
   ],
   "source": [
    "# components_\n",
    "pd.DataFrame(pcaUS.components_.round(3), columns=USArrests.columns, index=['PC1', 'PC2', 'PC3', 'PC4'])"
   ]
  },
  {
   "cell_type": "code",
   "execution_count": 9,
   "id": "fc81563b",
   "metadata": {},
   "outputs": [
    {
     "data": {
      "text/html": [
       "<div>\n",
       "<style scoped>\n",
       "    .dataframe tbody tr th:only-of-type {\n",
       "        vertical-align: middle;\n",
       "    }\n",
       "\n",
       "    .dataframe tbody tr th {\n",
       "        vertical-align: top;\n",
       "    }\n",
       "\n",
       "    .dataframe thead th {\n",
       "        text-align: right;\n",
       "    }\n",
       "</style>\n",
       "<table border=\"1\" class=\"dataframe\">\n",
       "  <thead>\n",
       "    <tr style=\"text-align: right;\">\n",
       "      <th></th>\n",
       "      <th>Murder</th>\n",
       "      <th>Assault</th>\n",
       "      <th>UrbanPop</th>\n",
       "      <th>Rape</th>\n",
       "    </tr>\n",
       "  </thead>\n",
       "  <tbody>\n",
       "    <tr>\n",
       "      <th>0</th>\n",
       "      <td>1.255</td>\n",
       "      <td>0.791</td>\n",
       "      <td>-0.526</td>\n",
       "      <td>-0.003</td>\n",
       "    </tr>\n",
       "    <tr>\n",
       "      <th>1</th>\n",
       "      <td>0.513</td>\n",
       "      <td>1.118</td>\n",
       "      <td>-1.224</td>\n",
       "      <td>2.509</td>\n",
       "    </tr>\n",
       "    <tr>\n",
       "      <th>2</th>\n",
       "      <td>0.072</td>\n",
       "      <td>1.494</td>\n",
       "      <td>1.009</td>\n",
       "      <td>1.053</td>\n",
       "    </tr>\n",
       "  </tbody>\n",
       "</table>\n",
       "</div>"
      ],
      "text/plain": [
       "   Murder  Assault  UrbanPop   Rape\n",
       "0   1.255    0.791    -0.526 -0.003\n",
       "1   0.513    1.118    -1.224  2.509\n",
       "2   0.072    1.494     1.009  1.053"
      ]
     },
     "execution_count": 9,
     "metadata": {},
     "output_type": "execute_result"
    }
   ],
   "source": [
    "# Original data\n",
    "pd.DataFrame(USArrests_scaled[:3].round(3), columns=USArrests.columns)"
   ]
  },
  {
   "cell_type": "code",
   "execution_count": 10,
   "id": "2385e93f",
   "metadata": {},
   "outputs": [
    {
     "data": {
      "text/plain": [
       "array([[ 0.986, -1.133, -0.444, -0.156],\n",
       "       [ 1.95 , -1.073,  2.04 ,  0.439],\n",
       "       [ 1.763,  0.746,  0.055,  0.835]])"
      ]
     },
     "execution_count": 10,
     "metadata": {},
     "output_type": "execute_result"
    }
   ],
   "source": [
    "scores = pcaUS.transform(USArrests_scaled)\n",
    "scores[:3].round(3)"
   ]
  },
  {
   "cell_type": "markdown",
   "id": "eaf9b26b",
   "metadata": {},
   "source": [
    "- The scores has following properties:\n",
    "    - Row (50): Each row corresponds to an observation (a state).\n",
    "    - Column (4): Each column corresponds to a principal component.\n",
    "        - The first column is the first principal component which explains the most variance. The second column is the second principal component, and so on.\n",
    "    - Each element in the scores matrix represents the projection of an observation onto a principal component.\n",
    "    - 0.986 = 1.255 * 0.536 + 0.791 * 0.583 - 0.278 * 0.526 - 0.543 * 0.003\n",
    "    - The first observation has a positive and relatively strong contribution to the first principal component.\n",
    "- The `biplot` is a common PCA visualization method, but it's not built into `sklearn`.\n",
    "- We create a simple `biplot` manually.\n",
    "\n",
    "- Principal components and sign ambiguity: PCs are not unique in sign; the direction (or \"sign\") of a component can be reversed, and this does not affect the data’s underlying structure or meaning.\n",
    "- By flipping the signs of the second set of scores and loadings, we create a graph that mirrors the first one."
   ]
  },
  {
   "cell_type": "code",
   "execution_count": 11,
   "id": "46adcf9a",
   "metadata": {},
   "outputs": [
    {
     "data": {
      "image/png": "[encoded data removed]",
      "text/plain": [
       "<Figure size 1600x800 with 2 Axes>"
      ]
     },
     "metadata": {},
     "output_type": "display_data"
    }
   ],
   "source": [
    "fig, axes = plt.subplots(1, 2, figsize=(16, 8))\n",
    "# Left plot\n",
    "# Scatter plot of the scores of the first two principal components\n",
    "axes[0].scatter(scores[:, 0], scores[:, 1])\n",
    "axes[0].set_xlabel('PC1'); axes[0].set_ylabel('PC2')\n",
    "# First Variable\n",
    "axes[0].arrow(0, 0, pcaUS.components_[0, 0], pcaUS.components_[1, 0])\n",
    "axes[0].text(pcaUS.components_[0, 0], pcaUS.components_[1, 0], 'Murder')\n",
    "# Second Variable\n",
    "axes[0].arrow(0, 0, pcaUS.components_[0, 1], pcaUS.components_[1, 1])\n",
    "axes[0].text(pcaUS.components_[0, 1], pcaUS.components_[1, 1], 'Assault')\n",
    "# Third Variable\n",
    "axes[0].arrow(0, 0, pcaUS.components_[0, 2], pcaUS.components_[1, 2])\n",
    "axes[0].text(pcaUS.components_[0, 2], pcaUS.components_[1, 2], 'UrbandPop')\n",
    "# Forth Variable\n",
    "axes[0].arrow(0, 0, pcaUS.components_[0, 3], pcaUS.components_[1, 3])\n",
    "axes[0].text(pcaUS.components_[0, 3], pcaUS.components_[1, 3], 'Rape')\n",
    "\n",
    "# Right plot\n",
    "axes[1].scatter(scores[:, 0], -scores[:, 1])\n",
    "axes[1].set_xlabel('PC1'); axes[1].set_ylabel('PC2')\n",
    "# First Variable\n",
    "axes[1].arrow(0, 0, pcaUS.components_[0, 0], -pcaUS.components_[1, 0])\n",
    "axes[1].text(pcaUS.components_[0, 0], -pcaUS.components_[1, 0], 'Murder')\n",
    "# Second Variable\n",
    "axes[1].arrow(0, 0, pcaUS.components_[0, 1], -pcaUS.components_[1, 1])\n",
    "axes[1].text(pcaUS.components_[0, 1], -pcaUS.components_[1, 1], 'Assault')\n",
    "# Third Variable\n",
    "axes[1].arrow(0, 0, pcaUS.components_[0, 2], -pcaUS.components_[1, 2])\n",
    "axes[1].text(pcaUS.components_[0, 2], -pcaUS.components_[1, 2], 'UrbandPop')\n",
    "# Forth Variable\n",
    "axes[1].arrow(0, 0, pcaUS.components_[0, 3], -pcaUS.components_[1, 3])\n",
    "axes[1].text(pcaUS.components_[0, 3], -pcaUS.components_[1, 3], 'Rape');"
   ]
  },
  {
   "cell_type": "code",
   "execution_count": 12,
   "id": "b1e92b21",
   "metadata": {},
   "outputs": [
    {
     "data": {
      "text/plain": [
       "array([1.5908673 , 1.00496987, 0.6031915 , 0.4206774 ])"
      ]
     },
     "execution_count": 12,
     "metadata": {},
     "output_type": "execute_result"
    }
   ],
   "source": [
    "# Standard deviations of the principal component scores\n",
    "scores.std(0, ddof=1)"
   ]
  },
  {
   "cell_type": "code",
   "execution_count": 13,
   "id": "f97c47c1",
   "metadata": {},
   "outputs": [
    {
     "data": {
      "text/plain": [
       "array([2.53085875, 1.00996444, 0.36383998, 0.17696948])"
      ]
     },
     "execution_count": 13,
     "metadata": {},
     "output_type": "execute_result"
    }
   ],
   "source": [
    "# Variance of the principal component scores\n",
    "scores.std(0, ddof=1)**2"
   ]
  },
  {
   "cell_type": "code",
   "execution_count": 14,
   "id": "3005513b",
   "metadata": {},
   "outputs": [
    {
     "data": {
      "text/plain": [
       "array([2.53085875, 1.00996444, 0.36383998, 0.17696948])"
      ]
     },
     "execution_count": 14,
     "metadata": {},
     "output_type": "execute_result"
    }
   ],
   "source": [
    "# Variance of the principal component scores\n",
    "pcaUS.explained_variance_"
   ]
  },
  {
   "cell_type": "code",
   "execution_count": 15,
   "id": "57b6d12b",
   "metadata": {},
   "outputs": [
    {
     "data": {
      "text/plain": [
       "array([0.62006039, 0.24744129, 0.0891408 , 0.04335752])"
      ]
     },
     "execution_count": 15,
     "metadata": {},
     "output_type": "execute_result"
    }
   ],
   "source": [
    "# Proportion of variance explained by each principal component (PVE)\n",
    "pcaUS.explained_variance_ratio_"
   ]
  },
  {
   "cell_type": "markdown",
   "id": "7ebc5aa1",
   "metadata": {},
   "source": [
    "- The first principal component explains 62.0% of the variance in the data.\n",
    "- The second principal component explains 24.7% of the variance, and so on.\n",
    "- We visualize the Proportion of Variance Explained (PVE) by each component, as well as the cumulative PVE."
   ]
  },
  {
   "cell_type": "code",
   "execution_count": 16,
   "id": "cd63ea0c",
   "metadata": {},
   "outputs": [
    {
     "data": {
      "image/png": "[encoded data removed]",
      "text/plain": [
       "<Figure size 1500x600 with 2 Axes>"
      ]
     },
     "metadata": {},
     "output_type": "display_data"
    }
   ],
   "source": [
    "fig, axes = plt.subplots(1, 2, figsize=(15, 6))\n",
    "# PVE on the left plot\n",
    "axes[0].plot([1,2,3,4], pcaUS.explained_variance_ratio_, marker='o')\n",
    "axes[0].set_xlabel('Principal Component'); axes[0].set_ylabel('Proportion of Variance Explained')\n",
    "axes[0].set_ylim([0,1]); axes[0].set_xticks([1,2,3,4])\n",
    "# Cumulative PVE on the right plot\n",
    "axes[1].plot([1,2,3,4], np.cumsum(pcaUS.explained_variance_ratio_), marker='o')\n",
    "axes[1].set_xlabel('Principal Component'); axes[1].set_ylabel('Cumulative Proportion of Variance Explained')\n",
    "axes[1].set_ylim([0,1]); axes[1].set_xticks([1,2,3,4]);"
   ]
  },
  {
   "cell_type": "markdown",
   "id": "34d69bbe",
   "metadata": {},
   "source": [
    "# Matrix Completion\n",
    "- Solving the optimization problem of PCA on a centered data matrix $X$ is equivalent to computing the first $M$ PCs of the data.\n",
    "- We used our scaled and centered $X$.\n",
    "- The singular value decomposition (SVD) is general algorithm for solving the PCA optimization problem.\n",
    "    - The SVD decomposes $X$ into three matrices: $X = U \\cdot D \\cdot V^T$.\n",
    "    - $U$: This is an orthogonal matrix where the columns are the left singular vectors of $X$. Each column represents a principal component in the original data space.\n",
    "    - $D$: This is a diagonal matrix (return as 1D array) containing the singular values of $X$. The singular values are related to the amount of variance captured by each principal component. Larger values indicate that the corresponding principal component captures more variance.\n",
    "    - $V$: This is an orthogonal matrix where the rows are the right singular vectors of $X$. Each row represents a principal component in feature space."
   ]
  },
  {
   "cell_type": "code",
   "execution_count": 17,
   "id": "94d1a4e3",
   "metadata": {},
   "outputs": [
    {
     "data": {
      "text/plain": [
       "((50, 4), (4,), (4, 4))"
      ]
     },
     "execution_count": 17,
     "metadata": {},
     "output_type": "execute_result"
    }
   ],
   "source": [
    "X = USArrests_scaled\n",
    "U, D, V = np.linalg.svd(X, full_matrices=False)\n",
    "U.shape, D.shape, V.shape"
   ]
  },
  {
   "cell_type": "markdown",
   "id": "850621b2",
   "metadata": {},
   "source": [
    "- `full_matrices=False`ensures ``U`` has the same shape of ``X``."
   ]
  },
  {
   "cell_type": "code",
   "execution_count": 18,
   "id": "c5607001",
   "metadata": {},
   "outputs": [
    {
     "data": {
      "text/plain": [
       "array([[-0.53589947, -0.58318363, -0.27819087, -0.54343209],\n",
       "       [-0.41818087, -0.1879856 ,  0.87280619,  0.16731864],\n",
       "       [ 0.34123273,  0.26814843,  0.37801579, -0.81777791],\n",
       "       [ 0.6492278 , -0.74340748,  0.13387773,  0.08902432]])"
      ]
     },
     "execution_count": 18,
     "metadata": {},
     "output_type": "execute_result"
    }
   ],
   "source": [
    "V"
   ]
  },
  {
   "cell_type": "code",
   "execution_count": 19,
   "id": "25c89ad5",
   "metadata": {},
   "outputs": [
    {
     "data": {
      "text/plain": [
       "array([[ 0.53589947,  0.58318363,  0.27819087,  0.54343209],\n",
       "       [-0.41818087, -0.1879856 ,  0.87280619,  0.16731864],\n",
       "       [-0.34123273, -0.26814843, -0.37801579,  0.81777791],\n",
       "       [-0.6492278 ,  0.74340748, -0.13387773, -0.08902432]])"
      ]
     },
     "execution_count": 19,
     "metadata": {},
     "output_type": "execute_result"
    }
   ],
   "source": [
    "pcaUS.components_"
   ]
  },
  {
   "cell_type": "markdown",
   "id": "ecc3ed66",
   "metadata": {},
   "source": [
    "- $U$: Standardized PCA score matrix (columns have sum-of-squares equal to one).\n",
    "- $D$: Vectors of singular values.\n",
    "- $PCA Scores$: Obtained by multiplying each column of $U$ by the corresponding element of $D$. $$\\text{PCA Scores} = U \\cdot D$$"
   ]
  },
  {
   "cell_type": "code",
   "execution_count": 20,
   "id": "4c79119c",
   "metadata": {},
   "outputs": [
    {
     "data": {
      "text/plain": [
       "array([[-0.98556588, -1.13339238,  0.44426879,  0.15626714],\n",
       "       [-1.95013775, -1.07321326, -2.04000333, -0.43858344],\n",
       "       [-1.76316354,  0.74595678, -0.05478082, -0.83465292]])"
      ]
     },
     "execution_count": 20,
     "metadata": {},
     "output_type": "execute_result"
    }
   ],
   "source": [
    "(U * D[None,:])[:3]"
   ]
  },
  {
   "cell_type": "code",
   "execution_count": 21,
   "id": "9b42d159",
   "metadata": {},
   "outputs": [
    {
     "data": {
      "text/plain": [
       "array([[ 0.98556588, -1.13339238, -0.44426879, -0.15626714],\n",
       "       [ 1.95013775, -1.07321326,  2.04000333,  0.43858344],\n",
       "       [ 1.76316354,  0.74595678,  0.05478082,  0.83465292]])"
      ]
     },
     "execution_count": 21,
     "metadata": {},
     "output_type": "execute_result"
    }
   ],
   "source": [
    "scores[:3]"
   ]
  },
  {
   "cell_type": "markdown",
   "id": "9f0a7b0a",
   "metadata": {},
   "source": [
    "- We omit 20 entries in 50 x 4 data matrix at random:\n",
    "    - Select 20 rows (states) at random.\n",
    "    - For each selected row, randomly choose one of the four entries to omit.\n",
    "    - This method ensures that every row retains at least three observed values."
   ]
  },
  {
   "cell_type": "code",
   "execution_count": 22,
   "id": "9abf5617",
   "metadata": {},
   "outputs": [
    {
     "data": {
      "text/plain": [
       "array([[ 1.25517927,  0.79078716, -0.52619514, -0.00345116],\n",
       "       [ 0.51301858,  1.11805959, -1.22406668,  2.50942392],\n",
       "       [ 0.07236067,  1.49381682,  1.00912225,  1.05346626],\n",
       "       [ 0.23470832,  0.23321191, -1.08449238,         nan],\n",
       "       [ 0.28109336,  1.2756352 ,  1.77678094,  2.08881393],\n",
       "       [ 0.02597562,  0.40290872,  0.86954794,  1.88390137],\n",
       "       [-1.04088037, -0.73648418,  0.79976079, -1.09272319],\n",
       "       [-0.43787481,  0.81502956,  0.45082502, -0.58583422],\n",
       "       [ 1.76541475,  1.99078607,  1.00912225,  1.1505301 ],\n",
       "       [        nan,  0.48775713, -0.38662083,  0.49265293],\n",
       "       [-0.57702994, -1.51224105,  1.21848371, -0.11129987],\n",
       "       [-1.20322802, -0.61527217, -0.80534376, -0.75839217],\n",
       "       [ 0.60578867,  0.94836277,  1.21848371,  0.29852525],\n",
       "       [-0.13637203, -0.70012057, -0.03768506, -0.0250209 ],\n",
       "       [-1.29599811, -1.39102904, -0.5959823 ,         nan],\n",
       "       [-0.41468229, -0.67587817,  0.03210209, -0.34856705],\n",
       "       [ 0.44344101,         nan, -0.94491807, -0.53190987],\n",
       "       [ 1.76541475,  0.94836277,  0.03210209,  0.10439756],\n",
       "       [-1.31919063, -1.06375661, -1.01470522, -1.44862395],\n",
       "       [ 0.81452136,  1.56654403,  0.10188925,  0.70835037],\n",
       "       [-0.78576263,         nan,  1.35805802, -0.53190987],\n",
       "       [ 1.00006153,  1.02108998,  0.59039932,  1.49564599],\n",
       "       [        nan, -1.19708982,  0.03210209, -0.68289807],\n",
       "       [ 1.9277624 ,  1.06957478, -1.5032153 , -0.44563089],\n",
       "       [ 0.28109336,  0.0877575 ,  0.31125071,  0.75148985],\n",
       "       [-0.41468229,         nan, -0.87513091, -0.521125  ],\n",
       "       [-0.80895515,         nan, -0.24704653, -0.51034012],\n",
       "       [ 1.02325405,  0.98472638,  1.0789094 ,  2.671197  ],\n",
       "       [-1.31919063, -1.37890783, -0.66576945, -1.26528114],\n",
       "       [-0.08998698, -0.14254532,  1.63720664, -0.26228808],\n",
       "       [        nan,  1.38472601,  0.31125071,  1.17209984],\n",
       "       [ 0.76813632,  1.00896878,  1.42784517,  0.52500755],\n",
       "       [ 1.20879423,  2.01502847, -1.43342815, -0.55347961],\n",
       "       [-1.62069341,         nan, -1.5032153 , -1.50254831],\n",
       "       [-0.11317951, -0.61527217,  0.66018648,  0.01811858],\n",
       "       [-0.27552716, -0.23951493,  0.1716764 ,         nan],\n",
       "       [        nan, -0.14254532,  0.10188925,  0.87012344],\n",
       "       [-0.34510472, -0.78496898,  0.45082502,         nan],\n",
       "       [        nan,  0.03927269,  1.49763233, -1.39469959],\n",
       "       [ 1.53348953,  1.3119988 , -1.22406668,  0.13675217],\n",
       "       [-0.92491776, -1.027393  , -1.43342815, -0.90938037],\n",
       "       [        nan,  0.20896951, -0.45640799,  0.61128652],\n",
       "       [ 1.13921666,  0.36654512,         nan,  0.46029832],\n",
       "       [-1.06407289,         nan,  1.00912225,  0.17989166],\n",
       "       [        nan, -1.48799864, -2.34066115, -1.08193832],\n",
       "       [ 0.16513075, -0.17890893, -0.17725937, -0.05737552],\n",
       "       [-0.87853272, -0.31224214,  0.52061217,  0.53579242],\n",
       "       [-0.48425985, -1.08799901,         nan, -1.28685088],\n",
       "       [-1.20322802, -1.42739264,  0.03210209, -1.1250778 ],\n",
       "       [-0.22914211, -0.11830292,         nan, -0.60740397]])"
      ]
     },
     "execution_count": 22,
     "metadata": {},
     "output_type": "execute_result"
    }
   ],
   "source": [
    "n_omit = 20\n",
    "np.random.seed(15)\n",
    "r_idx = np.random.choice(np.arange(50), 20, replace=False)\n",
    "c_idx = np.random.choice(np.arange(4), n_omit, replace=True)\n",
    "Xna = X.copy()\n",
    "Xna[r_idx, c_idx] = np.nan\n",
    "Xna"
   ]
  },
  {
   "cell_type": "markdown",
   "id": "c1e4393b",
   "metadata": {},
   "source": [
    "![Algorithm 12.1](https://i.imgur.com/PFICDhP.png)"
   ]
  },
  {
   "cell_type": "markdown",
   "id": "59391486",
   "metadata": {},
   "source": [
    "- Step 1:\n",
    "    - Make a copy of the original data to avoid overwriting ``Xna`` when assigning values to `Xhat`.\n",
    "    - Compute the column means of the non-missing entries using ``np.nanmean()`` and store them in ``Xbar``.\n",
    "    - Initialize `Xhat` ($\\tilde{X}$) by replacing the missing values with the corresponding column means from ``Xbar``.   "
   ]
  },
  {
   "cell_type": "code",
   "execution_count": 23,
   "id": "45aa1c36",
   "metadata": {},
   "outputs": [],
   "source": [
    "Xhat = Xna.copy()\n",
    "Xbar = np.nanmean(Xhat, axis=0)\n",
    "Xhat[r_idx, c_idx] = Xbar[c_idx]"
   ]
  },
  {
   "cell_type": "markdown",
   "id": "89dc62f6",
   "metadata": {},
   "source": [
    "- Logical Matrix ``ismiss``:\n",
    "    - ``ismiss`` is a logical matrix with the same dimensions as ``Xna``.\n",
    "    - An element is `True` if the corresponding element in ``Xna`` is missing, and `False` otherwise.\n",
    "    - The notation ``~ismiss`` negates this boolean matrix.\n",
    "- Mean of Squared Non-Missing Elements:\n",
    "    - We store the mean of the squared non-missing elements in ``mss0``.\n",
    "- Mean Squared Error (MSE):\n",
    "    - We store MSE of the non-missing elements of the old version of ``Xhat`` in ``mssold``. Initially, ``mssold`` agrees with ``mss0``.\n",
    "    - We plan to store MSE of the non-missing elements of the current version of ``Xhat`` in ``mss``.\n",
    "- Iteration Criteria:\n",
    "    - We iterate Step 2 of Algorithm 12.1 until the relative error, defined as ``(mssold - mss) / mss0``, falls below ``thresh = 1e-7``.\n",
    "    - Algorithm 12.1 instructs us to iterate Step 2 until the relative error is no longer decreasing.\n",
    "    - Tracking ``(mssold - mss) / mss0`` ensures that the number of iterations required for convergence does not depend on whether the raw data ``X`` was multiplied by a constant factor."
   ]
  },
  {
   "cell_type": "code",
   "execution_count": 24,
   "id": "585abdfb",
   "metadata": {},
   "outputs": [
    {
     "name": "stdout",
     "output_type": "stream",
     "text": [
      "Difference between mss0 and mssold: 0.0\n"
     ]
    }
   ],
   "source": [
    "# Logical matrix ismiss\n",
    "ismiss = np.isnan(Xna)\n",
    "# MSE of all non-missing values\n",
    "mss0 = np.mean(Xna[~ismiss]**2) \n",
    "# MSE of old version\n",
    "mssold = np.mean(Xhat[~ismiss]**2)\n",
    "# mssold = mss0\n",
    "print('Difference between mss0 and mssold:', mss0 - mssold)\n",
    "# Iteration Criteria\n",
    "thresh = 1e-7\n",
    "rel_err = 1\n",
    "count = 0"
   ]
  },
  {
   "cell_type": "markdown",
   "id": "b979af33",
   "metadata": {},
   "source": [
    "- We write a function take takes in a matrix and return an approximation of the matrix using  ``svd()``. This will be needed in Step 2. "
   ]
  },
  {
   "cell_type": "code",
   "execution_count": 25,
   "id": "a1f5a308",
   "metadata": {},
   "outputs": [],
   "source": [
    "def low_rank(X, M=1):\n",
    "    U, D, V = np.linalg.svd(X)\n",
    "    L = U[:,:M] * D[None,:M]\n",
    "    return L.dot(V[:M])"
   ]
  },
  {
   "cell_type": "markdown",
   "id": "53b7c053",
   "metadata": {},
   "source": [
    "- Step 2:\n",
    "    - (a): Approximate `Xhat` using `low_rank()` and store the result in `Xapp`.\n",
    "    - (b): Use `Xapp` to update the estimates for the missing elements in `Xhat` (those missing in Xna).\n",
    "    - (c): Compute the relative error.\n",
    "- Details on step 2a:\n",
    "    - Perform SVD to decompose $X$ into U $(50 \\times 50)$, D (length 4), and V $(4 \\times 4)$.\n",
    "    - Select the first M columns of U and the first M singular values from D.\n",
    "    - Multiply these to form L $(50 \\times M)$.\n",
    "    - Multiply L by the first M rows of V to get the low-rank approximation Xapp $(50 \\times 4)$.\n",
    "- Explanation on step 2a:\n",
    "    - This approximates `Xhat` using a rank-1 approximation (since `M=1`).\n",
    "    - The resulting `Xapp` is then used in subsequent steps to update the missing values in `Xhat`.\n",
    "    - `low_rank()` approximates the matrix `X` by retaining only the first `M` singular values and their corresponding singular vectors. This provides a low-rank approximation that captures the most significant patterns in the data while reducing noise and complexity.\n",
    "- Explanation on UDV:\n",
    "    - The columns of $U$ are called the left singular vectors of $X$.\n",
    "    - The left singular vectors are orthonormal. $U^T \\cdot U = I$.\n",
    "    - The left singular vectors represent directions in the row space of $X$. They form an orthonormal basis for this space. They are used to capture the most significant patterns in the data. The first left singular vector corresponds to the direction of maximum variance in the data, the second to the direction of the next highest variance orthogonal to the first, and so on.\n",
    "    - Each left singular vector corresponds to a principal component in the row space of $X$. When $X$ is projected onto these vectors, the resulting coordinates (the singular values) indicate how much of the data's variance is captured by each principal component.\n",
    "    - The singular values in $D$ indicate the amount of variance captured by each corresponding singular vector."
   ]
  },
  {
   "cell_type": "code",
   "execution_count": 26,
   "id": "5107c532",
   "metadata": {},
   "outputs": [
    {
     "name": "stdout",
     "output_type": "stream",
     "text": [
      "Iteration: 1, MSS:0.395, Rel.Err 5.99e-01\n",
      "Iteration: 2, MSS:0.382, Rel.Err 1.33e-02\n",
      "Iteration: 3, MSS:0.381, Rel.Err 1.44e-03\n",
      "Iteration: 4, MSS:0.381, Rel.Err 1.79e-04\n",
      "Iteration: 5, MSS:0.381, Rel.Err 2.58e-05\n",
      "Iteration: 6, MSS:0.381, Rel.Err 4.22e-06\n",
      "Iteration: 7, MSS:0.381, Rel.Err 7.65e-07\n",
      "Iteration: 8, MSS:0.381, Rel.Err 1.48e-07\n",
      "Iteration: 9, MSS:0.381, Rel.Err 2.95e-08\n"
     ]
    }
   ],
   "source": [
    "while rel_err > thresh:\n",
    "    count += 1\n",
    "    # Step 2(a)\n",
    "    Xapp = low_rank(Xhat, M=1)\n",
    "    # Step 2(b)\n",
    "    Xhat[ismiss] = Xapp[ismiss]\n",
    "    # Step 2(c)\n",
    "    mss = np.mean(((Xna - Xapp)[~ismiss])**2)\n",
    "    rel_err = (mssold - mss) / mss0\n",
    "    mssold = mss\n",
    "    print(\"Iteration: {0}, MSS:{1:.3f}, Rel.Err {2:.2e}\"\n",
    "          .format(count, mss, rel_err))"
   ]
  },
  {
   "cell_type": "markdown",
   "id": "621b465f",
   "metadata": {},
   "source": [
    "- We compute the correlation between the 20 imputed values and the actual values."
   ]
  },
  {
   "cell_type": "code",
   "execution_count": 27,
   "id": "3befe35f",
   "metadata": {},
   "outputs": [
    {
     "data": {
      "text/plain": [
       "0.7113567434297361"
      ]
     },
     "execution_count": 27,
     "metadata": {},
     "output_type": "execute_result"
    }
   ],
   "source": [
    "np.corrcoef(Xapp[ismiss], X[ismiss])[0,1]"
   ]
  }
 ],
 "metadata": {
  "jupytext": {
   "cell_metadata_filter": "-all",
   "main_language": "python",
   "notebook_metadata_filter": "-all"
  },
  "kernelspec": {
   "display_name": "Python 3 (ipykernel)",
   "language": "python",
   "name": "python3"
  },
  "language_info": {
   "codemirror_mode": {
    "name": "ipython",
    "version": 3
   },
   "file_extension": ".py",
   "mimetype": "text/x-python",
   "name": "python",
   "nbconvert_exporter": "python",
   "pygments_lexer": "ipython3",
   "version": "3.11.9"
  }
 },
 "nbformat": 4,
 "nbformat_minor": 5
}
