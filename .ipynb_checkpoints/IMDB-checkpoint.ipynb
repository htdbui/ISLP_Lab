{
 "cells": [
  {
   "cell_type": "markdown",
   "id": "094f617d-4899-4428-a6cc-c6b9b027c255",
   "metadata": {},
   "source": [
    "# Load Packages"
   ]
  },
  {
   "cell_type": "markdown",
   "id": "8fdac296-1121-4528-a6fb-b10597f1b386",
   "metadata": {},
   "source": [
    "- We use `torch`package.\n",
    "- We use `pytorch_lightning` packages to simplify fitting and evaluate models."
   ]
  },
  {
   "cell_type": "code",
   "execution_count": 1,
   "id": "71bd6b71",
   "metadata": {
    "lines_to_next_cell": 2
   },
   "outputs": [],
   "source": [
    "import numpy as np, pandas as pd, matplotlib.pyplot as plt\n",
    "from sklearn.linear_model import \\\n",
    "     (LinearRegression,\n",
    "      LogisticRegression,\n",
    "      Lasso)\n",
    "from sklearn.preprocessing import StandardScaler\n",
    "from sklearn.model_selection import KFold, train_test_split, GridSearchCV\n",
    "from sklearn.pipeline import Pipeline\n",
    "from ISLP import load_data\n",
    "from ISLP.models import ModelSpec as MS"
   ]
  },
  {
   "cell_type": "markdown",
   "id": "9b799d88",
   "metadata": {},
   "source": [
    "**Torch-Specific Imports**\n",
    "- Main library and essential tools to specify sequentially-structured networks"
   ]
  },
  {
   "cell_type": "code",
   "execution_count": 2,
   "id": "3298bdf1",
   "metadata": {},
   "outputs": [],
   "source": [
    "import torch\n",
    "from torch import nn\n",
    "from torch.optim import RMSprop\n",
    "from torch.utils.data import TensorDataset"
   ]
  },
  {
   "cell_type": "markdown",
   "id": "d08cce9d-038e-4154-829a-f145909e6eda",
   "metadata": {},
   "source": [
    "- Tools from `torchmetrics` to compute metrics to evaluate performance.\n",
    "- Tools from `torchinfo` to summarize info of the layers of a model.\n",
    "    - `read_image()` load test images"
   ]
  },
  {
   "cell_type": "code",
   "execution_count": 3,
   "id": "aeae9bd9",
   "metadata": {},
   "outputs": [],
   "source": [
    "from torchmetrics import (MeanAbsoluteError, R2Score)\n",
    "import torchinfo"
   ]
  },
  {
   "cell_type": "markdown",
   "id": "93a3e7e5-013f-460b-8cd6-0c4ef6792d8e",
   "metadata": {},
   "source": [
    "- `pytorch_lightning` package simplifies the specification and fitting and evaluate models by reducing amount of boilerplate code needed.\n",
    "- `pytorch_lightning` is higher-level interface than `torch`.\n",
    "- `pytorch_lightning` is a high-level module for fitting `torch` models"
   ]
  },
  {
   "cell_type": "code",
   "execution_count": 4,
   "id": "a5a39702",
   "metadata": {},
   "outputs": [],
   "source": [
    "from pytorch_lightning import Trainer\n",
    "from pytorch_lightning.loggers import CSVLogger"
   ]
  },
  {
   "cell_type": "markdown",
   "id": "e1b27f4d",
   "metadata": {},
   "source": [
    "- `seed_everything()` set seed.\n",
    "- `use_deterministic_algorithms` fix algorithms."
   ]
  },
  {
   "cell_type": "code",
   "execution_count": 5,
   "id": "11bf06a4",
   "metadata": {},
   "outputs": [
    {
     "name": "stderr",
     "output_type": "stream",
     "text": [
      "Seed set to 0\n"
     ]
    }
   ],
   "source": [
    "from pytorch_lightning import seed_everything\n",
    "seed_everything(0, workers=True)\n",
    "torch.use_deterministic_algorithms(True, warn_only=True)"
   ]
  },
  {
   "cell_type": "markdown",
   "id": "4bd719f8",
   "metadata": {},
   "source": [
    "- We use datasets from `torchvision`.\n",
    "- We use transforms from `torchvision` for preprocessing.\n",
    "- We use a pretrained network for image classification"
   ]
  },
  {
   "cell_type": "code",
   "execution_count": 6,
   "id": "062cd869",
   "metadata": {
    "lines_to_next_cell": 0
   },
   "outputs": [],
   "source": [
    "from torchvision.io import read_image\n",
    "from torchvision.datasets import MNIST, CIFAR100\n",
    "from torchvision.models import (resnet50, ResNet50_Weights)\n",
    "from torchvision.transforms import (Resize,\n",
    "                                    Normalize,\n",
    "                                    CenterCrop,\n",
    "                                    ToTensor)"
   ]
  },
  {
   "cell_type": "markdown",
   "id": "7c2a507a",
   "metadata": {},
   "source": [
    "- `SimpleDataModule` and `SimpleModule` from `ISLP.torch` are simple versions of objects used in `pytorch_lightning`.\n",
    "- `ErrorTracker` collects targets and predictions over each mini-batch during validation or testing, enabling metric computation over the entire validation or test data set."
   ]
  },
  {
   "cell_type": "code",
   "execution_count": 7,
   "id": "4a05884a",
   "metadata": {},
   "outputs": [],
   "source": [
    "from ISLP.torch import (SimpleDataModule, SimpleModule,\n",
    "                        ErrorTracker, rec_num_workers)"
   ]
  },
  {
   "cell_type": "markdown",
   "id": "b7b882b7-e23d-4ff0-821d-c859fc88c60a",
   "metadata": {},
   "source": [
    "- We use helper functions from `ISLP.torch.imdb` to load data, lookup that maps integers to keys in data.\n",
    "- We use a modified copy of the preprocessed `imdb` data from `keras`. It saves time for preprocessing.\n",
    "    - `keras` is a separate package for fitting deep learning models."
   ]
  },
  {
   "cell_type": "code",
   "execution_count": 8,
   "id": "1474e88b",
   "metadata": {},
   "outputs": [],
   "source": [
    "from ISLP.torch.imdb import (load_lookup, load_tensor,\n",
    "                             load_sparse, load_sequential)\n"
   ]
  },
  {
   "cell_type": "markdown",
   "id": "59a9d9b2-b2f7-44e4-971f-1d6ef923e63d",
   "metadata": {},
   "source": [
    "- We use `glob()` from `glob` package to find all files matching wildcard characters.\n",
    "- We use `json` module to load JSON file for looking up classes to identify labels of the pictures in `ResNet50`."
   ]
  },
  {
   "cell_type": "code",
   "execution_count": 9,
   "id": "0100ff28",
   "metadata": {
    "lines_to_next_cell": 2
   },
   "outputs": [],
   "source": [
    "from glob import glob\n",
    "import json"
   ]
  },
  {
   "cell_type": "markdown",
   "id": "1c2ed91d",
   "metadata": {},
   "source": [
    "# IMDB\n",
    "- The IMDB dataset is widely used for sentiment analysis in natural language processing (NLP).\n",
    "- It contains movie reviews labeled as positive or negative.\n",
    "- The preprocessed version is available in the ``keras.datasets`` module, offering an easy way to load and use the data for machine learning tasks.\n",
    "- Key features:\n",
    "    - Binary Sentiment Classification: Reviews are labeled as positive (1) or negative (0).\n",
    "    - Preprocessing: Reviews are tokenized and represented as sequences of integers. Each integer corresponds to a word indexed by its frequency in the dataset.\n",
    "    - Vocabulary Size: Only the top 10,000 most frequent words are included; less common words are ignored.\n",
    "    - Padding and Truncation: Sequences can be padded to a fixed length, and reviews longer than a set limit can be truncated to ensure uniformity.\n",
    "    - Data Splits: The dataset is split into 25,000 training reviews and 25,000 test reviews.\n",
    "- `keras` uses `tensorflow`, a different tensor. We use `ISLP.torch._make_imdb` convert the data to be suitable for `torch`. It requires some of `keras`packages.\n",
    "- The data use a dictionary of size 10,000.\n",
    "- We use three different representations of the review dat:\n",
    "    - `load_tensor()`, a sparse tensor version usable by `torch`\n",
    "    - `load_sparse()`, a sparse matrix version usable by `sklearn`, useful for comparing with a Lasso fit.\n",
    "    - `load_sequential()`, a padded sequences, where each review is limited to the last 500 words.\n",
    "        - Since over 90% of documents had fewer than 500 words, we set the length to 500, using the last 500 words for longer ones and padding (adding) shorter ones with blanks.\n",
    "## Illustration of the IMDB Dataset\n",
    "1. We use `load_sequential()` to show the first review in the training set.\n",
    "    - `imdb_seq_train` and `imdb_seq_test` are instances of the `TensorDataset` class.\n",
    "    - We access the tensors via the `tensors` attribute, where the first tensor represents the features (`X`) and the second represents the outcomes (`Y`)."
   ]
  },
  {
   "cell_type": "code",
   "execution_count": 10,
   "id": "1b2146d4",
   "metadata": {},
   "outputs": [
    {
     "name": "stderr",
     "output_type": "stream",
     "text": [
      "c:\\Users\\tuand\\AppData\\Local\\Programs\\Python\\Python312\\Lib\\site-packages\\ISLP\\torch\\imdb.py:131: FutureWarning: You are using `torch.load` with `weights_only=False` (the current default value), which uses the default pickle module implicitly. It is possible to construct malicious pickle data which will execute arbitrary code during unpickling (See https://github.com/pytorch/pytorch/blob/main/SECURITY.md#untrusted-models for more details). In a future release, the default value for `weights_only` will be flipped to `True`. This limits the functions that could be executed during unpickling. Arbitrary objects will no longer be allowed to be loaded via this mode unless they are explicitly allowlisted by the user via `torch.serialization.add_safe_globals`. We recommend you start setting `weights_only=True` for any use case where you don't have full control of the loaded file. Please open an issue on GitHub for any issues related to this experimental feature.\n",
      "  S_test) = [torch.load(_get_imdb(f'IMDB_{r}', root))\n"
     ]
    },
    {
     "name": "stdout",
     "output_type": "stream",
     "text": [
      "Shape of features of IMDB train: torch.Size([25000, 500])\n"
     ]
    }
   ],
   "source": [
    "imdb_seq_train, imdb_seq_test = load_sequential(root='data/IMDB')\n",
    "print('Shape of features of IMDB train:', imdb_seq_train.tensors[0].shape)"
   ]
  },
  {
   "cell_type": "markdown",
   "id": "16d7ec6f",
   "metadata": {},
   "source": [
    "- The first observation (review) has a length of 500 which contains many zeros.\n",
    "- The elements differ from 0 are the indices of the words in the dictionary.\n",
    "- We convert the first review to ndarray and show the first 12 elements, which are the indices."
   ]
  },
  {
   "cell_type": "code",
   "execution_count": 11,
   "id": "bae381a8-88f3-4152-b9a9-0cef386b3193",
   "metadata": {
    "lines_to_next_cell": 0
   },
   "outputs": [
    {
     "data": {
      "text/plain": [
       "array([   1,   14,   22,   16,   43,  530,  973, 1622, 1385,   65,  458,\n",
       "       4468])"
      ]
     },
     "execution_count": 11,
     "metadata": {},
     "output_type": "execute_result"
    }
   ],
   "source": [
    "padded_sample = np.asarray(imdb_seq_train.tensors[0][0])\n",
    "sample_review = padded_sample[padded_sample > 0][:12]\n",
    "sample_review"
   ]
  },
  {
   "cell_type": "markdown",
   "id": "d91a21c4",
   "metadata": {},
   "source": [
    "- We use ``load_lookup`` from ``ISLP.torch.imdb`` to load the dictionary that maps integers to keys in the data."
   ]
  },
  {
   "cell_type": "code",
   "execution_count": 12,
   "id": "f4538b2d",
   "metadata": {},
   "outputs": [
    {
     "data": {
      "text/plain": [
       "\"<START> this film was just brilliant casting location scenery story direction everyone's\""
      ]
     },
     "execution_count": 12,
     "metadata": {},
     "output_type": "execute_result"
    }
   ],
   "source": [
    "lookup = load_lookup(root='data/IMDB')\n",
    "' '.join(lookup[i] for i in sample_review)"
   ]
  },
  {
   "cell_type": "markdown",
   "id": "c54deed8",
   "metadata": {},
   "source": [
    "- The mapping of the first 12 words is: 1: \"<START>\", 14: \"this\", 22: \"film\", 16: \"was\", 43: \"just\", 530: \"brilliant\", 973: \"casting\", 1622: \"location\", 1385: \"scenery\", 65: \"story\", 458: \"direction\", 4468: \"everyone's\".\n",
    "- We can use the dictionary to convert any index to the corresponding word."
   ]
  },
  {
   "cell_type": "code",
   "execution_count": 35,
   "id": "5936aabd",
   "metadata": {},
   "outputs": [
    {
     "data": {
      "text/plain": [
       "\"belmondo's\""
      ]
     },
     "execution_count": 35,
     "metadata": {},
     "output_type": "execute_result"
    }
   ],
   "source": [
    "lookup[50000]"
   ]
  },
  {
   "cell_type": "markdown",
   "id": "ec948cab",
   "metadata": {},
   "source": [
    "2. We use `load_tensor()` for the analysis.\n",
    "    - `imdb_train` and `imdb_test` are instances of the `TensorDataset` class.\n",
    "    - We can access the tensors via the `tensors` attribute as well. The the first tensor represents the features (`X`) and the second represents the outcomes (`Y`)."
   ]
  },
  {
   "cell_type": "code",
   "execution_count": 14,
   "id": "4ebd1fa3",
   "metadata": {},
   "outputs": [
    {
     "name": "stderr",
     "output_type": "stream",
     "text": [
      "c:\\Users\\tuand\\AppData\\Local\\Programs\\Python\\Python312\\Lib\\site-packages\\ISLP\\torch\\imdb.py:113: FutureWarning: You are using `torch.load` with `weights_only=False` (the current default value), which uses the default pickle module implicitly. It is possible to construct malicious pickle data which will execute arbitrary code during unpickling (See https://github.com/pytorch/pytorch/blob/main/SECURITY.md#untrusted-models for more details). In a future release, the default value for `weights_only` will be flipped to `True`. This limits the functions that could be executed during unpickling. Arbitrary objects will no longer be allowed to be loaded via this mode unless they are explicitly allowlisted by the user via `torch.serialization.add_safe_globals`. We recommend you start setting `weights_only=True` for any use case where you don't have full control of the loaded file. Please open an issue on GitHub for any issues related to this experimental feature.\n",
      "  X_test, X_train = [torch.load(_get_imdb(f'IMDB_{r}', root))\n"
     ]
    },
    {
     "name": "stdout",
     "output_type": "stream",
     "text": [
      "Shape of features of IMDB train: torch.Size([25000, 10003])\n",
      "Shape of outcome of IMDB train: torch.Size([25000])\n"
     ]
    }
   ],
   "source": [
    "imdb_train, imdb_test = load_tensor(root='data/IMDB')\n",
    "print('Shape of features of IMDB train:', imdb_train.tensors[0].shape)\n",
    "print('Shape of outcome of IMDB train:', imdb_train.tensors[1].shape)"
   ]
  },
  {
   "cell_type": "markdown",
   "id": "c199e14b",
   "metadata": {},
   "source": [
    "- The first observation (review) has a length of 10,003 which contains many zeros.\n",
    "- This is a sparse tensor representation of the binary data.\n",
    "- Most review are short, resulting in a feauture matrix with over 98% zeros."
   ]
  },
  {
   "cell_type": "code",
   "execution_count": 15,
   "id": "3ec10606",
   "metadata": {},
   "outputs": [
    {
     "data": {
      "text/plain": [
       "tensor([0., 1., 1.,  ..., 0., 0., 0.])"
      ]
     },
     "execution_count": 15,
     "metadata": {},
     "output_type": "execute_result"
    }
   ],
   "source": [
    "imdb_train.tensors[0][0]"
   ]
  },
  {
   "cell_type": "markdown",
   "id": "80a6da1b",
   "metadata": {},
   "source": [
    "\n",
    "- We have created a binary feature for each of the 10,000 possible words in the dataset for our first model.\n",
    "- We set an entry to one in the $i,j$ position if word $j$ appears in review $i$.\n",
    "- We note that most reviews are quite short, resulting in a feature matrix with over 98% zeros.\n",
    "- We access these data using `load_tensor()` from the `ISLP` library.\n",
    "## Analysis"
   ]
  },
  {
   "cell_type": "code",
   "execution_count": 16,
   "id": "62d3a334-8ff6-4df3-9412-782a768ec758",
   "metadata": {
    "lines_to_next_cell": 0
   },
   "outputs": [],
   "source": [
    "max_num_workers=10\n",
    "imdb_dm = SimpleDataModule(imdb_train,\n",
    "                           imdb_test,\n",
    "                           validation=2000,\n",
    "                           num_workers=min(4, max_num_workers),\n",
    "                           batch_size=512);"
   ]
  },
  {
   "cell_type": "markdown",
   "id": "83b86ed4-4cc2-4e6e-9908-82b5a24d2ee1",
   "metadata": {},
   "source": [
    "- We use a two-layer model for our first model.\n",
    "- We define class ``IMDBModel`` that inherits from ``nn.Module``.\n",
    "    - ``super(IMDBModel, self).__init__()`` calls the constructor of the parent class ``nn.Module``.\n",
    "    - ``self.dense1 = nn.Linear(input_size, 16)`` initializes the first fully connected (dense) layer with input_size input features and 16 output features.\n",
    "    - ``self.activation = nn.ReLU()`` applies the ReLU activation function.\n",
    "    - ``self.dense2 = nn.Linear(16, 16)`` initializes the second fully connected layer with 16 input features and 16 output feature.\n",
    "    - ``self.output = nn.Linear(16, 1)`` initializes the output layer with 16 input features and 1 output feature.\n",
    "    - forward defines the forward pass of the model, which specifies how the input data flows through the network layers.\n",
    "        - ``val = x`` assigns the input tensor ``x`` to the variable ``val``.\n",
    "        - ``for`` loop iterates over the layers of the network, from ``self.dense1`` to ``self.output``.\n",
    "        - In each iteration, the layer or activation function is applied to the input tensor ``val``.\n",
    "        - Summary: ``self.dense1`` applied to ``val``, saved in ``val``; then ``self.activation`` applied to ``val``, saved in ``val``; and so on.\n",
    "    - ``return torch.flatten(val)`` flattens the output tensor to a one-dimensional tensor."
   ]
  },
  {
   "cell_type": "code",
   "execution_count": 17,
   "id": "a1bfcb28-96bb-4c46-8c5d-ab3178ca8109",
   "metadata": {
    "lines_to_next_cell": 0
   },
   "outputs": [],
   "source": [
    "class IMDBModel(nn.Module):\n",
    "    def __init__(self, input_size):\n",
    "        super(IMDBModel, self).__init__()\n",
    "        self.dense1 = nn.Linear(input_size, 16)\n",
    "        self.activation = nn.ReLU()\n",
    "        self.dense2 = nn.Linear(16, 16)\n",
    "        self.output = nn.Linear(16, 1)\n",
    "    def forward(self, x):\n",
    "        val = x\n",
    "        for _map in [self.dense1,\n",
    "                     self.activation,\n",
    "                     self.dense2,\n",
    "                     self.activation,\n",
    "                     self.output]:\n",
    "            val = _map(val)\n",
    "        return torch.flatten(val)"
   ]
  },
  {
   "cell_type": "markdown",
   "id": "838d14dc-5998-4c65-adec-d3baa0241bd7",
   "metadata": {},
   "source": [
    "- We instantiate our model and look at a summary."
   ]
  },
  {
   "cell_type": "code",
   "execution_count": 18,
   "id": "064931ae-d366-4f00-804d-3e9e5c6becbd",
   "metadata": {},
   "outputs": [
    {
     "data": {
      "text/plain": [
       "===================================================================================================================\n",
       "Layer (type:depth-idx)                   Input Shape               Output Shape              Param #\n",
       "===================================================================================================================\n",
       "IMDBModel                                [25000, 10003]            [25000]                   --\n",
       "├─Linear: 1-1                            [25000, 10003]            [25000, 16]               160,064\n",
       "├─ReLU: 1-2                              [25000, 16]               [25000, 16]               --\n",
       "├─Linear: 1-3                            [25000, 16]               [25000, 16]               272\n",
       "├─ReLU: 1-4                              [25000, 16]               [25000, 16]               --\n",
       "├─Linear: 1-5                            [25000, 16]               [25000, 1]                17\n",
       "===================================================================================================================\n",
       "Total params: 160,353\n",
       "Trainable params: 160,353\n",
       "Non-trainable params: 0\n",
       "Total mult-adds (Units.GIGABYTES): 4.01\n",
       "===================================================================================================================\n",
       "Input size (MB): 1000.30\n",
       "Forward/backward pass size (MB): 6.60\n",
       "Params size (MB): 0.64\n",
       "Estimated Total Size (MB): 1007.54\n",
       "==================================================================================================================="
      ]
     },
     "execution_count": 18,
     "metadata": {},
     "output_type": "execute_result"
    }
   ],
   "source": [
    "size_of_input = imdb_test.tensors[0].shape[1]\n",
    "imdb_model = IMDBModel(size_of_input)\n",
    "torchinfo.summary(imdb_model,\n",
    "        input_size=imdb_test.tensors[0].shape,\n",
    "        col_names=['input_size',\n",
    "                   'output_size',\n",
    "                   'num_params'])"
   ]
  },
  {
   "cell_type": "markdown",
   "id": "4b877215",
   "metadata": {},
   "source": [
    "- We use a smaller learning rate for these data, passing an `optimizer` to the `SimpleModule`.\n",
    "- We classify the reviews as positive or negative sentiment, so we use `SimpleModule.binary_classification()`.\n",
    "- We choose `binary_classification()` over `classification()` due to how `torchmetrics.Accuracy()` handles the data type of the targets."
   ]
  },
  {
   "cell_type": "code",
   "execution_count": 19,
   "id": "1b83c358-680b-43d5-8309-26c75b598fc5",
   "metadata": {},
   "outputs": [],
   "source": [
    "imdb_optimizer = RMSprop(imdb_model.parameters(), lr=0.001)\n",
    "imdb_module = SimpleModule.binary_classification(\n",
    "                         imdb_model,\n",
    "                         optimizer=imdb_optimizer)"
   ]
  },
  {
   "cell_type": "code",
   "execution_count": 20,
   "id": "44936caa-bfab-44eb-83c8-686f47e0d8a2",
   "metadata": {},
   "outputs": [
    {
     "name": "stderr",
     "output_type": "stream",
     "text": [
      "GPU available: False, used: False\n",
      "TPU available: False, using: 0 TPU cores\n",
      "HPU available: False, using: 0 HPUs\n",
      "\n",
      "  | Name  | Type              | Params | Mode \n",
      "----------------------------------------------------\n",
      "0 | model | IMDBModel         | 160 K  | train\n",
      "1 | loss  | BCEWithLogitsLoss | 0      | train\n",
      "----------------------------------------------------\n",
      "160 K     Trainable params\n",
      "0         Non-trainable params\n",
      "160 K     Total params\n",
      "0.641     Total estimated model params size (MB)\n",
      "6         Modules in train mode\n",
      "0         Modules in eval mode\n",
      "c:\\Users\\tuand\\AppData\\Local\\Programs\\Python\\Python312\\Lib\\site-packages\\pytorch_lightning\\loops\\fit_loop.py:298: The number of training batches (45) is smaller than the logging interval Trainer(log_every_n_steps=50). Set a lower value for log_every_n_steps if you want to see logs for the training epoch.\n",
      "`Trainer.fit` stopped: `max_epochs=30` reached.\n"
     ]
    }
   ],
   "source": [
    "imdb_logger = CSVLogger('logs', name='IMDB')\n",
    "imdb_trainer = Trainer(deterministic=True,\n",
    "                       max_epochs=30,\n",
    "                       logger=imdb_logger,\n",
    "                       enable_progress_bar=False,\n",
    "                       callbacks=[ErrorTracker()])\n",
    "imdb_trainer.fit(imdb_module,\n",
    "                 datamodule=imdb_dm)"
   ]
  },
  {
   "cell_type": "markdown",
   "id": "7c13bf3a-64d1-42ff-8397-baf68bc08e28",
   "metadata": {},
   "source": [
    "- We evaluate the test error yields roughly 86% accuracy."
   ]
  },
  {
   "cell_type": "code",
   "execution_count": 21,
   "id": "f5f32239-3a6c-4a21-be1c-16df1c1f0af2",
   "metadata": {
    "lines_to_next_cell": 2
   },
   "outputs": [
    {
     "data": {
      "text/html": [
       "<pre style=\"white-space:pre;overflow-x:auto;line-height:normal;font-family:Menlo,'DejaVu Sans Mono',consolas,'Courier New',monospace\">┏━━━━━━━━━━━━━━━━━━━━━━━━━━━┳━━━━━━━━━━━━━━━━━━━━━━━━━━━┓\n",
       "┃<span style=\"font-weight: bold\">        Test metric        </span>┃<span style=\"font-weight: bold\">       DataLoader 0        </span>┃\n",
       "┡━━━━━━━━━━━━━━━━━━━━━━━━━━━╇━━━━━━━━━━━━━━━━━━━━━━━━━━━┩\n",
       "│<span style=\"color: #008080; text-decoration-color: #008080\">       test_accuracy       </span>│<span style=\"color: #800080; text-decoration-color: #800080\">    0.8501200079917908     </span>│\n",
       "│<span style=\"color: #008080; text-decoration-color: #008080\">         test_loss         </span>│<span style=\"color: #800080; text-decoration-color: #800080\">     1.086783766746521     </span>│\n",
       "└───────────────────────────┴───────────────────────────┘\n",
       "</pre>\n"
      ],
      "text/plain": [
       "┏━━━━━━━━━━━━━━━━━━━━━━━━━━━┳━━━━━━━━━━━━━━━━━━━━━━━━━━━┓\n",
       "┃\u001b[1m \u001b[0m\u001b[1m       Test metric       \u001b[0m\u001b[1m \u001b[0m┃\u001b[1m \u001b[0m\u001b[1m      DataLoader 0       \u001b[0m\u001b[1m \u001b[0m┃\n",
       "┡━━━━━━━━━━━━━━━━━━━━━━━━━━━╇━━━━━━━━━━━━━━━━━━━━━━━━━━━┩\n",
       "│\u001b[36m \u001b[0m\u001b[36m      test_accuracy      \u001b[0m\u001b[36m \u001b[0m│\u001b[35m \u001b[0m\u001b[35m   0.8501200079917908    \u001b[0m\u001b[35m \u001b[0m│\n",
       "│\u001b[36m \u001b[0m\u001b[36m        test_loss        \u001b[0m\u001b[36m \u001b[0m│\u001b[35m \u001b[0m\u001b[35m    1.086783766746521    \u001b[0m\u001b[35m \u001b[0m│\n",
       "└───────────────────────────┴───────────────────────────┘\n"
      ]
     },
     "metadata": {},
     "output_type": "display_data"
    },
    {
     "data": {
      "text/plain": [
       "[{'test_loss': 1.086783766746521, 'test_accuracy': 0.8501200079917908}]"
      ]
     },
     "execution_count": 21,
     "metadata": {},
     "output_type": "execute_result"
    }
   ],
   "source": [
    "test_results = imdb_trainer.test(imdb_module, datamodule=imdb_dm)\n",
    "test_results"
   ]
  },
  {
   "cell_type": "markdown",
   "id": "5ecaa6f5-a678-4881-95be-0db1929c0779",
   "metadata": {},
   "source": [
    "# Lasso\n",
    "- We fit a lasso logistic regression model using `LogisticRegression()` from `sklearn`.\n",
    "- We use ``load_sparse`` to get a sparse matrix instead of the sparse tensors from `torch` since `sklearn` does not recognize `torch`'s sparse format."
   ]
  },
  {
   "cell_type": "code",
   "execution_count": 22,
   "id": "d7576ec8-1131-4dec-9f4f-e337daf24e2f",
   "metadata": {},
   "outputs": [],
   "source": [
    "((X_train, Y_train),\n",
    " (X_valid, Y_valid),\n",
    " (X_test, Y_test)) = load_sparse(validation=2000,\n",
    "                                 random_state=0,\n",
    "                                 root='data/IMDB')"
   ]
  },
  {
   "cell_type": "code",
   "execution_count": 23,
   "id": "8cba2cca",
   "metadata": {},
   "outputs": [
    {
     "name": "stdout",
     "output_type": "stream",
     "text": [
      "Shape of X_train: (23000, 10003)\n",
      "Shape of Y_train: (23000,)\n"
     ]
    },
    {
     "data": {
      "text/plain": [
       "array([[0., 1., 1., ..., 0., 0., 0.]], dtype=float32)"
      ]
     },
     "execution_count": 23,
     "metadata": {},
     "output_type": "execute_result"
    }
   ],
   "source": [
    "print('Shape of X_train:', X_train.shape)\n",
    "print('Shape of Y_train:', Y_train.shape)\n",
    "# Show first element of X_train\n",
    "X_train[0].toarray()"
   ]
  },
  {
   "cell_type": "markdown",
   "id": "337ab6d9-82cc-4fce-a976-82c23f0309e7",
   "metadata": {},
   "source": [
    "- We construct a series of 50 values for the lasso reguralization parameter $\\lambda$.\n",
    "- `lam_max` is the maximum value of $\\lambda$ at which all coefficients are zero.\n",
    "    - ``(Y_train - Y_train.mean())`` centering Y to ensure that the intercept is not penalized and focuses the regularization on the coefficients.\n",
    "    - Dot product measures the correlation between each predictor and the centered response.\n",
    "    - The maximum absolute value of these correlations determines the smallest $\\lambda$ at which all coefficients are zero."
   ]
  },
  {
   "cell_type": "code",
   "execution_count": 24,
   "id": "eed15c02-4597-42ca-b11f-529e89878465",
   "metadata": {
    "lines_to_next_cell": 0
   },
   "outputs": [],
   "source": [
    "lam_max = np.abs(X_train.T * (Y_train - Y_train.mean())).max()\n",
    "lam_val = lam_max * np.exp(np.linspace(np.log(1), np.log(1e-4), 50))"
   ]
  },
  {
   "cell_type": "markdown",
   "id": "31818698-509f-4e32-9042-6b040f045354",
   "metadata": {},
   "source": [
    "- We specify the regularization parameter $C$ as the inverse of $\\lambda$ with `LogisticRegression()`.\n",
    "- We use the `liblinear` solver, which works well with the sparse input format."
   ]
  },
  {
   "cell_type": "code",
   "execution_count": 25,
   "id": "6047da47-aedb-4d36-821e-cade754c4740",
   "metadata": {
    "lines_to_next_cell": 0
   },
   "outputs": [],
   "source": [
    "logit = LogisticRegression(penalty='l1', C=1/lam_max,\n",
    "                           solver='liblinear', warm_start=True,\n",
    "                           fit_intercept=True)"
   ]
  },
  {
   "cell_type": "code",
   "execution_count": 26,
   "id": "2bbcbe7a-b56e-48e5-bab5-609f90712dc2",
   "metadata": {},
   "outputs": [],
   "source": [
    "# Define lists to store the coefficients and intercepts\n",
    "coefs = []\n",
    "intercepts = []\n",
    "# Loop over the values of lambda\n",
    "for l in lam_val:\n",
    "    logit.C = 1/l\n",
    "    logit.fit(X_train, Y_train)\n",
    "    coefs.append(logit.coef_.copy())\n",
    "    intercepts.append(logit.intercept_)"
   ]
  },
  {
   "cell_type": "markdown",
   "id": "f1256c8d-53b7-466d-ac5a-3e4c08470fc7",
   "metadata": {},
   "source": [
    "- The coefficients and intercepts sometimes have an extra, unnecessary dimension.\n",
    "- We can remove this extra dimension using the np.squeeze() function in NumPy."
   ]
  },
  {
   "cell_type": "code",
   "execution_count": 28,
   "id": "e0ea0998-eb85-44c6-8b42-d131cc5e4bcf",
   "metadata": {
    "lines_to_next_cell": 0
   },
   "outputs": [],
   "source": [
    "coefs = np.squeeze(coefs)\n",
    "intercepts = np.squeeze(intercepts)"
   ]
  },
  {
   "cell_type": "markdown",
   "id": "2fb904ad-af5e-444a-a7d5-963c95990524",
   "metadata": {},
   "source": [
    "- We make a plot to compare our neural network results with the lasso.\n",
    "    - Lasso: The negative log transformation makes the regularization parameter more interpretable, showing how accuracy changes as regularization strength decreases."
   ]
  },
  {
   "cell_type": "code",
   "execution_count": 29,
   "id": "6235c370-d752-4ade-b78a-2a37a5352250",
   "metadata": {
    "lines_to_next_cell": 0
   },
   "outputs": [
    {
     "data": {
      "image/png": "[encoded data removed]",
      "text/plain": [
       "<Figure size 1600x800 with 2 Axes>"
      ]
     },
     "metadata": {},
     "output_type": "display_data"
    }
   ],
   "source": [
    "# Set the plot up\n",
    "fig, axes = plt.subplots(1, 2, figsize=(16, 8), sharey=True)\n",
    "\n",
    "# Plot Lasso on the left\n",
    "x_vals = -np.log(lam_val / X_train.shape[0])\n",
    "## Training\n",
    "linpred_train = X_train * coefs.T + intercepts[None,:] # 23000 x 50\n",
    "label_train = (linpred_train > 0).astype(int) # 23000 x 50\n",
    "accuracy_train = [np.mean(Y_train == label) for label in label_train.T] # 50\n",
    "axes[0].plot(x_vals, accuracy_train, '.', color='black', label='Training')\n",
    "## Validation\n",
    "linpred_valid = X_valid * coefs.T + intercepts[None,:] # 2000 x 50\n",
    "label_valid = (linpred_valid > 0).astype(int) # 2000 x 50\n",
    "accuracy_valid = [np.mean(Y_valid == label) for label in label_valid.T] # 50\n",
    "axes[0].plot(x_vals, accuracy_valid, '.', color='red', label='Validation')\n",
    "## Test\n",
    "linpred_test = X_test * coefs.T + intercepts[None,:] # 25000 x 50\n",
    "label_test = (linpred_test > 0).astype(int) # 25000 x 50\n",
    "accuracy_test = [np.mean(Y_test == label) for label in label_test.T] # 50\n",
    "axes[0].plot(x_vals, accuracy_test, '.', color='blue', label='Test')\n",
    "axes[0].legend(); axes[0].set_xlabel(r'$-\\log(\\lambda)$'); axes[0].set_ylabel('Accuracy')\n",
    "\n",
    "\n",
    "# Plot neural network on the right\n",
    "## Get the result data\n",
    "imdb_results = pd.read_csv(imdb_logger.experiment.metrics_file_path)\n",
    "## Training\n",
    "imdb_results.plot(x='epoch', y='train_accuracy_epoch', ax=axes[1], color='k', marker='.', label='Training')\n",
    "## Validation\n",
    "imdb_results.plot(x='epoch', y='valid_accuracy', ax=axes[1], color='r', marker='+', label='Validation');\n",
    "## Test\n",
    "axes[1].set_xticks(np.linspace(0, 30, 7)), axes[1].set_ylim([0.5, 1])\n",
    "axes[1].set_ylabel('Accuracy'), axes[1].set_xlabel('Epoch')\n",
    "axes[1].axhline(test_results[0]['test_accuracy'], color='blue', linestyle='--', label='Test')\n",
    "axes[1].legend();"
   ]
  },
  {
   "cell_type": "markdown",
   "id": "3019333a-98c6-40d2-9e08-6e8f0bf8d6d8",
   "metadata": {},
   "source": [
    "- From the graphs we see that the accuracy of the lasso logistic regression peaks at about $0.88$,  as it does for  the neural network.\n",
    "- We end with a cleanup."
   ]
  },
  {
   "cell_type": "code",
   "execution_count": 30,
   "id": "97d2ac36-49a4-4d37-b161-abd539f6884b",
   "metadata": {
    "lines_to_next_cell": 2
   },
   "outputs": [],
   "source": [
    "del(imdb_model,\n",
    "    imdb_trainer,\n",
    "    imdb_logger,\n",
    "    imdb_dm,\n",
    "    imdb_train,\n",
    "    imdb_test)"
   ]
  },
  {
   "cell_type": "markdown",
   "id": "7ef5590e",
   "metadata": {},
   "source": [
    "# RNN Theory\n",
    "![RNN](https://i.postimg.cc/9MTkqG4q/RNN.png)\n",
    "- $X_1$ is the input vector. $X'_1 = (X_{11}, ... ,X_{1p})$.\n",
    "- Apply a matrix $W$ to $X_1$ to get $A_1$. $~~~W \\cdot X_1 = A_1$.\n",
    "    - $W$ is a matrix of weights with dimensions $K \\times (p+1)$. +1 is for the bias term.\n",
    "    - $\\left(\\begin{matrix}w_{10}&\\cdots&w_{1p}\\\\\\vdots&\\ddots&\\vdots\\\\w_{K0}&\\cdots&w_{Kp}\\\\\\end{matrix}\\right)$\n",
    "    - $A_1$ is an activation vector. $A'_1 = (A_{11}, ... ,A_{1K})$.\n",
    "    - $A_{11} = g(w_{10} +X_{11}w_{11} + ... + X_{1p}w_{1p})$.\n",
    "    - g is the activation function such as ReLU.\n",
    "- Apply a vector $B$ to $A_1$ to get the scalar $O_1$.\n",
    "    - $B$ is a vector of weights with dimensions $K \\times 1$.\n",
    "    - $O_1 = β_0 + A_{11}β_1 + ... + A_{1K}β_K$.\n",
    "- Apply a matrix $U$ to $A_1$ to get a hidden-to-hidden vector $H_1$. $~~~U \\cdot A_1 = H_1$.\n",
    "    - $H_1$ is a hidden-to-hidden vector. $H'_1 = (H_{11}, ... ,H_{1K})$.\n",
    "    - $U$ is a matrix of weights with dimensions $K \\times K$.\n",
    "    - $\\left(\\begin{matrix}u_{11}&\\cdots&u_{1K}\\\\\\vdots&\\ddots&\\vdots\\\\u_{K1}&\\cdots&u_{KK}\\\\\\end{matrix}\\right)$\n",
    "    - $H_{11} = u_{11}A_{11} + ... + u_{1K}A_{1K}$.\n",
    "- $X_2$ is the input vector. $X'_2 = (X_{21}, ... ,X_{2p})$.\n",
    "- Apply a matrix $W$ to $X_2$ and plus $H_1$ to get $A_2$. $~~~W \\cdot X_2 + H_1 = A_2$.\n",
    "    - $A_2 = A_{21}, ... ,A_{2K}$.\n",
    "    - $A_{21} = g(w_{10} +X_{21}w_{11} + ... + X_{2p}w_{1p} + H_{11})$.\n",
    "- Apply $B$ as before to get $O_2$.\n",
    "- Matrices $W$, $U$, and vector $B$ are fixed across time.\n",
    "- Short summary: at each step t, we:\n",
    "    - Process new input $X_t$​ using $W$.\n",
    "    - Include previous state $A_{t−1}$​ using $U$\n",
    "    - Apply activation function g to their sum."
   ]
  },
  {
   "cell_type": "markdown",
   "id": "2501c93a",
   "metadata": {},
   "source": [
    "# Sequential Models for Document Classification\n",
    "- We use ``load_sequential()`` to load data."
   ]
  },
  {
   "cell_type": "code",
   "execution_count": 31,
   "id": "49ba2337",
   "metadata": {},
   "outputs": [],
   "source": [
    "max_num_workers=10\n",
    "imdb_seq_dm = SimpleDataModule(imdb_seq_train, imdb_seq_test,\n",
    "                               validation=2000, batch_size=300,\n",
    "                               num_workers=min(4, max_num_workers) )"
   ]
  },
  {
   "cell_type": "markdown",
   "id": "bff8afd6",
   "metadata": {},
   "source": [
    "- We define class ``LSTMModel`` that inherits from ``nn.Module``.\n",
    "    - ``super(LSTMModel, self).__init__()`` calls the constructor of the parent class ``nn.Module``.\n",
    "    - Embedding layer: ``self.embedding = nn.Embedding(input_size, 32)`` convert the input word indices to 32-dimensional vectors.\n",
    "    - LSTM layer: ``self.lstm = nn.LSTM(input_size=32, hidden_size=32, batch_first=True)`` processes the sequence of embedding vectors with 32 hidden units.\n",
    "    - Dense layer: ``self.dense = nn.Linear(32, 1)`` maps the LSTM output to a single output value.\n",
    "    - Forward Method: defines the forward pass through the embedding, LSTM, and dense layers."
   ]
  },
  {
   "cell_type": "code",
   "execution_count": 32,
   "id": "f7dd371b",
   "metadata": {},
   "outputs": [],
   "source": [
    "class LSTMModel(nn.Module):\n",
    "    def __init__(self, vocab_size):\n",
    "        super(LSTMModel, self).__init__()\n",
    "        self.embedding = nn.Embedding(num_embeddings=vocab_size, embedding_dim=32)\n",
    "        self.lstm = nn.LSTM(input_size=32,\n",
    "                            hidden_size=32,\n",
    "                            batch_first=True)\n",
    "        self.dense = nn.Linear(32, 1)\n",
    "    def forward(self, x):\n",
    "        val, (h_n, c_n) = self.lstm(self.embedding(x))\n",
    "        return torch.flatten(self.dense(val[:,-1]))\n",
    "lstm_model = LSTMModel(10003)"
   ]
  },
  {
   "cell_type": "markdown",
   "id": "e8756146",
   "metadata": {},
   "source": [
    "- We learn each layer. We begin with Embedding.\n"
   ]
  },
  {
   "cell_type": "code",
   "execution_count": 34,
   "id": "4e0ba89c",
   "metadata": {},
   "outputs": [
    {
     "name": "stdout",
     "output_type": "stream",
     "text": [
      "tensor([[ 2.0632, -0.1809, -1.2540,  0.6143,  0.1474,  0.3708,  0.0350,  1.3869,\n",
      "          1.7262,  2.1188, -1.1451,  0.1234, -0.9451, -0.7740, -0.3636, -0.9320,\n",
      "          0.7330,  0.8334,  0.5586, -0.8975,  0.3530, -1.1715, -0.1164, -0.0148,\n",
      "         -0.2488, -0.0203, -0.1228, -1.5373, -0.9874, -1.2673,  0.2905, -0.4817],\n",
      "        [-0.4273, -1.4724, -1.1605,  1.0371,  0.5211,  0.2885, -1.6467, -0.6712,\n",
      "         -0.9775, -0.6160, -0.2113,  0.8796,  1.5589,  0.1343, -0.8065, -0.8476,\n",
      "          0.3273, -0.7791,  1.3513,  1.8137,  0.2434,  1.5405, -0.6167, -0.0458,\n",
      "          0.9935, -0.7104, -1.0654, -0.8590, -0.0967,  0.3454,  0.3001, -0.6167],\n",
      "        [-1.6737, -0.4324, -0.3704, -0.0826, -1.1984,  0.0679,  0.2573,  1.3317,\n",
      "         -0.4990, -0.2057,  0.3544,  2.2090, -0.3673, -0.9980, -0.2666,  0.2625,\n",
      "         -0.1057, -0.9249,  0.0103,  1.0093, -1.0866, -1.2469,  0.8202,  0.0787,\n",
      "          0.2981, -0.3085,  0.5179, -0.2206,  0.3028, -0.3514, -0.3523, -2.9192]],\n",
      "       grad_fn=<EmbeddingBackward0>)\n",
      "Shape of the output: torch.Size([3, 32])\n"
     ]
    }
   ],
   "source": [
    "# Define the embedding layer\n",
    "embedding = nn.Embedding(num_embeddings=1000, embedding_dim=32)\n",
    "\n",
    "# Example input word indices\n",
    "input_indices = torch.tensor([1, 99, 876])\n",
    "\n",
    "# Convert input indices to 32-dimensional dense vectors\n",
    "print(embedding(input_indices))\n",
    "print('Shape of the output:', embedding(input_indices).shape)"
   ]
  },
  {
   "cell_type": "markdown",
   "id": "6cb14fea",
   "metadata": {},
   "source": [
    "- `nn.Embedding(num_embeddings, embedding_dim)`\n",
    "- `num_embeddings`: Size of the vocabulary (e.g., 10,003 words).\n",
    "- `embedding_dim`: Size of each embedding vector (e.g., 32).\n",
    "\n",
    "- How It Works:\n",
    "1. Initialization: \n",
    "   - The layer initializes a matrix of random values with dimensions `(num_embeddings, embedding_dim)` — for example, a matrix of size 10003 x 32. This serves as a lookup table where each word index maps to a corresponding 32-dimensional vector.  \n",
    "2. Input:\n",
    "   - The input is a tensor of word indices, such as `input_indices = torch.tensor([[1, 88, 99], [32, 5, 876]])` (We have two sentences). Each value in the tensor represents a word index from the vocabulary.\n",
    "3. Output:\n",
    "   - For each index in the input tensor, the layer retrieves the corresponding row from the embedding matrix. For example, index `1` maps to the first row, and index `99` maps to the 99th row.\n",
    "   - The output is a tensor of embedding vectors. For example, if `input_indices = [[1, 88, 99], [32, 5, 876]]`, the output will be a tensor of shape `(2, 3, 32)`, with each sequence of indices mapped to 32-dimensional vectors.\n",
    "4. Dense Vectors:\n",
    "   - Each word index is mapped to a dense vector where most elements are non-zero, capturing the semantic meaning of the word. These vectors are initialized randomly and are updated during training.\n",
    "5. Training:\n",
    "   - The embedding vectors are learnable parameters, meaning they are adjusted during training to capture meaningful relationships between words, such as semantic similarity. For example, words with similar meanings will tend to have similar embeddings.\n",
    "6. Error Handling:\n",
    "   - If an input index is out of range (greater than `num_embeddings`), it will raise an error, as the index would not have a corresponding row in the embedding matrix.\n",
    "- Goal: The primary goal of the embedding layer is to learn vector representations of words that reflect their semantic relationships. Words with similar meanings should have similar embedding vectors.\n",
    "- Summary: The `nn.Embedding` layer provides a trainable lookup table that maps word indices to dense vectors, learning to capture semantic relationships between words during the training process.\n",
    "- Next we learn the LSTM layer."
   ]
  },
  {
   "cell_type": "markdown",
   "id": "323a2663",
   "metadata": {},
   "source": [
    " 1. Input and Initial States\n",
    "- Input Tensor: \n",
    "  - Shape: `(batch_size, sequence_length, input_size)`. In the example `input_indices = torch.tensor([[1, 88, 99], [32, 5, 876]])`, it’s `(2, 3, 32)`.\n",
    "- Initial States:\n",
    "  - The LSTM initializes a hidden state (`h_t`) and a cell state (`c_t`) to zero, both with shape `(num_layers  num_directions, batch_size, hidden_size)`. In this example, it’s `(1, 2, 32)`.\n",
    "  - The hidden state serves as short-term memory, combining current input and previous hidden state information to predict the next element in a sequence.\n",
    "  - The cell state, managed by input, forget, and output gates, retains long-term information.\n",
    " 2. Processing Sequence\n",
    "- Gates Function:\n",
    "  - The LSTM uses input, forget, and output gates, controlled by sigmoid functions, to regulate information flow within the cell state.\n",
    "- Sequential Processing:\n",
    "  - LSTM processes each time step sequentially, updating the hidden and cell states using the gates and the current input. \n",
    " 3. Time Step Breakdown\n",
    "- Time Step 1\n",
    "\t- Input Processing:\n",
    "\t  - Input Tensor: `embedded_output[:, 0, :]` with shape `(2, 32)`, representing the first element of each sequence in the batch.\n",
    "\t  - Previous States: Start with initial hidden state `h_0` and cell state `c_0`, both initialized as zeros with shape `(1, 2, 32)`.\n",
    "\t- Gates Calculation:\n",
    "\t  - Input Gate: Determines how much of the new input information should be added to the cell state. It uses a sigmoid function to scale input values to a range of 0 to 1.\n",
    "\t  - Forget Gate: Decides what information from the previous cell state should be discarded. It also uses a sigmoid function.\n",
    "\t  - Output Gate: Controls the output from the cell, determining which part of the cell state should contribute to the hidden state.\n",
    "\t- Cell State Update:\n",
    "\t  - Combine the results from the input and forget gates to update the cell state. \n",
    "\t  - New Cell State: $c_t = f_t \\ast c_{t-1} + i_t \\ast \\tilde{C}_t$, where $f_t$ is the forget gate output, $i_t$ is the input gate output, and $\\tilde{C}_t$ is the candidate cell state generated from the current input.\n",
    "\t- Hidden State Update:\n",
    "\t  - Use the output gate to scale the updated cell state and produce the hidden state:\n",
    "\t  - New Hidden State: $h_t = o_t \\ast \\text{tanh}(c_t)$, where $o_t$ is the output gate output.\n",
    "\t- Output:\n",
    "\t  - The output for this time step is derived from the new hidden state, resulting in shape `(2, 32)`.\n",
    "- Time Step 2\n",
    "\t- Input Processing:\n",
    "\t  - Input Tensor: `embedded_output[:, 1, :]` with shape `(2, 32)`, representing the second element of each sequence.\n",
    "\t  - Previous States: Use the updated hidden state `h_t` and cell state `c_t` from Time Step 1.\n",
    "\t- Gates Calculation and Updates: \n",
    "\t  - Repeat the gates calculation using the current input and previous hidden state.\n",
    "\t  - Cell State Update: Incorporate the new input with the current cell state using the input and forget gate outputs.\n",
    "\t  - Hidden State Update: Calculate the new hidden state using the updated cell state and the output gate.\n",
    "\t- Output:\n",
    "\t  - The hidden state gives the output for this time step, retaining the shape `(2, 32)`.\n",
    "- Time Step 3\n",
    "\t- Input Processing:\n",
    "\t  - Input Tensor: `embedded_output[:, 2, :]` with shape `(2, 32)`.\n",
    "\t  - Previous States: Updated states from Time Step 2 serve as the starting point.\n",
    "\t- Gates Calculation and Updates:\n",
    "\t  - Again compute the gates using the current input and hidden state from Time Step 2.\n",
    "\t  - Cell State Update: Adjust the cell state using the input and forget gate dynamics.\n",
    "\t  - Hidden State Update: Output the new hidden state after processing with the output gate modulation.\n",
    "\t- Output:\n",
    "\t  - The final output for this time step is the transformed hidden state, maintaining the shape `(2, 32)`.\n",
    "4. Final Output\n",
    "\t- After processing all time steps, the output tensor for the entire sequence has the shape `(2, 3, 32)`. \n",
    "\t- Final Hidden and Cell States:\n",
    "\t  - These states, representing the memory at the last time step for each sequence, help preserve sequential knowledge, crucial for tasks that rely on the context, like sequence prediction. They retain their previous shape `(1, 2, 32)`."
   ]
  },
  {
   "cell_type": "code",
   "execution_count": 35,
   "id": "65f605db",
   "metadata": {},
   "outputs": [
    {
     "data": {
      "text/plain": [
       "===================================================================================================================\n",
       "Layer (type:depth-idx)                   Input Shape               Output Shape              Param #\n",
       "===================================================================================================================\n",
       "LSTMModel                                [10, 500]                 [10]                      --\n",
       "├─Embedding: 1-1                         [10, 500]                 [10, 500, 32]             320,096\n",
       "├─LSTM: 1-2                              [10, 500, 32]             [10, 500, 32]             8,448\n",
       "├─Linear: 1-3                            [10, 32]                  [10, 1]                   33\n",
       "===================================================================================================================\n",
       "Total params: 328,577\n",
       "Trainable params: 328,577\n",
       "Non-trainable params: 0\n",
       "Total mult-adds (Units.MEGABYTES): 45.44\n",
       "===================================================================================================================\n",
       "Input size (MB): 50.00\n",
       "Forward/backward pass size (MB): 2.56\n",
       "Params size (MB): 1.31\n",
       "Estimated Total Size (MB): 53.87\n",
       "==================================================================================================================="
      ]
     },
     "execution_count": 35,
     "metadata": {},
     "output_type": "execute_result"
    }
   ],
   "source": [
    "torchinfo.summary(lstm_model,\n",
    "        input_data=imdb_seq_train.tensors[0][:10],\n",
    "        col_names=['input_size',\n",
    "                   'output_size',\n",
    "                   'num_params'])"
   ]
  },
  {
   "cell_type": "markdown",
   "id": "15494462",
   "metadata": {},
   "source": [
    "- The size of vocabulary 10,003 is suppressed in the summary, but we see it in the parameter count, since $10,003\\times 32=320,096$."
   ]
  },
  {
   "cell_type": "code",
   "execution_count": 36,
   "id": "956993d8",
   "metadata": {},
   "outputs": [],
   "source": [
    "lstm_module = SimpleModule.binary_classification(lstm_model)\n",
    "lstm_logger = CSVLogger('logs', name='IMDB_LSTM')"
   ]
  },
  {
   "cell_type": "code",
   "execution_count": 37,
   "id": "23030b4f",
   "metadata": {},
   "outputs": [
    {
     "name": "stderr",
     "output_type": "stream",
     "text": [
      "GPU available: False, used: False\n",
      "TPU available: False, using: 0 TPU cores\n",
      "HPU available: False, using: 0 HPUs\n",
      "\n",
      "  | Name  | Type              | Params | Mode \n",
      "----------------------------------------------------\n",
      "0 | model | LSTMModel         | 328 K  | train\n",
      "1 | loss  | BCEWithLogitsLoss | 0      | train\n",
      "----------------------------------------------------\n",
      "328 K     Trainable params\n",
      "0         Non-trainable params\n",
      "328 K     Total params\n",
      "1.314     Total estimated model params size (MB)\n",
      "5         Modules in train mode\n",
      "0         Modules in eval mode\n",
      "`Trainer.fit` stopped: `max_epochs=20` reached.\n"
     ]
    }
   ],
   "source": [
    "lstm_trainer = Trainer(deterministic=True, max_epochs=20,\n",
    "                       logger=lstm_logger,\n",
    "                       enable_progress_bar=False,\n",
    "                       callbacks=[ErrorTracker()])\n",
    "lstm_trainer.fit(lstm_module, datamodule=imdb_seq_dm)"
   ]
  },
  {
   "cell_type": "code",
   "execution_count": 38,
   "id": "eb158f77",
   "metadata": {},
   "outputs": [
    {
     "data": {
      "text/html": [
       "<pre style=\"white-space:pre;overflow-x:auto;line-height:normal;font-family:Menlo,'DejaVu Sans Mono',consolas,'Courier New',monospace\">┏━━━━━━━━━━━━━━━━━━━━━━━━━━━┳━━━━━━━━━━━━━━━━━━━━━━━━━━━┓\n",
       "┃<span style=\"font-weight: bold\">        Test metric        </span>┃<span style=\"font-weight: bold\">       DataLoader 0        </span>┃\n",
       "┡━━━━━━━━━━━━━━━━━━━━━━━━━━━╇━━━━━━━━━━━━━━━━━━━━━━━━━━━┩\n",
       "│<span style=\"color: #008080; text-decoration-color: #008080\">       test_accuracy       </span>│<span style=\"color: #800080; text-decoration-color: #800080\">    0.8555999994277954     </span>│\n",
       "│<span style=\"color: #008080; text-decoration-color: #008080\">         test_loss         </span>│<span style=\"color: #800080; text-decoration-color: #800080\">     0.854880154132843     </span>│\n",
       "└───────────────────────────┴───────────────────────────┘\n",
       "</pre>\n"
      ],
      "text/plain": [
       "┏━━━━━━━━━━━━━━━━━━━━━━━━━━━┳━━━━━━━━━━━━━━━━━━━━━━━━━━━┓\n",
       "┃\u001b[1m \u001b[0m\u001b[1m       Test metric       \u001b[0m\u001b[1m \u001b[0m┃\u001b[1m \u001b[0m\u001b[1m      DataLoader 0       \u001b[0m\u001b[1m \u001b[0m┃\n",
       "┡━━━━━━━━━━━━━━━━━━━━━━━━━━━╇━━━━━━━━━━━━━━━━━━━━━━━━━━━┩\n",
       "│\u001b[36m \u001b[0m\u001b[36m      test_accuracy      \u001b[0m\u001b[36m \u001b[0m│\u001b[35m \u001b[0m\u001b[35m   0.8555999994277954    \u001b[0m\u001b[35m \u001b[0m│\n",
       "│\u001b[36m \u001b[0m\u001b[36m        test_loss        \u001b[0m\u001b[36m \u001b[0m│\u001b[35m \u001b[0m\u001b[35m    0.854880154132843    \u001b[0m\u001b[35m \u001b[0m│\n",
       "└───────────────────────────┴───────────────────────────┘\n"
      ]
     },
     "metadata": {},
     "output_type": "display_data"
    },
    {
     "data": {
      "text/plain": [
       "[{'test_loss': 0.854880154132843, 'test_accuracy': 0.8555999994277954}]"
      ]
     },
     "execution_count": 38,
     "metadata": {},
     "output_type": "execute_result"
    }
   ],
   "source": [
    "lstm_trainer.test(lstm_module, datamodule=imdb_seq_dm)"
   ]
  },
  {
   "cell_type": "code",
   "execution_count": 40,
   "id": "ec792fbf",
   "metadata": {},
   "outputs": [
    {
     "data": {
      "image/png": "[encoded data removed]",
      "text/plain": [
       "<Figure size 600x600 with 1 Axes>"
      ]
     },
     "metadata": {},
     "output_type": "display_data"
    }
   ],
   "source": [
    "lstm_results = pd.read_csv(lstm_logger.experiment.metrics_file_path)\n",
    "fig, ax = plt.subplots(1, 1, figsize=(6, 6))\n",
    "lstm_results.plot(x='epoch', y='train_accuracy_epoch', ax=ax, color='k', marker='.', label='Training')\n",
    "lstm_results.plot(x='epoch', y='valid_accuracy', ax=ax, color='r', marker='+', label='Validation')\n",
    "ax.set_xticks(np.linspace(0, 20, 5)); ax.set_ylabel('Accuracy'); ax.set_ylim([0.5, 1]);"
   ]
  },
  {
   "cell_type": "code",
   "execution_count": null,
   "id": "ec6a1481",
   "metadata": {},
   "outputs": [],
   "source": [
    "del(lstm_model,\n",
    "    lstm_trainer,\n",
    "    lstm_logger,\n",
    "    imdb_seq_dm,\n",
    "    imdb_seq_train,\n",
    "    imdb_seq_test)"
   ]
  }
 ],
 "metadata": {
  "jupytext": {
   "cell_metadata_filter": "-all",
   "main_language": "python",
   "notebook_metadata_filter": "-all"
  },
  "kernelspec": {
   "display_name": "Python 3 (ipykernel)",
   "language": "python",
   "name": "python3"
  },
  "language_info": {
   "codemirror_mode": {
    "name": "ipython",
    "version": 3
   },
   "file_extension": ".py",
   "mimetype": "text/x-python",
   "name": "python",
   "nbconvert_exporter": "python",
   "pygments_lexer": "ipython3",
   "version": "3.11.9"
  }
 },
 "nbformat": 4,
 "nbformat_minor": 5
}
