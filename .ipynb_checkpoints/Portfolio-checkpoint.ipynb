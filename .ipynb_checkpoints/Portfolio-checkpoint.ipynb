{
 "cells": [
  {
   "cell_type": "markdown",
   "id": "9ccbc2cb-cc52-4964-9308-2ea5c80a2031",
   "metadata": {},
   "source": [
    "# Data Description\n",
    "- Simulated dataset with 100 returns for assets X and Y.\n",
    "- Estimates optimal investment fraction to minimize portfolio risk.\n",
    "- Bootstrap estimates standard error.\n",
    "- There are 2 variables:\n",
    "    - X: Returns for Asset X\n",
    "    - Y: Returns for Asset Y"
   ]
  },
  {
   "cell_type": "markdown",
   "id": "f4ff15e2-566d-442e-904a-1753542b95a7",
   "metadata": {},
   "source": [
    "# Load Packages and Data"
   ]
  },
  {
   "cell_type": "code",
   "execution_count": 2,
   "id": "83586d9d-ae79-42d1-80e7-156639aa1c94",
   "metadata": {
    "lines_to_next_cell": 2
   },
   "outputs": [],
   "source": [
    "import numpy as np, statsmodels.api as sm\n",
    "from ISLP import load_data\n",
    "from ISLP.models import (ModelSpec as MS,\n",
    "                         summarize, poly, sklearn_sm)\n",
    "from sklearn.model_selection import train_test_split\n",
    "from functools import partial\n",
    "from sklearn.model_selection import \\\n",
    "     (train_test_split, cross_validate, KFold, ShuffleSplit)\n",
    "from sklearn.base import clone"
   ]
  },
  {
   "cell_type": "code",
   "execution_count": 3,
   "id": "ec2fb825-15e8-4286-98d2-0dcc04dde9f7",
   "metadata": {},
   "outputs": [
    {
     "data": {
      "text/html": [
       "<div>\n",
       "<style scoped>\n",
       "    .dataframe tbody tr th:only-of-type {\n",
       "        vertical-align: middle;\n",
       "    }\n",
       "\n",
       "    .dataframe tbody tr th {\n",
       "        vertical-align: top;\n",
       "    }\n",
       "\n",
       "    .dataframe thead th {\n",
       "        text-align: right;\n",
       "    }\n",
       "</style>\n",
       "<table border=\"1\" class=\"dataframe\">\n",
       "  <thead>\n",
       "    <tr style=\"text-align: right;\">\n",
       "      <th></th>\n",
       "      <th>X</th>\n",
       "      <th>Y</th>\n",
       "    </tr>\n",
       "  </thead>\n",
       "  <tbody>\n",
       "    <tr>\n",
       "      <th>0</th>\n",
       "      <td>-0.895251</td>\n",
       "      <td>-0.234924</td>\n",
       "    </tr>\n",
       "    <tr>\n",
       "      <th>1</th>\n",
       "      <td>-1.562454</td>\n",
       "      <td>-0.885176</td>\n",
       "    </tr>\n",
       "    <tr>\n",
       "      <th>2</th>\n",
       "      <td>-0.417090</td>\n",
       "      <td>0.271888</td>\n",
       "    </tr>\n",
       "    <tr>\n",
       "      <th>3</th>\n",
       "      <td>1.044356</td>\n",
       "      <td>-0.734198</td>\n",
       "    </tr>\n",
       "    <tr>\n",
       "      <th>4</th>\n",
       "      <td>-0.315568</td>\n",
       "      <td>0.841983</td>\n",
       "    </tr>\n",
       "  </tbody>\n",
       "</table>\n",
       "</div>"
      ],
      "text/plain": [
       "          X         Y\n",
       "0 -0.895251 -0.234924\n",
       "1 -1.562454 -0.885176\n",
       "2 -0.417090  0.271888\n",
       "3  1.044356 -0.734198\n",
       "4 -0.315568  0.841983"
      ]
     },
     "execution_count": 3,
     "metadata": {},
     "output_type": "execute_result"
    }
   ],
   "source": [
    "Portfolio = load_data('Portfolio')\n",
    "Portfolio.head()"
   ]
  },
  {
   "cell_type": "code",
   "execution_count": 4,
   "id": "f8fd11ac-0697-4eaa-a328-fcffa28f97b3",
   "metadata": {},
   "outputs": [
    {
     "data": {
      "text/html": [
       "<div>\n",
       "<style scoped>\n",
       "    .dataframe tbody tr th:only-of-type {\n",
       "        vertical-align: middle;\n",
       "    }\n",
       "\n",
       "    .dataframe tbody tr th {\n",
       "        vertical-align: top;\n",
       "    }\n",
       "\n",
       "    .dataframe thead th {\n",
       "        text-align: right;\n",
       "    }\n",
       "</style>\n",
       "<table border=\"1\" class=\"dataframe\">\n",
       "  <thead>\n",
       "    <tr style=\"text-align: right;\">\n",
       "      <th></th>\n",
       "      <th>X</th>\n",
       "      <th>Y</th>\n",
       "    </tr>\n",
       "  </thead>\n",
       "  <tbody>\n",
       "    <tr>\n",
       "      <th>count</th>\n",
       "      <td>100.0</td>\n",
       "      <td>100.0</td>\n",
       "    </tr>\n",
       "    <tr>\n",
       "      <th>mean</th>\n",
       "      <td>-0.1</td>\n",
       "      <td>-0.1</td>\n",
       "    </tr>\n",
       "    <tr>\n",
       "      <th>std</th>\n",
       "      <td>1.1</td>\n",
       "      <td>1.1</td>\n",
       "    </tr>\n",
       "    <tr>\n",
       "      <th>min</th>\n",
       "      <td>-2.4</td>\n",
       "      <td>-2.7</td>\n",
       "    </tr>\n",
       "    <tr>\n",
       "      <th>25%</th>\n",
       "      <td>-0.9</td>\n",
       "      <td>-0.9</td>\n",
       "    </tr>\n",
       "    <tr>\n",
       "      <th>50%</th>\n",
       "      <td>-0.3</td>\n",
       "      <td>-0.2</td>\n",
       "    </tr>\n",
       "    <tr>\n",
       "      <th>75%</th>\n",
       "      <td>0.6</td>\n",
       "      <td>0.8</td>\n",
       "    </tr>\n",
       "    <tr>\n",
       "      <th>max</th>\n",
       "      <td>2.5</td>\n",
       "      <td>2.6</td>\n",
       "    </tr>\n",
       "  </tbody>\n",
       "</table>\n",
       "</div>"
      ],
      "text/plain": [
       "           X      Y\n",
       "count  100.0  100.0\n",
       "mean    -0.1   -0.1\n",
       "std      1.1    1.1\n",
       "min     -2.4   -2.7\n",
       "25%     -0.9   -0.9\n",
       "50%     -0.3   -0.2\n",
       "75%      0.6    0.8\n",
       "max      2.5    2.6"
      ]
     },
     "execution_count": 4,
     "metadata": {},
     "output_type": "execute_result"
    }
   ],
   "source": [
    "Portfolio.describe().round(1)"
   ]
  },
  {
   "cell_type": "markdown",
   "id": "d97b29cc-20af-4d20-b04b-5d49fd0ab78b",
   "metadata": {},
   "source": [
    "# The Bootstrap\n",
    "## Estimating the Accuracy of a Statistic of Interest\n",
    "- The bootstrap is versatile and easy to use, requiring no complex math. You can implement it in Python to estimate standard error, even with data in a dataframe.\n",
    "\n",
    "- We'll demonstrate with a simple example using the `Portfolio` data set to estimate the sampling variance of $\\alpha$. We'll create `alpha_func()`, which takes a dataframe `D` with `X` and `Y` columns and an index vector `idx` to compute $\\alpha$."
   ]
  },
  {
   "cell_type": "code",
   "execution_count": 5,
   "id": "166bd5f8-7a4e-4f68-b895-aab3c8470f6f",
   "metadata": {
    "lines_to_next_cell": 0
   },
   "outputs": [],
   "source": [
    "def alpha_func(D, idx):\n",
    "    # Calculate the covariance matrix for columns 'X' and 'Y' of DataFrame D, \n",
    "    # considering only the rows specified by idx. \n",
    "    # The rowvar=False indicates that each column represents a variable.\n",
    "    # The rowvar=True indicates that each row represents a variable.\n",
    "    cov_ = np.cov(D[['X', 'Y']].loc[idx], rowvar=False)\n",
    "    \n",
    "    # Compute the alpha value using the elements of the covariance matrix.\n",
    "    # The formula is: (variance of Y - covariance of X and Y) /\n",
    "    #                 (variance of X + variance of Y - 2 * covariance of X and Y)\n",
    "    return ((cov_[1, 1] - cov_[0, 1]) /\n",
    "            (cov_[0, 0] + cov_[1, 1] - 2 * cov_[0, 1]))"
   ]
  },
  {
   "cell_type": "markdown",
   "id": "ca76e150-5a7f-470d-9517-fbba7191b24c",
   "metadata": {},
   "source": [
    "- The function uses the minimum variance formula to estimate $\\alpha$ based on `idx`. For example, it estimates $\\alpha$ using all 100 observations."
   ]
  },
  {
   "cell_type": "code",
   "execution_count": 9,
   "id": "dd1f8baf-259c-4606-9e03-560659ceb0f4",
   "metadata": {},
   "outputs": [
    {
     "data": {
      "text/plain": [
       "0.57583207459283"
      ]
     },
     "execution_count": 9,
     "metadata": {},
     "output_type": "execute_result"
    }
   ],
   "source": [
    "alpha_func(Portfolio, range(100))"
   ]
  },
  {
   "cell_type": "markdown",
   "id": "c2272315-947d-4ef8-95e3-6a140e1d3013",
   "metadata": {},
   "source": [
    "- We then randomly select 100 observations with replacement from `range(100)`, forming a bootstrap data set to recompute $\\hat{\\alpha}$."
   ]
  },
  {
   "cell_type": "code",
   "execution_count": 18,
   "id": "fceaedcc-f1d4-4039-a515-29ca990d02d9",
   "metadata": {
    "lines_to_next_cell": 2
   },
   "outputs": [
    {
     "data": {
      "text/plain": [
       "0.6074452469619002"
      ]
     },
     "execution_count": 18,
     "metadata": {},
     "output_type": "execute_result"
    }
   ],
   "source": [
    "rng = np.random.default_rng(0)\n",
    "alpha_func(Portfolio,\n",
    "           rng.choice(100, 100, replace=True))"
   ]
  },
  {
   "cell_type": "markdown",
   "id": "e031209f-2cb6-4a5a-b8c3-00cf59ae6b0b",
   "metadata": {},
   "source": [
    "- This can be generalized with `boot_SE()` to compute bootstrap standard errors for functions using a dataframe."
   ]
  },
  {
   "cell_type": "code",
   "execution_count": 18,
   "id": "d94d38fd-f9e6-4c34-82bd-619ad6801d98",
   "metadata": {
    "execution": {
     "iopub.execute_input": "2024-06-04T23:19:15.450062Z",
     "iopub.status.busy": "2024-06-04T23:19:15.449992Z",
     "iopub.status.idle": "2024-06-04T23:19:15.451958Z",
     "shell.execute_reply": "2024-06-04T23:19:15.451742Z"
    },
    "lines_to_next_cell": 0
   },
   "outputs": [],
   "source": [
    "def boot_SE(func, D, n=None, B=1000, seed=0):\n",
    "    rng = np.random.default_rng(seed)\n",
    "    # Initialize variables to accumulate the first and second moments\n",
    "    first_, second_ = 0, 0\n",
    "    # If n is not specified, use the number of rows in DataFrame D\n",
    "    n = n or D.shape[0]\n",
    "    # Perform B bootstrap iterations\n",
    "    for _ in range(B):\n",
    "        # Randomly sample n indices from D with replacement\n",
    "        idx = rng.choice(D.index, n, replace=True)\n",
    "        \n",
    "        # Apply the provided function to the sampled data\n",
    "        value = func(D, idx)\n",
    "        \n",
    "        # Accumulate the first and second moments\n",
    "        first_ += value\n",
    "        second_ += value**2\n",
    "    \n",
    "    # Compute and return the bootstrap standard error\n",
    "    return np.sqrt(second_ / B - (first_ / B)**2)"
   ]
  },
  {
   "cell_type": "markdown",
   "id": "0ea5ba1b-aec9-4d5e-a9e3-98ab947be418",
   "metadata": {},
   "source": [
    "- The `_` variable is used in `for _ in range(B)` to run a loop `B` times, ignoring the counter.\n",
    "\n",
    "- Use this approach to evaluate $\\alpha$'s accuracy with $B=1{,}000$ bootstrap replications."
   ]
  },
  {
   "cell_type": "code",
   "execution_count": 19,
   "id": "a850b9f1-c4fe-4135-8009-6c9972bec729",
   "metadata": {
    "execution": {
     "iopub.execute_input": "2024-06-04T23:19:15.453190Z",
     "iopub.status.busy": "2024-06-04T23:19:15.453118Z",
     "iopub.status.idle": "2024-06-04T23:19:15.631597Z",
     "shell.execute_reply": "2024-06-04T23:19:15.631370Z"
    }
   },
   "outputs": [
    {
     "data": {
      "text/plain": [
       "0.09118176521277699"
      ]
     },
     "execution_count": 19,
     "metadata": {},
     "output_type": "execute_result"
    }
   ],
   "source": [
    "alpha_SE = boot_SE(alpha_func, Portfolio, B=1000, seed=0)\n",
    "alpha_SE"
   ]
  },
  {
   "cell_type": "markdown",
   "id": "2990fa73-26ac-467c-9bef-f43af8eb968e",
   "metadata": {},
   "source": [
    "- The final output shows that the bootstrap estimate for ${\\rm SE}(\\hat{\\alpha})$ is $0.0912$."
   ]
  }
 ],
 "metadata": {
  "kernelspec": {
   "display_name": "Python 3 (ipykernel)",
   "language": "python",
   "name": "python3"
  },
  "language_info": {
   "codemirror_mode": {
    "name": "ipython",
    "version": 3
   },
   "file_extension": ".py",
   "mimetype": "text/x-python",
   "name": "python",
   "nbconvert_exporter": "python",
   "pygments_lexer": "ipython3",
   "version": "3.11.9"
  }
 },
 "nbformat": 4,
 "nbformat_minor": 5
}
