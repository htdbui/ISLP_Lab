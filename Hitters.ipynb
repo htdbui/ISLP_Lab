{
 "cells": [
  {
   "cell_type": "markdown",
   "id": "fc1b86cf-a5ff-41a0-8aee-d438f4642027",
   "metadata": {},
   "source": [
    "# Data Description\n",
    "- Major League Baseball Data from the 1986 and 1987 seasons.\n",
    "- There are 322 rows, with 59 rows of missing values. 263 left.\n",
    "- The response variable is `Salary`, which is the 1987 annual salary in thousands of dollars.\n",
    "- There are 20 variables:\n",
    "    - AtBat: Number of times at bat in 1986\n",
    "    - Hits: Number of hits in 1986\n",
    "    - HmRun: Number of home runs in 1986\n",
    "    - Runs: Number of runs in 1986\n",
    "    - RBI: Number of runs batted in in 1986\n",
    "    - Walks: Number of walks in 1986\n",
    "    - Years: Number of years in the major leagues\n",
    "    - CAtBat: Number of times at bat during his career\n",
    "    - CHits: Number of hits during his career\n",
    "    - CHmRun: Number of home runs during his career\n",
    "    - CRuns: Number of runs during his career\n",
    "    - CRBI: Number of runs batted in during his career\n",
    "    - CWalks: Number of walks during his career\n",
    "    - League: A factor with levels A and N indicating player’s league at the end of 1986\n",
    "    - Division: A factor with levels E and W indicating player’s division at the end of 1986\n",
    "    - PutOuts: Number of put outs in 1986\n",
    "    - Assists: Number of assists in 1986\n",
    "    - Errors: Number of errors in 1986\n",
    "    - Salary: 1987 annual salary on opening day in thousands of dollars\n",
    "    - NewLeague: A factor with levels A and N indicating player’s league at the beginning of 1987\n"
   ]
  },
  {
   "cell_type": "markdown",
   "id": "fa5351bd-0b4f-470e-83bd-e59cb5fc3ad5",
   "metadata": {},
   "source": [
    "# Load Packages and Data"
   ]
  },
  {
   "cell_type": "code",
   "execution_count": 1,
   "id": "b59f6bc4",
   "metadata": {},
   "outputs": [],
   "source": [
    "import numpy as np, pandas as pd, matplotlib.pyplot as plt\n",
    "import statsmodels.api as sm\n",
    "import sklearn.model_selection as skm\n",
    "import sklearn.linear_model as skl\n",
    "from sklearn.pipeline import Pipeline\n",
    "from sklearn.decomposition import PCA\n",
    "from sklearn.cross_decomposition import PLSRegression\n",
    "from sklearn.preprocessing import StandardScaler\n",
    "from ISLP import load_data\n",
    "from ISLP.models import \\\n",
    "     (ModelSpec as MS, Stepwise,\n",
    "      sklearn_selected, sklearn_selection_path)\n",
    "from l0bnb import fit_path\n",
    "from functools import partial"
   ]
  },
  {
   "cell_type": "code",
   "execution_count": 2,
   "id": "740bbc5a-31b0-4b9d-be7a-961d9e6b8e14",
   "metadata": {},
   "outputs": [
    {
     "name": "stdout",
     "output_type": "stream",
     "text": [
      "(322, 20)\n"
     ]
    },
    {
     "data": {
      "text/html": [
       "<div>\n",
       "<style scoped>\n",
       "    .dataframe tbody tr th:only-of-type {\n",
       "        vertical-align: middle;\n",
       "    }\n",
       "\n",
       "    .dataframe tbody tr th {\n",
       "        vertical-align: top;\n",
       "    }\n",
       "\n",
       "    .dataframe thead th {\n",
       "        text-align: right;\n",
       "    }\n",
       "</style>\n",
       "<table border=\"1\" class=\"dataframe\">\n",
       "  <thead>\n",
       "    <tr style=\"text-align: right;\">\n",
       "      <th></th>\n",
       "      <th>AtBat</th>\n",
       "      <th>Hits</th>\n",
       "      <th>HmRun</th>\n",
       "      <th>Runs</th>\n",
       "      <th>RBI</th>\n",
       "      <th>Walks</th>\n",
       "      <th>Years</th>\n",
       "      <th>CAtBat</th>\n",
       "      <th>CHits</th>\n",
       "      <th>CHmRun</th>\n",
       "      <th>CRuns</th>\n",
       "      <th>CRBI</th>\n",
       "      <th>CWalks</th>\n",
       "      <th>League</th>\n",
       "      <th>Division</th>\n",
       "      <th>PutOuts</th>\n",
       "      <th>Assists</th>\n",
       "      <th>Errors</th>\n",
       "      <th>Salary</th>\n",
       "      <th>NewLeague</th>\n",
       "    </tr>\n",
       "  </thead>\n",
       "  <tbody>\n",
       "    <tr>\n",
       "      <th>0</th>\n",
       "      <td>293</td>\n",
       "      <td>66</td>\n",
       "      <td>1</td>\n",
       "      <td>30</td>\n",
       "      <td>29</td>\n",
       "      <td>14</td>\n",
       "      <td>1</td>\n",
       "      <td>293</td>\n",
       "      <td>66</td>\n",
       "      <td>1</td>\n",
       "      <td>30</td>\n",
       "      <td>29</td>\n",
       "      <td>14</td>\n",
       "      <td>A</td>\n",
       "      <td>E</td>\n",
       "      <td>446</td>\n",
       "      <td>33</td>\n",
       "      <td>20</td>\n",
       "      <td>NaN</td>\n",
       "      <td>A</td>\n",
       "    </tr>\n",
       "    <tr>\n",
       "      <th>1</th>\n",
       "      <td>315</td>\n",
       "      <td>81</td>\n",
       "      <td>7</td>\n",
       "      <td>24</td>\n",
       "      <td>38</td>\n",
       "      <td>39</td>\n",
       "      <td>14</td>\n",
       "      <td>3449</td>\n",
       "      <td>835</td>\n",
       "      <td>69</td>\n",
       "      <td>321</td>\n",
       "      <td>414</td>\n",
       "      <td>375</td>\n",
       "      <td>N</td>\n",
       "      <td>W</td>\n",
       "      <td>632</td>\n",
       "      <td>43</td>\n",
       "      <td>10</td>\n",
       "      <td>475.0</td>\n",
       "      <td>N</td>\n",
       "    </tr>\n",
       "    <tr>\n",
       "      <th>2</th>\n",
       "      <td>479</td>\n",
       "      <td>130</td>\n",
       "      <td>18</td>\n",
       "      <td>66</td>\n",
       "      <td>72</td>\n",
       "      <td>76</td>\n",
       "      <td>3</td>\n",
       "      <td>1624</td>\n",
       "      <td>457</td>\n",
       "      <td>63</td>\n",
       "      <td>224</td>\n",
       "      <td>266</td>\n",
       "      <td>263</td>\n",
       "      <td>A</td>\n",
       "      <td>W</td>\n",
       "      <td>880</td>\n",
       "      <td>82</td>\n",
       "      <td>14</td>\n",
       "      <td>480.0</td>\n",
       "      <td>A</td>\n",
       "    </tr>\n",
       "    <tr>\n",
       "      <th>3</th>\n",
       "      <td>496</td>\n",
       "      <td>141</td>\n",
       "      <td>20</td>\n",
       "      <td>65</td>\n",
       "      <td>78</td>\n",
       "      <td>37</td>\n",
       "      <td>11</td>\n",
       "      <td>5628</td>\n",
       "      <td>1575</td>\n",
       "      <td>225</td>\n",
       "      <td>828</td>\n",
       "      <td>838</td>\n",
       "      <td>354</td>\n",
       "      <td>N</td>\n",
       "      <td>E</td>\n",
       "      <td>200</td>\n",
       "      <td>11</td>\n",
       "      <td>3</td>\n",
       "      <td>500.0</td>\n",
       "      <td>N</td>\n",
       "    </tr>\n",
       "    <tr>\n",
       "      <th>4</th>\n",
       "      <td>321</td>\n",
       "      <td>87</td>\n",
       "      <td>10</td>\n",
       "      <td>39</td>\n",
       "      <td>42</td>\n",
       "      <td>30</td>\n",
       "      <td>2</td>\n",
       "      <td>396</td>\n",
       "      <td>101</td>\n",
       "      <td>12</td>\n",
       "      <td>48</td>\n",
       "      <td>46</td>\n",
       "      <td>33</td>\n",
       "      <td>N</td>\n",
       "      <td>E</td>\n",
       "      <td>805</td>\n",
       "      <td>40</td>\n",
       "      <td>4</td>\n",
       "      <td>91.5</td>\n",
       "      <td>N</td>\n",
       "    </tr>\n",
       "  </tbody>\n",
       "</table>\n",
       "</div>"
      ],
      "text/plain": [
       "   AtBat  Hits  HmRun  Runs  RBI  Walks  Years  CAtBat  CHits  CHmRun  CRuns  \\\n",
       "0    293    66      1    30   29     14      1     293     66       1     30   \n",
       "1    315    81      7    24   38     39     14    3449    835      69    321   \n",
       "2    479   130     18    66   72     76      3    1624    457      63    224   \n",
       "3    496   141     20    65   78     37     11    5628   1575     225    828   \n",
       "4    321    87     10    39   42     30      2     396    101      12     48   \n",
       "\n",
       "   CRBI  CWalks League Division  PutOuts  Assists  Errors  Salary NewLeague  \n",
       "0    29      14      A        E      446       33      20     NaN         A  \n",
       "1   414     375      N        W      632       43      10   475.0         N  \n",
       "2   266     263      A        W      880       82      14   480.0         A  \n",
       "3   838     354      N        E      200       11       3   500.0         N  \n",
       "4    46      33      N        E      805       40       4    91.5         N  "
      ]
     },
     "execution_count": 2,
     "metadata": {},
     "output_type": "execute_result"
    }
   ],
   "source": [
    "Hitters = load_data('Hitters'); print(Hitters.shape); Hitters.head()"
   ]
  },
  {
   "cell_type": "code",
   "execution_count": 3,
   "id": "426b33e0-bda2-41d4-aa9f-cf46f50abfb0",
   "metadata": {},
   "outputs": [
    {
     "data": {
      "text/html": [
       "<div>\n",
       "<style scoped>\n",
       "    .dataframe tbody tr th:only-of-type {\n",
       "        vertical-align: middle;\n",
       "    }\n",
       "\n",
       "    .dataframe tbody tr th {\n",
       "        vertical-align: top;\n",
       "    }\n",
       "\n",
       "    .dataframe thead th {\n",
       "        text-align: right;\n",
       "    }\n",
       "</style>\n",
       "<table border=\"1\" class=\"dataframe\">\n",
       "  <thead>\n",
       "    <tr style=\"text-align: right;\">\n",
       "      <th></th>\n",
       "      <th>AtBat</th>\n",
       "      <th>Hits</th>\n",
       "      <th>HmRun</th>\n",
       "      <th>Runs</th>\n",
       "      <th>RBI</th>\n",
       "      <th>Walks</th>\n",
       "      <th>Years</th>\n",
       "      <th>CAtBat</th>\n",
       "      <th>CHits</th>\n",
       "      <th>CHmRun</th>\n",
       "      <th>CRuns</th>\n",
       "      <th>CRBI</th>\n",
       "      <th>CWalks</th>\n",
       "      <th>PutOuts</th>\n",
       "      <th>Assists</th>\n",
       "      <th>Errors</th>\n",
       "      <th>Salary</th>\n",
       "    </tr>\n",
       "  </thead>\n",
       "  <tbody>\n",
       "    <tr>\n",
       "      <th>count</th>\n",
       "      <td>322.0</td>\n",
       "      <td>322.0</td>\n",
       "      <td>322.0</td>\n",
       "      <td>322.0</td>\n",
       "      <td>322.0</td>\n",
       "      <td>322.0</td>\n",
       "      <td>322.0</td>\n",
       "      <td>322.0</td>\n",
       "      <td>322.0</td>\n",
       "      <td>322.0</td>\n",
       "      <td>322.0</td>\n",
       "      <td>322.0</td>\n",
       "      <td>322.0</td>\n",
       "      <td>322.0</td>\n",
       "      <td>322.0</td>\n",
       "      <td>322.0</td>\n",
       "      <td>263.0</td>\n",
       "    </tr>\n",
       "    <tr>\n",
       "      <th>mean</th>\n",
       "      <td>380.9</td>\n",
       "      <td>101.0</td>\n",
       "      <td>10.8</td>\n",
       "      <td>50.9</td>\n",
       "      <td>48.0</td>\n",
       "      <td>38.7</td>\n",
       "      <td>7.4</td>\n",
       "      <td>2648.7</td>\n",
       "      <td>717.6</td>\n",
       "      <td>69.5</td>\n",
       "      <td>358.8</td>\n",
       "      <td>330.1</td>\n",
       "      <td>260.2</td>\n",
       "      <td>288.9</td>\n",
       "      <td>106.9</td>\n",
       "      <td>8.0</td>\n",
       "      <td>535.9</td>\n",
       "    </tr>\n",
       "    <tr>\n",
       "      <th>std</th>\n",
       "      <td>153.4</td>\n",
       "      <td>46.5</td>\n",
       "      <td>8.7</td>\n",
       "      <td>26.0</td>\n",
       "      <td>26.2</td>\n",
       "      <td>21.6</td>\n",
       "      <td>4.9</td>\n",
       "      <td>2324.2</td>\n",
       "      <td>654.5</td>\n",
       "      <td>86.3</td>\n",
       "      <td>334.1</td>\n",
       "      <td>333.2</td>\n",
       "      <td>267.1</td>\n",
       "      <td>280.7</td>\n",
       "      <td>136.9</td>\n",
       "      <td>6.4</td>\n",
       "      <td>451.1</td>\n",
       "    </tr>\n",
       "    <tr>\n",
       "      <th>min</th>\n",
       "      <td>16.0</td>\n",
       "      <td>1.0</td>\n",
       "      <td>0.0</td>\n",
       "      <td>0.0</td>\n",
       "      <td>0.0</td>\n",
       "      <td>0.0</td>\n",
       "      <td>1.0</td>\n",
       "      <td>19.0</td>\n",
       "      <td>4.0</td>\n",
       "      <td>0.0</td>\n",
       "      <td>1.0</td>\n",
       "      <td>0.0</td>\n",
       "      <td>0.0</td>\n",
       "      <td>0.0</td>\n",
       "      <td>0.0</td>\n",
       "      <td>0.0</td>\n",
       "      <td>67.5</td>\n",
       "    </tr>\n",
       "    <tr>\n",
       "      <th>25%</th>\n",
       "      <td>255.2</td>\n",
       "      <td>64.0</td>\n",
       "      <td>4.0</td>\n",
       "      <td>30.2</td>\n",
       "      <td>28.0</td>\n",
       "      <td>22.0</td>\n",
       "      <td>4.0</td>\n",
       "      <td>816.8</td>\n",
       "      <td>209.0</td>\n",
       "      <td>14.0</td>\n",
       "      <td>100.2</td>\n",
       "      <td>88.8</td>\n",
       "      <td>67.2</td>\n",
       "      <td>109.2</td>\n",
       "      <td>7.0</td>\n",
       "      <td>3.0</td>\n",
       "      <td>190.0</td>\n",
       "    </tr>\n",
       "    <tr>\n",
       "      <th>50%</th>\n",
       "      <td>379.5</td>\n",
       "      <td>96.0</td>\n",
       "      <td>8.0</td>\n",
       "      <td>48.0</td>\n",
       "      <td>44.0</td>\n",
       "      <td>35.0</td>\n",
       "      <td>6.0</td>\n",
       "      <td>1928.0</td>\n",
       "      <td>508.0</td>\n",
       "      <td>37.5</td>\n",
       "      <td>247.0</td>\n",
       "      <td>220.5</td>\n",
       "      <td>170.5</td>\n",
       "      <td>212.0</td>\n",
       "      <td>39.5</td>\n",
       "      <td>6.0</td>\n",
       "      <td>425.0</td>\n",
       "    </tr>\n",
       "    <tr>\n",
       "      <th>75%</th>\n",
       "      <td>512.0</td>\n",
       "      <td>137.0</td>\n",
       "      <td>16.0</td>\n",
       "      <td>69.0</td>\n",
       "      <td>64.8</td>\n",
       "      <td>53.0</td>\n",
       "      <td>11.0</td>\n",
       "      <td>3924.2</td>\n",
       "      <td>1059.2</td>\n",
       "      <td>90.0</td>\n",
       "      <td>526.2</td>\n",
       "      <td>426.2</td>\n",
       "      <td>339.2</td>\n",
       "      <td>325.0</td>\n",
       "      <td>166.0</td>\n",
       "      <td>11.0</td>\n",
       "      <td>750.0</td>\n",
       "    </tr>\n",
       "    <tr>\n",
       "      <th>max</th>\n",
       "      <td>687.0</td>\n",
       "      <td>238.0</td>\n",
       "      <td>40.0</td>\n",
       "      <td>130.0</td>\n",
       "      <td>121.0</td>\n",
       "      <td>105.0</td>\n",
       "      <td>24.0</td>\n",
       "      <td>14053.0</td>\n",
       "      <td>4256.0</td>\n",
       "      <td>548.0</td>\n",
       "      <td>2165.0</td>\n",
       "      <td>1659.0</td>\n",
       "      <td>1566.0</td>\n",
       "      <td>1378.0</td>\n",
       "      <td>492.0</td>\n",
       "      <td>32.0</td>\n",
       "      <td>2460.0</td>\n",
       "    </tr>\n",
       "  </tbody>\n",
       "</table>\n",
       "</div>"
      ],
      "text/plain": [
       "       AtBat   Hits  HmRun   Runs    RBI  Walks  Years   CAtBat   CHits  \\\n",
       "count  322.0  322.0  322.0  322.0  322.0  322.0  322.0    322.0   322.0   \n",
       "mean   380.9  101.0   10.8   50.9   48.0   38.7    7.4   2648.7   717.6   \n",
       "std    153.4   46.5    8.7   26.0   26.2   21.6    4.9   2324.2   654.5   \n",
       "min     16.0    1.0    0.0    0.0    0.0    0.0    1.0     19.0     4.0   \n",
       "25%    255.2   64.0    4.0   30.2   28.0   22.0    4.0    816.8   209.0   \n",
       "50%    379.5   96.0    8.0   48.0   44.0   35.0    6.0   1928.0   508.0   \n",
       "75%    512.0  137.0   16.0   69.0   64.8   53.0   11.0   3924.2  1059.2   \n",
       "max    687.0  238.0   40.0  130.0  121.0  105.0   24.0  14053.0  4256.0   \n",
       "\n",
       "       CHmRun   CRuns    CRBI  CWalks  PutOuts  Assists  Errors  Salary  \n",
       "count   322.0   322.0   322.0   322.0    322.0    322.0   322.0   263.0  \n",
       "mean     69.5   358.8   330.1   260.2    288.9    106.9     8.0   535.9  \n",
       "std      86.3   334.1   333.2   267.1    280.7    136.9     6.4   451.1  \n",
       "min       0.0     1.0     0.0     0.0      0.0      0.0     0.0    67.5  \n",
       "25%      14.0   100.2    88.8    67.2    109.2      7.0     3.0   190.0  \n",
       "50%      37.5   247.0   220.5   170.5    212.0     39.5     6.0   425.0  \n",
       "75%      90.0   526.2   426.2   339.2    325.0    166.0    11.0   750.0  \n",
       "max     548.0  2165.0  1659.0  1566.0   1378.0    492.0    32.0  2460.0  "
      ]
     },
     "execution_count": 3,
     "metadata": {},
     "output_type": "execute_result"
    }
   ],
   "source": [
    "Hitters.describe().round(1)"
   ]
  },
  {
   "cell_type": "code",
   "execution_count": 4,
   "id": "91effeff-df3b-4714-8ce4-dfca214cacf2",
   "metadata": {},
   "outputs": [
    {
     "data": {
      "text/plain": [
       "59"
      ]
     },
     "execution_count": 4,
     "metadata": {},
     "output_type": "execute_result"
    }
   ],
   "source": [
    "np.isnan(Hitters['Salary']).sum()"
   ]
  },
  {
   "cell_type": "code",
   "execution_count": 5,
   "id": "86123ade-5239-4fd0-b040-ef47ba9c19c5",
   "metadata": {
    "lines_to_next_cell": 2
   },
   "outputs": [
    {
     "data": {
      "text/plain": [
       "(263, 20)"
      ]
     },
     "execution_count": 5,
     "metadata": {},
     "output_type": "execute_result"
    }
   ],
   "source": [
    "Hitters = Hitters.dropna(); Hitters.shape"
   ]
  },
  {
   "cell_type": "markdown",
   "id": "bfbf09cb",
   "metadata": {},
   "source": [
    "# Subset Selection Methods\n",
    "## Forward Selection\n",
    "- We predict a baseball player’s `Salary` on the basis of various statistics associated with performance in the previous year."
   ]
  },
  {
   "cell_type": "code",
   "execution_count": 6,
   "id": "ef262640",
   "metadata": {},
   "outputs": [
    {
     "name": "stdout",
     "output_type": "stream",
     "text": [
      "(263, 20)\n"
     ]
    },
    {
     "data": {
      "text/html": [
       "<div>\n",
       "<style scoped>\n",
       "    .dataframe tbody tr th:only-of-type {\n",
       "        vertical-align: middle;\n",
       "    }\n",
       "\n",
       "    .dataframe tbody tr th {\n",
       "        vertical-align: top;\n",
       "    }\n",
       "\n",
       "    .dataframe thead th {\n",
       "        text-align: right;\n",
       "    }\n",
       "</style>\n",
       "<table border=\"1\" class=\"dataframe\">\n",
       "  <thead>\n",
       "    <tr style=\"text-align: right;\">\n",
       "      <th></th>\n",
       "      <th>intercept</th>\n",
       "      <th>AtBat</th>\n",
       "      <th>Hits</th>\n",
       "      <th>HmRun</th>\n",
       "      <th>Runs</th>\n",
       "      <th>RBI</th>\n",
       "      <th>Walks</th>\n",
       "      <th>Years</th>\n",
       "      <th>CAtBat</th>\n",
       "      <th>CHits</th>\n",
       "      <th>CHmRun</th>\n",
       "      <th>CRuns</th>\n",
       "      <th>CRBI</th>\n",
       "      <th>CWalks</th>\n",
       "      <th>League[N]</th>\n",
       "      <th>Division[W]</th>\n",
       "      <th>PutOuts</th>\n",
       "      <th>Assists</th>\n",
       "      <th>Errors</th>\n",
       "      <th>NewLeague[N]</th>\n",
       "    </tr>\n",
       "  </thead>\n",
       "  <tbody>\n",
       "    <tr>\n",
       "      <th>1</th>\n",
       "      <td>1.0</td>\n",
       "      <td>315</td>\n",
       "      <td>81</td>\n",
       "      <td>7</td>\n",
       "      <td>24</td>\n",
       "      <td>38</td>\n",
       "      <td>39</td>\n",
       "      <td>14</td>\n",
       "      <td>3449</td>\n",
       "      <td>835</td>\n",
       "      <td>69</td>\n",
       "      <td>321</td>\n",
       "      <td>414</td>\n",
       "      <td>375</td>\n",
       "      <td>1.0</td>\n",
       "      <td>1.0</td>\n",
       "      <td>632</td>\n",
       "      <td>43</td>\n",
       "      <td>10</td>\n",
       "      <td>1.0</td>\n",
       "    </tr>\n",
       "    <tr>\n",
       "      <th>2</th>\n",
       "      <td>1.0</td>\n",
       "      <td>479</td>\n",
       "      <td>130</td>\n",
       "      <td>18</td>\n",
       "      <td>66</td>\n",
       "      <td>72</td>\n",
       "      <td>76</td>\n",
       "      <td>3</td>\n",
       "      <td>1624</td>\n",
       "      <td>457</td>\n",
       "      <td>63</td>\n",
       "      <td>224</td>\n",
       "      <td>266</td>\n",
       "      <td>263</td>\n",
       "      <td>0.0</td>\n",
       "      <td>1.0</td>\n",
       "      <td>880</td>\n",
       "      <td>82</td>\n",
       "      <td>14</td>\n",
       "      <td>0.0</td>\n",
       "    </tr>\n",
       "    <tr>\n",
       "      <th>3</th>\n",
       "      <td>1.0</td>\n",
       "      <td>496</td>\n",
       "      <td>141</td>\n",
       "      <td>20</td>\n",
       "      <td>65</td>\n",
       "      <td>78</td>\n",
       "      <td>37</td>\n",
       "      <td>11</td>\n",
       "      <td>5628</td>\n",
       "      <td>1575</td>\n",
       "      <td>225</td>\n",
       "      <td>828</td>\n",
       "      <td>838</td>\n",
       "      <td>354</td>\n",
       "      <td>1.0</td>\n",
       "      <td>0.0</td>\n",
       "      <td>200</td>\n",
       "      <td>11</td>\n",
       "      <td>3</td>\n",
       "      <td>1.0</td>\n",
       "    </tr>\n",
       "    <tr>\n",
       "      <th>4</th>\n",
       "      <td>1.0</td>\n",
       "      <td>321</td>\n",
       "      <td>87</td>\n",
       "      <td>10</td>\n",
       "      <td>39</td>\n",
       "      <td>42</td>\n",
       "      <td>30</td>\n",
       "      <td>2</td>\n",
       "      <td>396</td>\n",
       "      <td>101</td>\n",
       "      <td>12</td>\n",
       "      <td>48</td>\n",
       "      <td>46</td>\n",
       "      <td>33</td>\n",
       "      <td>1.0</td>\n",
       "      <td>0.0</td>\n",
       "      <td>805</td>\n",
       "      <td>40</td>\n",
       "      <td>4</td>\n",
       "      <td>1.0</td>\n",
       "    </tr>\n",
       "    <tr>\n",
       "      <th>5</th>\n",
       "      <td>1.0</td>\n",
       "      <td>594</td>\n",
       "      <td>169</td>\n",
       "      <td>4</td>\n",
       "      <td>74</td>\n",
       "      <td>51</td>\n",
       "      <td>35</td>\n",
       "      <td>11</td>\n",
       "      <td>4408</td>\n",
       "      <td>1133</td>\n",
       "      <td>19</td>\n",
       "      <td>501</td>\n",
       "      <td>336</td>\n",
       "      <td>194</td>\n",
       "      <td>0.0</td>\n",
       "      <td>1.0</td>\n",
       "      <td>282</td>\n",
       "      <td>421</td>\n",
       "      <td>25</td>\n",
       "      <td>0.0</td>\n",
       "    </tr>\n",
       "  </tbody>\n",
       "</table>\n",
       "</div>"
      ],
      "text/plain": [
       "   intercept  AtBat  Hits  HmRun  Runs  RBI  Walks  Years  CAtBat  CHits  \\\n",
       "1        1.0    315    81      7    24   38     39     14    3449    835   \n",
       "2        1.0    479   130     18    66   72     76      3    1624    457   \n",
       "3        1.0    496   141     20    65   78     37     11    5628   1575   \n",
       "4        1.0    321    87     10    39   42     30      2     396    101   \n",
       "5        1.0    594   169      4    74   51     35     11    4408   1133   \n",
       "\n",
       "   CHmRun  CRuns  CRBI  CWalks  League[N]  Division[W]  PutOuts  Assists  \\\n",
       "1      69    321   414     375        1.0          1.0      632       43   \n",
       "2      63    224   266     263        0.0          1.0      880       82   \n",
       "3     225    828   838     354        1.0          0.0      200       11   \n",
       "4      12     48    46      33        1.0          0.0      805       40   \n",
       "5      19    501   336     194        0.0          1.0      282      421   \n",
       "\n",
       "   Errors  NewLeague[N]  \n",
       "1      10           1.0  \n",
       "2      14           0.0  \n",
       "3       3           1.0  \n",
       "4       4           1.0  \n",
       "5      25           0.0  "
      ]
     },
     "execution_count": 6,
     "metadata": {},
     "output_type": "execute_result"
    }
   ],
   "source": [
    "# Create a data frame with the predictors\n",
    "design = MS(Hitters.columns.drop('Salary')).fit(Hitters)\n",
    "X = design.transform(Hitters)\n",
    "print(X.shape)\n",
    "X.head()"
   ]
  },
  {
   "cell_type": "markdown",
   "id": "4c4d0b06",
   "metadata": {},
   "source": [
    "- We define the search strategy with `Stepwise()` from `ISLP.models`:\n",
    "    - `Stepwise.first_peak()` continues until no score improvement is found.\n",
    "    - `Stepwise.fixed_steps()` runs a set number of steps."
   ]
  },
  {
   "cell_type": "code",
   "execution_count": 7,
   "id": "b39474bc",
   "metadata": {},
   "outputs": [],
   "source": [
    "strategy = Stepwise.first_peak(design, direction='forward', \n",
    "                               max_terms=len(design.terms))"
   ]
  },
  {
   "cell_type": "markdown",
   "id": "a2e10ddc",
   "metadata": {},
   "source": [
    "- We use forward selection with `sklearn_selected()` from `ISLP.models` to fit a linear regression model.\n",
    "- This function uses a `statsmodels` model and a search strategy.\n",
    "- This function has a default scoring of MSE.\n",
    "- Note: the method `fit()` cannot use the design matrix `X` as input. It requires `Hitters` as input.\n",
    "- The result selects all 19 variables."
   ]
  },
  {
   "cell_type": "code",
   "execution_count": 8,
   "id": "b368300d",
   "metadata": {},
   "outputs": [
    {
     "data": {
      "text/plain": [
       "('Assists',\n",
       " 'AtBat',\n",
       " 'CAtBat',\n",
       " 'CHits',\n",
       " 'CHmRun',\n",
       " 'CRBI',\n",
       " 'CRuns',\n",
       " 'CWalks',\n",
       " 'Division',\n",
       " 'Errors',\n",
       " 'Hits',\n",
       " 'HmRun',\n",
       " 'League',\n",
       " 'NewLeague',\n",
       " 'PutOuts',\n",
       " 'RBI',\n",
       " 'Runs',\n",
       " 'Walks',\n",
       " 'Years')"
      ]
     },
     "execution_count": 8,
     "metadata": {},
     "output_type": "execute_result"
    }
   ],
   "source": [
    "# Define the response\n",
    "Y = np.array(Hitters.Salary)\n",
    "# Fit the model\n",
    "hitters_MSE = sklearn_selected(sm.OLS, strategy)\n",
    "hitters_MSE.fit(Hitters, Y)\n",
    "# Show the selected predictors\n",
    "hitters_MSE.selected_state_"
   ]
  },
  {
   "cell_type": "markdown",
   "id": "2ecb3616",
   "metadata": {},
   "source": [
    "- We can use $C_p$ as scoring criterion to select the best model.\n",
    "- $C_p$ isn't a built-in `sklearn` metric, so we need to define it ourselves.\n",
    "- Because `sklearn` use the convention that higher scores are better, we need to negate the $C_p$ value."
   ]
  },
  {
   "cell_type": "code",
   "execution_count": 9,
   "id": "9d4e08e2",
   "metadata": {},
   "outputs": [],
   "source": [
    "def nCp(sigma2, estimator, X, Y):\n",
    "    n, p = X.shape\n",
    "    Yhat = estimator.predict(X)\n",
    "    RSS = np.sum((Y - Yhat)**2)\n",
    "    return - (RSS + 2 * p * sigma2) / n"
   ]
  },
  {
   "cell_type": "markdown",
   "id": "bf9e3ca3",
   "metadata": {},
   "source": [
    "- We need the residual variance ($\\sigma^2$) for `nCp`. We calculate it from the largest model's MSE.\n",
    "- Then we fix $\\sigma^2$ by using `partial()` of `functools`, so that `nCp` use only the last three terms `estimator, X, Y`.\n",
    "- We fix $\\sigma^2$ because the argument `scoring` requires only `estimator, X, Y`."
   ]
  },
  {
   "cell_type": "code",
   "execution_count": 10,
   "id": "096fe127",
   "metadata": {
    "lines_to_next_cell": 0
   },
   "outputs": [],
   "source": [
    "# Compute the sigma2\n",
    "sigma2 = sm.OLS(Y,X).fit().scale\n",
    "# Fix sigma2 in nCp\n",
    "neg_Cp = partial(nCp, sigma2)"
   ]
  },
  {
   "cell_type": "markdown",
   "id": "c1a78607",
   "metadata": {},
   "source": [
    "- Using `nCp` for scoring yields a smaller model with only 10 selected variables."
   ]
  },
  {
   "cell_type": "code",
   "execution_count": 11,
   "id": "915cdff6",
   "metadata": {},
   "outputs": [
    {
     "data": {
      "text/plain": [
       "('Assists',\n",
       " 'AtBat',\n",
       " 'CAtBat',\n",
       " 'CRBI',\n",
       " 'CRuns',\n",
       " 'CWalks',\n",
       " 'Division',\n",
       " 'Hits',\n",
       " 'PutOuts',\n",
       " 'Walks')"
      ]
     },
     "execution_count": 11,
     "metadata": {},
     "output_type": "execute_result"
    }
   ],
   "source": [
    "hitters_Cp = sklearn_selected(sm.OLS, strategy, scoring=neg_Cp)\n",
    "hitters_Cp.fit(Hitters, Y)\n",
    "hitters_Cp.selected_state_"
   ]
  },
  {
   "cell_type": "markdown",
   "id": "5d1a6191",
   "metadata": {},
   "source": [
    "## Choosing Among Models Using Only Training Data\n",
    "- The `sklearn_selection_path()` estimator stores the models found for each step.\n",
    "- We define a strategy with `Stepwise.fixed_steps()` running fixed 20 steps from NULL to full with 19 variables.\n",
    "- We use each model to compute the fitted values.\n",
    "- The result is a list of 263 fitted values for each 20 models."
   ]
  },
  {
   "cell_type": "code",
   "execution_count": 12,
   "id": "33ae4aa4",
   "metadata": {},
   "outputs": [
    {
     "data": {
      "text/plain": [
       "(263, 20)"
      ]
     },
     "execution_count": 12,
     "metadata": {},
     "output_type": "execute_result"
    }
   ],
   "source": [
    "# Define the strategy\n",
    "strategy = Stepwise.fixed_steps(model_spec=design, n_steps=len(design.terms), direction='forward')\n",
    "# Fit the models\n",
    "full_path = sklearn_selection_path(sm.OLS, strategy)\n",
    "full_path.fit(Hitters, Y)\n",
    "# Fitted values\n",
    "Yhat_in = full_path.predict(Hitters)\n",
    "Yhat_in.shape\n",
    "# row is fitted values, column is model"
   ]
  },
  {
   "cell_type": "markdown",
   "id": "73b6ce9b",
   "metadata": {},
   "source": [
    "- We calculate the MSE for each model and then plot the MSE against the number of variables in each model.\n",
    "- The y-axis is the MSE and fixed set from 50,0000 to 250,0000 for comparison with cross-validation MSE and other methods later"
   ]
  },
  {
   "cell_type": "code",
   "execution_count": 13,
   "id": "381071ba",
   "metadata": {},
   "outputs": [
    {
     "data": {
      "image/png": "[encoded data removed]",
      "text/plain": [
       "<Figure size 800x800 with 1 Axes>"
      ]
     },
     "metadata": {},
     "output_type": "display_data"
    }
   ],
   "source": [
    "mse_fig, ax = plt.subplots(figsize=(8,8))\n",
    "insample_mse = ((Yhat_in - Y[:,None])**2).mean(0)\n",
    "# Y[:,None] is to make it a column vector.\n",
    "# mean(0) is to average over the rows.\n",
    "n_steps = insample_mse.shape[0] # Number of steps is 20\n",
    "ax.plot(np.arange(n_steps), # from 0 to 19\n",
    "        insample_mse, # insample MSE\n",
    "        'k', # color black\n",
    "        label='In-sample')\n",
    "ax.set_ylabel('MSE'); ax.set_xlabel('# Steps of forward stepwise')\n",
    "ax.set_ylim([50000,250000]); ax.set_xticks(range(20)); ax.legend();"
   ]
  },
  {
   "cell_type": "markdown",
   "id": "fcca56d5",
   "metadata": {},
   "source": [
    "## Choosing Among Models Using the Cross-Validation\n",
    "- We perform 5-fold cross-validation for each model along the path.\n",
    "- We use `cross_val_predict()` of `sklearn.model_selection` to calculate the fitted values for a model of each step.\n",
    "    - `cross_val_predict()` uses the training data of remaning folds to fit the model and calculate the fitted values for the excluded fold.\n",
    "        1. The first fold is excluded and the model is fit on the remaining 4 folds.\n",
    "        2. The fitted values are calculated for the first fold.\n",
    "        3. The process is repeated for the remaining folds.\n",
    "        - In the end, we have 5 sets of fitted values for a model of each step. The total number of fitted values for a model of each step is 263.\n",
    "- The result is also a list of 263 fitted values for 20 models along the path."
   ]
  },
  {
   "cell_type": "code",
   "execution_count": 15,
   "id": "a1654ad8",
   "metadata": {
    "lines_to_next_cell": 0
   },
   "outputs": [
    {
     "data": {
      "text/plain": [
       "(263, 20)"
      ]
     },
     "execution_count": 15,
     "metadata": {},
     "output_type": "execute_result"
    }
   ],
   "source": [
    "K = 5\n",
    "kfold = skm.KFold(K, shuffle=True, random_state=0)\n",
    "Yhat_cv = skm.cross_val_predict(full_path, Hitters, Y, cv=kfold)\n",
    "Yhat_cv.shape"
   ]
  },
  {
   "cell_type": "markdown",
   "id": "e2c984e2",
   "metadata": {},
   "source": [
    "- For each model along the path, we compute the MSE in each cross-validation fold. It means we have 5 MSEs for each model.\n",
    "- We calculate the mean and variance of the 5 MSEs for each model.\n",
    "- The variance estimates is rough because the training sets overlap. It means that the errors aren't independent.\n",
    "- First, we need the indices of the training and test sets for each fold. We use `split()` method of `kfold` to get the indices.\n",
    "- Because we use a fix random_state, the indices are the same for 20 models."
   ]
  },
  {
   "cell_type": "code",
   "execution_count": 16,
   "id": "0fa1e87a",
   "metadata": {},
   "outputs": [
    {
     "name": "stdout",
     "output_type": "stream",
     "text": [
      "(210,) (53,)\n",
      "[5 7 8]\n",
      "(210,) (53,)\n",
      "[ 3  4 13]\n",
      "(210,) (53,)\n",
      "[ 0  2 10]\n",
      "(211,) (52,)\n",
      "[ 1  6 11]\n",
      "(211,) (52,)\n",
      "[ 9 21 25]\n"
     ]
    }
   ],
   "source": [
    "# Show shape of each train and test set for each fold\n",
    "for train_idx, test_idx in kfold.split(Y):\n",
    "    print(train_idx.shape, test_idx.shape)\n",
    "    print(test_idx[:3])"
   ]
  },
  {
   "cell_type": "code",
   "execution_count": 17,
   "id": "ce919bd3",
   "metadata": {},
   "outputs": [
    {
     "data": {
      "text/plain": [
       "[array([297431.06375465, 179409.9479167 , 169081.87136598, 161065.23003134,\n",
       "        143343.94710477, 136980.48787987, 133308.92200721, 131281.92026823,\n",
       "        123424.15486916, 122703.80987915, 125273.80434187, 127445.03843963,\n",
       "        127856.74842777, 129173.2015285 , 129795.62564573, 123488.24024446,\n",
       "        126038.61444479, 127633.64608344, 128992.90502241, 129058.63649627]),\n",
       " array([213373.26684906, 171503.22142442, 149740.51439506, 158039.08094899,\n",
       "        136954.50569394, 126681.57443205, 132669.47624458, 172481.81312871,\n",
       "        177296.93538742, 170634.1192835 , 158830.79378516, 165893.21561513,\n",
       "        152772.31322782, 155531.09576055, 148106.82726264, 150350.87095364,\n",
       "        147588.52245651, 147698.76647949, 147679.90672549, 147916.51695233]),\n",
       " array([164217.86614576, 119051.86818073, 106610.80755337, 109849.16390754,\n",
       "         97833.92005879, 109241.85546727, 102674.2023572 ,  95998.89718102,\n",
       "         99621.93621648, 104603.25122781, 108773.32323463, 106275.21727878,\n",
       "         96873.01261006,  95730.21873462,  95624.89642579,  94870.02173792,\n",
       "         95112.75501407,  94851.5905193 ,  94702.85807427,  95543.29074743]),\n",
       " array([173485.72836052, 116989.19290773, 102201.60230676, 109662.66982833,\n",
       "        101684.74147948,  97215.02867442,  90697.78162432,  95674.58264061,\n",
       "        105832.32036154,  98589.48917202,  95206.53903192,  99926.74564074,\n",
       "        103719.83631388, 109107.6614519 , 111134.29924961, 110839.52376576,\n",
       "        110692.46590185, 110246.79541117, 110374.56801296, 110353.2018677 ]),\n",
       " array([172188.60953974, 140209.85934929, 140916.43073648, 148364.79459334,\n",
       "        145424.2418196 , 147981.91027704, 140394.69989328, 137972.87342947,\n",
       "        134588.01460062, 133043.74932891, 132943.13468518, 132442.34346643,\n",
       "        129608.98300451, 130095.71188975, 131840.93812621, 131895.70087402,\n",
       "        131327.73248139, 130978.59085032, 130709.50920418, 130622.34898135])]"
      ]
     },
     "execution_count": 17,
     "metadata": {},
     "output_type": "execute_result"
    }
   ],
   "source": [
    "cv_mse = []\n",
    "for train_idx, test_idx in kfold.split(Y):\n",
    "    errors = (Yhat_cv[test_idx] - Y[test_idx, None])**2\n",
    "    # Y[test_idx, None] is to make it a column vector.\n",
    "    cv_mse.append(errors.mean(0))\n",
    "    # mean(0) is to average over the rows.\n",
    "cv_mse"
   ]
  },
  {
   "cell_type": "markdown",
   "id": "a27004be",
   "metadata": {},
   "source": [
    "- We draw a plot of the mean MSE against the number of variables in each model.\n",
    "- We also plot the standard error of the mean MSE against the number of variables in each model.\n",
    "    - $Std(mean) = \\frac{Std}{\\sqrt{K}}$"
   ]
  },
  {
   "cell_type": "code",
   "execution_count": 18,
   "id": "26520d22",
   "metadata": {},
   "outputs": [
    {
     "data": {
      "image/png": "[encoded data removed]",
      "text/plain": [
       "<Figure size 800x800 with 1 Axes>"
      ]
     },
     "execution_count": 18,
     "metadata": {},
     "output_type": "execute_result"
    }
   ],
   "source": [
    "# Draw the figure\n",
    "ax.errorbar(x = np.arange(n_steps), # n_steps=20\n",
    "            y = np.mean(cv_mse, axis=0),\n",
    "            yerr = np.std(cv_mse, axis=0) / np.sqrt(K),\n",
    "            label = 'Cross-validated',\n",
    "            c = 'r') # color red\n",
    "ax.set_ylim([50000,250000]); ax.legend(); mse_fig"
   ]
  },
  {
   "cell_type": "markdown",
   "id": "9881566e",
   "metadata": {},
   "source": [
    "## Choosing Among Models Using the Validation Set Approach\n",
    "- We use `skm.ShuffleSplit()` to split the data into training (80% = 210) and test set (20% = 53)."
   ]
  },
  {
   "cell_type": "code",
   "execution_count": 19,
   "id": "0dad4f0f",
   "metadata": {},
   "outputs": [],
   "source": [
    "# Split the data into the training and validation set\n",
    "validation = skm.ShuffleSplit(n_splits=1, test_size=0.2, random_state=0)\n",
    "# Get indices of the training and test set\n",
    "# train_idx, test_idx = list(validation.split(Y))[0]\n",
    "for train_idx, test_idx in validation.split(Y):\n",
    "    train_idx = train_idx\n",
    "    test_idx = test_idx"
   ]
  },
  {
   "cell_type": "markdown",
   "id": "87b62cc1",
   "metadata": {},
   "source": [
    "- We fit the model for each step along the path on the training set.\n",
    "- We predict the response on the validation set.\n",
    "- The result is a list of 53 predicted values for each 20 models."
   ]
  },
  {
   "cell_type": "code",
   "execution_count": 20,
   "id": "2f29c593",
   "metadata": {},
   "outputs": [
    {
     "data": {
      "text/plain": [
       "(53, 20)"
      ]
     },
     "execution_count": 20,
     "metadata": {},
     "output_type": "execute_result"
    }
   ],
   "source": [
    "# Define the strategy\n",
    "strategy = Stepwise.fixed_steps(model_spec=design, n_steps=len(design.terms), direction='forward')\n",
    "# Fit the models on the training set\n",
    "full_path = sklearn_selection_path(sm.OLS, strategy)\n",
    "full_path.fit(Hitters.iloc[train_idx], Y[train_idx])\n",
    "# Predict values on the validation set\n",
    "Yhat_val = full_path.predict(Hitters.iloc[test_idx])\n",
    "Yhat_val.shape"
   ]
  },
  {
   "cell_type": "markdown",
   "id": "280a639c",
   "metadata": {},
   "source": [
    "- Based on the predicted values, we calculate the MSE for each model."
   ]
  },
  {
   "cell_type": "code",
   "execution_count": 21,
   "id": "f19c9091",
   "metadata": {
    "lines_to_next_cell": 0
   },
   "outputs": [
    {
     "name": "stdout",
     "output_type": "stream",
     "text": [
      "errors shape: (53, 20)\n",
      "validation_mse shape: (20,)\n"
     ]
    }
   ],
   "source": [
    "errors = (Yhat_val - Y[test_idx, None])**2\n",
    "print('errors shape:', errors.shape)\n",
    "validation_mse = errors.mean(0)\n",
    "# mean(0) is to average over the rows.\n",
    "print('validation_mse shape:', validation_mse.shape)"
   ]
  },
  {
   "cell_type": "markdown",
   "id": "7421fc11",
   "metadata": {},
   "source": [
    "- We plot the MSE against the number of variables in each model."
   ]
  },
  {
   "cell_type": "code",
   "execution_count": 23,
   "id": "1fca6b08",
   "metadata": {
    "lines_to_next_cell": 2
   },
   "outputs": [
    {
     "data": {
      "image/png": "[encoded data removed]",
      "text/plain": [
       "<Figure size 800x800 with 1 Axes>"
      ]
     },
     "execution_count": 23,
     "metadata": {},
     "output_type": "execute_result"
    }
   ],
   "source": [
    "ax.plot(np.arange(n_steps), # n_steps=20\n",
    "        validation_mse,\n",
    "        'b--', # color blue, broken line\n",
    "        label='Validation')\n",
    "ax.set_xticks(np.arange(n_steps)[::2]); ax.set_ylim([50000,250000]); ax.legend(); mse_fig"
   ]
  },
  {
   "cell_type": "markdown",
   "id": "b4df366a",
   "metadata": {},
   "source": [
    "## Best Subset Selection\n",
    "- Forward stepwise selection is a *greedy* method that adds one variable at a time to the model.\n",
    "- Now, we apply best subset selection to the `Hitters` data, where the best predictor set is chosen for each subset size.\n",
    "- We use `fit_path` of `l0bnb` for best subset selection.\n",
    "    - Instead of fixing the subset size, this package treats subset size as a penalty, creating a path of solutions. This difference affects how we handle cross-validation.\n",
    "- First, we define the design matrix `X` without the intercept."
   ]
  },
  {
   "cell_type": "code",
   "execution_count": 24,
   "id": "6e9dd7d4",
   "metadata": {
    "lines_to_next_cell": 0
   },
   "outputs": [],
   "source": [
    "D = design.fit_transform(Hitters)\n",
    "D = D.drop('intercept', axis=1)\n",
    "X = np.asarray(D)"
   ]
  },
  {
   "cell_type": "markdown",
   "id": "00ede5fc",
   "metadata": {},
   "source": [
    "- The `fit_path()` function returns a list with the fitted coefficients (`B`), the intercept (`B0`) and other details."
   ]
  },
  {
   "cell_type": "code",
   "execution_count": 25,
   "id": "caed84ae",
   "metadata": {},
   "outputs": [
    {
     "name": "stdout",
     "output_type": "stream",
     "text": [
      "Preprocessing Data.\n",
      "BnB Started.\n",
      "Iteration: 1. Number of non-zeros:  1\n",
      "Iteration: 2. Number of non-zeros:  2\n",
      "Iteration: 3. Number of non-zeros:  2\n",
      "Iteration: 4. Number of non-zeros:  2\n",
      "Iteration: 5. Number of non-zeros:  3\n",
      "Iteration: 6. Number of non-zeros:  3\n",
      "Iteration: 7. Number of non-zeros:  4\n",
      "Iteration: 8. Number of non-zeros:  9\n",
      "Iteration: 9. Number of non-zeros:  9\n",
      "Iteration: 10. Number of non-zeros:  9\n",
      "Iteration: 11. Number of non-zeros:  9\n",
      "Iteration: 12. Number of non-zeros:  9\n",
      "Iteration: 13. Number of non-zeros:  9\n",
      "Iteration: 14. Number of non-zeros:  9\n",
      "Iteration: 15. Number of non-zeros:  9\n",
      "Iteration: 16. Number of non-zeros:  9\n",
      "Iteration: 17. Number of non-zeros:  9\n",
      "Iteration: 18. Number of non-zeros:  17\n",
      "Iteration: 19. Number of non-zeros:  19\n"
     ]
    }
   ],
   "source": [
    "path = fit_path(X, Y, max_nonzeros=X.shape[1])"
   ]
  },
  {
   "cell_type": "markdown",
   "id": "92e12dbb",
   "metadata": {},
   "source": [
    "- We look at the model at step 4."
   ]
  },
  {
   "cell_type": "code",
   "execution_count": 26,
   "id": "f2fc2ef8",
   "metadata": {
    "lines_to_next_cell": 0
   },
   "outputs": [
    {
     "data": {
      "text/plain": [
       "{'B': array([0.        , 3.25484367, 0.        , 0.        , 0.        ,\n",
       "        0.        , 0.        , 0.        , 0.        , 0.        ,\n",
       "        0.        , 0.67775265, 0.        , 0.        , 0.        ,\n",
       "        0.        , 0.        , 0.        , 0.        ]),\n",
       " 'B0': -38.98216739555505,\n",
       " 'lambda_0': 0.011416248027450207,\n",
       " 'M': 0.5829861733382011,\n",
       " 'Time_exceeded': False}"
      ]
     },
     "execution_count": 26,
     "metadata": {},
     "output_type": "execute_result"
    }
   ],
   "source": [
    "path[3]"
   ]
  },
  {
   "cell_type": "markdown",
   "id": "c295e5b1-fa76-4105-b107-99a175f3211d",
   "metadata": {},
   "source": [
    "- At the fourth step, `'B'` has two nonzero coefficients with a penalty `lambda_0` of $0.114$.\n",
    "- Predictions can be made on a validation set based on `lambda_0` or via cross-validation."
   ]
  },
  {
   "cell_type": "markdown",
   "id": "c4a96126",
   "metadata": {},
   "source": [
    "# Ridge Regression\n",
    "## Ridge Regression for one $\\lambda$\n",
    "- We start with `X` (without an intercept)\n",
    "- First, we standardize the columns of `X` to have mean 0 and standard deviation 1.\n",
    "- There are two options to fit a ridge regression model:\n",
    "    - `skl.Ridge()` from `sklearn.linear_model` with `alpha` as the penalty parameter.\n",
    "    - `skl.ElasticNet()` from `sklearn.linear_model` with `l1_ratio=0` for ridge regression.\n",
    "        - l1_ratio=0: Equivalent to ridge regression.\n",
    "        - l1_ratio=1: Equivalent to lasso regression.\n",
    "        - 0 < l1_ratio < 1: Hybrid model.\n",
    "- The parameter $\\lambda$ is called `alphas` in `sklearn`. For consistency, we refer to it as `lambdas`."
   ]
  },
  {
   "cell_type": "code",
   "execution_count": 27,
   "id": "564534d1-5ee8-461f-b8e9-e848ee8d0362",
   "metadata": {},
   "outputs": [],
   "source": [
    "# Standardization \n",
    "Xs = X - X.mean(0)[None,:]\n",
    "# X.mean(0) is the mean of each column.\n",
    "# X.mean(0)[None,:] is to make it a row vector.\n",
    "X_scale = X.std(0)\n",
    "Xs = Xs / X_scale[None,:]"
   ]
  },
  {
   "cell_type": "markdown",
   "id": "e3deb7c8",
   "metadata": {},
   "source": [
    "- We create labmda values ranging from $\\lambda=10^{8}$ to $\\lambda=10^{-2}$ scaled by the standard deviation of y.\n",
    "- This scaling is common and helps to make the regularization parameter more interpretable and ensures that it is on a comparable scale across different datasets.\n",
    "    1. Normalization of Regularization Effect:\n",
    "        - The regularization term in the loss function is added to RSS. If the scale of y is large, the RSS will be large, and the regularization term will have a relatively smaller effect. Conversely, if the scale of y is small, the RSS will be small, and the regularization term will have a relatively larger effect.\n",
    "        - By scaling the regularization term by the standard deviation of y, we ensure that the regularization term has a consistent effect on the loss function, regardless of the scale of y.\n",
    "    2. Comparability Across Datasets:\n",
    "        - Different datasets can have different ranges and variances of y. Scaling $\\lambda$ by the standard deviation of y makes it comparable across datasets, simplifying its choice and interpretation.\n",
    "    3. Stability in Model Selection:\n",
    "        - When performing model selection (e.g., cross-validation) to choose the best value of $\\lambda$, scaling $\\lambda$ by the standard deviation of y helps to stabilize the selection process. It ensures that the chosen value of $\\lambda$ is not overly sensitive to the scale of y."
   ]
  },
  {
   "cell_type": "code",
   "execution_count": 28,
   "id": "a404c69b",
   "metadata": {},
   "outputs": [],
   "source": [
    "lambdas = 10**np.linspace(8, -2, 100) / Y.std()"
   ]
  },
  {
   "cell_type": "code",
   "execution_count": 29,
   "id": "0dab1156",
   "metadata": {},
   "outputs": [
    {
     "name": "stderr",
     "output_type": "stream",
     "text": [
      "/opt/conda/lib/python3.11/site-packages/sklearn/linear_model/_coordinate_descent.py:697: ConvergenceWarning: Objective did not converge. You might want to increase the number of iterations, check the scale of the features or consider increasing regularisation. Duality gap: 1.446e+07, tolerance: 5.332e+03 Linear regression models with null weight for the l1 regularization term are more efficiently fitted using one of the solvers implemented in sklearn.linear_model.Ridge/RidgeCV instead.\n",
      "  model = cd_fast.enet_coordinate_descent(\n"
     ]
    },
    {
     "data": {
      "text/plain": [
       "array([-13.41340311,  59.91051939,  -5.29571294,  29.6584166 ,\n",
       "        22.02939114,  46.24639176, -11.47518234,  22.71849222,\n",
       "        51.62233576,  43.25498655,  52.36507445,  54.56041213,\n",
       "        -8.12630545,  17.74298859, -53.45807592,  62.50067954,\n",
       "        10.39473746, -16.70228091,   0.55787883])"
      ]
     },
     "execution_count": 29,
     "metadata": {},
     "output_type": "execute_result"
    }
   ],
   "source": [
    "# Fit Ridge regression with skl.ElasticNet\n",
    "ridge_ElasticNet = skl.ElasticNet(alpha=lambdas[59], l1_ratio=0)\n",
    "ridge_ElasticNet.fit(Xs, Y)\n",
    "ridge_ElasticNet.coef_"
   ]
  },
  {
   "cell_type": "code",
   "execution_count": 30,
   "id": "66b6f999",
   "metadata": {},
   "outputs": [
    {
     "data": {
      "text/plain": [
       "array([-286.92800356,  325.5927237 ,   30.73839158,  -49.64545842,\n",
       "        -20.46163007,  131.99882072,  -24.4600964 , -337.10209091,\n",
       "        112.51349113,    8.91923939,  420.47285157,  218.46314157,\n",
       "       -204.04558648,   31.26452821,  -59.03756974,   78.76932348,\n",
       "         51.9010374 ,  -22.74707929,  -12.96266649])"
      ]
     },
     "execution_count": 30,
     "metadata": {},
     "output_type": "execute_result"
    }
   ],
   "source": [
    "# Fit Ridge regression with skl.Ridge\n",
    "ridge_Ridge = skl.Ridge(alpha=lambdas[59])\n",
    "ridge_Ridge.fit(Xs, Y)\n",
    "ridge_Ridge.coef_"
   ]
  },
  {
   "cell_type": "code",
   "execution_count": 31,
   "id": "4a48beac",
   "metadata": {},
   "outputs": [
    {
     "data": {
      "text/plain": [
       "array([-286.92800356,  325.5927237 ,   30.73839158,  -49.64545842,\n",
       "        -20.46163007,  131.99882072,  -24.4600964 , -337.10209091,\n",
       "        112.51349113,    8.91923939,  420.47285157,  218.46314157,\n",
       "       -204.04558648,   31.26452821,  -59.03756974,   78.76932348,\n",
       "         51.9010374 ,  -22.74707929,  -12.96266649])"
      ]
     },
     "execution_count": 31,
     "metadata": {},
     "output_type": "execute_result"
    }
   ],
   "source": [
    "# Fit Ridge regression with skl.ridge_regression\n",
    "skl.ridge_regression(Xs, Y, alpha=lambdas[59])"
   ]
  },
  {
   "cell_type": "markdown",
   "id": "acec962d",
   "metadata": {},
   "source": [
    "## Ridge Regression for Multiple $\\lambda$"
   ]
  },
  {
   "cell_type": "code",
   "execution_count": 32,
   "id": "53f79913-7bb0-41c0-8b37-ccadc7fcc9e2",
   "metadata": {},
   "outputs": [],
   "source": [
    "# Ignore UserWarning\n",
    "import warnings\n",
    "warnings.filterwarnings('ignore', category=UserWarning)"
   ]
  },
  {
   "cell_type": "markdown",
   "id": "33375f1d",
   "metadata": {},
   "source": [
    "- By default, `ElasticNet.path` automatically selects a range of $\\lambda$ values. This range is chosen to cover the entire path from the maximum $\\lambda$ value, where all coefficients are zero, to the minimum $\\lambda$ value, where the regularization effect is minimal.\n",
    "- For models with L1 regularization (Lasso or ElasticNet with l1_ratio > 0), there exists a smallest $\\lambda$ value for which all coefficients become zero. This value can be computed and used as the starting point for the path.\n",
    "- When l1_ratio=0, the ElasticNet model reduces to Ridge regression, which uses only L2 regularization.\n",
    "- For Ridge regression, there is no finite $\\lambda$ value for which all coefficients become zero. Theoretically, the smallest $\\lambda$ value for which all coefficients are zero is $\\infty$. This is because L2 regularization shrinks coefficients towards zero but never exactly to zero unless $\\lambda=\\infty$."
   ]
  },
  {
   "cell_type": "code",
   "execution_count": 33,
   "id": "3da2084e",
   "metadata": {},
   "outputs": [
    {
     "name": "stdout",
     "output_type": "stream",
     "text": [
      "(19, 100)\n"
     ]
    },
    {
     "data": {
      "text/plain": [
       "array([ 1.00986867e-03,  1.12218451e-03,  8.77500619e-04,  1.07404833e-03,\n",
       "        1.14976205e-03,  1.13546702e-03,  1.02491916e-03,  1.34591009e-03,\n",
       "        1.40417132e-03,  1.34282963e-03,  1.43939179e-03,  1.45036098e-03,\n",
       "        1.25301523e-03, -3.65276406e-05, -4.92486247e-04,  7.68675675e-04,\n",
       "        6.50694021e-05, -1.38170424e-05, -7.24531429e-06])"
      ]
     },
     "execution_count": 33,
     "metadata": {},
     "output_type": "execute_result"
    }
   ],
   "source": [
    "# Fit 100 Ridge regressions with skl.ElasticNet.path\n",
    "soln_array = skl.ElasticNet.path(Xs, Y, l1_ratio=0., alphas=lambdas)[1]\n",
    "print(soln_array.shape)\n",
    "# row is coefficient, column is lambda\n",
    "# Show the coefficients of the second lambda\n",
    "soln_array[:,1]"
   ]
  },
  {
   "cell_type": "code",
   "execution_count": 34,
   "id": "1bca28f6",
   "metadata": {},
   "outputs": [
    {
     "data": {
      "text/html": [
       "<div>\n",
       "<style scoped>\n",
       "    .dataframe tbody tr th:only-of-type {\n",
       "        vertical-align: middle;\n",
       "    }\n",
       "\n",
       "    .dataframe tbody tr th {\n",
       "        vertical-align: top;\n",
       "    }\n",
       "\n",
       "    .dataframe thead th {\n",
       "        text-align: right;\n",
       "    }\n",
       "</style>\n",
       "<table border=\"1\" class=\"dataframe\">\n",
       "  <thead>\n",
       "    <tr style=\"text-align: right;\">\n",
       "      <th></th>\n",
       "      <th>AtBat</th>\n",
       "      <th>Hits</th>\n",
       "      <th>HmRun</th>\n",
       "      <th>Runs</th>\n",
       "      <th>RBI</th>\n",
       "      <th>Walks</th>\n",
       "      <th>Years</th>\n",
       "      <th>CAtBat</th>\n",
       "      <th>CHits</th>\n",
       "      <th>CHmRun</th>\n",
       "      <th>CRuns</th>\n",
       "      <th>CRBI</th>\n",
       "      <th>CWalks</th>\n",
       "      <th>League[N]</th>\n",
       "      <th>Division[W]</th>\n",
       "      <th>PutOuts</th>\n",
       "      <th>Assists</th>\n",
       "      <th>Errors</th>\n",
       "      <th>NewLeague[N]</th>\n",
       "    </tr>\n",
       "    <tr>\n",
       "      <th>negative log(lambda)</th>\n",
       "      <th></th>\n",
       "      <th></th>\n",
       "      <th></th>\n",
       "      <th></th>\n",
       "      <th></th>\n",
       "      <th></th>\n",
       "      <th></th>\n",
       "      <th></th>\n",
       "      <th></th>\n",
       "      <th></th>\n",
       "      <th></th>\n",
       "      <th></th>\n",
       "      <th></th>\n",
       "      <th></th>\n",
       "      <th></th>\n",
       "      <th></th>\n",
       "      <th></th>\n",
       "      <th></th>\n",
       "      <th></th>\n",
       "    </tr>\n",
       "  </thead>\n",
       "  <tbody>\n",
       "    <tr>\n",
       "      <th>-12.310855</th>\n",
       "      <td>0.001</td>\n",
       "      <td>0.001</td>\n",
       "      <td>0.001</td>\n",
       "      <td>0.001</td>\n",
       "      <td>0.001</td>\n",
       "      <td>0.001</td>\n",
       "      <td>0.001</td>\n",
       "      <td>0.001</td>\n",
       "      <td>0.001</td>\n",
       "      <td>0.001</td>\n",
       "      <td>0.001</td>\n",
       "      <td>0.001</td>\n",
       "      <td>0.001</td>\n",
       "      <td>-0.000</td>\n",
       "      <td>-0.000</td>\n",
       "      <td>0.001</td>\n",
       "      <td>0.000</td>\n",
       "      <td>-0.000</td>\n",
       "      <td>-0.000</td>\n",
       "    </tr>\n",
       "    <tr>\n",
       "      <th>-12.078271</th>\n",
       "      <td>0.001</td>\n",
       "      <td>0.001</td>\n",
       "      <td>0.001</td>\n",
       "      <td>0.001</td>\n",
       "      <td>0.001</td>\n",
       "      <td>0.001</td>\n",
       "      <td>0.001</td>\n",
       "      <td>0.001</td>\n",
       "      <td>0.001</td>\n",
       "      <td>0.001</td>\n",
       "      <td>0.001</td>\n",
       "      <td>0.001</td>\n",
       "      <td>0.001</td>\n",
       "      <td>-0.000</td>\n",
       "      <td>-0.000</td>\n",
       "      <td>0.001</td>\n",
       "      <td>0.000</td>\n",
       "      <td>-0.000</td>\n",
       "      <td>-0.000</td>\n",
       "    </tr>\n",
       "    <tr>\n",
       "      <th>-11.845686</th>\n",
       "      <td>0.001</td>\n",
       "      <td>0.001</td>\n",
       "      <td>0.001</td>\n",
       "      <td>0.001</td>\n",
       "      <td>0.001</td>\n",
       "      <td>0.001</td>\n",
       "      <td>0.001</td>\n",
       "      <td>0.002</td>\n",
       "      <td>0.002</td>\n",
       "      <td>0.002</td>\n",
       "      <td>0.002</td>\n",
       "      <td>0.002</td>\n",
       "      <td>0.002</td>\n",
       "      <td>-0.000</td>\n",
       "      <td>-0.001</td>\n",
       "      <td>0.001</td>\n",
       "      <td>0.000</td>\n",
       "      <td>-0.000</td>\n",
       "      <td>-0.000</td>\n",
       "    </tr>\n",
       "    <tr>\n",
       "      <th>-11.613102</th>\n",
       "      <td>0.002</td>\n",
       "      <td>0.002</td>\n",
       "      <td>0.001</td>\n",
       "      <td>0.002</td>\n",
       "      <td>0.002</td>\n",
       "      <td>0.002</td>\n",
       "      <td>0.002</td>\n",
       "      <td>0.002</td>\n",
       "      <td>0.002</td>\n",
       "      <td>0.002</td>\n",
       "      <td>0.002</td>\n",
       "      <td>0.002</td>\n",
       "      <td>0.002</td>\n",
       "      <td>-0.000</td>\n",
       "      <td>-0.001</td>\n",
       "      <td>0.001</td>\n",
       "      <td>0.000</td>\n",
       "      <td>-0.000</td>\n",
       "      <td>-0.000</td>\n",
       "    </tr>\n",
       "    <tr>\n",
       "      <th>-11.380518</th>\n",
       "      <td>0.002</td>\n",
       "      <td>0.002</td>\n",
       "      <td>0.002</td>\n",
       "      <td>0.002</td>\n",
       "      <td>0.002</td>\n",
       "      <td>0.002</td>\n",
       "      <td>0.002</td>\n",
       "      <td>0.003</td>\n",
       "      <td>0.003</td>\n",
       "      <td>0.003</td>\n",
       "      <td>0.003</td>\n",
       "      <td>0.003</td>\n",
       "      <td>0.003</td>\n",
       "      <td>-0.000</td>\n",
       "      <td>-0.001</td>\n",
       "      <td>0.002</td>\n",
       "      <td>0.000</td>\n",
       "      <td>-0.000</td>\n",
       "      <td>-0.000</td>\n",
       "    </tr>\n",
       "    <tr>\n",
       "      <th>...</th>\n",
       "      <td>...</td>\n",
       "      <td>...</td>\n",
       "      <td>...</td>\n",
       "      <td>...</td>\n",
       "      <td>...</td>\n",
       "      <td>...</td>\n",
       "      <td>...</td>\n",
       "      <td>...</td>\n",
       "      <td>...</td>\n",
       "      <td>...</td>\n",
       "      <td>...</td>\n",
       "      <td>...</td>\n",
       "      <td>...</td>\n",
       "      <td>...</td>\n",
       "      <td>...</td>\n",
       "      <td>...</td>\n",
       "      <td>...</td>\n",
       "      <td>...</td>\n",
       "      <td>...</td>\n",
       "    </tr>\n",
       "    <tr>\n",
       "      <th>9.784658</th>\n",
       "      <td>-290.824</td>\n",
       "      <td>336.930</td>\n",
       "      <td>37.323</td>\n",
       "      <td>-59.749</td>\n",
       "      <td>-26.507</td>\n",
       "      <td>134.856</td>\n",
       "      <td>-17.216</td>\n",
       "      <td>-387.776</td>\n",
       "      <td>89.574</td>\n",
       "      <td>-12.274</td>\n",
       "      <td>476.079</td>\n",
       "      <td>257.271</td>\n",
       "      <td>-213.125</td>\n",
       "      <td>31.258</td>\n",
       "      <td>-58.458</td>\n",
       "      <td>78.761</td>\n",
       "      <td>53.622</td>\n",
       "      <td>-22.208</td>\n",
       "      <td>-12.403</td>\n",
       "    </tr>\n",
       "    <tr>\n",
       "      <th>10.017243</th>\n",
       "      <td>-290.879</td>\n",
       "      <td>337.114</td>\n",
       "      <td>37.431</td>\n",
       "      <td>-59.917</td>\n",
       "      <td>-26.607</td>\n",
       "      <td>134.901</td>\n",
       "      <td>-17.108</td>\n",
       "      <td>-388.458</td>\n",
       "      <td>89.001</td>\n",
       "      <td>-12.661</td>\n",
       "      <td>477.031</td>\n",
       "      <td>257.967</td>\n",
       "      <td>-213.281</td>\n",
       "      <td>31.256</td>\n",
       "      <td>-58.449</td>\n",
       "      <td>78.761</td>\n",
       "      <td>53.645</td>\n",
       "      <td>-22.199</td>\n",
       "      <td>-12.392</td>\n",
       "    </tr>\n",
       "    <tr>\n",
       "      <th>10.249827</th>\n",
       "      <td>-290.923</td>\n",
       "      <td>337.260</td>\n",
       "      <td>37.518</td>\n",
       "      <td>-60.051</td>\n",
       "      <td>-26.687</td>\n",
       "      <td>134.936</td>\n",
       "      <td>-17.022</td>\n",
       "      <td>-388.997</td>\n",
       "      <td>88.537</td>\n",
       "      <td>-12.972</td>\n",
       "      <td>477.792</td>\n",
       "      <td>258.523</td>\n",
       "      <td>-213.406</td>\n",
       "      <td>31.255</td>\n",
       "      <td>-58.442</td>\n",
       "      <td>78.761</td>\n",
       "      <td>53.663</td>\n",
       "      <td>-22.191</td>\n",
       "      <td>-12.383</td>\n",
       "    </tr>\n",
       "    <tr>\n",
       "      <th>10.482412</th>\n",
       "      <td>-290.959</td>\n",
       "      <td>337.377</td>\n",
       "      <td>37.587</td>\n",
       "      <td>-60.158</td>\n",
       "      <td>-26.750</td>\n",
       "      <td>134.964</td>\n",
       "      <td>-16.954</td>\n",
       "      <td>-389.423</td>\n",
       "      <td>88.164</td>\n",
       "      <td>-13.219</td>\n",
       "      <td>478.398</td>\n",
       "      <td>258.967</td>\n",
       "      <td>-213.505</td>\n",
       "      <td>31.254</td>\n",
       "      <td>-58.436</td>\n",
       "      <td>78.761</td>\n",
       "      <td>53.678</td>\n",
       "      <td>-22.185</td>\n",
       "      <td>-12.376</td>\n",
       "    </tr>\n",
       "    <tr>\n",
       "      <th>10.714996</th>\n",
       "      <td>-290.987</td>\n",
       "      <td>337.471</td>\n",
       "      <td>37.642</td>\n",
       "      <td>-60.244</td>\n",
       "      <td>-26.801</td>\n",
       "      <td>134.987</td>\n",
       "      <td>-16.900</td>\n",
       "      <td>-389.760</td>\n",
       "      <td>87.865</td>\n",
       "      <td>-13.417</td>\n",
       "      <td>478.882</td>\n",
       "      <td>259.321</td>\n",
       "      <td>-213.585</td>\n",
       "      <td>31.253</td>\n",
       "      <td>-58.431</td>\n",
       "      <td>78.761</td>\n",
       "      <td>53.689</td>\n",
       "      <td>-22.180</td>\n",
       "      <td>-12.371</td>\n",
       "    </tr>\n",
       "  </tbody>\n",
       "</table>\n",
       "<p>100 rows × 19 columns</p>\n",
       "</div>"
      ],
      "text/plain": [
       "                        AtBat     Hits   HmRun    Runs     RBI    Walks  \\\n",
       "negative log(lambda)                                                      \n",
       "-12.310855              0.001    0.001   0.001   0.001   0.001    0.001   \n",
       "-12.078271              0.001    0.001   0.001   0.001   0.001    0.001   \n",
       "-11.845686              0.001    0.001   0.001   0.001   0.001    0.001   \n",
       "-11.613102              0.002    0.002   0.001   0.002   0.002    0.002   \n",
       "-11.380518              0.002    0.002   0.002   0.002   0.002    0.002   \n",
       "...                       ...      ...     ...     ...     ...      ...   \n",
       " 9.784658            -290.824  336.930  37.323 -59.749 -26.507  134.856   \n",
       " 10.017243           -290.879  337.114  37.431 -59.917 -26.607  134.901   \n",
       " 10.249827           -290.923  337.260  37.518 -60.051 -26.687  134.936   \n",
       " 10.482412           -290.959  337.377  37.587 -60.158 -26.750  134.964   \n",
       " 10.714996           -290.987  337.471  37.642 -60.244 -26.801  134.987   \n",
       "\n",
       "                       Years   CAtBat   CHits  CHmRun    CRuns     CRBI  \\\n",
       "negative log(lambda)                                                      \n",
       "-12.310855             0.001    0.001   0.001   0.001    0.001    0.001   \n",
       "-12.078271             0.001    0.001   0.001   0.001    0.001    0.001   \n",
       "-11.845686             0.001    0.002   0.002   0.002    0.002    0.002   \n",
       "-11.613102             0.002    0.002   0.002   0.002    0.002    0.002   \n",
       "-11.380518             0.002    0.003   0.003   0.003    0.003    0.003   \n",
       "...                      ...      ...     ...     ...      ...      ...   \n",
       " 9.784658            -17.216 -387.776  89.574 -12.274  476.079  257.271   \n",
       " 10.017243           -17.108 -388.458  89.001 -12.661  477.031  257.967   \n",
       " 10.249827           -17.022 -388.997  88.537 -12.972  477.792  258.523   \n",
       " 10.482412           -16.954 -389.423  88.164 -13.219  478.398  258.967   \n",
       " 10.714996           -16.900 -389.760  87.865 -13.417  478.882  259.321   \n",
       "\n",
       "                       CWalks  League[N]  Division[W]  PutOuts  Assists  \\\n",
       "negative log(lambda)                                                      \n",
       "-12.310855              0.001     -0.000       -0.000    0.001    0.000   \n",
       "-12.078271              0.001     -0.000       -0.000    0.001    0.000   \n",
       "-11.845686              0.002     -0.000       -0.001    0.001    0.000   \n",
       "-11.613102              0.002     -0.000       -0.001    0.001    0.000   \n",
       "-11.380518              0.003     -0.000       -0.001    0.002    0.000   \n",
       "...                       ...        ...          ...      ...      ...   \n",
       " 9.784658            -213.125     31.258      -58.458   78.761   53.622   \n",
       " 10.017243           -213.281     31.256      -58.449   78.761   53.645   \n",
       " 10.249827           -213.406     31.255      -58.442   78.761   53.663   \n",
       " 10.482412           -213.505     31.254      -58.436   78.761   53.678   \n",
       " 10.714996           -213.585     31.253      -58.431   78.761   53.689   \n",
       "\n",
       "                      Errors  NewLeague[N]  \n",
       "negative log(lambda)                        \n",
       "-12.310855            -0.000        -0.000  \n",
       "-12.078271            -0.000        -0.000  \n",
       "-11.845686            -0.000        -0.000  \n",
       "-11.613102            -0.000        -0.000  \n",
       "-11.380518            -0.000        -0.000  \n",
       "...                      ...           ...  \n",
       " 9.784658            -22.208       -12.403  \n",
       " 10.017243           -22.199       -12.392  \n",
       " 10.249827           -22.191       -12.383  \n",
       " 10.482412           -22.185       -12.376  \n",
       " 10.714996           -22.180       -12.371  \n",
       "\n",
       "[100 rows x 19 columns]"
      ]
     },
     "execution_count": 34,
     "metadata": {},
     "output_type": "execute_result"
    }
   ],
   "source": [
    "# Show the coefficients of all 100 lambdas\n",
    "soln_path = pd.DataFrame(soln_array.T,\n",
    "                         columns=D.columns,\n",
    "                         index=-np.log(lambdas))\n",
    "soln_path.index.name = 'negative log(lambda)'\n",
    "soln_path.round(3)"
   ]
  },
  {
   "cell_type": "markdown",
   "id": "2246bb2b",
   "metadata": {},
   "source": [
    "- We plot the coefficients against the log of $\\lambda$ values.\n",
    "- We set `legend` to `False` in the plot method, then add the legend later using `ax.legend()` to control its position."
   ]
  },
  {
   "cell_type": "code",
   "execution_count": 35,
   "id": "08bc997b",
   "metadata": {
    "lines_to_next_cell": 0
   },
   "outputs": [
    {
     "data": {
      "image/png": "[encoded data removed]",
      "text/plain": [
       "<Figure size 1200x600 with 1 Axes>"
      ]
     },
     "metadata": {},
     "output_type": "display_data"
    }
   ],
   "source": [
    "path_fig, ax = plt.subplots(figsize=(12,6))\n",
    "soln_path.plot(ax=ax, legend=False)\n",
    "# columns must be coefficient and row must be negative log(lambda)\n",
    "ax.set_xlabel(r'$-\\log(\\lambda)$'); ax.set_ylabel('Standardized coefficients')\n",
    "ax.legend(loc='upper left');"
   ]
  },
  {
   "cell_type": "markdown",
   "id": "ae73ca09",
   "metadata": {},
   "source": [
    "- The $\\ell_2$ norm is the square root of the sum of squared coefficients.\n",
    "- When $\\lambda$ is large, the coefficients are smaller in $\\ell_2$ norm, and vice versa.\n",
    "- Here, we show the coefficients at the 40th step, where $\\lambda$ is 25.535."
   ]
  },
  {
   "cell_type": "code",
   "execution_count": 36,
   "id": "0f7359c7",
   "metadata": {},
   "outputs": [
    {
     "data": {
      "text/plain": [
       "(25.53538897200662, 24.170617201443775)"
      ]
     },
     "execution_count": 36,
     "metadata": {},
     "output_type": "execute_result"
    }
   ],
   "source": [
    "beta_hat = soln_path.iloc[39]\n",
    "lambdas[39], np.linalg.norm(beta_hat)"
   ]
  },
  {
   "cell_type": "markdown",
   "id": "5111fc6f",
   "metadata": {},
   "source": [
    "- In contrast, here’s the $\\ell_2$ norm when $\\lambda$ is 0.244."
   ]
  },
  {
   "cell_type": "code",
   "execution_count": 37,
   "id": "9a3424a4",
   "metadata": {
    "lines_to_next_cell": 0
   },
   "outputs": [
    {
     "data": {
      "text/plain": [
       "(0.24374766133488554, 160.42371017725873)"
      ]
     },
     "execution_count": 37,
     "metadata": {},
     "output_type": "execute_result"
    }
   ],
   "source": [
    "beta_hat = soln_path.loc[soln_path.index[59]]\n",
    "lambdas[59], np.linalg.norm(beta_hat)"
   ]
  },
  {
   "cell_type": "markdown",
   "id": "50239927",
   "metadata": {},
   "source": [
    "- We can use the Pipeline object in `sklearn` to combine the normalization and ridge regression steps.\n",
    "- Notice that the `pipe.fit(X, Y)` operation updated the `ridge` object, adding attributes like `coef_` that weren’t there before."
   ]
  },
  {
   "cell_type": "code",
   "execution_count": 38,
   "id": "c864d25f",
   "metadata": {},
   "outputs": [
    {
     "data": {
      "text/plain": [
       "160.42371017725895"
      ]
     },
     "execution_count": 38,
     "metadata": {},
     "output_type": "execute_result"
    }
   ],
   "source": [
    "ridge = skl.ElasticNet(alpha=lambdas[59], l1_ratio=0)\n",
    "scaler = StandardScaler(with_mean=True,  with_std=True)\n",
    "pipe = Pipeline(steps=[('scaler', scaler), ('ridge', ridge)])\n",
    "pipe.fit(X, Y)\n",
    "np.linalg.norm(ridge.coef_)"
   ]
  },
  {
   "cell_type": "code",
   "execution_count": 39,
   "id": "8672a0f7",
   "metadata": {},
   "outputs": [
    {
     "data": {
      "text/plain": [
       "array([-222.19521819,  238.10988564,    3.07738438,   -2.68718456,\n",
       "          3.76401565,  108.72516621,  -50.88195306, -104.20869366,\n",
       "        121.87909247,   57.26360677,  209.42739811,  117.78630238,\n",
       "       -149.82859673,   30.35689819,  -61.63496694,   77.72540597,\n",
       "         39.99296981,  -25.03132728,  -13.67680894])"
      ]
     },
     "execution_count": 39,
     "metadata": {},
     "output_type": "execute_result"
    }
   ],
   "source": [
    "# Fit 100 Ridge regressions with skl.RidgeCV\n",
    "ridge_CV = skl.RidgeCV(alphas=lambdas, store_cv_results = True)\n",
    "ridge_CV.fit(Xs, Y)\n",
    "# The coefficients of the best model\n",
    "ridge_CV.coef_"
   ]
  },
  {
   "cell_type": "markdown",
   "id": "6a20ea7e",
   "metadata": {},
   "source": [
    "## Estimating Validation Error of Ridge Regression\n",
    "- We split the data into training (50%) and validation set (50%).\n",
    "- We use the training set to fit the ridge regression model for a lambda = 0.01\n",
    "- We calculate the MSE on the validation set."
   ]
  },
  {
   "cell_type": "code",
   "execution_count": 40,
   "id": "c10e3ae5",
   "metadata": {},
   "outputs": [
    {
     "data": {
      "text/plain": [
       "array([134214.00419204])"
      ]
     },
     "execution_count": 40,
     "metadata": {},
     "output_type": "execute_result"
    }
   ],
   "source": [
    "# Split the data into the training and validation set\n",
    "validation = skm.ShuffleSplit(n_splits=1, test_size=0.5, random_state=0)\n",
    "# Set the Ridge regression\n",
    "ridge = skl.ElasticNet(alpha=0.01, l1_ratio=0)\n",
    "# Fit the model on the training set\n",
    "results = skm.cross_validate(ridge, X, Y, scoring='neg_mean_squared_error',\n",
    "                             cv=validation)\n",
    "# Show the MSE of the validation set\n",
    "-results['test_score']"
   ]
  },
  {
   "cell_type": "code",
   "execution_count": 41,
   "id": "12441960",
   "metadata": {},
   "outputs": [
    {
     "data": {
      "text/plain": [
       "array([134596.76230062])"
      ]
     },
     "execution_count": 41,
     "metadata": {},
     "output_type": "execute_result"
    }
   ],
   "source": [
    "# We can use skm.Ridge instead of skm.ElasticNet\n",
    "ridge = skl.Ridge(alpha=0.01)\n",
    "results = skm.cross_validate(ridge, X, Y, scoring='neg_mean_squared_error',\n",
    "                             cv=validation)\n",
    "-results['test_score']"
   ]
  },
  {
   "cell_type": "markdown",
   "id": "e70d714d",
   "metadata": {},
   "source": [
    "- We calculate MSE for $\\lambda = 10^{10}$.\n",
    "- In this case, all coefficients are almost zero. This is equivalent to the null model, which predicts the mean of the response for all observations."
   ]
  },
  {
   "cell_type": "code",
   "execution_count": 42,
   "id": "0df2b24d",
   "metadata": {
    "lines_to_next_cell": 0
   },
   "outputs": [
    {
     "data": {
      "text/plain": [
       "array([231788.32155285])"
      ]
     },
     "execution_count": 42,
     "metadata": {},
     "output_type": "execute_result"
    }
   ],
   "source": [
    "ridge = skl.ElasticNet(alpha=1e10, l1_ratio=0)\n",
    "results = skm.cross_validate(ridge, X, Y, scoring='neg_mean_squared_error',\n",
    "                             cv=validation)\n",
    "-results['test_score']"
   ]
  },
  {
   "cell_type": "markdown",
   "id": "29be525a",
   "metadata": {},
   "source": [
    "## Use Validation Set to Select $\\lambda$\n",
    "- We use `GridSearchCV()` of `sklearn.model_selection` to search for the best $\\lambda$."
   ]
  },
  {
   "cell_type": "code",
   "execution_count": 43,
   "id": "315f7642",
   "metadata": {},
   "outputs": [],
   "source": [
    "# Create a dictionary of lambdas\n",
    "param_grid = {'ridge__alpha': lambdas}\n",
    "# Create a pipeline\n",
    "ridge = skl.ElasticNet(l1_ratio=0)\n",
    "scaler = StandardScaler(with_mean=True,  with_std=True)\n",
    "pipe = Pipeline(steps=[('scaler', scaler), ('ridge', ridge)])\n",
    "# Set the grid search\n",
    "grid = skm.GridSearchCV(pipe, param_grid, cv=validation,\n",
    "                        scoring='neg_mean_squared_error')\n",
    "# Fit the grid search\n",
    "grid.fit(X, Y);"
   ]
  },
  {
   "cell_type": "code",
   "execution_count": 44,
   "id": "3760a059",
   "metadata": {},
   "outputs": [
    {
     "name": "stdout",
     "output_type": "stream",
     "text": [
      "{'ridge__alpha': 0.005899006046740856}\n"
     ]
    },
    {
     "data": {
      "text/plain": [
       "array([-257.25384692,  278.75378725,   12.65425786,  -19.89449632,\n",
       "         -4.44329499,  119.7460362 ,  -44.11291512, -178.08337253,\n",
       "        127.25970252,   48.00333019,  278.29934481,  141.6104627 ,\n",
       "       -173.70460313,   30.84178877,  -60.78443234,   78.39929602,\n",
       "         45.04343139,  -24.2382454 ,  -13.8265259 ])"
      ]
     },
     "execution_count": 44,
     "metadata": {},
     "output_type": "execute_result"
    }
   ],
   "source": [
    "# Show the best lambda\n",
    "print(grid.best_params_)\n",
    "# Get the corresponding estimator\n",
    "best_model = grid.best_estimator_\n",
    "# Show the coefficients of the best model\n",
    "best_model.named_steps['ridge'].coef_"
   ]
  },
  {
   "cell_type": "markdown",
   "id": "9befd23e",
   "metadata": {},
   "source": [
    "## Use cross-validation to select $\\lambda$"
   ]
  },
  {
   "cell_type": "code",
   "execution_count": 45,
   "id": "90dcda69",
   "metadata": {},
   "outputs": [],
   "source": [
    "# Create k-fold cross-validation\n",
    "kfold = skm.KFold(n_splits=5, shuffle=True, random_state=0)\n",
    "# Create a dictionary of lambdas\n",
    "param_grid = {'ridge__alpha': lambdas}\n",
    "# Create a pipeline\n",
    "ridge = skl.ElasticNet(l1_ratio=0)\n",
    "scaler = StandardScaler(with_mean=True,  with_std=True)\n",
    "pipe = Pipeline(steps=[('scaler', scaler), ('ridge', ridge)])\n",
    "# Set the grid search\n",
    "grid = skm.GridSearchCV(pipe, param_grid, cv=kfold,\n",
    "                        scoring='neg_mean_squared_error')\n",
    "# Fit the grid search\n",
    "grid.fit(X, Y);"
   ]
  },
  {
   "cell_type": "code",
   "execution_count": 46,
   "id": "78bdd1ca",
   "metadata": {},
   "outputs": [
    {
     "name": "stdout",
     "output_type": "stream",
     "text": [
      "{'ridge__alpha': 0.01185247763144249}\n"
     ]
    },
    {
     "data": {
      "text/plain": [
       "array([-222.80877051,  238.77246614,    3.21103754,   -2.93050845,\n",
       "          3.64888723,  108.90953869,  -50.81896152, -105.15731984,\n",
       "        122.00714801,   57.1859509 ,  210.35170348,  118.05683748,\n",
       "       -150.21959435,   30.36634231,  -61.62459095,   77.73832472,\n",
       "         40.07350744,  -25.02151514,  -13.68429544])"
      ]
     },
     "execution_count": 46,
     "metadata": {},
     "output_type": "execute_result"
    }
   ],
   "source": [
    "# Show the best lambda\n",
    "print(grid.best_params_)\n",
    "# Get the corresponding estimator\n",
    "best_model = grid.best_estimator_\n",
    "# Show the coefficients of the best model\n",
    "best_model.named_steps['ridge'].coef_"
   ]
  },
  {
   "cell_type": "markdown",
   "id": "cae429da",
   "metadata": {},
   "source": [
    "- We plot the cross-validated MSE as a function of $-\\log(\\lambda)$, which has shrinkage decreasing from left to right."
   ]
  },
  {
   "cell_type": "code",
   "execution_count": 47,
   "id": "39ff3251",
   "metadata": {},
   "outputs": [
    {
     "data": {
      "image/png": "[encoded data removed]",
      "text/plain": [
       "<Figure size 800x800 with 1 Axes>"
      ]
     },
     "metadata": {},
     "output_type": "display_data"
    }
   ],
   "source": [
    "ridge_fig, ax = plt.subplots(figsize=(8,8))\n",
    "ax.errorbar(x=-np.log(lambdas), y=-grid.cv_results_['mean_test_score'],\n",
    "            yerr=grid.cv_results_['std_test_score'] / np.sqrt(K))\n",
    "# grid.cv_results_['mean_test_score'] are the mean of five negative MSEs for each lambda\n",
    "# grid.cv_results_['std_test_score'] are standard deviations of the mean\n",
    "ax.set_ylim([50000,250000])\n",
    "ax.set_xlabel(r'$-\\log(\\lambda)$'); ax.set_ylabel('Cross-validated MSE');"
   ]
  },
  {
   "cell_type": "markdown",
   "id": "854e0c21",
   "metadata": {},
   "source": [
    "- We can use `GridSearchCV()` to search for the best $\\lambda$ with $R^2$ as the scoring criterion.\n",
    "- The criterion of $R^2$ is the default in `GridSearchCV()`.\n",
    "- Then we plot the cross-validated $R^2$ against $-\\log(\\lambda)$."
   ]
  },
  {
   "cell_type": "code",
   "execution_count": 48,
   "id": "766ab0b0",
   "metadata": {
    "scrolled": true
   },
   "outputs": [
    {
     "data": {
      "image/png": "[encoded data removed]",
      "text/plain": [
       "<Figure size 800x800 with 1 Axes>"
      ]
     },
     "metadata": {},
     "output_type": "display_data"
    }
   ],
   "source": [
    "# Set and fit the grid search with R² as scoring criterion\n",
    "grid_r2 = skm.GridSearchCV(pipe, param_grid, cv=kfold)\n",
    "grid_r2.fit(X, Y)\n",
    "# Set axis for the figure\n",
    "r2_fig, ax = plt.subplots(figsize=(8,8))\n",
    "# Draw the figure\n",
    "ax.errorbar(-np.log(lambdas),\n",
    "            grid_r2.cv_results_['mean_test_score'],\n",
    "            yerr=grid_r2.cv_results_['std_test_score'] / np.sqrt(K))\n",
    "ax.set_xlabel(r'$-\\log(\\lambda)$'); ax.set_ylabel('Cross-validated $R^2$');"
   ]
  },
  {
   "cell_type": "markdown",
   "id": "0cb6f97b",
   "metadata": {},
   "source": [
    "## Fast Cross-Validation for Solution Paths\n",
    "- Ridge, lasso, and elastic net has a version `CV` that can be used to fit a series of $\\lambda$ values.\n",
    "- There is a difference in the results between `grid` and `pipeCV` because of the standardization.\n",
    "- In `GridSearchCV`: mean and standard deviation are calculated in the training set of each fold. These standardization parameters are then used to standardize the training and validation sets.\n",
    "- In `CV`: mean and standard deviation are calculated the entire dataset. These standardization parameters are then used to standardize the training and validation sets.\n",
    "- `GridSearchCV` ensures no data leakage, but `CV` is faster. Data leakage, also known as information leakage, occurs when information from outside the training dataset is used to create the model.\n",
    "- If the dataset is large and the distribution of features is stable across folds, the impact of this difference might be minimal. The mean and standard deviation computed from the entire dataset will be similar to those computed from the training data of each fold."
   ]
  },
  {
   "cell_type": "code",
   "execution_count": 47,
   "id": "016ffe7c",
   "metadata": {
    "scrolled": true
   },
   "outputs": [
    {
     "data": {
      "image/png": "[encoded data removed]",
      "text/plain": [
       "<Figure size 800x800 with 1 Axes>"
      ]
     },
     "metadata": {},
     "output_type": "display_data"
    }
   ],
   "source": [
    "# Set rigdeCV\n",
    "ridgeCV = skl.ElasticNetCV(alphas=lambdas, l1_ratio=0, cv=kfold)\n",
    "# Set pipeline and fit\n",
    "pipeCV = Pipeline(steps=[('scaler', scaler), ('ridge', ridgeCV)])\n",
    "pipeCV.fit(X, Y)\n",
    "# Extract `ElasticNetCV` from the pipeline\n",
    "tuned_ridge = pipeCV.named_steps['ridge']\n",
    "# Set the figure\n",
    "ridgeCV_fig, ax = plt.subplots(figsize=(8,8))\n",
    "# Draw the figure\n",
    "ax.errorbar(-np.log(lambdas),\n",
    "            tuned_ridge.mse_path_.mean(1), # mean of five MSEs for each lambda\n",
    "            yerr=tuned_ridge.mse_path_.std(1) / np.sqrt(K)) # standard deviation of the mean\n",
    "ax.axvline(-np.log(tuned_ridge.alpha_), c='r', ls='--') # vertical line at the best lambda\n",
    "ax.set_ylim([50000,250000])\n",
    "ax.set_xlabel(r'$-\\log(\\lambda)$'); ax.set_ylabel('Cross-validated MSE');"
   ]
  },
  {
   "cell_type": "markdown",
   "id": "80e07995",
   "metadata": {},
   "source": [
    "- To be clear, we show the best $\\lambda$ and the test MSE associated with this $\\lambda$."
   ]
  },
  {
   "cell_type": "code",
   "execution_count": 48,
   "id": "2b49c3d7",
   "metadata": {},
   "outputs": [
    {
     "name": "stdout",
     "output_type": "stream",
     "text": [
      "Best lambda: 0.012\n",
      "Best -log(lambda): 4.435\n",
      "Test MSE: 117408.574\n"
     ]
    }
   ],
   "source": [
    "print('Best lambda:', tuned_ridge.alpha_.round(3))\n",
    "print('Best -log(lambda):', -np.log(tuned_ridge.alpha_).round(3))\n",
    "print('Test MSE:', tuned_ridge.mse_path_.mean(1)[59].round(3))"
   ]
  },
  {
   "cell_type": "markdown",
   "id": "0961957c",
   "metadata": {},
   "source": [
    "- We show the coefficients of the model with the best $\\lambda$."
   ]
  },
  {
   "cell_type": "code",
   "execution_count": 49,
   "id": "973e7e79",
   "metadata": {
    "lines_to_next_cell": 0
   },
   "outputs": [
    {
     "data": {
      "text/plain": [
       "array([-222.80877051,  238.77246614,    3.21103754,   -2.93050845,\n",
       "          3.64888723,  108.90953869,  -50.81896152, -105.15731984,\n",
       "        122.00714801,   57.1859509 ,  210.35170348,  118.05683748,\n",
       "       -150.21959435,   30.36634231,  -61.62459095,   77.73832472,\n",
       "         40.07350744,  -25.02151514,  -13.68429544])"
      ]
     },
     "execution_count": 49,
     "metadata": {},
     "output_type": "execute_result"
    }
   ],
   "source": [
    "tuned_ridge.coef_"
   ]
  },
  {
   "cell_type": "markdown",
   "id": "b19ffa3f",
   "metadata": {},
   "source": [
    "- As expected, none of the coefficients are zero — ridge regression does not perform variable selection!"
   ]
  },
  {
   "cell_type": "markdown",
   "id": "bfb6c72e",
   "metadata": {},
   "source": [
    "## Evaluating Test Error of Cross-Validated Ridge\n",
    "- We apply a mixed approach of cross-validation and validation set.\n",
    "- We split the data into training (75%) and test set (25%). We tune ridge regression on the training set using 5-fold cross-validation, then evaluate it on the test set."
   ]
  },
  {
   "cell_type": "code",
   "execution_count": 50,
   "id": "a9140b3a",
   "metadata": {},
   "outputs": [
    {
     "data": {
      "text/plain": [
       "array([132393.84003227])"
      ]
     },
     "execution_count": 50,
     "metadata": {},
     "output_type": "execute_result"
    }
   ],
   "source": [
    "outer_valid = skm.ShuffleSplit(n_splits=1, \n",
    "                               test_size=0.25,\n",
    "                               random_state=1)\n",
    "inner_cv = skm.KFold(n_splits=5,\n",
    "                     shuffle=True,\n",
    "                     random_state=2)\n",
    "ridgeCV = skl.ElasticNetCV(alphas=lambdas,\n",
    "                           l1_ratio=0,\n",
    "                           cv=inner_cv)\n",
    "pipeCV = Pipeline(steps=[('scaler', scaler),\n",
    "                         ('ridge', ridgeCV)])\n",
    "results = skm.cross_validate(pipeCV, X, Y, cv=outer_valid,\n",
    "                             scoring='neg_mean_squared_error')\n",
    "-results['test_score']"
   ]
  },
  {
   "cell_type": "markdown",
   "id": "d4f126e9",
   "metadata": {},
   "source": [
    "# The Lasso"
   ]
  },
  {
   "cell_type": "code",
   "execution_count": 51,
   "id": "008ecc7c",
   "metadata": {
    "lines_to_next_cell": 2
   },
   "outputs": [
    {
     "data": {
      "text/plain": [
       "3.1472370031649866"
      ]
     },
     "execution_count": 51,
     "metadata": {},
     "output_type": "execute_result"
    }
   ],
   "source": [
    "# Use skl.ElasticNetCV() with l1_ratio=1\n",
    "lassoCV = skl.ElasticNetCV(n_alphas=100,\n",
    "                           l1_ratio=1,\n",
    "                           cv=kfold)\n",
    "pipeCV = Pipeline(steps=[('scaler', scaler),\n",
    "                         ('lasso', lassoCV)])\n",
    "pipeCV.fit(X, Y)\n",
    "tuned_lasso = pipeCV.named_steps['lasso']\n",
    "tuned_lasso.alpha_"
   ]
  },
  {
   "cell_type": "code",
   "execution_count": 52,
   "id": "e2a1ce40",
   "metadata": {},
   "outputs": [
    {
     "data": {
      "text/plain": [
       "3.1472370031649866"
      ]
     },
     "execution_count": 52,
     "metadata": {},
     "output_type": "execute_result"
    }
   ],
   "source": [
    "# Use skl.LassoCV\n",
    "lassoCV2 = skl.LassoCV(n_alphas=100,\n",
    "                      cv=kfold)\n",
    "pipeCV2 = Pipeline(steps=[('scaler', scaler),\n",
    "                          ('lasso', lassoCV2)])\n",
    "pipeCV2.fit(X, Y)\n",
    "tuned_lasso2 = pipeCV2.named_steps['lasso']\n",
    "tuned_lasso2.alpha_"
   ]
  },
  {
   "cell_type": "code",
   "execution_count": 53,
   "id": "55e18cce",
   "metadata": {},
   "outputs": [
    {
     "data": {
      "text/html": [
       "<div>\n",
       "<style scoped>\n",
       "    .dataframe tbody tr th:only-of-type {\n",
       "        vertical-align: middle;\n",
       "    }\n",
       "\n",
       "    .dataframe tbody tr th {\n",
       "        vertical-align: top;\n",
       "    }\n",
       "\n",
       "    .dataframe thead th {\n",
       "        text-align: right;\n",
       "    }\n",
       "</style>\n",
       "<table border=\"1\" class=\"dataframe\">\n",
       "  <thead>\n",
       "    <tr style=\"text-align: right;\">\n",
       "      <th></th>\n",
       "      <th>AtBat</th>\n",
       "      <th>Hits</th>\n",
       "      <th>HmRun</th>\n",
       "      <th>Runs</th>\n",
       "      <th>RBI</th>\n",
       "      <th>Walks</th>\n",
       "      <th>Years</th>\n",
       "      <th>CAtBat</th>\n",
       "      <th>CHits</th>\n",
       "      <th>CHmRun</th>\n",
       "      <th>CRuns</th>\n",
       "      <th>CRBI</th>\n",
       "      <th>CWalks</th>\n",
       "      <th>League[N]</th>\n",
       "      <th>Division[W]</th>\n",
       "      <th>PutOuts</th>\n",
       "      <th>Assists</th>\n",
       "      <th>Errors</th>\n",
       "      <th>NewLeague[N]</th>\n",
       "    </tr>\n",
       "  </thead>\n",
       "  <tbody>\n",
       "    <tr>\n",
       "      <th>-12.310855</th>\n",
       "      <td>0.000000</td>\n",
       "      <td>0.000000</td>\n",
       "      <td>0.000000</td>\n",
       "      <td>0.000000</td>\n",
       "      <td>0.000000</td>\n",
       "      <td>0.000000</td>\n",
       "      <td>0.000000</td>\n",
       "      <td>0.000000</td>\n",
       "      <td>0.000000</td>\n",
       "      <td>0.0</td>\n",
       "      <td>0.000000</td>\n",
       "      <td>0.000000</td>\n",
       "      <td>0.000000</td>\n",
       "      <td>-0.000000</td>\n",
       "      <td>-0.000000</td>\n",
       "      <td>0.000000</td>\n",
       "      <td>0.000000</td>\n",
       "      <td>-0.000000</td>\n",
       "      <td>-0.000000</td>\n",
       "    </tr>\n",
       "    <tr>\n",
       "      <th>-12.078271</th>\n",
       "      <td>0.000000</td>\n",
       "      <td>0.000000</td>\n",
       "      <td>0.000000</td>\n",
       "      <td>0.000000</td>\n",
       "      <td>0.000000</td>\n",
       "      <td>0.000000</td>\n",
       "      <td>0.000000</td>\n",
       "      <td>0.000000</td>\n",
       "      <td>0.000000</td>\n",
       "      <td>0.0</td>\n",
       "      <td>0.000000</td>\n",
       "      <td>17.205159</td>\n",
       "      <td>0.000000</td>\n",
       "      <td>-0.000000</td>\n",
       "      <td>-0.000000</td>\n",
       "      <td>0.000000</td>\n",
       "      <td>0.000000</td>\n",
       "      <td>-0.000000</td>\n",
       "      <td>-0.000000</td>\n",
       "    </tr>\n",
       "    <tr>\n",
       "      <th>-11.845686</th>\n",
       "      <td>0.000000</td>\n",
       "      <td>0.000000</td>\n",
       "      <td>0.000000</td>\n",
       "      <td>0.000000</td>\n",
       "      <td>0.000000</td>\n",
       "      <td>0.000000</td>\n",
       "      <td>0.000000</td>\n",
       "      <td>0.000000</td>\n",
       "      <td>0.000000</td>\n",
       "      <td>0.0</td>\n",
       "      <td>0.000000</td>\n",
       "      <td>33.250748</td>\n",
       "      <td>0.000000</td>\n",
       "      <td>-0.000000</td>\n",
       "      <td>-0.000000</td>\n",
       "      <td>0.000000</td>\n",
       "      <td>0.000000</td>\n",
       "      <td>0.000000</td>\n",
       "      <td>-0.000000</td>\n",
       "    </tr>\n",
       "    <tr>\n",
       "      <th>-11.613102</th>\n",
       "      <td>0.000000</td>\n",
       "      <td>0.000000</td>\n",
       "      <td>0.000000</td>\n",
       "      <td>0.000000</td>\n",
       "      <td>0.000000</td>\n",
       "      <td>0.000000</td>\n",
       "      <td>0.000000</td>\n",
       "      <td>0.000000</td>\n",
       "      <td>0.000000</td>\n",
       "      <td>0.0</td>\n",
       "      <td>6.545671</td>\n",
       "      <td>42.024827</td>\n",
       "      <td>0.000000</td>\n",
       "      <td>-0.000000</td>\n",
       "      <td>-0.000000</td>\n",
       "      <td>0.000000</td>\n",
       "      <td>0.000000</td>\n",
       "      <td>0.000000</td>\n",
       "      <td>0.000000</td>\n",
       "    </tr>\n",
       "    <tr>\n",
       "      <th>-11.380518</th>\n",
       "      <td>0.000000</td>\n",
       "      <td>0.000000</td>\n",
       "      <td>0.000000</td>\n",
       "      <td>0.000000</td>\n",
       "      <td>0.000000</td>\n",
       "      <td>0.000000</td>\n",
       "      <td>0.000000</td>\n",
       "      <td>0.000000</td>\n",
       "      <td>0.000000</td>\n",
       "      <td>0.0</td>\n",
       "      <td>13.727251</td>\n",
       "      <td>49.189007</td>\n",
       "      <td>0.000000</td>\n",
       "      <td>-0.000000</td>\n",
       "      <td>-0.000000</td>\n",
       "      <td>0.000000</td>\n",
       "      <td>0.000000</td>\n",
       "      <td>0.000000</td>\n",
       "      <td>0.000000</td>\n",
       "    </tr>\n",
       "    <tr>\n",
       "      <th>...</th>\n",
       "      <td>...</td>\n",
       "      <td>...</td>\n",
       "      <td>...</td>\n",
       "      <td>...</td>\n",
       "      <td>...</td>\n",
       "      <td>...</td>\n",
       "      <td>...</td>\n",
       "      <td>...</td>\n",
       "      <td>...</td>\n",
       "      <td>...</td>\n",
       "      <td>...</td>\n",
       "      <td>...</td>\n",
       "      <td>...</td>\n",
       "      <td>...</td>\n",
       "      <td>...</td>\n",
       "      <td>...</td>\n",
       "      <td>...</td>\n",
       "      <td>...</td>\n",
       "      <td>...</td>\n",
       "    </tr>\n",
       "    <tr>\n",
       "      <th>9.784658</th>\n",
       "      <td>-292.618320</td>\n",
       "      <td>330.147359</td>\n",
       "      <td>25.671504</td>\n",
       "      <td>-49.562410</td>\n",
       "      <td>-13.598973</td>\n",
       "      <td>130.583914</td>\n",
       "      <td>-24.123416</td>\n",
       "      <td>-286.579896</td>\n",
       "      <td>31.226178</td>\n",
       "      <td>-0.0</td>\n",
       "      <td>452.829429</td>\n",
       "      <td>229.229316</td>\n",
       "      <td>-209.493673</td>\n",
       "      <td>28.373513</td>\n",
       "      <td>-58.125944</td>\n",
       "      <td>79.096546</td>\n",
       "      <td>49.338699</td>\n",
       "      <td>-20.820927</td>\n",
       "      <td>-9.515995</td>\n",
       "    </tr>\n",
       "    <tr>\n",
       "      <th>10.017243</th>\n",
       "      <td>-292.511837</td>\n",
       "      <td>330.496934</td>\n",
       "      <td>26.317012</td>\n",
       "      <td>-50.124459</td>\n",
       "      <td>-14.357879</td>\n",
       "      <td>130.849065</td>\n",
       "      <td>-23.603337</td>\n",
       "      <td>-294.116322</td>\n",
       "      <td>37.120221</td>\n",
       "      <td>-0.0</td>\n",
       "      <td>453.537777</td>\n",
       "      <td>229.848245</td>\n",
       "      <td>-209.616048</td>\n",
       "      <td>28.584855</td>\n",
       "      <td>-58.145706</td>\n",
       "      <td>79.080585</td>\n",
       "      <td>49.655372</td>\n",
       "      <td>-20.923792</td>\n",
       "      <td>-9.725398</td>\n",
       "    </tr>\n",
       "    <tr>\n",
       "      <th>10.249827</th>\n",
       "      <td>-292.413043</td>\n",
       "      <td>330.823484</td>\n",
       "      <td>26.918970</td>\n",
       "      <td>-50.648775</td>\n",
       "      <td>-15.065567</td>\n",
       "      <td>131.096456</td>\n",
       "      <td>-23.118630</td>\n",
       "      <td>-301.141293</td>\n",
       "      <td>42.613785</td>\n",
       "      <td>-0.0</td>\n",
       "      <td>454.198913</td>\n",
       "      <td>230.425310</td>\n",
       "      <td>-209.730604</td>\n",
       "      <td>28.781925</td>\n",
       "      <td>-58.164143</td>\n",
       "      <td>79.065724</td>\n",
       "      <td>49.950637</td>\n",
       "      <td>-21.019700</td>\n",
       "      <td>-9.920665</td>\n",
       "    </tr>\n",
       "    <tr>\n",
       "      <th>10.482412</th>\n",
       "      <td>-292.320279</td>\n",
       "      <td>331.127368</td>\n",
       "      <td>27.480414</td>\n",
       "      <td>-51.137572</td>\n",
       "      <td>-15.725645</td>\n",
       "      <td>131.327039</td>\n",
       "      <td>-22.666199</td>\n",
       "      <td>-307.697118</td>\n",
       "      <td>47.741074</td>\n",
       "      <td>-0.0</td>\n",
       "      <td>454.814838</td>\n",
       "      <td>230.963666</td>\n",
       "      <td>-209.836915</td>\n",
       "      <td>28.965748</td>\n",
       "      <td>-58.181330</td>\n",
       "      <td>79.051835</td>\n",
       "      <td>50.226081</td>\n",
       "      <td>-21.109174</td>\n",
       "      <td>-10.102799</td>\n",
       "    </tr>\n",
       "    <tr>\n",
       "      <th>10.714996</th>\n",
       "      <td>-292.233620</td>\n",
       "      <td>331.410616</td>\n",
       "      <td>28.004031</td>\n",
       "      <td>-51.593383</td>\n",
       "      <td>-16.341255</td>\n",
       "      <td>131.542049</td>\n",
       "      <td>-22.244172</td>\n",
       "      <td>-313.812112</td>\n",
       "      <td>52.523743</td>\n",
       "      <td>-0.0</td>\n",
       "      <td>455.389090</td>\n",
       "      <td>231.465779</td>\n",
       "      <td>-209.935936</td>\n",
       "      <td>29.137191</td>\n",
       "      <td>-58.197357</td>\n",
       "      <td>79.038876</td>\n",
       "      <td>50.482980</td>\n",
       "      <td>-21.192625</td>\n",
       "      <td>-10.272666</td>\n",
       "    </tr>\n",
       "  </tbody>\n",
       "</table>\n",
       "<p>100 rows × 19 columns</p>\n",
       "</div>"
      ],
      "text/plain": [
       "                 AtBat        Hits      HmRun       Runs        RBI  \\\n",
       "-12.310855    0.000000    0.000000   0.000000   0.000000   0.000000   \n",
       "-12.078271    0.000000    0.000000   0.000000   0.000000   0.000000   \n",
       "-11.845686    0.000000    0.000000   0.000000   0.000000   0.000000   \n",
       "-11.613102    0.000000    0.000000   0.000000   0.000000   0.000000   \n",
       "-11.380518    0.000000    0.000000   0.000000   0.000000   0.000000   \n",
       "...                ...         ...        ...        ...        ...   \n",
       " 9.784658  -292.618320  330.147359  25.671504 -49.562410 -13.598973   \n",
       " 10.017243 -292.511837  330.496934  26.317012 -50.124459 -14.357879   \n",
       " 10.249827 -292.413043  330.823484  26.918970 -50.648775 -15.065567   \n",
       " 10.482412 -292.320279  331.127368  27.480414 -51.137572 -15.725645   \n",
       " 10.714996 -292.233620  331.410616  28.004031 -51.593383 -16.341255   \n",
       "\n",
       "                 Walks      Years      CAtBat      CHits  CHmRun       CRuns  \\\n",
       "-12.310855    0.000000   0.000000    0.000000   0.000000     0.0    0.000000   \n",
       "-12.078271    0.000000   0.000000    0.000000   0.000000     0.0    0.000000   \n",
       "-11.845686    0.000000   0.000000    0.000000   0.000000     0.0    0.000000   \n",
       "-11.613102    0.000000   0.000000    0.000000   0.000000     0.0    6.545671   \n",
       "-11.380518    0.000000   0.000000    0.000000   0.000000     0.0   13.727251   \n",
       "...                ...        ...         ...        ...     ...         ...   \n",
       " 9.784658   130.583914 -24.123416 -286.579896  31.226178    -0.0  452.829429   \n",
       " 10.017243  130.849065 -23.603337 -294.116322  37.120221    -0.0  453.537777   \n",
       " 10.249827  131.096456 -23.118630 -301.141293  42.613785    -0.0  454.198913   \n",
       " 10.482412  131.327039 -22.666199 -307.697118  47.741074    -0.0  454.814838   \n",
       " 10.714996  131.542049 -22.244172 -313.812112  52.523743    -0.0  455.389090   \n",
       "\n",
       "                  CRBI      CWalks  League[N]  Division[W]    PutOuts  \\\n",
       "-12.310855    0.000000    0.000000  -0.000000    -0.000000   0.000000   \n",
       "-12.078271   17.205159    0.000000  -0.000000    -0.000000   0.000000   \n",
       "-11.845686   33.250748    0.000000  -0.000000    -0.000000   0.000000   \n",
       "-11.613102   42.024827    0.000000  -0.000000    -0.000000   0.000000   \n",
       "-11.380518   49.189007    0.000000  -0.000000    -0.000000   0.000000   \n",
       "...                ...         ...        ...          ...        ...   \n",
       " 9.784658   229.229316 -209.493673  28.373513   -58.125944  79.096546   \n",
       " 10.017243  229.848245 -209.616048  28.584855   -58.145706  79.080585   \n",
       " 10.249827  230.425310 -209.730604  28.781925   -58.164143  79.065724   \n",
       " 10.482412  230.963666 -209.836915  28.965748   -58.181330  79.051835   \n",
       " 10.714996  231.465779 -209.935936  29.137191   -58.197357  79.038876   \n",
       "\n",
       "              Assists     Errors  NewLeague[N]  \n",
       "-12.310855   0.000000  -0.000000     -0.000000  \n",
       "-12.078271   0.000000  -0.000000     -0.000000  \n",
       "-11.845686   0.000000   0.000000     -0.000000  \n",
       "-11.613102   0.000000   0.000000      0.000000  \n",
       "-11.380518   0.000000   0.000000      0.000000  \n",
       "...               ...        ...           ...  \n",
       " 9.784658   49.338699 -20.820927     -9.515995  \n",
       " 10.017243  49.655372 -20.923792     -9.725398  \n",
       " 10.249827  49.950637 -21.019700     -9.920665  \n",
       " 10.482412  50.226081 -21.109174    -10.102799  \n",
       " 10.714996  50.482980 -21.192625    -10.272666  \n",
       "\n",
       "[100 rows x 19 columns]"
      ]
     },
     "execution_count": 53,
     "metadata": {},
     "output_type": "execute_result"
    }
   ],
   "source": [
    "# Use skl.ElasticNet.path() with l1_ratio=1\n",
    "soln_array = skl.ElasticNet.path(Xs, Y, l1_ratio=1, n_alphas=100)[1]\n",
    "soln_path = pd.DataFrame(soln_array.T,\n",
    "                         columns=D.columns,\n",
    "                         index=-np.log(lambdas))\n",
    "soln_path"
   ]
  },
  {
   "cell_type": "code",
   "execution_count": 54,
   "id": "1b909861",
   "metadata": {
    "lines_to_next_cell": 0
   },
   "outputs": [
    {
     "data": {
      "text/html": [
       "<div>\n",
       "<style scoped>\n",
       "    .dataframe tbody tr th:only-of-type {\n",
       "        vertical-align: middle;\n",
       "    }\n",
       "\n",
       "    .dataframe tbody tr th {\n",
       "        vertical-align: top;\n",
       "    }\n",
       "\n",
       "    .dataframe thead th {\n",
       "        text-align: right;\n",
       "    }\n",
       "</style>\n",
       "<table border=\"1\" class=\"dataframe\">\n",
       "  <thead>\n",
       "    <tr style=\"text-align: right;\">\n",
       "      <th></th>\n",
       "      <th>AtBat</th>\n",
       "      <th>Hits</th>\n",
       "      <th>HmRun</th>\n",
       "      <th>Runs</th>\n",
       "      <th>RBI</th>\n",
       "      <th>Walks</th>\n",
       "      <th>Years</th>\n",
       "      <th>CAtBat</th>\n",
       "      <th>CHits</th>\n",
       "      <th>CHmRun</th>\n",
       "      <th>CRuns</th>\n",
       "      <th>CRBI</th>\n",
       "      <th>CWalks</th>\n",
       "      <th>League[N]</th>\n",
       "      <th>Division[W]</th>\n",
       "      <th>PutOuts</th>\n",
       "      <th>Assists</th>\n",
       "      <th>Errors</th>\n",
       "      <th>NewLeague[N]</th>\n",
       "    </tr>\n",
       "  </thead>\n",
       "  <tbody>\n",
       "    <tr>\n",
       "      <th>-5.542369</th>\n",
       "      <td>0.000000</td>\n",
       "      <td>0.000000</td>\n",
       "      <td>0.000000</td>\n",
       "      <td>0.000000</td>\n",
       "      <td>0.000000</td>\n",
       "      <td>0.000000</td>\n",
       "      <td>0.000000</td>\n",
       "      <td>0.000000</td>\n",
       "      <td>0.000000</td>\n",
       "      <td>0.0</td>\n",
       "      <td>0.000000</td>\n",
       "      <td>0.000000</td>\n",
       "      <td>0.000000</td>\n",
       "      <td>-0.000000</td>\n",
       "      <td>-0.000000</td>\n",
       "      <td>0.000000</td>\n",
       "      <td>0.000000</td>\n",
       "      <td>-0.000000</td>\n",
       "      <td>-0.000000</td>\n",
       "    </tr>\n",
       "    <tr>\n",
       "      <th>-5.472594</th>\n",
       "      <td>0.000000</td>\n",
       "      <td>0.000000</td>\n",
       "      <td>0.000000</td>\n",
       "      <td>0.000000</td>\n",
       "      <td>0.000000</td>\n",
       "      <td>0.000000</td>\n",
       "      <td>0.000000</td>\n",
       "      <td>0.000000</td>\n",
       "      <td>0.000000</td>\n",
       "      <td>0.0</td>\n",
       "      <td>0.000000</td>\n",
       "      <td>17.205159</td>\n",
       "      <td>0.000000</td>\n",
       "      <td>-0.000000</td>\n",
       "      <td>-0.000000</td>\n",
       "      <td>0.000000</td>\n",
       "      <td>0.000000</td>\n",
       "      <td>-0.000000</td>\n",
       "      <td>-0.000000</td>\n",
       "    </tr>\n",
       "    <tr>\n",
       "      <th>-5.402819</th>\n",
       "      <td>0.000000</td>\n",
       "      <td>0.000000</td>\n",
       "      <td>0.000000</td>\n",
       "      <td>0.000000</td>\n",
       "      <td>0.000000</td>\n",
       "      <td>0.000000</td>\n",
       "      <td>0.000000</td>\n",
       "      <td>0.000000</td>\n",
       "      <td>0.000000</td>\n",
       "      <td>0.0</td>\n",
       "      <td>0.000000</td>\n",
       "      <td>33.250748</td>\n",
       "      <td>0.000000</td>\n",
       "      <td>-0.000000</td>\n",
       "      <td>-0.000000</td>\n",
       "      <td>0.000000</td>\n",
       "      <td>0.000000</td>\n",
       "      <td>0.000000</td>\n",
       "      <td>-0.000000</td>\n",
       "    </tr>\n",
       "    <tr>\n",
       "      <th>-5.333043</th>\n",
       "      <td>0.000000</td>\n",
       "      <td>0.000000</td>\n",
       "      <td>0.000000</td>\n",
       "      <td>0.000000</td>\n",
       "      <td>0.000000</td>\n",
       "      <td>0.000000</td>\n",
       "      <td>0.000000</td>\n",
       "      <td>0.000000</td>\n",
       "      <td>0.000000</td>\n",
       "      <td>0.0</td>\n",
       "      <td>6.545671</td>\n",
       "      <td>42.024827</td>\n",
       "      <td>0.000000</td>\n",
       "      <td>-0.000000</td>\n",
       "      <td>-0.000000</td>\n",
       "      <td>0.000000</td>\n",
       "      <td>0.000000</td>\n",
       "      <td>0.000000</td>\n",
       "      <td>0.000000</td>\n",
       "    </tr>\n",
       "    <tr>\n",
       "      <th>-5.263268</th>\n",
       "      <td>0.000000</td>\n",
       "      <td>0.000000</td>\n",
       "      <td>0.000000</td>\n",
       "      <td>0.000000</td>\n",
       "      <td>0.000000</td>\n",
       "      <td>0.000000</td>\n",
       "      <td>0.000000</td>\n",
       "      <td>0.000000</td>\n",
       "      <td>0.000000</td>\n",
       "      <td>0.0</td>\n",
       "      <td>13.727251</td>\n",
       "      <td>49.189007</td>\n",
       "      <td>0.000000</td>\n",
       "      <td>-0.000000</td>\n",
       "      <td>-0.000000</td>\n",
       "      <td>0.000000</td>\n",
       "      <td>0.000000</td>\n",
       "      <td>0.000000</td>\n",
       "      <td>0.000000</td>\n",
       "    </tr>\n",
       "    <tr>\n",
       "      <th>...</th>\n",
       "      <td>...</td>\n",
       "      <td>...</td>\n",
       "      <td>...</td>\n",
       "      <td>...</td>\n",
       "      <td>...</td>\n",
       "      <td>...</td>\n",
       "      <td>...</td>\n",
       "      <td>...</td>\n",
       "      <td>...</td>\n",
       "      <td>...</td>\n",
       "      <td>...</td>\n",
       "      <td>...</td>\n",
       "      <td>...</td>\n",
       "      <td>...</td>\n",
       "      <td>...</td>\n",
       "      <td>...</td>\n",
       "      <td>...</td>\n",
       "      <td>...</td>\n",
       "      <td>...</td>\n",
       "    </tr>\n",
       "    <tr>\n",
       "      <th>1.086285</th>\n",
       "      <td>-292.618320</td>\n",
       "      <td>330.147359</td>\n",
       "      <td>25.671504</td>\n",
       "      <td>-49.562410</td>\n",
       "      <td>-13.598973</td>\n",
       "      <td>130.583914</td>\n",
       "      <td>-24.123416</td>\n",
       "      <td>-286.579896</td>\n",
       "      <td>31.226178</td>\n",
       "      <td>-0.0</td>\n",
       "      <td>452.829429</td>\n",
       "      <td>229.229316</td>\n",
       "      <td>-209.493673</td>\n",
       "      <td>28.373513</td>\n",
       "      <td>-58.125944</td>\n",
       "      <td>79.096546</td>\n",
       "      <td>49.338699</td>\n",
       "      <td>-20.820927</td>\n",
       "      <td>-9.515995</td>\n",
       "    </tr>\n",
       "    <tr>\n",
       "      <th>1.156060</th>\n",
       "      <td>-292.511837</td>\n",
       "      <td>330.496934</td>\n",
       "      <td>26.317012</td>\n",
       "      <td>-50.124459</td>\n",
       "      <td>-14.357879</td>\n",
       "      <td>130.849065</td>\n",
       "      <td>-23.603337</td>\n",
       "      <td>-294.116322</td>\n",
       "      <td>37.120221</td>\n",
       "      <td>-0.0</td>\n",
       "      <td>453.537777</td>\n",
       "      <td>229.848245</td>\n",
       "      <td>-209.616048</td>\n",
       "      <td>28.584855</td>\n",
       "      <td>-58.145706</td>\n",
       "      <td>79.080585</td>\n",
       "      <td>49.655372</td>\n",
       "      <td>-20.923792</td>\n",
       "      <td>-9.725398</td>\n",
       "    </tr>\n",
       "    <tr>\n",
       "      <th>1.225835</th>\n",
       "      <td>-292.413043</td>\n",
       "      <td>330.823484</td>\n",
       "      <td>26.918970</td>\n",
       "      <td>-50.648775</td>\n",
       "      <td>-15.065567</td>\n",
       "      <td>131.096456</td>\n",
       "      <td>-23.118630</td>\n",
       "      <td>-301.141293</td>\n",
       "      <td>42.613785</td>\n",
       "      <td>-0.0</td>\n",
       "      <td>454.198913</td>\n",
       "      <td>230.425310</td>\n",
       "      <td>-209.730604</td>\n",
       "      <td>28.781925</td>\n",
       "      <td>-58.164143</td>\n",
       "      <td>79.065724</td>\n",
       "      <td>49.950637</td>\n",
       "      <td>-21.019700</td>\n",
       "      <td>-9.920665</td>\n",
       "    </tr>\n",
       "    <tr>\n",
       "      <th>1.295611</th>\n",
       "      <td>-292.320279</td>\n",
       "      <td>331.127368</td>\n",
       "      <td>27.480414</td>\n",
       "      <td>-51.137572</td>\n",
       "      <td>-15.725645</td>\n",
       "      <td>131.327039</td>\n",
       "      <td>-22.666199</td>\n",
       "      <td>-307.697118</td>\n",
       "      <td>47.741074</td>\n",
       "      <td>-0.0</td>\n",
       "      <td>454.814838</td>\n",
       "      <td>230.963666</td>\n",
       "      <td>-209.836915</td>\n",
       "      <td>28.965748</td>\n",
       "      <td>-58.181330</td>\n",
       "      <td>79.051835</td>\n",
       "      <td>50.226081</td>\n",
       "      <td>-21.109174</td>\n",
       "      <td>-10.102799</td>\n",
       "    </tr>\n",
       "    <tr>\n",
       "      <th>1.365386</th>\n",
       "      <td>-292.233620</td>\n",
       "      <td>331.410616</td>\n",
       "      <td>28.004031</td>\n",
       "      <td>-51.593383</td>\n",
       "      <td>-16.341255</td>\n",
       "      <td>131.542049</td>\n",
       "      <td>-22.244172</td>\n",
       "      <td>-313.812112</td>\n",
       "      <td>52.523743</td>\n",
       "      <td>-0.0</td>\n",
       "      <td>455.389090</td>\n",
       "      <td>231.465779</td>\n",
       "      <td>-209.935936</td>\n",
       "      <td>29.137191</td>\n",
       "      <td>-58.197357</td>\n",
       "      <td>79.038876</td>\n",
       "      <td>50.482980</td>\n",
       "      <td>-21.192625</td>\n",
       "      <td>-10.272666</td>\n",
       "    </tr>\n",
       "  </tbody>\n",
       "</table>\n",
       "<p>100 rows × 19 columns</p>\n",
       "</div>"
      ],
      "text/plain": [
       "                AtBat        Hits      HmRun       Runs        RBI  \\\n",
       "-5.542369    0.000000    0.000000   0.000000   0.000000   0.000000   \n",
       "-5.472594    0.000000    0.000000   0.000000   0.000000   0.000000   \n",
       "-5.402819    0.000000    0.000000   0.000000   0.000000   0.000000   \n",
       "-5.333043    0.000000    0.000000   0.000000   0.000000   0.000000   \n",
       "-5.263268    0.000000    0.000000   0.000000   0.000000   0.000000   \n",
       "...               ...         ...        ...        ...        ...   \n",
       " 1.086285 -292.618320  330.147359  25.671504 -49.562410 -13.598973   \n",
       " 1.156060 -292.511837  330.496934  26.317012 -50.124459 -14.357879   \n",
       " 1.225835 -292.413043  330.823484  26.918970 -50.648775 -15.065567   \n",
       " 1.295611 -292.320279  331.127368  27.480414 -51.137572 -15.725645   \n",
       " 1.365386 -292.233620  331.410616  28.004031 -51.593383 -16.341255   \n",
       "\n",
       "                Walks      Years      CAtBat      CHits  CHmRun       CRuns  \\\n",
       "-5.542369    0.000000   0.000000    0.000000   0.000000     0.0    0.000000   \n",
       "-5.472594    0.000000   0.000000    0.000000   0.000000     0.0    0.000000   \n",
       "-5.402819    0.000000   0.000000    0.000000   0.000000     0.0    0.000000   \n",
       "-5.333043    0.000000   0.000000    0.000000   0.000000     0.0    6.545671   \n",
       "-5.263268    0.000000   0.000000    0.000000   0.000000     0.0   13.727251   \n",
       "...               ...        ...         ...        ...     ...         ...   \n",
       " 1.086285  130.583914 -24.123416 -286.579896  31.226178    -0.0  452.829429   \n",
       " 1.156060  130.849065 -23.603337 -294.116322  37.120221    -0.0  453.537777   \n",
       " 1.225835  131.096456 -23.118630 -301.141293  42.613785    -0.0  454.198913   \n",
       " 1.295611  131.327039 -22.666199 -307.697118  47.741074    -0.0  454.814838   \n",
       " 1.365386  131.542049 -22.244172 -313.812112  52.523743    -0.0  455.389090   \n",
       "\n",
       "                 CRBI      CWalks  League[N]  Division[W]    PutOuts  \\\n",
       "-5.542369    0.000000    0.000000  -0.000000    -0.000000   0.000000   \n",
       "-5.472594   17.205159    0.000000  -0.000000    -0.000000   0.000000   \n",
       "-5.402819   33.250748    0.000000  -0.000000    -0.000000   0.000000   \n",
       "-5.333043   42.024827    0.000000  -0.000000    -0.000000   0.000000   \n",
       "-5.263268   49.189007    0.000000  -0.000000    -0.000000   0.000000   \n",
       "...               ...         ...        ...          ...        ...   \n",
       " 1.086285  229.229316 -209.493673  28.373513   -58.125944  79.096546   \n",
       " 1.156060  229.848245 -209.616048  28.584855   -58.145706  79.080585   \n",
       " 1.225835  230.425310 -209.730604  28.781925   -58.164143  79.065724   \n",
       " 1.295611  230.963666 -209.836915  28.965748   -58.181330  79.051835   \n",
       " 1.365386  231.465779 -209.935936  29.137191   -58.197357  79.038876   \n",
       "\n",
       "             Assists     Errors  NewLeague[N]  \n",
       "-5.542369   0.000000  -0.000000     -0.000000  \n",
       "-5.472594   0.000000  -0.000000     -0.000000  \n",
       "-5.402819   0.000000   0.000000     -0.000000  \n",
       "-5.333043   0.000000   0.000000      0.000000  \n",
       "-5.263268   0.000000   0.000000      0.000000  \n",
       "...              ...        ...           ...  \n",
       " 1.086285  49.338699 -20.820927     -9.515995  \n",
       " 1.156060  49.655372 -20.923792     -9.725398  \n",
       " 1.225835  49.950637 -21.019700     -9.920665  \n",
       " 1.295611  50.226081 -21.109174    -10.102799  \n",
       " 1.365386  50.482980 -21.192625    -10.272666  \n",
       "\n",
       "[100 rows x 19 columns]"
      ]
     },
     "execution_count": 54,
     "metadata": {},
     "output_type": "execute_result"
    }
   ],
   "source": [
    "# Use skl.Lasso.path()\n",
    "lambdas, soln_array = skl.Lasso.path(Xs, Y, l1_ratio=1, n_alphas=100)[:2]\n",
    "soln_path = pd.DataFrame(soln_array.T,\n",
    "                         columns=D.columns,\n",
    "                         index=-np.log(lambdas))\n",
    "soln_path"
   ]
  },
  {
   "cell_type": "markdown",
   "id": "abec44b3",
   "metadata": {},
   "source": [
    "We can see from the coefficient plot of the standardized coefficients that depending on the choice of\n",
    "tuning parameter, some of the coefficients will be exactly equal to\n",
    "zero."
   ]
  },
  {
   "cell_type": "code",
   "execution_count": 55,
   "id": "ff719798",
   "metadata": {
    "lines_to_next_cell": 0
   },
   "outputs": [
    {
     "data": {
      "image/png": "[encoded data removed]",
      "text/plain": [
       "<Figure size 800x800 with 1 Axes>"
      ]
     },
     "metadata": {},
     "output_type": "display_data"
    }
   ],
   "source": [
    "path_fig, ax = plt.subplots(figsize=(8,8))\n",
    "soln_path.plot(ax=ax, legend=False)\n",
    "ax.legend(loc='upper left')\n",
    "ax.set_xlabel(r'$-\\log(\\lambda)$'); ax.set_ylabel('Standardized coefficiients');"
   ]
  },
  {
   "cell_type": "markdown",
   "id": "201ccdfb",
   "metadata": {},
   "source": [
    "- We show the best $\\lambda$ and the test MSE associated with this $\\lambda$.\n",
    "- The best $\\lambda$ and the test MSE of the Ridge model are 0.012 and 117408.574, respectively."
   ]
  },
  {
   "cell_type": "code",
   "execution_count": 56,
   "id": "f21ad8dc",
   "metadata": {},
   "outputs": [
    {
     "name": "stdout",
     "output_type": "stream",
     "text": [
      "Best lambda: 3.147\n",
      "Best -log(lambda): -1.147\n",
      "Test MSE: 115411.106\n"
     ]
    }
   ],
   "source": [
    "print('Best lambda:', tuned_lasso.alpha_.round(3))\n",
    "print('Best -log(lambda):', -np.log(tuned_lasso.alpha_).round(3))\n",
    "print('Test MSE:', tuned_lasso.mse_path_.mean(1)[59].round(3))"
   ]
  },
  {
   "cell_type": "markdown",
   "id": "136f171f",
   "metadata": {},
   "source": [
    "- We plot of the cross-validation error.\n"
   ]
  },
  {
   "cell_type": "code",
   "execution_count": 57,
   "id": "7624e483",
   "metadata": {},
   "outputs": [
    {
     "data": {
      "image/png": "[encoded data removed]",
      "text/plain": [
       "<Figure size 800x800 with 1 Axes>"
      ]
     },
     "metadata": {},
     "output_type": "display_data"
    }
   ],
   "source": [
    "lassoCV_fig, ax = plt.subplots(figsize=(8,8))\n",
    "ax.errorbar(-np.log(tuned_lasso.alphas_),\n",
    "            tuned_lasso.mse_path_.mean(1),\n",
    "            yerr=tuned_lasso.mse_path_.std(1) / np.sqrt(K))\n",
    "ax.axvline(-np.log(tuned_lasso.alpha_), c='r', ls='--')\n",
    "ax.set_ylim([50000,250000])\n",
    "ax.set_xlabel(r'$-\\log(\\lambda)$'); ax.set_ylabel('Cross-validated MSE');"
   ]
  },
  {
   "cell_type": "markdown",
   "id": "c2b85ea4",
   "metadata": {},
   "source": [
    "- We show the coefficients of the model with the best $\\lambda$.\n",
    "- The lasso's hat 6 of the 19 coefficients are exactly zero, so the lasso model includes only 13 variables."
   ]
  },
  {
   "cell_type": "code",
   "execution_count": 58,
   "id": "b389c7d4",
   "metadata": {},
   "outputs": [
    {
     "data": {
      "text/plain": [
       "array([-210.01008773,  243.4550306 ,    0.        ,    0.        ,\n",
       "          0.        ,   97.69397357,  -41.52283116,   -0.        ,\n",
       "          0.        ,   39.62298193,  205.75273856,  124.55456561,\n",
       "       -126.29986768,   15.70262427,  -59.50157967,   75.24590036,\n",
       "         21.62698014,  -12.04423675,   -0.        ])"
      ]
     },
     "execution_count": 58,
     "metadata": {},
     "output_type": "execute_result"
    }
   ],
   "source": [
    "tuned_lasso.coef_"
   ]
  },
  {
   "cell_type": "markdown",
   "id": "acc5ed38",
   "metadata": {},
   "source": [
    "- Like ridge regression, evaluate cross-validated lasso's test error by splitting into test and training sets, then running cross-validation on the training set and evaluating on the test set."
   ]
  },
  {
   "cell_type": "markdown",
   "id": "0d0aca26",
   "metadata": {},
   "source": [
    "# Principal Components Regression"
   ]
  },
  {
   "cell_type": "markdown",
   "id": "c2120ab5",
   "metadata": {},
   "source": [
    "- We use `PCA()` from `sklearn.decomposition` to perform Principal Components Regression (PCR) on the `Hitters` data to predict `Salary`.\n",
    "- We use `LinearRegression()` to fit the regression model, which includes an intercept by default, unlike `OLS()` from earlier."
   ]
  },
  {
   "cell_type": "code",
   "execution_count": 68,
   "id": "cf302d4c",
   "metadata": {},
   "outputs": [
    {
     "data": {
      "text/plain": [
       "array([0.09846131, 0.4758765 ])"
      ]
     },
     "execution_count": 68,
     "metadata": {},
     "output_type": "execute_result"
    }
   ],
   "source": [
    "pca = PCA(n_components=2)\n",
    "linreg = skl.LinearRegression()\n",
    "pipe = Pipeline([('pca', pca), ('linreg', linreg)])\n",
    "pipe.fit(X, Y)\n",
    "pipe.named_steps['linreg'].coef_"
   ]
  },
  {
   "cell_type": "markdown",
   "id": "b909182b",
   "metadata": {},
   "source": [
    "- We add a standardization step to the pipeline and refit the model."
   ]
  },
  {
   "cell_type": "code",
   "execution_count": 69,
   "id": "af4145b6",
   "metadata": {},
   "outputs": [
    {
     "data": {
      "text/plain": [
       "array([106.36859204,  21.60350456])"
      ]
     },
     "execution_count": 69,
     "metadata": {},
     "output_type": "execute_result"
    }
   ],
   "source": [
    "pipe = Pipeline([('scaler', scaler),('pca', pca),('linreg', linreg)])\n",
    "pipe.fit(X, Y)\n",
    "pipe.named_steps['linreg'].coef_"
   ]
  },
  {
   "cell_type": "markdown",
   "id": "0da4ae12",
   "metadata": {},
   "source": [
    "- We use `GridSearchCV()` to select the number of components by varying the `n_components` parameter."
   ]
  },
  {
   "cell_type": "code",
   "execution_count": 70,
   "id": "16e047ed",
   "metadata": {},
   "outputs": [],
   "source": [
    "# Create a dictionary of n_components\n",
    "param_grid = {'pca__n_components': range(1, 20)}\n",
    "# Create a pipeline\n",
    "pca = PCA(n_components=2)\n",
    "linreg = skl.LinearRegression()\n",
    "pipe_grid = Pipeline([('pca', pca),('linreg', linreg)])\n",
    "# Create and fit the grid search\n",
    "grid_pca = skm.GridSearchCV(pipe_grid, param_grid, cv=kfold,\n",
    "                        scoring='neg_mean_squared_error')\n",
    "grid_pca.fit(X, Y);"
   ]
  },
  {
   "cell_type": "code",
   "execution_count": 71,
   "id": "7390847f",
   "metadata": {},
   "outputs": [
    {
     "data": {
      "image/png": "[encoded data removed]",
      "text/plain": [
       "<Figure size 800x800 with 1 Axes>"
      ]
     },
     "metadata": {},
     "output_type": "display_data"
    }
   ],
   "source": [
    "# Set the figure\n",
    "pcr_fig, ax = plt.subplots(figsize=(8,8))\n",
    "# Set number of principal components\n",
    "n_comp = param_grid['pca__n_components'] # from 1 to 19\n",
    "# Draw the figure\n",
    "ax.errorbar(n_comp,\n",
    "            -grid_pca.cv_results_['mean_test_score'],\n",
    "            grid_pca.cv_results_['std_test_score'] / np.sqrt(K))\n",
    "ax.set_ylabel('Cross-validated MSE')\n",
    "ax.set_xlabel('# principal components')\n",
    "ax.set_xticks(n_comp); ax.set_ylim([50000,250000]);"
   ]
  },
  {
   "cell_type": "markdown",
   "id": "4269a0db",
   "metadata": {},
   "source": [
    "- 13 components provide the smallest cross-validation error, but 4 component provide similar cross-validation error. We should choose the model with fewer components.\n",
    "- We show the cross-validated MSE for the best number of components."
   ]
  },
  {
   "cell_type": "code",
   "execution_count": 72,
   "id": "19bfff07",
   "metadata": {},
   "outputs": [
    {
     "name": "stdout",
     "output_type": "stream",
     "text": [
      "Best test MSE: 121830.86740098316\n",
      "Test MSE of 4 components: 122692.82329896805\n"
     ]
    }
   ],
   "source": [
    "# Retrieve the best cross-validation score (negative MSE)\n",
    "print(\"Best test MSE:\", -grid_pca.best_score_)\n",
    "print(\"Test MSE of 4 components:\", -grid_pca.cv_results_['mean_test_score'][3])"
   ]
  },
  {
   "cell_type": "code",
   "execution_count": 73,
   "id": "69929dde",
   "metadata": {},
   "outputs": [
    {
     "name": "stdout",
     "output_type": "stream",
     "text": [
      "Best number of components: 13\n",
      "Coefficients of the best model: [ 9.84613138e-02  4.75876498e-01  2.61402132e-01  8.06219481e-01\n",
      " -1.15459449e-01  1.33865933e-01  1.45027199e+00 -2.98855499e-03\n",
      "  4.04929806e+00  3.13327986e+00  1.29026346e+00  4.71933057e+00\n",
      " -7.10388951e+00]\n"
     ]
    }
   ],
   "source": [
    "# Retrieve the best estimator\n",
    "best_pca = grid_pca.best_estimator_\n",
    "# Retrieve the best number of components\n",
    "best_n_components = grid_pca.best_params_['pca__n_components']\n",
    "# Retrieve the coefficients of the linear regression model within the best estimator\n",
    "best_coefs = best_pca.named_steps['linreg'].coef_\n",
    "print(\"Best number of components:\", best_n_components)\n",
    "print(\"Coefficients of the best model:\", best_coefs)"
   ]
  },
  {
   "cell_type": "markdown",
   "id": "c19f2929",
   "metadata": {},
   "source": [
    "- We use `explained_variance_ratio_` attribute to show the percentage of variance explained by each component.\n",
    "- In this case, we use only two components."
   ]
  },
  {
   "cell_type": "code",
   "execution_count": 74,
   "id": "c7616c02",
   "metadata": {},
   "outputs": [
    {
     "data": {
      "text/plain": [
       "array([0.3831424 , 0.21841076])"
      ]
     },
     "execution_count": 74,
     "metadata": {},
     "output_type": "execute_result"
    }
   ],
   "source": [
    "pipe.named_steps['pca'].explained_variance_ratio_"
   ]
  },
  {
   "cell_type": "markdown",
   "id": "56a84e84",
   "metadata": {},
   "source": [
    "- `PCA()` from `sklearn.decomposition` does not allow fitting an intercept with `n_components=0`, so we also compute the MSE for the null model by ourself."
   ]
  },
  {
   "cell_type": "code",
   "execution_count": 75,
   "id": "1e084cbb",
   "metadata": {
    "lines_to_next_cell": 2
   },
   "outputs": [
    {
     "data": {
      "text/plain": [
       "204139.30692994667"
      ]
     },
     "execution_count": 75,
     "metadata": {},
     "output_type": "execute_result"
    }
   ],
   "source": [
    "# Create a column of 263 zeros\n",
    "Xn = np.zeros((X.shape[0], 1))\n",
    "# Fit the null model\n",
    "linreg = skl.LinearRegression()\n",
    "cv_null = skm.cross_validate(linreg, Xn, Y, cv=kfold,\n",
    "                             scoring='neg_mean_squared_error')\n",
    "# Show the test MSE\n",
    "-cv_null['test_score'].mean()"
   ]
  },
  {
   "cell_type": "markdown",
   "id": "a2ee7cb1",
   "metadata": {},
   "source": [
    "- With \\(M=1\\), we capture 38.31% of the variance.\n",
    "- With \\(M=2\\), we capture an additional 21.84%, totaling 60.15%.\n",
    "- By \\(M=6\\), this increases to 88.63%.\n",
    "- Beyond that, the increments diminish until we use all \\(M=p=19\\) components, which capture 100% of the variance."
   ]
  },
  {
   "cell_type": "markdown",
   "id": "2a0ce7e4",
   "metadata": {},
   "source": [
    "# Partial Least Squares\n",
    "- We use `PLSRegression()` from `sklearn.cross_decomposition` to perform Partial Least Squares (PLS) on the `Hitters` data to predict `Salary`.\n",
    "- The n_components parameter in PLSRegression specifies the number of latent variables (components) to extract from the predictors\n",
    "- However, the number of coefficients corresponds to the number of features in the input data X, not the number of components."
   ]
  },
  {
   "cell_type": "code",
   "execution_count": 76,
   "id": "9c69429e",
   "metadata": {},
   "outputs": [
    {
     "data": {
      "text/plain": [
       "array([[ 1.83212805e-01,  9.68182742e-01,  1.43446217e+00,\n",
       "         1.41606603e+00,  1.19172425e+00,  1.95842670e+00,\n",
       "         1.86868624e+00,  1.15591692e-02,  5.21901102e-02,\n",
       "         3.68371731e-01,  1.04817110e-01,  1.08841878e-01,\n",
       "         7.60605534e-02,  3.59616391e+01, -9.59000208e+01,\n",
       "         2.01055281e-01,  2.89459285e-02, -6.55086150e-01,\n",
       "         3.02144105e+01]])"
      ]
     },
     "execution_count": 76,
     "metadata": {},
     "output_type": "execute_result"
    }
   ],
   "source": [
    "pls = PLSRegression(n_components=2, scale=True)\n",
    "pls.fit(X, Y)\n",
    "pls.coef_"
   ]
  },
  {
   "cell_type": "markdown",
   "id": "a00592ba",
   "metadata": {},
   "source": [
    "- Similar to PCR, we will use cross-validation (CV) to determine the optimal number of components."
   ]
  },
  {
   "cell_type": "code",
   "execution_count": 77,
   "id": "043f27fa",
   "metadata": {},
   "outputs": [],
   "source": [
    "# Create a dictionary of n_components\n",
    "param_grid = {'n_components':range(1, 20)}\n",
    "# Set and fit the grid search\n",
    "pls = PLSRegression(n_components=2, scale=True)\n",
    "grid_pls = skm.GridSearchCV(pls, param_grid, cv=kfold,\n",
    "                        scoring='neg_mean_squared_error')\n",
    "grid_pls.fit(X, Y);"
   ]
  },
  {
   "cell_type": "code",
   "execution_count": 78,
   "id": "b702fb04",
   "metadata": {},
   "outputs": [
    {
     "data": {
      "image/png": "[encoded data removed]",
      "text/plain": [
       "<Figure size 800x800 with 1 Axes>"
      ]
     },
     "metadata": {},
     "output_type": "display_data"
    }
   ],
   "source": [
    "# Set the figure\n",
    "pls_fig, ax = plt.subplots(figsize=(8,8))\n",
    "n_comp = param_grid['n_components']\n",
    "ax.errorbar(n_comp, # from 1 to 19\n",
    "            -grid_pls.cv_results_['mean_test_score'],\n",
    "            grid_pls.cv_results_['std_test_score'] / np.sqrt(K))\n",
    "ax.set_ylabel('Cross-validated MSE')\n",
    "ax.set_xlabel('# principal components')\n",
    "ax.set_xticks(n_comp); ax.set_ylim([50000,250000]);"
   ]
  },
  {
   "cell_type": "markdown",
   "id": "fc9ec466",
   "metadata": {},
   "source": [
    "- The CV error is minimized at 12 components, but there is only a small difference in performance compared to using just 2 or 3 components.\n",
    "- We show the cross-validated MSE. The best cross-validated MSE of PCA is 121830.867."
   ]
  },
  {
   "cell_type": "code",
   "execution_count": 79,
   "id": "95ef9e71",
   "metadata": {},
   "outputs": [
    {
     "name": "stdout",
     "output_type": "stream",
     "text": [
      "Best test MSE: 114684.61271597291\n"
     ]
    }
   ],
   "source": [
    "# Retrieve the best cross-validation score (negative MSE)\n",
    "print(\"Best test MSE:\", -grid_pls.best_score_)"
   ]
  },
  {
   "cell_type": "code",
   "execution_count": 80,
   "id": "3968264b",
   "metadata": {},
   "outputs": [
    {
     "data": {
      "text/plain": [
       "array([[-2.32992558e+00,  8.26335294e+00,  2.89679183e+00,\n",
       "        -1.19106620e+00, -1.11285475e+00,  6.24444457e+00,\n",
       "        -9.47365759e+00, -6.85457537e-02,  2.24296795e-01,\n",
       "         9.67344689e-01,  7.81606471e-01,  3.60963108e-01,\n",
       "        -7.41734162e-01,  4.77892567e+01, -1.21742412e+02,\n",
       "         2.82834400e-01,  3.15542697e-01, -2.62713059e+00,\n",
       "        -1.51324511e+01]])"
      ]
     },
     "execution_count": 80,
     "metadata": {},
     "output_type": "execute_result"
    }
   ],
   "source": [
    "# Retrieve the best estimator\n",
    "best_pls = grid_pls.best_estimator_\n",
    "# Show the coefficients of the best model\n",
    "best_pls.coef_"
   ]
  }
 ],
 "metadata": {
  "jupytext": {
   "cell_metadata_filter": "-all",
   "main_language": "python",
   "notebook_metadata_filter": "-all"
  },
  "kernelspec": {
   "display_name": "Python 3 (ipykernel)",
   "language": "python",
   "name": "python3"
  },
  "language_info": {
   "codemirror_mode": {
    "name": "ipython",
    "version": 3
   },
   "file_extension": ".py",
   "mimetype": "text/x-python",
   "name": "python",
   "nbconvert_exporter": "python",
   "pygments_lexer": "ipython3",
   "version": "3.11.9"
  }
 },
 "nbformat": 4,
 "nbformat_minor": 5
}
