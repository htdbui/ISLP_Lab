{
 "cells": [
  {
   "cell_type": "markdown",
   "id": "094f617d-4899-4428-a6cc-c6b9b027c255",
   "metadata": {},
   "source": [
    "# Load Packages"
   ]
  },
  {
   "cell_type": "markdown",
   "id": "8fdac296-1121-4528-a6fb-b10597f1b386",
   "metadata": {},
   "source": [
    "- We use `torch`package.\n",
    "- We use `pytorch_lightning` packages to simplify fitting and evaluate models."
   ]
  },
  {
   "cell_type": "code",
   "execution_count": 1,
   "id": "71bd6b71",
   "metadata": {
    "lines_to_next_cell": 2
   },
   "outputs": [],
   "source": [
    "import numpy as np, pandas as pd, matplotlib.pyplot as plt\n",
    "from sklearn.linear_model import \\\n",
    "     (LinearRegression,\n",
    "      LogisticRegression,\n",
    "      Lasso)\n",
    "from sklearn.preprocessing import StandardScaler\n",
    "from sklearn.model_selection import KFold, train_test_split, GridSearchCV\n",
    "from sklearn.pipeline import Pipeline\n",
    "from ISLP import load_data\n",
    "from ISLP.models import ModelSpec as MS"
   ]
  },
  {
   "cell_type": "markdown",
   "id": "9b799d88",
   "metadata": {},
   "source": [
    "### Torch-Specific Imports\n",
    "There are a number of imports for `torch`. (These are not\n",
    "included with `ISLP`, so must be installed separately.)\n",
    "First we import the main library\n",
    "and essential tools used to specify sequentially-structured networks."
   ]
  },
  {
   "cell_type": "markdown",
   "id": "b53d64db-af55-48a3-bb2f-acddf81c9ad6",
   "metadata": {},
   "source": [
    "- Main library and essential tools to specify sequentially-structured networks"
   ]
  },
  {
   "cell_type": "code",
   "execution_count": 2,
   "id": "3298bdf1",
   "metadata": {},
   "outputs": [],
   "source": [
    "import torch\n",
    "from torch import nn\n",
    "from torch.optim import RMSprop\n",
    "from torch.utils.data import TensorDataset"
   ]
  },
  {
   "cell_type": "markdown",
   "id": "d08cce9d-038e-4154-829a-f145909e6eda",
   "metadata": {},
   "source": [
    "- Tools from `torchmetrics` to compute metrics to evaluate performance.\n",
    "- Tools from `torchinfo` to summarize info of the layers of a model.\n",
    "    - `read_image()` load test images"
   ]
  },
  {
   "cell_type": "code",
   "execution_count": 3,
   "id": "aeae9bd9",
   "metadata": {},
   "outputs": [],
   "source": [
    "from torchmetrics import (MeanAbsoluteError,\n",
    "                          R2Score)\n",
    "import torchinfo"
   ]
  },
  {
   "cell_type": "markdown",
   "id": "93a3e7e5-013f-460b-8cd6-0c4ef6792d8e",
   "metadata": {},
   "source": [
    "- `pytorch_lightning` package simplifies the specification and fitting and evaluate models by reducing amount of boilerplate code needed.\n",
    "- `pytorch_lightning` is higher-level interface than `torch`.\n",
    "- `pytorch_lightning` is a high-level module for fitting `torch` models"
   ]
  },
  {
   "cell_type": "code",
   "execution_count": 4,
   "id": "a5a39702",
   "metadata": {},
   "outputs": [],
   "source": [
    "from pytorch_lightning import Trainer\n",
    "from pytorch_lightning.loggers import CSVLogger"
   ]
  },
  {
   "cell_type": "markdown",
   "id": "e1b27f4d",
   "metadata": {},
   "source": [
    "- `seed_everything()` set seed.\n",
    "- `use_deterministic_algorithms` fix algorithms."
   ]
  },
  {
   "cell_type": "code",
   "execution_count": 5,
   "id": "11bf06a4",
   "metadata": {},
   "outputs": [
    {
     "name": "stderr",
     "output_type": "stream",
     "text": [
      "Seed set to 0\n"
     ]
    }
   ],
   "source": [
    "from pytorch_lightning import seed_everything\n",
    "seed_everything(0, workers=True)\n",
    "torch.use_deterministic_algorithms(True, warn_only=True)"
   ]
  },
  {
   "cell_type": "markdown",
   "id": "4bd719f8",
   "metadata": {},
   "source": [
    "- We use datasets from `torchvision`.\n",
    "- We use transforms from `torchvision` for preprocessing.\n",
    "- We use a pretrained network for image classification"
   ]
  },
  {
   "cell_type": "code",
   "execution_count": 6,
   "id": "062cd869",
   "metadata": {
    "lines_to_next_cell": 0
   },
   "outputs": [],
   "source": [
    "from torchvision.io import read_image\n",
    "from torchvision.datasets import MNIST, CIFAR100\n",
    "from torchvision.models import (resnet50, ResNet50_Weights)\n",
    "from torchvision.transforms import (Resize,\n",
    "                                    Normalize,\n",
    "                                    CenterCrop,\n",
    "                                    ToTensor)"
   ]
  },
  {
   "cell_type": "markdown",
   "id": "7c2a507a",
   "metadata": {},
   "source": [
    "- `SimpleDataModule` and `SimpleModule` from `ISLP.torch` are simple versions of objects used in `pytorch_lightning`.\n",
    "- `ErrorTracker` collects targets and predictions over each mini-batch during validation or testing, enabling metric computation over the entire validation or test data set."
   ]
  },
  {
   "cell_type": "code",
   "execution_count": 7,
   "id": "4a05884a",
   "metadata": {},
   "outputs": [],
   "source": [
    "from ISLP.torch import (SimpleDataModule,\n",
    "                        SimpleModule,\n",
    "                        ErrorTracker,\n",
    "                        rec_num_workers)"
   ]
  },
  {
   "cell_type": "markdown",
   "id": "b7b882b7-e23d-4ff0-821d-c859fc88c60a",
   "metadata": {},
   "source": [
    "- We use helper functions from `ISLP.torch.imdb` to load data, lookup that maps integers to keys in data.\n",
    "- We use a modified copy of the preprocessed `imdb` data from `keras`. It saves time for preprocessing.\n",
    "    - `keras` is a separate package for fitting deep learning models."
   ]
  },
  {
   "cell_type": "code",
   "execution_count": 8,
   "id": "1474e88b",
   "metadata": {},
   "outputs": [],
   "source": [
    "from ISLP.torch.imdb import (load_lookup,\n",
    "                             load_tensor,\n",
    "                             load_sparse,\n",
    "                             load_sequential)\n"
   ]
  },
  {
   "cell_type": "markdown",
   "id": "59a9d9b2-b2f7-44e4-971f-1d6ef923e63d",
   "metadata": {},
   "source": [
    "- We use `glob()` from `glob` package to find all files matching wildcard characters.\n",
    "- We use `json` module to load JSON file for looking up classes to identify labels of the pictures in `ResNet50`."
   ]
  },
  {
   "cell_type": "code",
   "execution_count": 9,
   "id": "0100ff28",
   "metadata": {
    "lines_to_next_cell": 2
   },
   "outputs": [],
   "source": [
    "from glob import glob\n",
    "import json"
   ]
  },
  {
   "cell_type": "markdown",
   "id": "b1696423-025f-419b-a92a-d60749cbf4d8",
   "metadata": {},
   "source": [
    "# Convolutional Neural Networks\n",
    "- Source: Canadian Institute for Advanced Research (CIFAR).\n",
    "- Size: 60,000 images in total.\n",
    "    - Training: 50,000 images.\n",
    "    - Test: 10,000 images.\n",
    "- Image Details:\n",
    "    - Resolution: 32x32 pixels (1024 pixels per image).\n",
    "    - Channels: 3 (Red, Green, Blue).\n",
    "    - Pixel Values: Integer values from 0 to 255.\n",
    "- Class Structure:\n",
    "    - 100 classes, each containing 600 images.\n",
    "    - These 100 classes are grouped into 20 superclasses, each containing 5 classes."
   ]
  },
  {
   "cell_type": "code",
   "execution_count": 10,
   "id": "e8f385bc",
   "metadata": {},
   "outputs": [
    {
     "name": "stdout",
     "output_type": "stream",
     "text": [
      "Files already downloaded and verified\n",
      "Files already downloaded and verified\n"
     ]
    }
   ],
   "source": [
    "cifar_train = CIFAR100(root=\"data\", train=True, download=True, transform=ToTensor())\n",
    "cifar_test = CIFAR100(root=\"data\", train=False, download=True, transform=ToTensor())\n",
    "# cifar_train, cifar_test = [CIFAR100(root=\"data\", train=train, download=True) for train in [True, False]]"
   ]
  },
  {
   "cell_type": "code",
   "execution_count": 11,
   "id": "0c31f9ad",
   "metadata": {},
   "outputs": [
    {
     "data": {
      "image/png": "[encoded data removed]",
      "text/plain": [
       "<Figure size 1000x400 with 4 Axes>"
      ]
     },
     "metadata": {},
     "output_type": "display_data"
    }
   ],
   "source": [
    "# Get one image and its label from the training set\n",
    "image, label = cifar_train[0]\n",
    "# Convert the image tensor to a numpy array and transpose it to (H, W, C) format\n",
    "image = image.numpy().transpose((1, 2, 0))\n",
    "# Display the image\n",
    "plt.figure(figsize=(10, 4))\n",
    "plt.subplot(1, 4, 1)\n",
    "plt.imshow(image); plt.title(f'Label: {label}')\n",
    "plt.subplot(1, 4, 2)\n",
    "plt.imshow(image[:,:,0], cmap='Reds'); plt.title('Red Channel')\n",
    "plt.subplot(1, 4, 3)\n",
    "plt.imshow(image[:,:,1], cmap='Greens'); plt.title('Green Channel')\n",
    "plt.subplot(1, 4, 4)\n",
    "plt.imshow(image[:,:,2], cmap='Blues'); plt.title('Blue Channel');"
   ]
  },
  {
   "cell_type": "code",
   "execution_count": 12,
   "id": "81be46fa",
   "metadata": {},
   "outputs": [
    {
     "name": "stdout",
     "output_type": "stream",
     "text": [
      "torch.Size([3, 32, 32])\n"
     ]
    },
    {
     "data": {
      "text/plain": [
       "(tensor([[[1.0000, 1.0000, 1.0000,  ..., 0.7647, 0.8314, 0.7137],\n",
       "          [1.0000, 0.9961, 0.9961,  ..., 0.6667, 0.6314, 0.5725],\n",
       "          [1.0000, 0.9961, 1.0000,  ..., 0.7412, 0.6510, 0.4745],\n",
       "          ...,\n",
       "          [0.5804, 0.5569, 0.5490,  ..., 0.1176, 0.2549, 0.2980],\n",
       "          [0.4784, 0.4706, 0.4941,  ..., 0.0863, 0.3804, 0.5529],\n",
       "          [0.3412, 0.3451, 0.3961,  ..., 0.1333, 0.4118, 0.5412]],\n",
       " \n",
       "         [[1.0000, 1.0000, 1.0000,  ..., 0.8039, 0.8784, 0.7608],\n",
       "          [1.0000, 0.9961, 0.9961,  ..., 0.6902, 0.6588, 0.6039],\n",
       "          [1.0000, 0.9961, 1.0000,  ..., 0.7804, 0.6980, 0.5216],\n",
       "          ...,\n",
       "          [0.7255, 0.7137, 0.7020,  ..., 0.0667, 0.2431, 0.3020],\n",
       "          [0.6157, 0.6078, 0.6275,  ..., 0.0627, 0.4392, 0.6314],\n",
       "          [0.4784, 0.4784, 0.5255,  ..., 0.1412, 0.5216, 0.6784]],\n",
       " \n",
       "         [[1.0000, 1.0000, 1.0000,  ..., 0.7569, 0.8000, 0.6549],\n",
       "          [1.0000, 0.9961, 0.9961,  ..., 0.5882, 0.5098, 0.4431],\n",
       "          [1.0000, 0.9961, 1.0000,  ..., 0.6627, 0.5098, 0.3412],\n",
       "          ...,\n",
       "          [0.3098, 0.2235, 0.2353,  ..., 0.0039, 0.0588, 0.0784],\n",
       "          [0.2588, 0.2275, 0.2784,  ..., 0.0118, 0.2196, 0.3412],\n",
       "          [0.1608, 0.1529, 0.2196,  ..., 0.0392, 0.2314, 0.3098]]]),\n",
       " 19)"
      ]
     },
     "execution_count": 12,
     "metadata": {},
     "output_type": "execute_result"
    }
   ],
   "source": [
    "print(cifar_train[0][0].shape)\n",
    "cifar_train[0]"
   ]
  },
  {
   "cell_type": "code",
   "execution_count": 13,
   "id": "3fd4fddc",
   "metadata": {},
   "outputs": [
    {
     "name": "stdout",
     "output_type": "stream",
     "text": [
      "Image shape: (32, 32, 3)\n"
     ]
    },
    {
     "data": {
      "text/plain": [
       "array([[[1.        , 1.        , 1.        ],\n",
       "        [1.        , 1.        , 1.        ],\n",
       "        [1.        , 1.        , 1.        ],\n",
       "        ...,\n",
       "        [0.7647059 , 0.8039216 , 0.75686276],\n",
       "        [0.83137256, 0.8784314 , 0.8       ],\n",
       "        [0.7137255 , 0.7607843 , 0.654902  ]],\n",
       "\n",
       "       [[1.        , 1.        , 1.        ],\n",
       "        [0.99607843, 0.99607843, 0.99607843],\n",
       "        [0.99607843, 0.99607843, 0.99607843],\n",
       "        ...,\n",
       "        [0.6666667 , 0.6901961 , 0.5882353 ],\n",
       "        [0.6313726 , 0.65882355, 0.50980395],\n",
       "        [0.57254905, 0.6039216 , 0.44313726]],\n",
       "\n",
       "       [[1.        , 1.        , 1.        ],\n",
       "        [0.99607843, 0.99607843, 0.99607843],\n",
       "        [1.        , 1.        , 1.        ],\n",
       "        ...,\n",
       "        [0.7411765 , 0.78039217, 0.6627451 ],\n",
       "        [0.6509804 , 0.69803923, 0.50980395],\n",
       "        [0.4745098 , 0.52156866, 0.34117648]],\n",
       "\n",
       "       ...,\n",
       "\n",
       "       [[0.5803922 , 0.7254902 , 0.30980393],\n",
       "        [0.5568628 , 0.7137255 , 0.22352941],\n",
       "        [0.54901963, 0.7019608 , 0.23529412],\n",
       "        ...,\n",
       "        [0.11764706, 0.06666667, 0.00392157],\n",
       "        [0.25490198, 0.24313726, 0.05882353],\n",
       "        [0.29803923, 0.3019608 , 0.07843138]],\n",
       "\n",
       "       [[0.47843137, 0.6156863 , 0.25882354],\n",
       "        [0.47058824, 0.60784316, 0.22745098],\n",
       "        [0.49411765, 0.627451  , 0.2784314 ],\n",
       "        ...,\n",
       "        [0.08627451, 0.0627451 , 0.01176471],\n",
       "        [0.38039216, 0.4392157 , 0.21960784],\n",
       "        [0.5529412 , 0.6313726 , 0.34117648]],\n",
       "\n",
       "       [[0.34117648, 0.47843137, 0.16078432],\n",
       "        [0.34509805, 0.47843137, 0.15294118],\n",
       "        [0.39607844, 0.5254902 , 0.21960784],\n",
       "        ...,\n",
       "        [0.13333334, 0.14117648, 0.03921569],\n",
       "        [0.4117647 , 0.52156866, 0.23137255],\n",
       "        [0.5411765 , 0.6784314 , 0.30980393]]], dtype=float32)"
      ]
     },
     "execution_count": 13,
     "metadata": {},
     "output_type": "execute_result"
    }
   ],
   "source": [
    "print(f\"Image shape: {image.shape}\")\n",
    "image"
   ]
  },
  {
   "cell_type": "markdown",
   "id": "d74d7844",
   "metadata": {},
   "source": [
    "- Second approach to load and transform data.\n",
    "```python\n",
    "cifar_train = CIFAR100(root=\"data\", train=True, download=True)\n",
    "cifar_test = CIFAR100(root=\"data\", train=False, download=True)\n",
    "```\n",
    "- Load data first and the transform manually.\n",
    "```python\n",
    "transform = ToTensor()\n",
    "cifar_train_X = torch.stack([transform(x) for x in cifar_train.data])\n",
    "cifar_test_X = torch.stack([transform(x) for x in cifar_test.data])\n",
    "# Create TensorDataset\n",
    "cifar_train = TensorDataset(cifar_train_X, torch.tensor(cifar_train.targets))\n",
    "cifar_test = TensorDataset(cifar_test_X, torch.tensor(cifar_test.targets))\n",
    "```"
   ]
  },
  {
   "cell_type": "markdown",
   "id": "7f068c4e",
   "metadata": {},
   "source": [
    "- `ToTensor()` converts a PIL image or numpy.ndarray (H x W x C) in the range [0, 255] to a torch.FloatTensor of shape (C x H x W) in the range [0.0, 1.0].\n",
    "- We create a data module (_dm) from the training and test datasets, reserving 20% of the training images for validation."
   ]
  },
  {
   "cell_type": "code",
   "execution_count": 14,
   "id": "511dbc02-e87f-48b9-993c-71b347dee656",
   "metadata": {
    "lines_to_next_cell": 0
   },
   "outputs": [],
   "source": [
    "max_num_workers = rec_num_workers()\n",
    "cifar_dm = SimpleDataModule(cifar_train, cifar_test,\n",
    "                            validation=0.2,\n",
    "                            num_workers=max_num_workers,\n",
    "                            batch_size=128)"
   ]
  },
  {
   "cell_type": "markdown",
   "id": "d0013848-bec8-4e22-b15f-39cbbdb6e6d5",
   "metadata": {},
   "source": [
    "- We look at the data that will get fed into our network. We loop through the first two chunks of the training dataset:\n",
    "    - We iterate the first two batches of the training set and display its shape.\n",
    "    - Each batch size is 128 images.\n",
    "    - Each image has dimensions 3 x 32 x 32: 3 channels (RGB), 32 rows, and 32 columns."
   ]
  },
  {
   "cell_type": "code",
   "execution_count": 15,
   "id": "83c645cf-5bfa-4b50-8970-2456e1e09c38",
   "metadata": {
    "lines_to_next_cell": 2
   },
   "outputs": [
    {
     "name": "stdout",
     "output_type": "stream",
     "text": [
      "X:  torch.Size([128, 3, 32, 32])\n",
      "Y:  torch.Size([128])\n",
      "X:  torch.Size([128, 3, 32, 32])\n",
      "Y:  torch.Size([128])\n"
     ]
    }
   ],
   "source": [
    "for idx, (X_ ,Y_) in enumerate(cifar_dm.train_dataloader()):\n",
    "    print('X: ', X_.shape)\n",
    "    print('Y: ', Y_.shape)\n",
    "    if idx >= 1:\n",
    "        break"
   ]
  },
  {
   "cell_type": "code",
   "execution_count": 16,
   "id": "a1ef75bb-eafe-4514-8d6d-1d2fc162abb2",
   "metadata": {
    "lines_to_next_cell": 0
   },
   "outputs": [
    {
     "data": {
      "image/png": "[encoded data removed]",
      "text/plain": [
       "<Figure size 1000x1000 with 25 Axes>"
      ]
     },
     "metadata": {},
     "output_type": "display_data"
    }
   ],
   "source": [
    "fig, axes = plt.subplots(5, 5, figsize=(10,10))\n",
    "rng = np.random.default_rng(5)\n",
    "indices = rng.choice(np.arange(len(cifar_train)), 25,\n",
    "                     replace=False).reshape((5,5))\n",
    "for i in range(5):\n",
    "    for j in range(5):\n",
    "        idx = indices[i,j]\n",
    "        axes[i,j].imshow(np.transpose(cifar_train[idx][0],\n",
    "                                      [1,2,0]),\n",
    "                                      interpolation=None)\n",
    "        axes[i,j].set_xticks([])\n",
    "        axes[i,j].set_yticks([])"
   ]
  },
  {
   "cell_type": "markdown",
   "id": "d1e449c8",
   "metadata": {},
   "source": [
    "- `imshow()` recognizes the shape of the its argument that it is a 3-dimensional tensor. The last dimension is the number of channels.\n",
    "- We define class `BuildingBlock` that inherits from `nn.Module`.\n",
    "    - The constructor method initializes the instance with the number of input channels, output channels.\n",
    "    - Convolutional Layer: `self.conv = ...` defines a 2D convolutional layer with a 3x3 kernel and 'same' padding, meaning the output size will be the same as the input size.\n",
    "    - Pooling Layer: `self.pool = ...` defines a max-pooling layer with a 2x2 kernel, which reduces the spatial dimensions of the input by a factor of 2.\n",
    "    - Forward method: the input `x` is passed through the convolutional layer (`self.conv(x)`), followed by a ReLU activation function(`self.activation`), and then through the pooling layer (`self.pool`)."
   ]
  },
  {
   "cell_type": "code",
   "execution_count": 17,
   "id": "b3e44e03-5528-4a43-8107-9ddbfc74b76b",
   "metadata": {},
   "outputs": [],
   "source": [
    "class BuildingBlock(nn.Module):\n",
    "    def __init__(self, in_channels, out_channels):\n",
    "        super(BuildingBlock, self).__init__()\n",
    "        self.conv = nn.Conv2d(in_channels=in_channels,\n",
    "                              out_channels=out_channels,\n",
    "                              kernel_size=(3,3),\n",
    "                              padding='same')\n",
    "        self.activation = nn.ReLU()\n",
    "        self.pool = nn.MaxPool2d(kernel_size=(2,2))\n",
    "    def forward(self, x):\n",
    "        return self.pool(self.activation(self.conv(x)))"
   ]
  },
  {
   "cell_type": "markdown",
   "id": "a3f41880",
   "metadata": {},
   "source": [
    "- We define class `CIFARModel` that inherits from `nn.Module`.\n",
    "    - The constructor method initializes the instance inheriting from `nn.Module`.\n",
    "        - We set the size of input and output for each convolutional layer.\n",
    "        - We create a sequential container of `BuildingBlock` modules, each defined by the sizes in the list.\n",
    "            - Each `BuildingBlock` module has a convolutional layer, a ReLU activation function, and a max-pooling layer.\n",
    "        - We define a fully connected layer:\n",
    "            - `nn.Dropout(0.5)` applies dropout with a probability of 0.5 to prevent overfitting.\n",
    "            - `nn.Linear(2*2*256, 512)` defines a fully connected layer with 512 output features.\n",
    "                - The final convolutional layer has 256 channels, and the spatial dimensions are 2x2.\n",
    "            - `nn.ReLU()` applies a ReLU activation function.\n",
    "            - `nn.Linear(512, 100)` defines a fully connected layer that maps 512 units to 100 output classes (for CIFAR-100).\n",
    "        - The forward method passes the input `x` through the convolutional layers (`self.conv(x)`), then flattens the output (`torch.flatten(val, start_dim=1)`) which is 1D tensor, starting from the first dimension. The output is passed through the fully connected layer (`self.output(val)`).\n",
    "    "
   ]
  },
  {
   "cell_type": "code",
   "execution_count": 18,
   "id": "92af30e3-efe7-45f2-8b0f-51428e57fbc9",
   "metadata": {},
   "outputs": [],
   "source": [
    "class CIFARModel(nn.Module):\n",
    "    def __init__(self):\n",
    "        super(CIFARModel, self).__init__()\n",
    "        sizes = [(3,32),\n",
    "                 (32,64),\n",
    "                 (64,128),\n",
    "                 (128,256)]\n",
    "        self.conv = nn.Sequential(*[BuildingBlock(in_, out_)\n",
    "                                    for in_, out_ in sizes])\n",
    "\n",
    "        self.output = nn.Sequential(nn.Dropout(0.5),\n",
    "                                    nn.Linear(2*2*256, 512),\n",
    "                                    nn.ReLU(),\n",
    "                                    nn.Linear(512, 100))\n",
    "    def forward(self, x):\n",
    "        val = self.conv(x)\n",
    "        val = torch.flatten(val, start_dim=1)\n",
    "        return self.output(val)"
   ]
  },
  {
   "cell_type": "markdown",
   "id": "8527939f",
   "metadata": {},
   "source": [
    "- The first image (3x32x32) of the training set is:\n",
    "    ```python\n",
    "    (tensor([[[1.0000, 1.0000, 1.0000,  ..., 0.7647, 0.8314, 0.7137],\n",
    "            [1.0000, 0.9961, 0.9961,  ..., 0.6667, 0.6314, 0.5725],\n",
    "            [1.0000, 0.9961, 1.0000,  ..., 0.7412, 0.6510, 0.4745],\n",
    "            ...,\n",
    "            [0.5804, 0.5569, 0.5490,  ..., 0.1176, 0.2549, 0.2980],\n",
    "            [0.4784, 0.4706, 0.4941,  ..., 0.0863, 0.3804, 0.5529],\n",
    "            [0.3412, 0.3451, 0.3961,  ..., 0.1333, 0.4118, 0.5412]],\n",
    "    \n",
    "            [[1.0000, 1.0000, 1.0000,  ..., 0.8039, 0.8784, 0.7608],\n",
    "            [1.0000, 0.9961, 0.9961,  ..., 0.6902, 0.6588, 0.6039],\n",
    "            [1.0000, 0.9961, 1.0000,  ..., 0.7804, 0.6980, 0.5216],\n",
    "            ...,\n",
    "            [0.7255, 0.7137, 0.7020,  ..., 0.0667, 0.2431, 0.3020],\n",
    "            [0.6157, 0.6078, 0.6275,  ..., 0.0627, 0.4392, 0.6314],\n",
    "            [0.4784, 0.4784, 0.5255,  ..., 0.1412, 0.5216, 0.6784]],\n",
    "    \n",
    "            [[1.0000, 1.0000, 1.0000,  ..., 0.7569, 0.8000, 0.6549],\n",
    "            [1.0000, 0.9961, 0.9961,  ..., 0.5882, 0.5098, 0.4431],\n",
    "            [1.0000, 0.9961, 1.0000,  ..., 0.6627, 0.5098, 0.3412],\n",
    "            ...,\n",
    "            [0.3098, 0.2235, 0.2353,  ..., 0.0039, 0.0588, 0.0784],\n",
    "            [0.2588, 0.2275, 0.2784,  ..., 0.0118, 0.2196, 0.3412],\n",
    "            [0.1608, 0.1529, 0.2196,  ..., 0.0392, 0.2314, 0.3098]]]),\n",
    "    19)\n",
    "    ```"
   ]
  },
  {
   "cell_type": "markdown",
   "id": "14758388",
   "metadata": {},
   "source": [
    "1. The `CIFARModel` instance is initialized, creating a sequence of `BuildingBlock` modules and a fully connected layer.\n",
    "2. The first `BuildingBlock` takes the input image (3x32x32) and apply 32 filters (kernels), each is 3x3. Example for the first element (top-left) of the first image:\n",
    "    - Red Channel:\n",
    "        ```python\n",
    "        [[1.0000, 1.0000, 1.0000],\n",
    "        [1.0000, 0.9961, 0.9961],\n",
    "        [1.0000, 0.9961, 1.0000]]\n",
    "        ```\n",
    "    - Green Channel:\n",
    "        ```python\n",
    "        [[1.0000, 1.0000, 1.0000],\n",
    "        [1.0000, 0.9961, 0.9961],\n",
    "        [1.0000, 0.9961, 1.0000]]\n",
    "        ```\n",
    "    - Blue Channel:\n",
    "        ```python\n",
    "        [[1.0000, 1.0000, 1.0000],\n",
    "        [1.0000, 0.9961, 0.9961],\n",
    "        [1.0000, 0.9961, 1.0000]]\n",
    "        ```\n",
    "    - Apply the first filter (not true number, just for example):\n",
    "        ```python\n",
    "        [[1, 0, -1],\n",
    "        [1, 0, -1],\n",
    "        [1, 0, -1]]\n",
    "        ```\n",
    "    - Each element of kernel multiply with the corresponding element of each channel:\n",
    "        ```python\n",
    "        Red                             Green                           Blue\n",
    "        [[ 1.0000,  0.0000, -1.0000],   [[ 1.0000,  0.0000, -1.0000],   [[ 1.0000,  0.0000, -1.0000],\n",
    "        [ 1.0000,  0.0000, -0.9961],    [ 1.0000,  0.0000, -0.9961],    [ 1.0000,  0.0000, -0.9961],\n",
    "        [ 1.0000,  0.0000, -1.0000]]    [ 1.0000,  0.0000, -1.0000]]    [ 1.0000,  0.0000, -1.0000]]\n",
    "        ```\n",
    "    - Sum the results across the channels:\n",
    "        ```python\n",
    "        (1.0000 + 1.0000 + 1.0000) + (0.0000 + 0.0000 + 0.0000) + (-1.0000 - 1.0000 - 1.0000) +\n",
    "        (1.0000 + 1.0000 + 1.0000) + (0.0000 + 0.0000 + 0.0000) + (-0.9961 - 0.9961 - 0.9961) +\n",
    "        (1.0000 + 1.0000 + 1.0000) + (0.0000 + 0.0000 + 0.0000) + (-1.0000 - 1.0000 - 1.0000) = 0.0117\n",
    "        ```\n",
    "    - The value at the top-left corner of the output feature map for this filter is 0.0117.\n",
    "    - `padding = \"same\"` ensures that in the end of right and bottom sides, filter can be applied, resulting in the same 32 x 32 of the input.\n",
    "    - Each filter is applied to the entire image, resulting in a 32 x 32 feature map.\n",
    "    - The output of the first convolutional layer is 32 x 32 x 32 because of 32 filters."
   ]
  },
  {
   "cell_type": "markdown",
   "id": "755d214d",
   "metadata": {},
   "source": [
    "3. The output of the first convolutional layer is passed through the ReLU activation function.\n",
    "4. The output of the ReLU activation function is passed through the max-pooling layer, which reduces the spatial dimensions by a factor of 2. Example for max-pooling:\n",
    "    ```python\n",
    "    [[1, 2, 3, 4],      \n",
    "    [5, 6, 7, 8]]  ->   [6, 8]\n",
    "    ```\n",
    "5. Sequential `BuildingBlock`: \n",
    "    - The output of the first `BuildingBlock` is 32x16x16. It passes through the second `BuildingBlock`.\n",
    "    - The output of the second `BuildingBlock` is 64x8x8. -//-\n",
    "    - The output of the third `BuildingBlock` is 128x4x4. -//-\n",
    "    - The output of the fourth `BuildingBlock` is 256x2x2.\n",
    "6. The output of the fourth `BuildingBlock` is flattened to a 1D tensor of size 1024 (256x2x2). Then it passes through the fully connected layer.\n",
    "    - First, apply dropout with a probability of 0.5 to prevent overfitting.\n",
    "    - Then, it passes through a layer with 512 output features.\n",
    "    - Apply ReLU activation function.\n",
    "    - Finally, it passes through a layer with 100 output features.\n"
   ]
  },
  {
   "cell_type": "markdown",
   "id": "e42a1ba3-c31e-4a3c-8c94-a55d1ed46999",
   "metadata": {},
   "source": [
    "- We check with examples of `X_` containing only two images."
   ]
  },
  {
   "cell_type": "code",
   "execution_count": 19,
   "id": "89ee92c5-7107-4165-a458-459a6140b632",
   "metadata": {
    "lines_to_next_cell": 2
   },
   "outputs": [
    {
     "data": {
      "text/plain": [
       "===================================================================================================================\n",
       "Layer (type:depth-idx)                   Input Shape               Output Shape              Param #\n",
       "===================================================================================================================\n",
       "CIFARModel                               [128, 3, 32, 32]          [128, 100]                --\n",
       "├─Sequential: 1-1                        [128, 3, 32, 32]          [128, 256, 2, 2]          --\n",
       "│    └─BuildingBlock: 2-1                [128, 3, 32, 32]          [128, 32, 16, 16]         --\n",
       "│    │    └─Conv2d: 3-1                  [128, 3, 32, 32]          [128, 32, 32, 32]         896\n",
       "│    │    └─ReLU: 3-2                    [128, 32, 32, 32]         [128, 32, 32, 32]         --\n",
       "│    │    └─MaxPool2d: 3-3               [128, 32, 32, 32]         [128, 32, 16, 16]         --\n",
       "│    └─BuildingBlock: 2-2                [128, 32, 16, 16]         [128, 64, 8, 8]           --\n",
       "│    │    └─Conv2d: 3-4                  [128, 32, 16, 16]         [128, 64, 16, 16]         18,496\n",
       "│    │    └─ReLU: 3-5                    [128, 64, 16, 16]         [128, 64, 16, 16]         --\n",
       "│    │    └─MaxPool2d: 3-6               [128, 64, 16, 16]         [128, 64, 8, 8]           --\n",
       "│    └─BuildingBlock: 2-3                [128, 64, 8, 8]           [128, 128, 4, 4]          --\n",
       "│    │    └─Conv2d: 3-7                  [128, 64, 8, 8]           [128, 128, 8, 8]          73,856\n",
       "│    │    └─ReLU: 3-8                    [128, 128, 8, 8]          [128, 128, 8, 8]          --\n",
       "│    │    └─MaxPool2d: 3-9               [128, 128, 8, 8]          [128, 128, 4, 4]          --\n",
       "│    └─BuildingBlock: 2-4                [128, 128, 4, 4]          [128, 256, 2, 2]          --\n",
       "│    │    └─Conv2d: 3-10                 [128, 128, 4, 4]          [128, 256, 4, 4]          295,168\n",
       "│    │    └─ReLU: 3-11                   [128, 256, 4, 4]          [128, 256, 4, 4]          --\n",
       "│    │    └─MaxPool2d: 3-12              [128, 256, 4, 4]          [128, 256, 2, 2]          --\n",
       "├─Sequential: 1-2                        [128, 1024]               [128, 100]                --\n",
       "│    └─Dropout: 2-5                      [128, 1024]               [128, 1024]               --\n",
       "│    └─Linear: 2-6                       [128, 1024]               [128, 512]                524,800\n",
       "│    └─ReLU: 2-7                         [128, 512]                [128, 512]                --\n",
       "│    └─Linear: 2-8                       [128, 512]                [128, 100]                51,300\n",
       "===================================================================================================================\n",
       "Total params: 964,516\n",
       "Trainable params: 964,516\n",
       "Non-trainable params: 0\n",
       "Total mult-adds (Units.GIGABYTES): 2.01\n",
       "===================================================================================================================\n",
       "Input size (MB): 1.57\n",
       "Forward/backward pass size (MB): 63.54\n",
       "Params size (MB): 3.86\n",
       "Estimated Total Size (MB): 68.97\n",
       "==================================================================================================================="
      ]
     },
     "execution_count": 19,
     "metadata": {},
     "output_type": "execute_result"
    }
   ],
   "source": [
    "cifar_model = CIFARModel()\n",
    "torchinfo.summary(cifar_model,\n",
    "        input_data=X_,\n",
    "        col_names=['input_size',\n",
    "                   'output_size',\n",
    "                   'num_params'])"
   ]
  },
  {
   "cell_type": "markdown",
   "id": "6a17c1df",
   "metadata": {},
   "source": [
    "- The total number of trainable parameters is 964,516.\n",
    "- We initialize the RMSprop optimizer with a learning rate of 0.001. We set the learning rate to be smaller  because experiments show that it performs better than the default learning rate of 0.01.\n",
    "    - `RMSprop` is a gradient-based optimization algorithm that adjusts the learning rate for each parameter.\n",
    "    - `cifar_model.parameters()` passes the parameters of the ``cifar_model`` to the optimizer.\n",
    "- We initialize the ``SimpleModule`` with the model, optimizer, loss function, and metric.\n",
    "    - ``SimpleModule.classification`` is a method that sets up the model for classification.\n",
    "    - ``cifar_model`` is the network model to be used for classification.\n",
    "- ``CSVLogger`` logs the training and validation metrics to a CSV file."
   ]
  },
  {
   "cell_type": "code",
   "execution_count": 20,
   "id": "8a696e31-1f69-49b4-9c4b-434ad9d7b0c1",
   "metadata": {},
   "outputs": [],
   "source": [
    "cifar_optimizer = RMSprop(cifar_model.parameters(), lr=0.001)\n",
    "cifar_module = SimpleModule.classification(cifar_model,\n",
    "                                    num_classes=100,\n",
    "                                    optimizer=cifar_optimizer)\n",
    "cifar_logger = CSVLogger('logs', name='CIFAR100')"
   ]
  },
  {
   "cell_type": "code",
   "execution_count": 21,
   "id": "128328b4-e374-4905-a1da-3c4672f084fa",
   "metadata": {},
   "outputs": [
    {
     "name": "stderr",
     "output_type": "stream",
     "text": [
      "GPU available: False, used: False\n",
      "TPU available: False, using: 0 TPU cores\n",
      "HPU available: False, using: 0 HPUs\n",
      "\n",
      "  | Name  | Type             | Params | Mode \n",
      "---------------------------------------------------\n",
      "0 | model | CIFARModel       | 964 K  | train\n",
      "1 | loss  | CrossEntropyLoss | 0      | train\n",
      "---------------------------------------------------\n",
      "964 K     Trainable params\n",
      "0         Non-trainable params\n",
      "964 K     Total params\n",
      "3.858     Total estimated model params size (MB)\n",
      "24        Modules in train mode\n",
      "0         Modules in eval mode\n",
      "`Trainer.fit` stopped: `max_epochs=30` reached.\n"
     ]
    }
   ],
   "source": [
    "cifar_trainer = Trainer(deterministic=True,\n",
    "                        max_epochs=30,\n",
    "                        logger=cifar_logger,\n",
    "                        enable_progress_bar=False,\n",
    "                        callbacks=[ErrorTracker()])\n",
    "cifar_trainer.fit(cifar_module,\n",
    "                  datamodule=cifar_dm)"
   ]
  },
  {
   "cell_type": "code",
   "execution_count": 22,
   "id": "f08c2e99-ba01-4944-bca1-18a92a65526c",
   "metadata": {
    "lines_to_next_cell": 0
   },
   "outputs": [
    {
     "data": {
      "image/png": "[encoded data removed]",
      "text/plain": [
       "<Figure size 600x600 with 1 Axes>"
      ]
     },
     "metadata": {},
     "output_type": "display_data"
    }
   ],
   "source": [
    "cifar_results = pd.read_csv(cifar_logger.experiment.metrics_file_path)\n",
    "fig, ax = plt.subplots(1, 1, figsize=(6, 6))\n",
    "cifar_results\n",
    "cifar_results.plot(x='epoch', y='train_accuracy_epoch', ax=ax, label='Training', marker='o', color='k')\n",
    "cifar_results.plot(x='epoch', y='valid_accuracy', ax=ax, label='Validation', marker='+', color='r')\n",
    "ax.set_ylim([0, 1]); ax.set_ylabel('Accuracy'); ax.set_xticks(np.linspace(0, 30, 7));\n"
   ]
  },
  {
   "cell_type": "markdown",
   "id": "920089ce-8257-4ec2-bcc5-119128eb3ec3",
   "metadata": {},
   "source": [
    "- We evaluate our model on our test data."
   ]
  },
  {
   "cell_type": "code",
   "execution_count": 23,
   "id": "c032cca7-a921-4309-9de2-2d09f45a049c",
   "metadata": {
    "lines_to_next_cell": 2
   },
   "outputs": [
    {
     "data": {
      "text/html": [
       "<pre style=\"white-space:pre;overflow-x:auto;line-height:normal;font-family:Menlo,'DejaVu Sans Mono',consolas,'Courier New',monospace\">┏━━━━━━━━━━━━━━━━━━━━━━━━━━━┳━━━━━━━━━━━━━━━━━━━━━━━━━━━┓\n",
       "┃<span style=\"font-weight: bold\">        Test metric        </span>┃<span style=\"font-weight: bold\">       DataLoader 0        </span>┃\n",
       "┡━━━━━━━━━━━━━━━━━━━━━━━━━━━╇━━━━━━━━━━━━━━━━━━━━━━━━━━━┩\n",
       "│<span style=\"color: #008080; text-decoration-color: #008080\">       test_accuracy       </span>│<span style=\"color: #800080; text-decoration-color: #800080\">    0.4323999881744385     </span>│\n",
       "│<span style=\"color: #008080; text-decoration-color: #008080\">         test_loss         </span>│<span style=\"color: #800080; text-decoration-color: #800080\">    2.3359861373901367     </span>│\n",
       "└───────────────────────────┴───────────────────────────┘\n",
       "</pre>\n"
      ],
      "text/plain": [
       "┏━━━━━━━━━━━━━━━━━━━━━━━━━━━┳━━━━━━━━━━━━━━━━━━━━━━━━━━━┓\n",
       "┃\u001b[1m \u001b[0m\u001b[1m       Test metric       \u001b[0m\u001b[1m \u001b[0m┃\u001b[1m \u001b[0m\u001b[1m      DataLoader 0       \u001b[0m\u001b[1m \u001b[0m┃\n",
       "┡━━━━━━━━━━━━━━━━━━━━━━━━━━━╇━━━━━━━━━━━━━━━━━━━━━━━━━━━┩\n",
       "│\u001b[36m \u001b[0m\u001b[36m      test_accuracy      \u001b[0m\u001b[36m \u001b[0m│\u001b[35m \u001b[0m\u001b[35m   0.4323999881744385    \u001b[0m\u001b[35m \u001b[0m│\n",
       "│\u001b[36m \u001b[0m\u001b[36m        test_loss        \u001b[0m\u001b[36m \u001b[0m│\u001b[35m \u001b[0m\u001b[35m   2.3359861373901367    \u001b[0m\u001b[35m \u001b[0m│\n",
       "└───────────────────────────┴───────────────────────────┘\n"
      ]
     },
     "metadata": {},
     "output_type": "display_data"
    },
    {
     "data": {
      "text/plain": [
       "[{'test_loss': 2.3359861373901367, 'test_accuracy': 0.4323999881744385}]"
      ]
     },
     "execution_count": 23,
     "metadata": {},
     "output_type": "execute_result"
    }
   ],
   "source": [
    "cifar_trainer.test(cifar_module, datamodule=cifar_dm)"
   ]
  },
  {
   "cell_type": "markdown",
   "id": "ebedddd0",
   "metadata": {},
   "source": [
    "- The accuracy of the model on the test data is 43%. This is not a great result, but it is better than random guessing, which would be 1% accuracy for 100 classes.\n",
    "- On the web, the results are around 75% accuracy. It takes a lot of architecture carpentry, fiddling with regularization, and time to achieve such results."
   ]
  },
  {
   "cell_type": "markdown",
   "id": "c67113da-db2e-41eb-b685-2e56aaa443a0",
   "metadata": {},
   "source": [
    "# Hardware Acceleration\n",
    "- Hardware manufacturers offer specialized libraries to accelerate gradient descent.\n",
    "- For example, Mac OS devices with the M1 chip can use the Metal framework to speed up ``torch`` computations. We demonstrate how to leverage this acceleration. Metrics must be informed of the data location during evaluation, which is done using the ``to()`` method.\n",
    "- The code below results in a two- to three-fold acceleration per epoch.\n",
    "    - The code is wrapped in ``try:`` and ``except:`` clauses: if the acceleration works, it's applied; if it fails, nothing happens.\n",
    "    - The requirement for ``mps`` accerlation is that the device is a Mac with an M1 chip.\n",
    "- For NVIDIA GPUs, the ``torch.cuda`` library is used to accelerate computations.\n",
    "    - Replace 'mps' with 'cuda' to use NVIDIA GPUs.\n",
    "- Replace 'mps' with 'cpu' to back to the CPU."
   ]
  },
  {
   "cell_type": "code",
   "execution_count": 24,
   "id": "a069320f",
   "metadata": {},
   "outputs": [
    {
     "name": "stdout",
     "output_type": "stream",
     "text": [
      "MPS is available:  False\n",
      "CUDA is available:  False\n"
     ]
    }
   ],
   "source": [
    "# Check if MPS is available\n",
    "print(\"MPS is available: \", torch.backends.mps.is_available())\n",
    "# Check if CUDA is available\n",
    "print(\"CUDA is available: \", torch.cuda.is_available())\n"
   ]
  },
  {
   "cell_type": "code",
   "execution_count": 25,
   "id": "239af1e9-38a5-4fda-b456-a42c498c9397",
   "metadata": {
    "lines_to_next_cell": 0
   },
   "outputs": [],
   "source": [
    "try:\n",
    "    for name, metric in cifar_module.metrics.items():\n",
    "        cifar_module.metrics[name] = metric.to('mps')\n",
    "    cifar_trainer_mps = Trainer(accelerator='mps',\n",
    "                                deterministic=True,\n",
    "                                enable_progress_bar=False,\n",
    "                                max_epochs=30)\n",
    "    cifar_trainer_mps.fit(cifar_module, datamodule=cifar_dm)\n",
    "    cifar_trainer_mps.test(cifar_module, datamodule=cifar_dm)\n",
    "except:\n",
    "    pass"
   ]
  },
  {
   "cell_type": "markdown",
   "id": "ac2acb28",
   "metadata": {},
   "source": [
    "# ImageNet and ResNet50\n",
    "- ImageNet:\n",
    "    - Overview: ImageNet contains over 14 million images, organized into 20,000+ categories (synsets) based on WordNet hierarchy.\n",
    "    - Labels: Each image is manually annotated with one or more labels indicating the objects present.\n",
    "    - ILSVRC: The ImageNet Large Scale Visual Recognition Challenge (ILSVRC) is an annual competition that involves classifying images into 1,000 categories, object detection, and more.\n",
    "- ResNet50:\n",
    "    - Overview: RResNet-50 is a deep convolutional neural network (CNN) with 50 layers, part of the Residual Networks (ResNet) family. It uses residual blocks with shortcut (skip) connections to mitigate the vanishing gradient problem and facilitate training of very deep networks.\n",
    "    - Residual Blocks: Instead of learning a direct input-output mapping, residual blocks learn the residual (difference) between input and output. Shortcut connections bypass layers, allowing gradients to flow more easily during backpropagation.\n",
    "    - Layers: The network is composed of a mix of convolutional layers, batch normalization, ReLU activations, and fully connected layers.\n",
    "    - ResNet-50 is divided into multiple stages, each consisting of several residual blocks. Stages are separated by downsampling layers, typically using stride-2 convolutions, to reduce the spatial dimensions of feature maps.\n",
    "    - Architecture:\n",
    "        1. Initial Layers:\n",
    "            - 7x7 convolutional layer with 64 filters and stride 2\n",
    "            - Batch normalization and ReLU activation\n",
    "            - 3x3 max pooling layer with stride 2\n",
    "        2. Residual Blocks:\n",
    "            - Stage 1: 3 residual blocks, each with 3 layers (1x1, 3x3, 1x1 convolutions)\n",
    "            - Stage 2: 4 residual blocks, each with 3 layers\n",
    "            - Stage 3: 6 residual blocks, each with 3 layers\n",
    "            - Stage 4: 3 residual blocks, each with 3 layers\n",
    "        3. Final Layers:\n",
    "            - Global average pooling layer\n",
    "            - Fully connected layer with 1000 units (for ImageNet classification)\n",
    "            - Softmax activation\n",
    "- We read in JPEG images from the `book_images` directory.\n",
    "- We convert them into arrays format expected by `torch` to match the specifications in `resnet50`.\n",
    "    - The conversion involves a resize, a crop, a predefined standardization for each of the three channels."
   ]
  },
  {
   "cell_type": "code",
   "execution_count": 26,
   "id": "74d1f585",
   "metadata": {},
   "outputs": [
    {
     "name": "stdout",
     "output_type": "stream",
     "text": [
      "Image files found: ['book_images\\\\A_Bird.jpg', 'book_images\\\\Cape_Weaver.jpg', 'book_images\\\\Hawk_Fountain.jpg', 'book_images\\\\Hawk_cropped.jpg', 'book_images\\\\Lhasa_Apso.jpg', 'book_images\\\\Sleeping_Cat.jpg']\n"
     ]
    }
   ],
   "source": [
    "# Define transformations\n",
    "resize = Resize((232, 232), antialias=True)\n",
    "crop = CenterCrop(224)\n",
    "normalize = Normalize([0.485, 0.456, 0.406], [0.229, 0.224, 0.225])\n",
    "\n",
    "# Get list of image files\n",
    "imgfiles = sorted([f for f in glob('book_images/*')])\n",
    "\n",
    "# Debugging: Print the list of image files\n",
    "print(\"Image files found:\", imgfiles)\n",
    "\n",
    "# Check if imgfiles is empty\n",
    "if not imgfiles:\n",
    "    raise RuntimeError(\"No image files found in the specified directory.\")"
   ]
  },
  {
   "cell_type": "code",
   "execution_count": 27,
   "id": "4b51a02b-34e8-440d-b1c2-f83eefc3c821",
   "metadata": {
    "lines_to_next_cell": 2
   },
   "outputs": [
    {
     "data": {
      "text/plain": [
       "torch.Size([6, 3, 224, 224])"
      ]
     },
     "execution_count": 27,
     "metadata": {},
     "output_type": "execute_result"
    }
   ],
   "source": [
    "resize = Resize((232,232), antialias=True)\n",
    "crop = CenterCrop(224)\n",
    "normalize = Normalize([0.485,0.456,0.406],\n",
    "                      [0.229,0.224,0.225])\n",
    "imgfiles = sorted([f for f in glob('book_images/*')])\n",
    "imgs = torch.stack([torch.div(crop(resize(read_image(f))), 255)\n",
    "                    for f in imgfiles])\n",
    "imgs = normalize(imgs)\n",
    "imgs.size()"
   ]
  },
  {
   "cell_type": "markdown",
   "id": "e0382bb2-aa41-4991-a7fd-de9d793a3097",
   "metadata": {},
   "source": [
    "We now set up the trained network with the weights we read in code block~6. The model has 50 layers, with a fair bit of complexity."
   ]
  },
  {
   "cell_type": "code",
   "execution_count": 28,
   "id": "c356ed87-e831-428e-a18d-b14aa13f55a9",
   "metadata": {
    "lines_to_next_cell": 0
   },
   "outputs": [
    {
     "data": {
      "text/plain": [
       "===================================================================================================================\n",
       "Layer (type:depth-idx)                   Input Shape               Output Shape              Param #\n",
       "===================================================================================================================\n",
       "ResNet                                   [6, 3, 224, 224]          [6, 1000]                 --\n",
       "├─Conv2d: 1-1                            [6, 3, 224, 224]          [6, 64, 112, 112]         9,408\n",
       "├─BatchNorm2d: 1-2                       [6, 64, 112, 112]         [6, 64, 112, 112]         128\n",
       "├─ReLU: 1-3                              [6, 64, 112, 112]         [6, 64, 112, 112]         --\n",
       "├─MaxPool2d: 1-4                         [6, 64, 112, 112]         [6, 64, 56, 56]           --\n",
       "├─Sequential: 1-5                        [6, 64, 56, 56]           [6, 256, 56, 56]          --\n",
       "│    └─Bottleneck: 2-1                   [6, 64, 56, 56]           [6, 256, 56, 56]          --\n",
       "│    │    └─Conv2d: 3-1                  [6, 64, 56, 56]           [6, 64, 56, 56]           4,096\n",
       "│    │    └─BatchNorm2d: 3-2             [6, 64, 56, 56]           [6, 64, 56, 56]           128\n",
       "│    │    └─ReLU: 3-3                    [6, 64, 56, 56]           [6, 64, 56, 56]           --\n",
       "│    │    └─Conv2d: 3-4                  [6, 64, 56, 56]           [6, 64, 56, 56]           36,864\n",
       "│    │    └─BatchNorm2d: 3-5             [6, 64, 56, 56]           [6, 64, 56, 56]           128\n",
       "│    │    └─ReLU: 3-6                    [6, 64, 56, 56]           [6, 64, 56, 56]           --\n",
       "│    │    └─Conv2d: 3-7                  [6, 64, 56, 56]           [6, 256, 56, 56]          16,384\n",
       "│    │    └─BatchNorm2d: 3-8             [6, 256, 56, 56]          [6, 256, 56, 56]          512\n",
       "│    │    └─Sequential: 3-9              [6, 64, 56, 56]           [6, 256, 56, 56]          16,896\n",
       "│    │    └─ReLU: 3-10                   [6, 256, 56, 56]          [6, 256, 56, 56]          --\n",
       "│    └─Bottleneck: 2-2                   [6, 256, 56, 56]          [6, 256, 56, 56]          --\n",
       "│    │    └─Conv2d: 3-11                 [6, 256, 56, 56]          [6, 64, 56, 56]           16,384\n",
       "│    │    └─BatchNorm2d: 3-12            [6, 64, 56, 56]           [6, 64, 56, 56]           128\n",
       "│    │    └─ReLU: 3-13                   [6, 64, 56, 56]           [6, 64, 56, 56]           --\n",
       "│    │    └─Conv2d: 3-14                 [6, 64, 56, 56]           [6, 64, 56, 56]           36,864\n",
       "│    │    └─BatchNorm2d: 3-15            [6, 64, 56, 56]           [6, 64, 56, 56]           128\n",
       "│    │    └─ReLU: 3-16                   [6, 64, 56, 56]           [6, 64, 56, 56]           --\n",
       "│    │    └─Conv2d: 3-17                 [6, 64, 56, 56]           [6, 256, 56, 56]          16,384\n",
       "│    │    └─BatchNorm2d: 3-18            [6, 256, 56, 56]          [6, 256, 56, 56]          512\n",
       "│    │    └─ReLU: 3-19                   [6, 256, 56, 56]          [6, 256, 56, 56]          --\n",
       "│    └─Bottleneck: 2-3                   [6, 256, 56, 56]          [6, 256, 56, 56]          --\n",
       "│    │    └─Conv2d: 3-20                 [6, 256, 56, 56]          [6, 64, 56, 56]           16,384\n",
       "│    │    └─BatchNorm2d: 3-21            [6, 64, 56, 56]           [6, 64, 56, 56]           128\n",
       "│    │    └─ReLU: 3-22                   [6, 64, 56, 56]           [6, 64, 56, 56]           --\n",
       "│    │    └─Conv2d: 3-23                 [6, 64, 56, 56]           [6, 64, 56, 56]           36,864\n",
       "│    │    └─BatchNorm2d: 3-24            [6, 64, 56, 56]           [6, 64, 56, 56]           128\n",
       "│    │    └─ReLU: 3-25                   [6, 64, 56, 56]           [6, 64, 56, 56]           --\n",
       "│    │    └─Conv2d: 3-26                 [6, 64, 56, 56]           [6, 256, 56, 56]          16,384\n",
       "│    │    └─BatchNorm2d: 3-27            [6, 256, 56, 56]          [6, 256, 56, 56]          512\n",
       "│    │    └─ReLU: 3-28                   [6, 256, 56, 56]          [6, 256, 56, 56]          --\n",
       "├─Sequential: 1-6                        [6, 256, 56, 56]          [6, 512, 28, 28]          --\n",
       "│    └─Bottleneck: 2-4                   [6, 256, 56, 56]          [6, 512, 28, 28]          --\n",
       "│    │    └─Conv2d: 3-29                 [6, 256, 56, 56]          [6, 128, 56, 56]          32,768\n",
       "│    │    └─BatchNorm2d: 3-30            [6, 128, 56, 56]          [6, 128, 56, 56]          256\n",
       "│    │    └─ReLU: 3-31                   [6, 128, 56, 56]          [6, 128, 56, 56]          --\n",
       "│    │    └─Conv2d: 3-32                 [6, 128, 56, 56]          [6, 128, 28, 28]          147,456\n",
       "│    │    └─BatchNorm2d: 3-33            [6, 128, 28, 28]          [6, 128, 28, 28]          256\n",
       "│    │    └─ReLU: 3-34                   [6, 128, 28, 28]          [6, 128, 28, 28]          --\n",
       "│    │    └─Conv2d: 3-35                 [6, 128, 28, 28]          [6, 512, 28, 28]          65,536\n",
       "│    │    └─BatchNorm2d: 3-36            [6, 512, 28, 28]          [6, 512, 28, 28]          1,024\n",
       "│    │    └─Sequential: 3-37             [6, 256, 56, 56]          [6, 512, 28, 28]          132,096\n",
       "│    │    └─ReLU: 3-38                   [6, 512, 28, 28]          [6, 512, 28, 28]          --\n",
       "│    └─Bottleneck: 2-5                   [6, 512, 28, 28]          [6, 512, 28, 28]          --\n",
       "│    │    └─Conv2d: 3-39                 [6, 512, 28, 28]          [6, 128, 28, 28]          65,536\n",
       "│    │    └─BatchNorm2d: 3-40            [6, 128, 28, 28]          [6, 128, 28, 28]          256\n",
       "│    │    └─ReLU: 3-41                   [6, 128, 28, 28]          [6, 128, 28, 28]          --\n",
       "│    │    └─Conv2d: 3-42                 [6, 128, 28, 28]          [6, 128, 28, 28]          147,456\n",
       "│    │    └─BatchNorm2d: 3-43            [6, 128, 28, 28]          [6, 128, 28, 28]          256\n",
       "│    │    └─ReLU: 3-44                   [6, 128, 28, 28]          [6, 128, 28, 28]          --\n",
       "│    │    └─Conv2d: 3-45                 [6, 128, 28, 28]          [6, 512, 28, 28]          65,536\n",
       "│    │    └─BatchNorm2d: 3-46            [6, 512, 28, 28]          [6, 512, 28, 28]          1,024\n",
       "│    │    └─ReLU: 3-47                   [6, 512, 28, 28]          [6, 512, 28, 28]          --\n",
       "│    └─Bottleneck: 2-6                   [6, 512, 28, 28]          [6, 512, 28, 28]          --\n",
       "│    │    └─Conv2d: 3-48                 [6, 512, 28, 28]          [6, 128, 28, 28]          65,536\n",
       "│    │    └─BatchNorm2d: 3-49            [6, 128, 28, 28]          [6, 128, 28, 28]          256\n",
       "│    │    └─ReLU: 3-50                   [6, 128, 28, 28]          [6, 128, 28, 28]          --\n",
       "│    │    └─Conv2d: 3-51                 [6, 128, 28, 28]          [6, 128, 28, 28]          147,456\n",
       "│    │    └─BatchNorm2d: 3-52            [6, 128, 28, 28]          [6, 128, 28, 28]          256\n",
       "│    │    └─ReLU: 3-53                   [6, 128, 28, 28]          [6, 128, 28, 28]          --\n",
       "│    │    └─Conv2d: 3-54                 [6, 128, 28, 28]          [6, 512, 28, 28]          65,536\n",
       "│    │    └─BatchNorm2d: 3-55            [6, 512, 28, 28]          [6, 512, 28, 28]          1,024\n",
       "│    │    └─ReLU: 3-56                   [6, 512, 28, 28]          [6, 512, 28, 28]          --\n",
       "│    └─Bottleneck: 2-7                   [6, 512, 28, 28]          [6, 512, 28, 28]          --\n",
       "│    │    └─Conv2d: 3-57                 [6, 512, 28, 28]          [6, 128, 28, 28]          65,536\n",
       "│    │    └─BatchNorm2d: 3-58            [6, 128, 28, 28]          [6, 128, 28, 28]          256\n",
       "│    │    └─ReLU: 3-59                   [6, 128, 28, 28]          [6, 128, 28, 28]          --\n",
       "│    │    └─Conv2d: 3-60                 [6, 128, 28, 28]          [6, 128, 28, 28]          147,456\n",
       "│    │    └─BatchNorm2d: 3-61            [6, 128, 28, 28]          [6, 128, 28, 28]          256\n",
       "│    │    └─ReLU: 3-62                   [6, 128, 28, 28]          [6, 128, 28, 28]          --\n",
       "│    │    └─Conv2d: 3-63                 [6, 128, 28, 28]          [6, 512, 28, 28]          65,536\n",
       "│    │    └─BatchNorm2d: 3-64            [6, 512, 28, 28]          [6, 512, 28, 28]          1,024\n",
       "│    │    └─ReLU: 3-65                   [6, 512, 28, 28]          [6, 512, 28, 28]          --\n",
       "├─Sequential: 1-7                        [6, 512, 28, 28]          [6, 1024, 14, 14]         --\n",
       "│    └─Bottleneck: 2-8                   [6, 512, 28, 28]          [6, 1024, 14, 14]         --\n",
       "│    │    └─Conv2d: 3-66                 [6, 512, 28, 28]          [6, 256, 28, 28]          131,072\n",
       "│    │    └─BatchNorm2d: 3-67            [6, 256, 28, 28]          [6, 256, 28, 28]          512\n",
       "│    │    └─ReLU: 3-68                   [6, 256, 28, 28]          [6, 256, 28, 28]          --\n",
       "│    │    └─Conv2d: 3-69                 [6, 256, 28, 28]          [6, 256, 14, 14]          589,824\n",
       "│    │    └─BatchNorm2d: 3-70            [6, 256, 14, 14]          [6, 256, 14, 14]          512\n",
       "│    │    └─ReLU: 3-71                   [6, 256, 14, 14]          [6, 256, 14, 14]          --\n",
       "│    │    └─Conv2d: 3-72                 [6, 256, 14, 14]          [6, 1024, 14, 14]         262,144\n",
       "│    │    └─BatchNorm2d: 3-73            [6, 1024, 14, 14]         [6, 1024, 14, 14]         2,048\n",
       "│    │    └─Sequential: 3-74             [6, 512, 28, 28]          [6, 1024, 14, 14]         526,336\n",
       "│    │    └─ReLU: 3-75                   [6, 1024, 14, 14]         [6, 1024, 14, 14]         --\n",
       "│    └─Bottleneck: 2-9                   [6, 1024, 14, 14]         [6, 1024, 14, 14]         --\n",
       "│    │    └─Conv2d: 3-76                 [6, 1024, 14, 14]         [6, 256, 14, 14]          262,144\n",
       "│    │    └─BatchNorm2d: 3-77            [6, 256, 14, 14]          [6, 256, 14, 14]          512\n",
       "│    │    └─ReLU: 3-78                   [6, 256, 14, 14]          [6, 256, 14, 14]          --\n",
       "│    │    └─Conv2d: 3-79                 [6, 256, 14, 14]          [6, 256, 14, 14]          589,824\n",
       "│    │    └─BatchNorm2d: 3-80            [6, 256, 14, 14]          [6, 256, 14, 14]          512\n",
       "│    │    └─ReLU: 3-81                   [6, 256, 14, 14]          [6, 256, 14, 14]          --\n",
       "│    │    └─Conv2d: 3-82                 [6, 256, 14, 14]          [6, 1024, 14, 14]         262,144\n",
       "│    │    └─BatchNorm2d: 3-83            [6, 1024, 14, 14]         [6, 1024, 14, 14]         2,048\n",
       "│    │    └─ReLU: 3-84                   [6, 1024, 14, 14]         [6, 1024, 14, 14]         --\n",
       "│    └─Bottleneck: 2-10                  [6, 1024, 14, 14]         [6, 1024, 14, 14]         --\n",
       "│    │    └─Conv2d: 3-85                 [6, 1024, 14, 14]         [6, 256, 14, 14]          262,144\n",
       "│    │    └─BatchNorm2d: 3-86            [6, 256, 14, 14]          [6, 256, 14, 14]          512\n",
       "│    │    └─ReLU: 3-87                   [6, 256, 14, 14]          [6, 256, 14, 14]          --\n",
       "│    │    └─Conv2d: 3-88                 [6, 256, 14, 14]          [6, 256, 14, 14]          589,824\n",
       "│    │    └─BatchNorm2d: 3-89            [6, 256, 14, 14]          [6, 256, 14, 14]          512\n",
       "│    │    └─ReLU: 3-90                   [6, 256, 14, 14]          [6, 256, 14, 14]          --\n",
       "│    │    └─Conv2d: 3-91                 [6, 256, 14, 14]          [6, 1024, 14, 14]         262,144\n",
       "│    │    └─BatchNorm2d: 3-92            [6, 1024, 14, 14]         [6, 1024, 14, 14]         2,048\n",
       "│    │    └─ReLU: 3-93                   [6, 1024, 14, 14]         [6, 1024, 14, 14]         --\n",
       "│    └─Bottleneck: 2-11                  [6, 1024, 14, 14]         [6, 1024, 14, 14]         --\n",
       "│    │    └─Conv2d: 3-94                 [6, 1024, 14, 14]         [6, 256, 14, 14]          262,144\n",
       "│    │    └─BatchNorm2d: 3-95            [6, 256, 14, 14]          [6, 256, 14, 14]          512\n",
       "│    │    └─ReLU: 3-96                   [6, 256, 14, 14]          [6, 256, 14, 14]          --\n",
       "│    │    └─Conv2d: 3-97                 [6, 256, 14, 14]          [6, 256, 14, 14]          589,824\n",
       "│    │    └─BatchNorm2d: 3-98            [6, 256, 14, 14]          [6, 256, 14, 14]          512\n",
       "│    │    └─ReLU: 3-99                   [6, 256, 14, 14]          [6, 256, 14, 14]          --\n",
       "│    │    └─Conv2d: 3-100                [6, 256, 14, 14]          [6, 1024, 14, 14]         262,144\n",
       "│    │    └─BatchNorm2d: 3-101           [6, 1024, 14, 14]         [6, 1024, 14, 14]         2,048\n",
       "│    │    └─ReLU: 3-102                  [6, 1024, 14, 14]         [6, 1024, 14, 14]         --\n",
       "│    └─Bottleneck: 2-12                  [6, 1024, 14, 14]         [6, 1024, 14, 14]         --\n",
       "│    │    └─Conv2d: 3-103                [6, 1024, 14, 14]         [6, 256, 14, 14]          262,144\n",
       "│    │    └─BatchNorm2d: 3-104           [6, 256, 14, 14]          [6, 256, 14, 14]          512\n",
       "│    │    └─ReLU: 3-105                  [6, 256, 14, 14]          [6, 256, 14, 14]          --\n",
       "│    │    └─Conv2d: 3-106                [6, 256, 14, 14]          [6, 256, 14, 14]          589,824\n",
       "│    │    └─BatchNorm2d: 3-107           [6, 256, 14, 14]          [6, 256, 14, 14]          512\n",
       "│    │    └─ReLU: 3-108                  [6, 256, 14, 14]          [6, 256, 14, 14]          --\n",
       "│    │    └─Conv2d: 3-109                [6, 256, 14, 14]          [6, 1024, 14, 14]         262,144\n",
       "│    │    └─BatchNorm2d: 3-110           [6, 1024, 14, 14]         [6, 1024, 14, 14]         2,048\n",
       "│    │    └─ReLU: 3-111                  [6, 1024, 14, 14]         [6, 1024, 14, 14]         --\n",
       "│    └─Bottleneck: 2-13                  [6, 1024, 14, 14]         [6, 1024, 14, 14]         --\n",
       "│    │    └─Conv2d: 3-112                [6, 1024, 14, 14]         [6, 256, 14, 14]          262,144\n",
       "│    │    └─BatchNorm2d: 3-113           [6, 256, 14, 14]          [6, 256, 14, 14]          512\n",
       "│    │    └─ReLU: 3-114                  [6, 256, 14, 14]          [6, 256, 14, 14]          --\n",
       "│    │    └─Conv2d: 3-115                [6, 256, 14, 14]          [6, 256, 14, 14]          589,824\n",
       "│    │    └─BatchNorm2d: 3-116           [6, 256, 14, 14]          [6, 256, 14, 14]          512\n",
       "│    │    └─ReLU: 3-117                  [6, 256, 14, 14]          [6, 256, 14, 14]          --\n",
       "│    │    └─Conv2d: 3-118                [6, 256, 14, 14]          [6, 1024, 14, 14]         262,144\n",
       "│    │    └─BatchNorm2d: 3-119           [6, 1024, 14, 14]         [6, 1024, 14, 14]         2,048\n",
       "│    │    └─ReLU: 3-120                  [6, 1024, 14, 14]         [6, 1024, 14, 14]         --\n",
       "├─Sequential: 1-8                        [6, 1024, 14, 14]         [6, 2048, 7, 7]           --\n",
       "│    └─Bottleneck: 2-14                  [6, 1024, 14, 14]         [6, 2048, 7, 7]           --\n",
       "│    │    └─Conv2d: 3-121                [6, 1024, 14, 14]         [6, 512, 14, 14]          524,288\n",
       "│    │    └─BatchNorm2d: 3-122           [6, 512, 14, 14]          [6, 512, 14, 14]          1,024\n",
       "│    │    └─ReLU: 3-123                  [6, 512, 14, 14]          [6, 512, 14, 14]          --\n",
       "│    │    └─Conv2d: 3-124                [6, 512, 14, 14]          [6, 512, 7, 7]            2,359,296\n",
       "│    │    └─BatchNorm2d: 3-125           [6, 512, 7, 7]            [6, 512, 7, 7]            1,024\n",
       "│    │    └─ReLU: 3-126                  [6, 512, 7, 7]            [6, 512, 7, 7]            --\n",
       "│    │    └─Conv2d: 3-127                [6, 512, 7, 7]            [6, 2048, 7, 7]           1,048,576\n",
       "│    │    └─BatchNorm2d: 3-128           [6, 2048, 7, 7]           [6, 2048, 7, 7]           4,096\n",
       "│    │    └─Sequential: 3-129            [6, 1024, 14, 14]         [6, 2048, 7, 7]           2,101,248\n",
       "│    │    └─ReLU: 3-130                  [6, 2048, 7, 7]           [6, 2048, 7, 7]           --\n",
       "│    └─Bottleneck: 2-15                  [6, 2048, 7, 7]           [6, 2048, 7, 7]           --\n",
       "│    │    └─Conv2d: 3-131                [6, 2048, 7, 7]           [6, 512, 7, 7]            1,048,576\n",
       "│    │    └─BatchNorm2d: 3-132           [6, 512, 7, 7]            [6, 512, 7, 7]            1,024\n",
       "│    │    └─ReLU: 3-133                  [6, 512, 7, 7]            [6, 512, 7, 7]            --\n",
       "│    │    └─Conv2d: 3-134                [6, 512, 7, 7]            [6, 512, 7, 7]            2,359,296\n",
       "│    │    └─BatchNorm2d: 3-135           [6, 512, 7, 7]            [6, 512, 7, 7]            1,024\n",
       "│    │    └─ReLU: 3-136                  [6, 512, 7, 7]            [6, 512, 7, 7]            --\n",
       "│    │    └─Conv2d: 3-137                [6, 512, 7, 7]            [6, 2048, 7, 7]           1,048,576\n",
       "│    │    └─BatchNorm2d: 3-138           [6, 2048, 7, 7]           [6, 2048, 7, 7]           4,096\n",
       "│    │    └─ReLU: 3-139                  [6, 2048, 7, 7]           [6, 2048, 7, 7]           --\n",
       "│    └─Bottleneck: 2-16                  [6, 2048, 7, 7]           [6, 2048, 7, 7]           --\n",
       "│    │    └─Conv2d: 3-140                [6, 2048, 7, 7]           [6, 512, 7, 7]            1,048,576\n",
       "│    │    └─BatchNorm2d: 3-141           [6, 512, 7, 7]            [6, 512, 7, 7]            1,024\n",
       "│    │    └─ReLU: 3-142                  [6, 512, 7, 7]            [6, 512, 7, 7]            --\n",
       "│    │    └─Conv2d: 3-143                [6, 512, 7, 7]            [6, 512, 7, 7]            2,359,296\n",
       "│    │    └─BatchNorm2d: 3-144           [6, 512, 7, 7]            [6, 512, 7, 7]            1,024\n",
       "│    │    └─ReLU: 3-145                  [6, 512, 7, 7]            [6, 512, 7, 7]            --\n",
       "│    │    └─Conv2d: 3-146                [6, 512, 7, 7]            [6, 2048, 7, 7]           1,048,576\n",
       "│    │    └─BatchNorm2d: 3-147           [6, 2048, 7, 7]           [6, 2048, 7, 7]           4,096\n",
       "│    │    └─ReLU: 3-148                  [6, 2048, 7, 7]           [6, 2048, 7, 7]           --\n",
       "├─AdaptiveAvgPool2d: 1-9                 [6, 2048, 7, 7]           [6, 2048, 1, 1]           --\n",
       "├─Linear: 1-10                           [6, 2048]                 [6, 1000]                 2,049,000\n",
       "===================================================================================================================\n",
       "Total params: 25,557,032\n",
       "Trainable params: 25,557,032\n",
       "Non-trainable params: 0\n",
       "Total mult-adds (Units.GIGABYTES): 24.54\n",
       "===================================================================================================================\n",
       "Input size (MB): 3.61\n",
       "Forward/backward pass size (MB): 1066.99\n",
       "Params size (MB): 102.23\n",
       "Estimated Total Size (MB): 1172.83\n",
       "==================================================================================================================="
      ]
     },
     "execution_count": 28,
     "metadata": {},
     "output_type": "execute_result"
    }
   ],
   "source": [
    "resnet_model = resnet50(weights=ResNet50_Weights.DEFAULT)\n",
    "torchinfo.summary(resnet_model,\n",
    "        input_data=imgs,\n",
    "        col_names=['input_size',\n",
    "                   'output_size',\n",
    "                   'num_params'])\n"
   ]
  },
  {
   "cell_type": "markdown",
   "id": "33c874fa-46c9-46a6-9980-834343df5f32",
   "metadata": {},
   "source": [
    "We set the mode to `eval()` to ensure that the model is ready to predict on new data."
   ]
  },
  {
   "cell_type": "code",
   "execution_count": 29,
   "id": "69550197-2e4a-4c46-a4a2-0da727890d08",
   "metadata": {
    "lines_to_next_cell": 0
   },
   "outputs": [
    {
     "data": {
      "text/plain": [
       "ResNet(\n",
       "  (conv1): Conv2d(3, 64, kernel_size=(7, 7), stride=(2, 2), padding=(3, 3), bias=False)\n",
       "  (bn1): BatchNorm2d(64, eps=1e-05, momentum=0.1, affine=True, track_running_stats=True)\n",
       "  (relu): ReLU(inplace=True)\n",
       "  (maxpool): MaxPool2d(kernel_size=3, stride=2, padding=1, dilation=1, ceil_mode=False)\n",
       "  (layer1): Sequential(\n",
       "    (0): Bottleneck(\n",
       "      (conv1): Conv2d(64, 64, kernel_size=(1, 1), stride=(1, 1), bias=False)\n",
       "      (bn1): BatchNorm2d(64, eps=1e-05, momentum=0.1, affine=True, track_running_stats=True)\n",
       "      (conv2): Conv2d(64, 64, kernel_size=(3, 3), stride=(1, 1), padding=(1, 1), bias=False)\n",
       "      (bn2): BatchNorm2d(64, eps=1e-05, momentum=0.1, affine=True, track_running_stats=True)\n",
       "      (conv3): Conv2d(64, 256, kernel_size=(1, 1), stride=(1, 1), bias=False)\n",
       "      (bn3): BatchNorm2d(256, eps=1e-05, momentum=0.1, affine=True, track_running_stats=True)\n",
       "      (relu): ReLU(inplace=True)\n",
       "      (downsample): Sequential(\n",
       "        (0): Conv2d(64, 256, kernel_size=(1, 1), stride=(1, 1), bias=False)\n",
       "        (1): BatchNorm2d(256, eps=1e-05, momentum=0.1, affine=True, track_running_stats=True)\n",
       "      )\n",
       "    )\n",
       "    (1): Bottleneck(\n",
       "      (conv1): Conv2d(256, 64, kernel_size=(1, 1), stride=(1, 1), bias=False)\n",
       "      (bn1): BatchNorm2d(64, eps=1e-05, momentum=0.1, affine=True, track_running_stats=True)\n",
       "      (conv2): Conv2d(64, 64, kernel_size=(3, 3), stride=(1, 1), padding=(1, 1), bias=False)\n",
       "      (bn2): BatchNorm2d(64, eps=1e-05, momentum=0.1, affine=True, track_running_stats=True)\n",
       "      (conv3): Conv2d(64, 256, kernel_size=(1, 1), stride=(1, 1), bias=False)\n",
       "      (bn3): BatchNorm2d(256, eps=1e-05, momentum=0.1, affine=True, track_running_stats=True)\n",
       "      (relu): ReLU(inplace=True)\n",
       "    )\n",
       "    (2): Bottleneck(\n",
       "      (conv1): Conv2d(256, 64, kernel_size=(1, 1), stride=(1, 1), bias=False)\n",
       "      (bn1): BatchNorm2d(64, eps=1e-05, momentum=0.1, affine=True, track_running_stats=True)\n",
       "      (conv2): Conv2d(64, 64, kernel_size=(3, 3), stride=(1, 1), padding=(1, 1), bias=False)\n",
       "      (bn2): BatchNorm2d(64, eps=1e-05, momentum=0.1, affine=True, track_running_stats=True)\n",
       "      (conv3): Conv2d(64, 256, kernel_size=(1, 1), stride=(1, 1), bias=False)\n",
       "      (bn3): BatchNorm2d(256, eps=1e-05, momentum=0.1, affine=True, track_running_stats=True)\n",
       "      (relu): ReLU(inplace=True)\n",
       "    )\n",
       "  )\n",
       "  (layer2): Sequential(\n",
       "    (0): Bottleneck(\n",
       "      (conv1): Conv2d(256, 128, kernel_size=(1, 1), stride=(1, 1), bias=False)\n",
       "      (bn1): BatchNorm2d(128, eps=1e-05, momentum=0.1, affine=True, track_running_stats=True)\n",
       "      (conv2): Conv2d(128, 128, kernel_size=(3, 3), stride=(2, 2), padding=(1, 1), bias=False)\n",
       "      (bn2): BatchNorm2d(128, eps=1e-05, momentum=0.1, affine=True, track_running_stats=True)\n",
       "      (conv3): Conv2d(128, 512, kernel_size=(1, 1), stride=(1, 1), bias=False)\n",
       "      (bn3): BatchNorm2d(512, eps=1e-05, momentum=0.1, affine=True, track_running_stats=True)\n",
       "      (relu): ReLU(inplace=True)\n",
       "      (downsample): Sequential(\n",
       "        (0): Conv2d(256, 512, kernel_size=(1, 1), stride=(2, 2), bias=False)\n",
       "        (1): BatchNorm2d(512, eps=1e-05, momentum=0.1, affine=True, track_running_stats=True)\n",
       "      )\n",
       "    )\n",
       "    (1): Bottleneck(\n",
       "      (conv1): Conv2d(512, 128, kernel_size=(1, 1), stride=(1, 1), bias=False)\n",
       "      (bn1): BatchNorm2d(128, eps=1e-05, momentum=0.1, affine=True, track_running_stats=True)\n",
       "      (conv2): Conv2d(128, 128, kernel_size=(3, 3), stride=(1, 1), padding=(1, 1), bias=False)\n",
       "      (bn2): BatchNorm2d(128, eps=1e-05, momentum=0.1, affine=True, track_running_stats=True)\n",
       "      (conv3): Conv2d(128, 512, kernel_size=(1, 1), stride=(1, 1), bias=False)\n",
       "      (bn3): BatchNorm2d(512, eps=1e-05, momentum=0.1, affine=True, track_running_stats=True)\n",
       "      (relu): ReLU(inplace=True)\n",
       "    )\n",
       "    (2): Bottleneck(\n",
       "      (conv1): Conv2d(512, 128, kernel_size=(1, 1), stride=(1, 1), bias=False)\n",
       "      (bn1): BatchNorm2d(128, eps=1e-05, momentum=0.1, affine=True, track_running_stats=True)\n",
       "      (conv2): Conv2d(128, 128, kernel_size=(3, 3), stride=(1, 1), padding=(1, 1), bias=False)\n",
       "      (bn2): BatchNorm2d(128, eps=1e-05, momentum=0.1, affine=True, track_running_stats=True)\n",
       "      (conv3): Conv2d(128, 512, kernel_size=(1, 1), stride=(1, 1), bias=False)\n",
       "      (bn3): BatchNorm2d(512, eps=1e-05, momentum=0.1, affine=True, track_running_stats=True)\n",
       "      (relu): ReLU(inplace=True)\n",
       "    )\n",
       "    (3): Bottleneck(\n",
       "      (conv1): Conv2d(512, 128, kernel_size=(1, 1), stride=(1, 1), bias=False)\n",
       "      (bn1): BatchNorm2d(128, eps=1e-05, momentum=0.1, affine=True, track_running_stats=True)\n",
       "      (conv2): Conv2d(128, 128, kernel_size=(3, 3), stride=(1, 1), padding=(1, 1), bias=False)\n",
       "      (bn2): BatchNorm2d(128, eps=1e-05, momentum=0.1, affine=True, track_running_stats=True)\n",
       "      (conv3): Conv2d(128, 512, kernel_size=(1, 1), stride=(1, 1), bias=False)\n",
       "      (bn3): BatchNorm2d(512, eps=1e-05, momentum=0.1, affine=True, track_running_stats=True)\n",
       "      (relu): ReLU(inplace=True)\n",
       "    )\n",
       "  )\n",
       "  (layer3): Sequential(\n",
       "    (0): Bottleneck(\n",
       "      (conv1): Conv2d(512, 256, kernel_size=(1, 1), stride=(1, 1), bias=False)\n",
       "      (bn1): BatchNorm2d(256, eps=1e-05, momentum=0.1, affine=True, track_running_stats=True)\n",
       "      (conv2): Conv2d(256, 256, kernel_size=(3, 3), stride=(2, 2), padding=(1, 1), bias=False)\n",
       "      (bn2): BatchNorm2d(256, eps=1e-05, momentum=0.1, affine=True, track_running_stats=True)\n",
       "      (conv3): Conv2d(256, 1024, kernel_size=(1, 1), stride=(1, 1), bias=False)\n",
       "      (bn3): BatchNorm2d(1024, eps=1e-05, momentum=0.1, affine=True, track_running_stats=True)\n",
       "      (relu): ReLU(inplace=True)\n",
       "      (downsample): Sequential(\n",
       "        (0): Conv2d(512, 1024, kernel_size=(1, 1), stride=(2, 2), bias=False)\n",
       "        (1): BatchNorm2d(1024, eps=1e-05, momentum=0.1, affine=True, track_running_stats=True)\n",
       "      )\n",
       "    )\n",
       "    (1): Bottleneck(\n",
       "      (conv1): Conv2d(1024, 256, kernel_size=(1, 1), stride=(1, 1), bias=False)\n",
       "      (bn1): BatchNorm2d(256, eps=1e-05, momentum=0.1, affine=True, track_running_stats=True)\n",
       "      (conv2): Conv2d(256, 256, kernel_size=(3, 3), stride=(1, 1), padding=(1, 1), bias=False)\n",
       "      (bn2): BatchNorm2d(256, eps=1e-05, momentum=0.1, affine=True, track_running_stats=True)\n",
       "      (conv3): Conv2d(256, 1024, kernel_size=(1, 1), stride=(1, 1), bias=False)\n",
       "      (bn3): BatchNorm2d(1024, eps=1e-05, momentum=0.1, affine=True, track_running_stats=True)\n",
       "      (relu): ReLU(inplace=True)\n",
       "    )\n",
       "    (2): Bottleneck(\n",
       "      (conv1): Conv2d(1024, 256, kernel_size=(1, 1), stride=(1, 1), bias=False)\n",
       "      (bn1): BatchNorm2d(256, eps=1e-05, momentum=0.1, affine=True, track_running_stats=True)\n",
       "      (conv2): Conv2d(256, 256, kernel_size=(3, 3), stride=(1, 1), padding=(1, 1), bias=False)\n",
       "      (bn2): BatchNorm2d(256, eps=1e-05, momentum=0.1, affine=True, track_running_stats=True)\n",
       "      (conv3): Conv2d(256, 1024, kernel_size=(1, 1), stride=(1, 1), bias=False)\n",
       "      (bn3): BatchNorm2d(1024, eps=1e-05, momentum=0.1, affine=True, track_running_stats=True)\n",
       "      (relu): ReLU(inplace=True)\n",
       "    )\n",
       "    (3): Bottleneck(\n",
       "      (conv1): Conv2d(1024, 256, kernel_size=(1, 1), stride=(1, 1), bias=False)\n",
       "      (bn1): BatchNorm2d(256, eps=1e-05, momentum=0.1, affine=True, track_running_stats=True)\n",
       "      (conv2): Conv2d(256, 256, kernel_size=(3, 3), stride=(1, 1), padding=(1, 1), bias=False)\n",
       "      (bn2): BatchNorm2d(256, eps=1e-05, momentum=0.1, affine=True, track_running_stats=True)\n",
       "      (conv3): Conv2d(256, 1024, kernel_size=(1, 1), stride=(1, 1), bias=False)\n",
       "      (bn3): BatchNorm2d(1024, eps=1e-05, momentum=0.1, affine=True, track_running_stats=True)\n",
       "      (relu): ReLU(inplace=True)\n",
       "    )\n",
       "    (4): Bottleneck(\n",
       "      (conv1): Conv2d(1024, 256, kernel_size=(1, 1), stride=(1, 1), bias=False)\n",
       "      (bn1): BatchNorm2d(256, eps=1e-05, momentum=0.1, affine=True, track_running_stats=True)\n",
       "      (conv2): Conv2d(256, 256, kernel_size=(3, 3), stride=(1, 1), padding=(1, 1), bias=False)\n",
       "      (bn2): BatchNorm2d(256, eps=1e-05, momentum=0.1, affine=True, track_running_stats=True)\n",
       "      (conv3): Conv2d(256, 1024, kernel_size=(1, 1), stride=(1, 1), bias=False)\n",
       "      (bn3): BatchNorm2d(1024, eps=1e-05, momentum=0.1, affine=True, track_running_stats=True)\n",
       "      (relu): ReLU(inplace=True)\n",
       "    )\n",
       "    (5): Bottleneck(\n",
       "      (conv1): Conv2d(1024, 256, kernel_size=(1, 1), stride=(1, 1), bias=False)\n",
       "      (bn1): BatchNorm2d(256, eps=1e-05, momentum=0.1, affine=True, track_running_stats=True)\n",
       "      (conv2): Conv2d(256, 256, kernel_size=(3, 3), stride=(1, 1), padding=(1, 1), bias=False)\n",
       "      (bn2): BatchNorm2d(256, eps=1e-05, momentum=0.1, affine=True, track_running_stats=True)\n",
       "      (conv3): Conv2d(256, 1024, kernel_size=(1, 1), stride=(1, 1), bias=False)\n",
       "      (bn3): BatchNorm2d(1024, eps=1e-05, momentum=0.1, affine=True, track_running_stats=True)\n",
       "      (relu): ReLU(inplace=True)\n",
       "    )\n",
       "  )\n",
       "  (layer4): Sequential(\n",
       "    (0): Bottleneck(\n",
       "      (conv1): Conv2d(1024, 512, kernel_size=(1, 1), stride=(1, 1), bias=False)\n",
       "      (bn1): BatchNorm2d(512, eps=1e-05, momentum=0.1, affine=True, track_running_stats=True)\n",
       "      (conv2): Conv2d(512, 512, kernel_size=(3, 3), stride=(2, 2), padding=(1, 1), bias=False)\n",
       "      (bn2): BatchNorm2d(512, eps=1e-05, momentum=0.1, affine=True, track_running_stats=True)\n",
       "      (conv3): Conv2d(512, 2048, kernel_size=(1, 1), stride=(1, 1), bias=False)\n",
       "      (bn3): BatchNorm2d(2048, eps=1e-05, momentum=0.1, affine=True, track_running_stats=True)\n",
       "      (relu): ReLU(inplace=True)\n",
       "      (downsample): Sequential(\n",
       "        (0): Conv2d(1024, 2048, kernel_size=(1, 1), stride=(2, 2), bias=False)\n",
       "        (1): BatchNorm2d(2048, eps=1e-05, momentum=0.1, affine=True, track_running_stats=True)\n",
       "      )\n",
       "    )\n",
       "    (1): Bottleneck(\n",
       "      (conv1): Conv2d(2048, 512, kernel_size=(1, 1), stride=(1, 1), bias=False)\n",
       "      (bn1): BatchNorm2d(512, eps=1e-05, momentum=0.1, affine=True, track_running_stats=True)\n",
       "      (conv2): Conv2d(512, 512, kernel_size=(3, 3), stride=(1, 1), padding=(1, 1), bias=False)\n",
       "      (bn2): BatchNorm2d(512, eps=1e-05, momentum=0.1, affine=True, track_running_stats=True)\n",
       "      (conv3): Conv2d(512, 2048, kernel_size=(1, 1), stride=(1, 1), bias=False)\n",
       "      (bn3): BatchNorm2d(2048, eps=1e-05, momentum=0.1, affine=True, track_running_stats=True)\n",
       "      (relu): ReLU(inplace=True)\n",
       "    )\n",
       "    (2): Bottleneck(\n",
       "      (conv1): Conv2d(2048, 512, kernel_size=(1, 1), stride=(1, 1), bias=False)\n",
       "      (bn1): BatchNorm2d(512, eps=1e-05, momentum=0.1, affine=True, track_running_stats=True)\n",
       "      (conv2): Conv2d(512, 512, kernel_size=(3, 3), stride=(1, 1), padding=(1, 1), bias=False)\n",
       "      (bn2): BatchNorm2d(512, eps=1e-05, momentum=0.1, affine=True, track_running_stats=True)\n",
       "      (conv3): Conv2d(512, 2048, kernel_size=(1, 1), stride=(1, 1), bias=False)\n",
       "      (bn3): BatchNorm2d(2048, eps=1e-05, momentum=0.1, affine=True, track_running_stats=True)\n",
       "      (relu): ReLU(inplace=True)\n",
       "    )\n",
       "  )\n",
       "  (avgpool): AdaptiveAvgPool2d(output_size=(1, 1))\n",
       "  (fc): Linear(in_features=2048, out_features=1000, bias=True)\n",
       ")"
      ]
     },
     "execution_count": 29,
     "metadata": {},
     "output_type": "execute_result"
    }
   ],
   "source": [
    "resnet_model.eval()"
   ]
  },
  {
   "cell_type": "markdown",
   "id": "137440af-7440-46a0-b7fe-9e2dff806f00",
   "metadata": {},
   "source": [
    "Inspecting the output above, we see that when setting up the\n",
    "`resnet_model`, the authors defined a `Bottleneck`, much like our\n",
    "`BuildingBlock` module.\n",
    "\n",
    "We now feed our six images through the fitted network."
   ]
  },
  {
   "cell_type": "code",
   "execution_count": 30,
   "id": "8c52a7f2-21a6-420f-a496-a1907b5ad3d9",
   "metadata": {},
   "outputs": [],
   "source": [
    "img_preds = resnet_model(imgs)"
   ]
  },
  {
   "cell_type": "markdown",
   "id": "fe5a0d66-67e2-439b-bc35-fbf5bb64b71f",
   "metadata": {},
   "source": [
    "Let’s look at the predicted probabilities for each of the top 3 choices. First we compute\n",
    "the probabilities by applying the softmax to the logits in `img_preds`. Note that\n",
    "we have had to call the `detach()` method on the tensor `img_preds` in order to convert\n",
    "it to our a more familiar `ndarray`."
   ]
  },
  {
   "cell_type": "code",
   "execution_count": 31,
   "id": "b8e9edf4-3f87-4b85-8c7c-481b3a23d38a",
   "metadata": {},
   "outputs": [],
   "source": [
    "img_probs = np.exp(np.asarray(img_preds.detach()))\n",
    "img_probs /= img_probs.sum(1)[:,None]\n"
   ]
  },
  {
   "cell_type": "markdown",
   "id": "1d46f46c-20a7-442f-977e-bf8e3e8ff6d3",
   "metadata": {},
   "source": [
    "In order to see the class labels, we must download the index file associated with `imagenet`. {This is avalable from the book website and  [s3.amazonaws.com/deep-learning-models/image-models/imagenet_class_index.json](https://s3.amazonaws.com/deep-learning-models/image-models/imagenet_class_index.json).}"
   ]
  },
  {
   "cell_type": "code",
   "execution_count": 32,
   "id": "416664e1-8fe1-426d-8a30-5396bdc4e0b8",
   "metadata": {},
   "outputs": [],
   "source": [
    "labs = json.load(open('imagenet_class_index.json'))\n",
    "class_labels = pd.DataFrame([(int(k), v[1]) for k, v in \n",
    "                           labs.items()],\n",
    "                           columns=['idx', 'label'])\n",
    "class_labels = class_labels.set_index('idx')\n",
    "class_labels = class_labels.sort_index()\n"
   ]
  },
  {
   "cell_type": "markdown",
   "id": "840dc282-aee4-49d0-8d19-341fbeeff827",
   "metadata": {},
   "source": [
    "We’ll now construct a data frame for each image file\n",
    "with the labels with the three highest probabilities as\n",
    "estimated by the model above."
   ]
  },
  {
   "cell_type": "code",
   "execution_count": 33,
   "id": "e149ba78-5f1f-4b46-96c4-c761b93bbb46",
   "metadata": {
    "lines_to_next_cell": 2
   },
   "outputs": [
    {
     "name": "stdout",
     "output_type": "stream",
     "text": [
      "Image: book_images\\A_Bird.jpg\n",
      "         label      prob\n",
      "0    goldfinch  0.475013\n",
      "1    brambling  0.002423\n",
      "2  house_finch  0.002217\n",
      "Image: book_images\\Cape_Weaver.jpg\n",
      "      label      prob\n",
      "0   jacamar  0.297500\n",
      "1     macaw  0.068107\n",
      "2  lorikeet  0.051104\n",
      "Image: book_images\\Hawk_Fountain.jpg\n",
      "            label      prob\n",
      "0            kite  0.184716\n",
      "1           robin  0.084018\n",
      "2  great_grey_owl  0.061267\n",
      "Image: book_images\\Hawk_cropped.jpg\n",
      "            label      prob\n",
      "0            kite  0.453834\n",
      "1  great_grey_owl  0.015914\n",
      "2             jay  0.012210\n",
      "Image: book_images\\Lhasa_Apso.jpg\n",
      "             label      prob\n",
      "0            Lhasa  0.260317\n",
      "1         Shih-Tzu  0.097195\n",
      "2  Tibetan_terrier  0.032820\n",
      "Image: book_images\\Sleeping_Cat.jpg\n",
      "         label      prob\n",
      "0  Persian_cat  0.163070\n",
      "1        tabby  0.074143\n",
      "2    tiger_cat  0.042578\n"
     ]
    }
   ],
   "source": [
    "for i, imgfile in enumerate(imgfiles):\n",
    "    img_df = class_labels.copy()\n",
    "    img_df['prob'] = img_probs[i]\n",
    "    img_df = img_df.sort_values(by='prob', ascending=False)[:3]\n",
    "    print(f'Image: {imgfile}')\n",
    "    print(img_df.reset_index().drop(columns=['idx']))\n"
   ]
  },
  {
   "cell_type": "markdown",
   "id": "04060a77-1df6-406a-a787-1474d4f1295e",
   "metadata": {},
   "source": [
    "We see that the model\n",
    "is quite confident about `Flamingo.jpg`, but a little less so for the\n",
    "other images.\n",
    "\n",
    "We end this section with our usual cleanup."
   ]
  },
  {
   "cell_type": "code",
   "execution_count": 34,
   "id": "cbf74f0f-572a-4f57-ab14-c3a058db09e0",
   "metadata": {
    "lines_to_next_cell": 2
   },
   "outputs": [],
   "source": [
    "del(cifar_test,\n",
    "    cifar_train,\n",
    "    cifar_dm,\n",
    "    cifar_module,\n",
    "    cifar_logger,\n",
    "    cifar_optimizer,\n",
    "    cifar_trainer)"
   ]
  }
 ],
 "metadata": {
  "jupytext": {
   "cell_metadata_filter": "-all",
   "main_language": "python",
   "notebook_metadata_filter": "-all"
  },
  "kernelspec": {
   "display_name": "Python 3",
   "language": "python",
   "name": "python3"
  },
  "language_info": {
   "codemirror_mode": {
    "name": "ipython",
    "version": 3
   },
   "file_extension": ".py",
   "mimetype": "text/x-python",
   "name": "python",
   "nbconvert_exporter": "python",
   "pygments_lexer": "ipython3",
   "version": "3.12.5"
  }
 },
 "nbformat": 4,
 "nbformat_minor": 5
}
