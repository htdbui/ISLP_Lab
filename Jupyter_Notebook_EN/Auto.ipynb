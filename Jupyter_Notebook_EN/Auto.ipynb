{
 "cells": [
  {
   "cell_type": "markdown",
   "id": "a9fd4324",
   "metadata": {},
   "source": [
    "# Data Description\n",
    "- Dataset from StatLib, used in the 1983 ASA Exposition. Originally 397 observations; 5 rows with missing horsepower removed.\n",
    "- There are 392 rows.\n",
    "- There are 9 variables:\n",
    "    - mpg: Miles per gallon\n",
    "    - cylinders: Number of cylinders (4 to 8)\n",
    "    - displacement: Engine displacement (cu. inches)\n",
    "    - horsepower: Engine horsepower\n",
    "    - weight: Vehicle weight (lbs.)\n",
    "    - acceleration: 0-60 mph time (sec.)\n",
    "    - year: Model year\n",
    "    - origin: Car origin (1. American, 2. European, 3. Japanese)\n",
    "    - name: Vehicle name"
   ]
  },
  {
   "cell_type": "markdown",
   "id": "57c1d32e-5bdf-4f4c-ab7a-77530f626120",
   "metadata": {},
   "source": [
    "# Load Packages and Data"
   ]
  },
  {
   "cell_type": "code",
   "execution_count": 4,
   "id": "f1deb5cc",
   "metadata": {
    "lines_to_next_cell": 2
   },
   "outputs": [],
   "source": [
    "import numpy as np, statsmodels.api as sm\n",
    "from ISLP import load_data\n",
    "from ISLP.models import (ModelSpec as MS, summarize, poly, sklearn_sm)\n",
    "from sklearn.model_selection import train_test_split\n",
    "from functools import partial\n",
    "from sklearn.model_selection import \\\n",
    "     (train_test_split, cross_validate, KFold, ShuffleSplit)\n",
    "from sklearn.base import clone"
   ]
  },
  {
   "cell_type": "code",
   "execution_count": 4,
   "id": "46a157b5-41f1-4396-8acd-31bea466ebbd",
   "metadata": {},
   "outputs": [
    {
     "data": {
      "text/html": [
       "<div>\n",
       "<style scoped>\n",
       "    .dataframe tbody tr th:only-of-type {\n",
       "        vertical-align: middle;\n",
       "    }\n",
       "\n",
       "    .dataframe tbody tr th {\n",
       "        vertical-align: top;\n",
       "    }\n",
       "\n",
       "    .dataframe thead th {\n",
       "        text-align: right;\n",
       "    }\n",
       "</style>\n",
       "<table border=\"1\" class=\"dataframe\">\n",
       "  <thead>\n",
       "    <tr style=\"text-align: right;\">\n",
       "      <th></th>\n",
       "      <th>mpg</th>\n",
       "      <th>cylinders</th>\n",
       "      <th>displacement</th>\n",
       "      <th>horsepower</th>\n",
       "      <th>weight</th>\n",
       "      <th>acceleration</th>\n",
       "      <th>year</th>\n",
       "      <th>origin</th>\n",
       "    </tr>\n",
       "    <tr>\n",
       "      <th>name</th>\n",
       "      <th></th>\n",
       "      <th></th>\n",
       "      <th></th>\n",
       "      <th></th>\n",
       "      <th></th>\n",
       "      <th></th>\n",
       "      <th></th>\n",
       "      <th></th>\n",
       "    </tr>\n",
       "  </thead>\n",
       "  <tbody>\n",
       "    <tr>\n",
       "      <th>chevrolet chevelle malibu</th>\n",
       "      <td>18.0</td>\n",
       "      <td>8</td>\n",
       "      <td>307.0</td>\n",
       "      <td>130</td>\n",
       "      <td>3504</td>\n",
       "      <td>12.0</td>\n",
       "      <td>70</td>\n",
       "      <td>1</td>\n",
       "    </tr>\n",
       "    <tr>\n",
       "      <th>buick skylark 320</th>\n",
       "      <td>15.0</td>\n",
       "      <td>8</td>\n",
       "      <td>350.0</td>\n",
       "      <td>165</td>\n",
       "      <td>3693</td>\n",
       "      <td>11.5</td>\n",
       "      <td>70</td>\n",
       "      <td>1</td>\n",
       "    </tr>\n",
       "    <tr>\n",
       "      <th>plymouth satellite</th>\n",
       "      <td>18.0</td>\n",
       "      <td>8</td>\n",
       "      <td>318.0</td>\n",
       "      <td>150</td>\n",
       "      <td>3436</td>\n",
       "      <td>11.0</td>\n",
       "      <td>70</td>\n",
       "      <td>1</td>\n",
       "    </tr>\n",
       "    <tr>\n",
       "      <th>amc rebel sst</th>\n",
       "      <td>16.0</td>\n",
       "      <td>8</td>\n",
       "      <td>304.0</td>\n",
       "      <td>150</td>\n",
       "      <td>3433</td>\n",
       "      <td>12.0</td>\n",
       "      <td>70</td>\n",
       "      <td>1</td>\n",
       "    </tr>\n",
       "    <tr>\n",
       "      <th>ford torino</th>\n",
       "      <td>17.0</td>\n",
       "      <td>8</td>\n",
       "      <td>302.0</td>\n",
       "      <td>140</td>\n",
       "      <td>3449</td>\n",
       "      <td>10.5</td>\n",
       "      <td>70</td>\n",
       "      <td>1</td>\n",
       "    </tr>\n",
       "  </tbody>\n",
       "</table>\n",
       "</div>"
      ],
      "text/plain": [
       "                            mpg  cylinders  displacement  horsepower  weight  \\\n",
       "name                                                                           \n",
       "chevrolet chevelle malibu  18.0          8         307.0         130    3504   \n",
       "buick skylark 320          15.0          8         350.0         165    3693   \n",
       "plymouth satellite         18.0          8         318.0         150    3436   \n",
       "amc rebel sst              16.0          8         304.0         150    3433   \n",
       "ford torino                17.0          8         302.0         140    3449   \n",
       "\n",
       "                           acceleration  year origin  \n",
       "name                                                  \n",
       "chevrolet chevelle malibu          12.0    70      1  \n",
       "buick skylark 320                  11.5    70      1  \n",
       "plymouth satellite                 11.0    70      1  \n",
       "amc rebel sst                      12.0    70      1  \n",
       "ford torino                        10.5    70      1  "
      ]
     },
     "execution_count": 4,
     "metadata": {},
     "output_type": "execute_result"
    }
   ],
   "source": [
    "Auto = load_data('Auto')\n",
    "Auto.origin = Auto.origin.astype('category')\n",
    "Auto.head()"
   ]
  },
  {
   "cell_type": "code",
   "execution_count": 5,
   "id": "5f3ddda7-208b-4aaa-aac2-b7a7bd6e57f6",
   "metadata": {},
   "outputs": [
    {
     "data": {
      "text/html": [
       "<div>\n",
       "<style scoped>\n",
       "    .dataframe tbody tr th:only-of-type {\n",
       "        vertical-align: middle;\n",
       "    }\n",
       "\n",
       "    .dataframe tbody tr th {\n",
       "        vertical-align: top;\n",
       "    }\n",
       "\n",
       "    .dataframe thead th {\n",
       "        text-align: right;\n",
       "    }\n",
       "</style>\n",
       "<table border=\"1\" class=\"dataframe\">\n",
       "  <thead>\n",
       "    <tr style=\"text-align: right;\">\n",
       "      <th></th>\n",
       "      <th>mpg</th>\n",
       "      <th>cylinders</th>\n",
       "      <th>displacement</th>\n",
       "      <th>horsepower</th>\n",
       "      <th>weight</th>\n",
       "      <th>acceleration</th>\n",
       "      <th>year</th>\n",
       "    </tr>\n",
       "  </thead>\n",
       "  <tbody>\n",
       "    <tr>\n",
       "      <th>count</th>\n",
       "      <td>392.0</td>\n",
       "      <td>392.0</td>\n",
       "      <td>392.0</td>\n",
       "      <td>392.0</td>\n",
       "      <td>392.0</td>\n",
       "      <td>392.0</td>\n",
       "      <td>392.0</td>\n",
       "    </tr>\n",
       "    <tr>\n",
       "      <th>mean</th>\n",
       "      <td>23.4</td>\n",
       "      <td>5.5</td>\n",
       "      <td>194.4</td>\n",
       "      <td>104.5</td>\n",
       "      <td>2977.6</td>\n",
       "      <td>15.5</td>\n",
       "      <td>76.0</td>\n",
       "    </tr>\n",
       "    <tr>\n",
       "      <th>std</th>\n",
       "      <td>7.8</td>\n",
       "      <td>1.7</td>\n",
       "      <td>104.6</td>\n",
       "      <td>38.5</td>\n",
       "      <td>849.4</td>\n",
       "      <td>2.8</td>\n",
       "      <td>3.7</td>\n",
       "    </tr>\n",
       "    <tr>\n",
       "      <th>min</th>\n",
       "      <td>9.0</td>\n",
       "      <td>3.0</td>\n",
       "      <td>68.0</td>\n",
       "      <td>46.0</td>\n",
       "      <td>1613.0</td>\n",
       "      <td>8.0</td>\n",
       "      <td>70.0</td>\n",
       "    </tr>\n",
       "    <tr>\n",
       "      <th>25%</th>\n",
       "      <td>17.0</td>\n",
       "      <td>4.0</td>\n",
       "      <td>105.0</td>\n",
       "      <td>75.0</td>\n",
       "      <td>2225.2</td>\n",
       "      <td>13.8</td>\n",
       "      <td>73.0</td>\n",
       "    </tr>\n",
       "    <tr>\n",
       "      <th>50%</th>\n",
       "      <td>22.8</td>\n",
       "      <td>4.0</td>\n",
       "      <td>151.0</td>\n",
       "      <td>93.5</td>\n",
       "      <td>2803.5</td>\n",
       "      <td>15.5</td>\n",
       "      <td>76.0</td>\n",
       "    </tr>\n",
       "    <tr>\n",
       "      <th>75%</th>\n",
       "      <td>29.0</td>\n",
       "      <td>8.0</td>\n",
       "      <td>275.8</td>\n",
       "      <td>126.0</td>\n",
       "      <td>3614.8</td>\n",
       "      <td>17.0</td>\n",
       "      <td>79.0</td>\n",
       "    </tr>\n",
       "    <tr>\n",
       "      <th>max</th>\n",
       "      <td>46.6</td>\n",
       "      <td>8.0</td>\n",
       "      <td>455.0</td>\n",
       "      <td>230.0</td>\n",
       "      <td>5140.0</td>\n",
       "      <td>24.8</td>\n",
       "      <td>82.0</td>\n",
       "    </tr>\n",
       "  </tbody>\n",
       "</table>\n",
       "</div>"
      ],
      "text/plain": [
       "         mpg  cylinders  displacement  horsepower  weight  acceleration   year\n",
       "count  392.0      392.0         392.0       392.0   392.0         392.0  392.0\n",
       "mean    23.4        5.5         194.4       104.5  2977.6          15.5   76.0\n",
       "std      7.8        1.7         104.6        38.5   849.4           2.8    3.7\n",
       "min      9.0        3.0          68.0        46.0  1613.0           8.0   70.0\n",
       "25%     17.0        4.0         105.0        75.0  2225.2          13.8   73.0\n",
       "50%     22.8        4.0         151.0        93.5  2803.5          15.5   76.0\n",
       "75%     29.0        8.0         275.8       126.0  3614.8          17.0   79.0\n",
       "max     46.6        8.0         455.0       230.0  5140.0          24.8   82.0"
      ]
     },
     "execution_count": 5,
     "metadata": {},
     "output_type": "execute_result"
    }
   ],
   "source": [
    "Auto.describe().round(1)"
   ]
  },
  {
   "cell_type": "markdown",
   "id": "1c04f8e4",
   "metadata": {},
   "source": [
    "# The Validation Set Approach\n",
    "- We use the validation set approach to estimate test error rates for fitting linear models on the `Auto` dataset.\n",
    "- Using `train_test_split()`, we split the 392 observations into training and validation sets of 196 each with `test_size=196`.\n",
    "- To ensure reproducibility, we set `random_state=0`."
   ]
  },
  {
   "cell_type": "code",
   "execution_count": 6,
   "id": "22f44ae0",
   "metadata": {},
   "outputs": [],
   "source": [
    "Auto_train, Auto_valid = train_test_split(Auto, test_size=196, random_state=0)"
   ]
  },
  {
   "cell_type": "code",
   "execution_count": 7,
   "id": "0c32e917",
   "metadata": {},
   "outputs": [],
   "source": [
    "hp_mm = MS(['horsepower'])\n",
    "X_train = hp_mm.fit_transform(Auto_train)\n",
    "y_train = Auto_train['mpg']\n",
    "model = sm.OLS(y_train, X_train)\n",
    "results = model.fit()"
   ]
  },
  {
   "cell_type": "code",
   "execution_count": 8,
   "id": "86ce4f85",
   "metadata": {},
   "outputs": [
    {
     "data": {
      "text/plain": [
       "23.61661706966988"
      ]
     },
     "execution_count": 8,
     "metadata": {},
     "output_type": "execute_result"
    }
   ],
   "source": [
    "X_valid = hp_mm.transform(Auto_valid)\n",
    "y_valid = Auto_valid['mpg']\n",
    "valid_pred = results.predict(X_valid)\n",
    "np.mean((y_valid - valid_pred)**2)"
   ]
  },
  {
   "cell_type": "markdown",
   "id": "f2ecdee6",
   "metadata": {},
   "source": [
    "- Estimated validation MSE for linear regression: $23.62$.\n",
    "- `evalMSE()` function estimates validation error for polynomial regressions using model string and training/test sets."
   ]
  },
  {
   "cell_type": "code",
   "execution_count": 9,
   "id": "50a66a97",
   "metadata": {},
   "outputs": [],
   "source": [
    "def evalMSE(terms, response, train, test):\n",
    "   mm = MS(terms)\n",
    "   X_train = mm.fit_transform(train)\n",
    "   y_train = train[response]\n",
    "   X_test = mm.transform(test)\n",
    "   y_test = test[response]\n",
    "   results = sm.OLS(y_train, X_train).fit()\n",
    "   test_pred = results.predict(X_test)\n",
    "   return np.mean((y_test - test_pred)**2)"
   ]
  },
  {
   "cell_type": "code",
   "execution_count": 10,
   "id": "d49b6999",
   "metadata": {},
   "outputs": [
    {
     "data": {
      "text/plain": [
       "array([23.61661707, 18.76303135, 18.79694163])"
      ]
     },
     "execution_count": 10,
     "metadata": {},
     "output_type": "execute_result"
    }
   ],
   "source": [
    "MSE = np.zeros(3)\n",
    "for idx, degree in enumerate(range(1, 4)):\n",
    "    MSE[idx] = evalMSE([poly('horsepower', degree)], 'mpg',\n",
    "                       Auto_train, Auto_valid)\n",
    "MSE"
   ]
  },
  {
   "cell_type": "markdown",
   "id": "9d7b8fc1",
   "metadata": {},
   "source": [
    "- Error rates are $23.62$, $18.76$, and $18.80$.\n",
    "- Different training/validation splits may yield different validation errors."
   ]
  },
  {
   "cell_type": "code",
   "execution_count": 11,
   "id": "dac8bd54",
   "metadata": {},
   "outputs": [
    {
     "data": {
      "text/plain": [
       "array([20.75540796, 16.94510676, 16.97437833])"
      ]
     },
     "execution_count": 11,
     "metadata": {},
     "output_type": "execute_result"
    }
   ],
   "source": [
    "Auto_train, Auto_valid = train_test_split(Auto, test_size=196, random_state=3)\n",
    "MSE = np.zeros(3)\n",
    "for idx, degree in enumerate(range(1, 4)):\n",
    "    MSE[idx] = evalMSE([poly('horsepower', degree)], 'mpg',\n",
    "                       Auto_train, Auto_valid)\n",
    "MSE"
   ]
  },
  {
   "cell_type": "markdown",
   "id": "61f2c12d",
   "metadata": {},
   "source": [
    "- Validation set error rates for models with linear, quadratic, and cubic terms are $20.76$, $16.95$, and $16.97$.\n",
    "- These results confirm that a quadratic function of `horsepower` predicts `mpg` better than a linear one, with no improvement from a cubic function."
   ]
  },
  {
   "cell_type": "markdown",
   "id": "f22daa51",
   "metadata": {},
   "source": [
    "# Cross-Validation\n",
    "- To cross-validate generalized linear models in Python, use `sklearn`, which has a different API than `statsmodels`. \n",
    "\n",
    "- Data scientists often face the challenge of linking functions for tasks A and B to compute B(A(D)). When A and B are incompatible, a *wrapper* is needed. \n",
    "\n",
    "- The `ISLP` package offers `sklearn_sm()`, a wrapper to use `sklearn` cross-validation with `statsmodels` models. \n",
    "\n",
    "- `sklearn_sm()` takes a `statsmodels` model as its first argument, with optional `model_str` for formulas and `model_args` for additional fitting arguments, like `{'family':sm.families.Binomial()}` for logistic regression."
   ]
  },
  {
   "cell_type": "code",
   "execution_count": 15,
   "id": "0074b3c5-a435-48cf-b06d-7f17bef47d42",
   "metadata": {},
   "outputs": [
    {
     "data": {
      "text/plain": [
       "24.231513517929226"
      ]
     },
     "execution_count": 15,
     "metadata": {},
     "output_type": "execute_result"
    }
   ],
   "source": [
    "hp_model = sklearn_sm(sm.OLS)\n",
    "X, Y = MS(['horsepower']).fit_transform(Auto), Auto['mpg']\n",
    "cv_results = cross_validate(hp_model, X, Y, cv=Auto.shape[0]) # LOOCV\n",
    "np.mean(cv_results['test_score'])"
   ]
  },
  {
   "cell_type": "code",
   "execution_count": 16,
   "id": "601ae443",
   "metadata": {
    "lines_to_next_cell": 0
   },
   "outputs": [
    {
     "data": {
      "text/plain": [
       "24.231513517929226"
      ]
     },
     "execution_count": 16,
     "metadata": {},
     "output_type": "execute_result"
    }
   ],
   "source": [
    "hp_model = sklearn_sm(sm.OLS, MS(['horsepower']))\n",
    "X, Y = Auto.drop(columns=['mpg']), Auto['mpg']\n",
    "cv_results = cross_validate(hp_model, X, Y, cv=Auto.shape[0]) # LOOCV\n",
    "np.mean(cv_results['test_score'])"
   ]
  },
  {
   "cell_type": "markdown",
   "id": "ebadc35f",
   "metadata": {},
   "source": [
    "- The `cross_validate()` function requires an object with `fit()`, `predict()`, and `score()` methods, along with feature array `X` and response `Y`. The `cv` argument specifies the type of cross-validation: an integer for $K$-fold or the number of observations for LOOCV. It returns a dictionary; here, the cross-validated test score (MSE) is 24.23.\n",
    "- The process can be automated using a for loop to iteratively fit polynomial regressions from degrees 1 to 5. It calculates the cross-validation error for each degree and stores it in the vector cv_error. The variable 'd' represents the polynomial degree."
   ]
  },
  {
   "cell_type": "code",
   "execution_count": 13,
   "id": "11226c85",
   "metadata": {
    "lines_to_next_cell": 0
   },
   "outputs": [
    {
     "data": {
      "text/plain": [
       "array([24.23151352, 19.24821312, 19.33498406, 19.42443031, 19.03320428])"
      ]
     },
     "execution_count": 13,
     "metadata": {},
     "output_type": "execute_result"
    }
   ],
   "source": [
    "cv_error = np.zeros(5)\n",
    "H = np.array(Auto['horsepower'])\n",
    "M = sklearn_sm(sm.OLS)\n",
    "for i, d in enumerate(range(1,6)):\n",
    "    X = np.power.outer(H, np.arange(d+1))\n",
    "    M_CV = cross_validate(M, X, Y, cv=Auto.shape[0])\n",
    "    cv_error[i] = np.mean(M_CV['test_score'])\n",
    "cv_error"
   ]
  },
  {
   "cell_type": "markdown",
   "id": "a3a920ae",
   "metadata": {},
   "source": [
    "- The test MSE drops sharply from linear to quadratic fits but shows no improvement with higher-degree polynomials.\n",
    "- The `np.power()` function's `outer()` method applies operations like `add()`, `min()`, or `power()`. It has two arrays as arguments, and then forms a larger array where the operation is applied to each pair of elements of the two arrays."
   ]
  },
  {
   "cell_type": "code",
   "execution_count": 14,
   "id": "64b64d97",
   "metadata": {},
   "outputs": [
    {
     "data": {
      "text/plain": [
       "array([[1, 3],\n",
       "       [1, 5],\n",
       "       [1, 9]])"
      ]
     },
     "execution_count": 14,
     "metadata": {},
     "output_type": "execute_result"
    }
   ],
   "source": [
    "A = np.array([3, 5, 9])\n",
    "np.power.outer(A, np.arange(2))"
   ]
  },
  {
   "cell_type": "markdown",
   "id": "71385c1b",
   "metadata": {},
   "source": [
    "- In the CV above example, we used $K=n$; we can also use $K<n$, which is faster. Using `KFold()` with $K=10$ and `random_state`, we store CV errors for polynomial fits from degrees one to five."
   ]
  },
  {
   "cell_type": "code",
   "execution_count": 15,
   "id": "ca0f972f",
   "metadata": {
    "lines_to_next_cell": 0
   },
   "outputs": [
    {
     "data": {
      "text/plain": [
       "array([24.20766449, 19.18533142, 19.27626666, 19.47848404, 19.13722016])"
      ]
     },
     "execution_count": 15,
     "metadata": {},
     "output_type": "execute_result"
    }
   ],
   "source": [
    "cv_error = np.zeros(5)\n",
    "cv = KFold(n_splits=10,\n",
    "           shuffle=True,\n",
    "           random_state=0) # use same splits for each degree\n",
    "for i, d in enumerate(range(1,6)):\n",
    "    X = np.power.outer(H, np.arange(d+1))\n",
    "    M_CV = cross_validate(M, X, Y, cv=cv)\n",
    "    cv_error[i] = np.mean(M_CV['test_score'])\n",
    "cv_error"
   ]
  },
  {
   "cell_type": "markdown",
   "id": "8b234093",
   "metadata": {},
   "source": [
    "- Computation time for $K$-fold is shorter than LOOCV, although traditionally, LOOCV should be faster. Quadratic fits still perform similarly to higher-degree polynomials.\n",
    "- The `cross_validate()` function can use different splitting methods, like `ShuffleSplit()`, for validation set or K-fold cross-validation."
   ]
  },
  {
   "cell_type": "code",
   "execution_count": 21,
   "id": "24f08f9d-651c-4f16-8ce1-943a108e65f9",
   "metadata": {},
   "outputs": [
    {
     "name": "stdout",
     "output_type": "stream",
     "text": [
      "TRAIN: [0 1 3 5 6 7] TEST: [2 4 8 9]\n",
      "TRAIN: [0 2 3 4 5 8 9] TEST: [1 6 7]\n",
      "TRAIN: [1 2 4 6 7 8 9] TEST: [0 3 5]\n"
     ]
    }
   ],
   "source": [
    "# Example data\n",
    "X = [i for i in range(10)]\n",
    "# KFold with 3 splits\n",
    "kf = KFold(n_splits=3, shuffle=True, random_state=0)\n",
    "# Splitting the data\n",
    "for train_index, test_index in kf.split(X):\n",
    "    print(\"TRAIN:\", train_index, \"TEST:\", test_index)"
   ]
  },
  {
   "cell_type": "code",
   "execution_count": 20,
   "id": "2d37a219",
   "metadata": {},
   "outputs": [
    {
     "name": "stdout",
     "output_type": "stream",
     "text": [
      "TRAIN: [9 1 6 7 3 0 5] TEST: [2 8 4]\n",
      "TRAIN: [2 9 8 0 6 7 4] TEST: [3 5 1]\n",
      "TRAIN: [4 5 1 0 6 9 7] TEST: [2 3 8]\n"
     ]
    }
   ],
   "source": [
    "# Example data\n",
    "X = [i for i in range(10)]\n",
    "# ShuffleSplit with 3 splits, 30% test size, and a fixed random state\n",
    "ss = ShuffleSplit(n_splits=3, test_size=0.3, random_state=0)\n",
    "# Splitting the data\n",
    "for train_index, test_index in ss.split(X):\n",
    "    print(\"TRAIN:\", train_index, \"TEST:\", test_index)"
   ]
  },
  {
   "cell_type": "code",
   "execution_count": 16,
   "id": "080cdb29",
   "metadata": {
    "lines_to_next_cell": 2
   },
   "outputs": [
    {
     "data": {
      "text/plain": [
       "array([23.61661707])"
      ]
     },
     "execution_count": 16,
     "metadata": {},
     "output_type": "execute_result"
    }
   ],
   "source": [
    "validation = ShuffleSplit(n_splits=1,\n",
    "                          test_size=196,\n",
    "                          random_state=0)\n",
    "results = cross_validate(hp_model,\n",
    "                         Auto.drop(['mpg'], axis=1),\n",
    "                         Auto['mpg'],\n",
    "                         cv=validation)\n",
    "results['test_score']"
   ]
  },
  {
   "cell_type": "markdown",
   "id": "b2f4b4cf",
   "metadata": {},
   "source": [
    "One can estimate the variability in the test error by running the following:"
   ]
  },
  {
   "cell_type": "code",
   "execution_count": 17,
   "id": "7c46de2b",
   "metadata": {},
   "outputs": [
    {
     "data": {
      "text/plain": [
       "(23.802232661034164, 1.4218450941091847)"
      ]
     },
     "execution_count": 17,
     "metadata": {},
     "output_type": "execute_result"
    }
   ],
   "source": [
    "validation = ShuffleSplit(n_splits=10,\n",
    "                          test_size=196,\n",
    "                          random_state=0)\n",
    "results = cross_validate(hp_model,\n",
    "                         Auto.drop(['mpg'], axis=1),\n",
    "                         Auto['mpg'],\n",
    "                         cv=validation)\n",
    "results['test_score'].mean(), results['test_score'].std()"
   ]
  },
  {
   "cell_type": "markdown",
   "id": "54442746-ca6c-4cbe-8624-12ba883255ff",
   "metadata": {},
   "source": [
    "- The standard deviation here isn’t a valid estimate of the mean test score variability due to overlapping samples but indicates Monte Carlo variation from different random folds."
   ]
  },
  {
   "cell_type": "markdown",
   "id": "363ddcab-c3eb-4034-b5df-a77813b5d99c",
   "metadata": {},
   "source": [
    "`ShuffleSplit(n_splits=10, test_size=196, random_state=0)`:  \n",
    "   - Generates 10 random train/test splits.\n",
    "   - Each test set has 196 samples.\n",
    "   - Splits are independent.\n",
    "\n",
    "`KFold(n_splits=10, shuffle=True, random_state=0)`:  \n",
    "   - Divides data into 10 consecutive, shuffled folds.\n",
    "   - Each fold serves as the test set once.\n",
    "   - Splits are dependent.\n",
    "\n",
    "Key Differences:  \n",
    "`ShuffleSplit` creates random, independent splits, while `KFold` ensures each sample is tested exactly once, with shuffling before splits."
   ]
  },
  {
   "cell_type": "markdown",
   "id": "07165f0e",
   "metadata": {},
   "source": [
    "# The Bootstrap"
   ]
  },
  {
   "cell_type": "markdown",
   "id": "920b7a27-d7bc-4cef-8460-b2b72c23dab3",
   "metadata": {},
   "source": [
    "## Estimating the Accuracy of a Linear Regression Model"
   ]
  },
  {
   "cell_type": "code",
   "execution_count": 1,
   "id": "b3d99ece-2224-49ee-aead-e10793a82bf6",
   "metadata": {
    "lines_to_next_cell": 0
   },
   "outputs": [],
   "source": [
    "def boot_SE(func, D, n=None, B=1000, seed=0):\n",
    "    rng = np.random.default_rng(seed)\n",
    "    # Initialize variables to accumulate the first and second moments\n",
    "    first_, second_ = 0, 0\n",
    "    # If n is not specified, use the number of rows in DataFrame D\n",
    "    n = n or D.shape[0]\n",
    "    # Perform B bootstrap iterations\n",
    "    for _ in range(B):\n",
    "        # Randomly sample n indices from D with replacement\n",
    "        idx = rng.choice(D.index, n, replace=True)        \n",
    "        # Apply the provided function to the sampled data\n",
    "        value = func(D, idx)        \n",
    "        # Accumulate the first and second moments\n",
    "        first_ += value\n",
    "        second_ += value**2    \n",
    "    # Compute and return the bootstrap standard error\n",
    "    return np.sqrt(second_ / B - (first_ / B)**2)"
   ]
  },
  {
   "cell_type": "markdown",
   "id": "fd8cf674-0c0e-4e0d-922b-43ff27487b11",
   "metadata": {},
   "source": [
    "- The bootstrap method assesses variability in coefficient estimates and predictions. We'll use it to evaluate the variability of estimates for $\\beta_0$ and $\\beta_1$ in a linear regression model predicting `mpg` from `horsepower` in the `Auto` dataset and compare these with standard error formulas.\n",
    "\n",
    "- To use `boot_SE()`, you need a function with a data frame `D` and indices `idx`. For bootstrapping a specific regression, we demonstrate this with simple steps.\n",
    "\n",
    "- Create a `boot_OLS()` function for bootstrapping a regression model using a formula. Use `clone()` to copy the formula for refitting on new data, ensuring all features, like `poly()`, are re-evaluated on resampled data."
   ]
  },
  {
   "cell_type": "code",
   "execution_count": 5,
   "id": "6bc11784",
   "metadata": {
    "lines_to_next_cell": 0
   },
   "outputs": [],
   "source": [
    "def boot_OLS(model_matrix, response, D, idx):\n",
    "    # Subset the DataFrame D to include only the rows specified by idx\n",
    "    D_ = D.loc[idx]    \n",
    "    # Extract the response variable (dependent variable) from the subset DataFrame\n",
    "    Y_ = D_[response]    \n",
    "    # Clone the model matrix and fit_transform it on the subset DataFrame to get the design matrix (independent variables)\n",
    "    X_ = clone(model_matrix).fit_transform(D_)\n",
    "    return sm.OLS(Y_, X_).fit().params"
   ]
  },
  {
   "cell_type": "markdown",
   "id": "2a6ea3ce",
   "metadata": {},
   "source": [
    "- The first two arguments of `boot_SE()` should remain unchanged during bootstrapping. Use `partial()` from `functools` to freeze these arguments in `boot_OLS()`."
   ]
  },
  {
   "cell_type": "code",
   "execution_count": 6,
   "id": "740cd50c",
   "metadata": {
    "lines_to_next_cell": 0
   },
   "outputs": [],
   "source": [
    "hp_func = partial(boot_OLS, model_matrix=MS(['horsepower']), response='mpg')"
   ]
  },
  {
   "cell_type": "code",
   "execution_count": 21,
   "id": "0fc1c143-f3bf-44ff-8c45-5b5d4f6b20a6",
   "metadata": {},
   "outputs": [
    {
     "name": "stdout",
     "output_type": "stream",
     "text": [
      "\u001b[1;31mSignature:\u001b[0m      \u001b[0mhp_func\u001b[0m\u001b[1;33m(\u001b[0m\u001b[0mD\u001b[0m\u001b[1;33m,\u001b[0m \u001b[0midx\u001b[0m\u001b[1;33m)\u001b[0m\u001b[1;33m\u001b[0m\u001b[1;33m\u001b[0m\u001b[0m\n",
      "\u001b[1;31mCall signature:\u001b[0m \u001b[0mhp_func\u001b[0m\u001b[1;33m(\u001b[0m\u001b[1;33m*\u001b[0m\u001b[0margs\u001b[0m\u001b[1;33m,\u001b[0m \u001b[1;33m**\u001b[0m\u001b[0mkwargs\u001b[0m\u001b[1;33m)\u001b[0m\u001b[1;33m\u001b[0m\u001b[1;33m\u001b[0m\u001b[0m\n",
      "\u001b[1;31mType:\u001b[0m           partial\n",
      "\u001b[1;31mString form:\u001b[0m    functools.partial(<function boot_OLS at 0x000002090D3AB9C0>, ModelSpec(terms=['horsepower']), 'mpg')\n",
      "\u001b[1;31mFile:\u001b[0m           c:\\users\\tuand\\appdata\\local\\programs\\python\\python312\\lib\\functools.py\n",
      "\u001b[1;31mDocstring:\u001b[0m     \n",
      "partial(func, *args, **keywords) - new function with partial application\n",
      "of the given arguments and keywords."
     ]
    }
   ],
   "source": [
    "hp_func?"
   ]
  },
  {
   "cell_type": "markdown",
   "id": "ed6d19e2",
   "metadata": {},
   "source": [
    "- Typing `hp_func?` reveals it has two arguments, `D` and `idx`, making it perfect for `boot_SE()`.\n",
    "\n",
    "- Use `hp_func()` to create bootstrap estimates for intercept and slope by sampling with replacement, demonstrated on 10 samples."
   ]
  },
  {
   "cell_type": "code",
   "execution_count": 22,
   "id": "ffb3ec50",
   "metadata": {
    "lines_to_next_cell": 0
   },
   "outputs": [
    {
     "data": {
      "text/plain": [
       "array([[39.12226577, -0.1555926 ],\n",
       "       [37.18648613, -0.13915813],\n",
       "       [37.46989244, -0.14112749],\n",
       "       [38.56723252, -0.14830116],\n",
       "       [38.95495707, -0.15315141],\n",
       "       [39.12563927, -0.15261044],\n",
       "       [38.45763251, -0.14767251],\n",
       "       [38.43372587, -0.15019447],\n",
       "       [37.87581142, -0.1409544 ],\n",
       "       [37.95949036, -0.1451333 ]])"
      ]
     },
     "execution_count": 22,
     "metadata": {},
     "output_type": "execute_result"
    }
   ],
   "source": [
    "rng = np.random.default_rng(0)\n",
    "np.array([hp_func(Auto, rng.choice(Auto.index, 392,\n",
    "                     replace=True)) for _ in range(10)])"
   ]
  },
  {
   "cell_type": "markdown",
   "id": "c6d09d96",
   "metadata": {},
   "source": [
    "Next, we use the `boot_SE()` function to compute the standard\n",
    "errors of 1,000 bootstrap estimates for the intercept and slope terms."
   ]
  },
  {
   "cell_type": "code",
   "execution_count": 23,
   "id": "7d561f70",
   "metadata": {
    "lines_to_next_cell": 2
   },
   "outputs": [
    {
     "data": {
      "text/plain": [
       "intercept     0.731176\n",
       "horsepower    0.006092\n",
       "dtype: float64"
      ]
     },
     "execution_count": 23,
     "metadata": {},
     "output_type": "execute_result"
    }
   ],
   "source": [
    "boot_SE(hp_func, Auto, B=1000, seed=10)"
   ]
  },
  {
   "cell_type": "markdown",
   "id": "a834f240",
   "metadata": {},
   "source": [
    "- The bootstrap estimates are 0.7311 for ${\\rm SE}(\\hat{\\beta}_0)$ and 0.0061 for ${\\rm SE}(\\hat{\\beta}_1)$. Standard formulas, available via `summarize()` from `ISLP.sm`, can also compute these standard errors."
   ]
  },
  {
   "cell_type": "code",
   "execution_count": 24,
   "id": "3888aa0a",
   "metadata": {
    "lines_to_next_cell": 2
   },
   "outputs": [
    {
     "data": {
      "text/plain": [
       "intercept     0.717\n",
       "horsepower    0.006\n",
       "Name: std err, dtype: float64"
      ]
     },
     "execution_count": 24,
     "metadata": {},
     "output_type": "execute_result"
    }
   ],
   "source": [
    "hp_model.fit(Auto, Auto['mpg'])\n",
    "summarize(hp_model.results_)['std err']"
   ]
  },
  {
   "cell_type": "markdown",
   "id": "aefc0575",
   "metadata": {},
   "source": [
    "- The formula-based standard errors for $\\hat{\\beta}_0$ and $\\hat{\\beta}_1$ are 0.717 and 0.006, differing from bootstrap estimates. This isn't a problem with the bootstrap; it reveals the assumptions in standard formulas. They depend on $\\sigma^2$, estimated using RSS, which may be inflated due to non-linearity. The standard formulas unrealistically assume fixed $x_i$. The bootstrap doesn't rely on these assumptions, likely offering more accurate estimates.\n",
    "\n",
    "- Next, we compute bootstrap and standard estimates for a quadratic model, showing better alignment due to improved model fit."
   ]
  },
  {
   "cell_type": "code",
   "execution_count": 25,
   "id": "acc3e32c",
   "metadata": {},
   "outputs": [
    {
     "data": {
      "text/plain": [
       "intercept                                  1.538641\n",
       "poly(horsepower, degree=2, raw=True)[0]    0.024696\n",
       "poly(horsepower, degree=2, raw=True)[1]    0.000090\n",
       "dtype: float64"
      ]
     },
     "execution_count": 25,
     "metadata": {},
     "output_type": "execute_result"
    }
   ],
   "source": [
    "quad_model = MS([poly('horsepower', 2, raw=True)])\n",
    "quad_func = partial(boot_OLS, quad_model, 'mpg')\n",
    "boot_SE(quad_func, Auto, B=1000)"
   ]
  },
  {
   "cell_type": "markdown",
   "id": "e8a2fd2b",
   "metadata": {},
   "source": [
    "We  compare the results to the standard errors computed using `sm.OLS()`."
   ]
  },
  {
   "cell_type": "code",
   "execution_count": 26,
   "id": "dca5340c",
   "metadata": {
    "lines_to_next_cell": 0
   },
   "outputs": [
    {
     "data": {
      "text/plain": [
       "intercept                                  1.800\n",
       "poly(horsepower, degree=2, raw=True)[0]    0.031\n",
       "poly(horsepower, degree=2, raw=True)[1]    0.000\n",
       "Name: std err, dtype: float64"
      ]
     },
     "execution_count": 26,
     "metadata": {},
     "output_type": "execute_result"
    }
   ],
   "source": [
    "M = sm.OLS(Auto['mpg'],\n",
    "           quad_model.fit_transform(Auto))\n",
    "summarize(M.fit())['std err']"
   ]
  }
 ],
 "metadata": {
  "jupytext": {
   "cell_metadata_filter": "-all",
   "main_language": "python",
   "notebook_metadata_filter": "-all"
  },
  "kernelspec": {
   "display_name": "Python 3 (ipykernel)",
   "language": "python",
   "name": "python3"
  },
  "language_info": {
   "codemirror_mode": {
    "name": "ipython",
    "version": 3
   },
   "file_extension": ".py",
   "mimetype": "text/x-python",
   "name": "python",
   "nbconvert_exporter": "python",
   "pygments_lexer": "ipython3",
   "version": "3.11.9"
  }
 },
 "nbformat": 4,
 "nbformat_minor": 5
}
