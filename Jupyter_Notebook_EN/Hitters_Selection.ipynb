{
 "cells": [
  {
   "cell_type": "markdown",
   "id": "fc1b86cf-a5ff-41a0-8aee-d438f4642027",
   "metadata": {},
   "source": [
    "# Data Description\n",
    "- Major League Baseball Data from the 1986 and 1987 seasons.\n",
    "- There are 322 rows, with 59 rows of missing values. 263 left.\n",
    "- The response variable is `Salary`, which is the 1987 annual salary in thousands of dollars.\n",
    "- There are 20 variables:\n",
    "    - AtBat: Number of times at bat in 1986\n",
    "    - Hits: Number of hits in 1986\n",
    "    - HmRun: Number of home runs in 1986\n",
    "    - Runs: Number of runs in 1986\n",
    "    - RBI: Number of runs batted in in 1986\n",
    "    - Walks: Number of walks in 1986\n",
    "    - Years: Number of years in the major leagues\n",
    "    - CAtBat: Number of times at bat during his career\n",
    "    - CHits: Number of hits during his career\n",
    "    - CHmRun: Number of home runs during his career\n",
    "    - CRuns: Number of runs during his career\n",
    "    - CRBI: Number of runs batted in during his career\n",
    "    - CWalks: Number of walks during his career\n",
    "    - League: A factor with levels A and N indicating player’s league at the end of 1986\n",
    "    - Division: A factor with levels E and W indicating player’s division at the end of 1986\n",
    "    - PutOuts: Number of put outs in 1986\n",
    "    - Assists: Number of assists in 1986\n",
    "    - Errors: Number of errors in 1986\n",
    "    - Salary: 1987 annual salary on opening day in thousands of dollars\n",
    "    - NewLeague: A factor with levels A and N indicating player’s league at the beginning of 1987\n"
   ]
  },
  {
   "cell_type": "markdown",
   "id": "fa5351bd-0b4f-470e-83bd-e59cb5fc3ad5",
   "metadata": {},
   "source": [
    "# Load Packages and Data"
   ]
  },
  {
   "cell_type": "code",
   "execution_count": 1,
   "id": "b59f6bc4",
   "metadata": {},
   "outputs": [],
   "source": [
    "import numpy as np, pandas as pd, matplotlib.pyplot as plt\n",
    "import statsmodels.api as sm\n",
    "import sklearn.model_selection as skm\n",
    "import sklearn.linear_model as skl\n",
    "from sklearn.pipeline import Pipeline\n",
    "from sklearn.decomposition import PCA\n",
    "from sklearn.cross_decomposition import PLSRegression\n",
    "from sklearn.preprocessing import StandardScaler\n",
    "from ISLP import load_data\n",
    "from ISLP.models import \\\n",
    "     (ModelSpec as MS, Stepwise,\n",
    "      sklearn_selected, sklearn_selection_path)\n",
    "from l0bnb import fit_path\n",
    "from functools import partial"
   ]
  },
  {
   "cell_type": "code",
   "execution_count": 2,
   "id": "740bbc5a-31b0-4b9d-be7a-961d9e6b8e14",
   "metadata": {},
   "outputs": [
    {
     "name": "stdout",
     "output_type": "stream",
     "text": [
      "(322, 20)\n"
     ]
    },
    {
     "data": {
      "text/html": [
       "<div>\n",
       "<style scoped>\n",
       "    .dataframe tbody tr th:only-of-type {\n",
       "        vertical-align: middle;\n",
       "    }\n",
       "\n",
       "    .dataframe tbody tr th {\n",
       "        vertical-align: top;\n",
       "    }\n",
       "\n",
       "    .dataframe thead th {\n",
       "        text-align: right;\n",
       "    }\n",
       "</style>\n",
       "<table border=\"1\" class=\"dataframe\">\n",
       "  <thead>\n",
       "    <tr style=\"text-align: right;\">\n",
       "      <th></th>\n",
       "      <th>AtBat</th>\n",
       "      <th>Hits</th>\n",
       "      <th>HmRun</th>\n",
       "      <th>Runs</th>\n",
       "      <th>RBI</th>\n",
       "      <th>Walks</th>\n",
       "      <th>Years</th>\n",
       "      <th>CAtBat</th>\n",
       "      <th>CHits</th>\n",
       "      <th>CHmRun</th>\n",
       "      <th>CRuns</th>\n",
       "      <th>CRBI</th>\n",
       "      <th>CWalks</th>\n",
       "      <th>League</th>\n",
       "      <th>Division</th>\n",
       "      <th>PutOuts</th>\n",
       "      <th>Assists</th>\n",
       "      <th>Errors</th>\n",
       "      <th>Salary</th>\n",
       "      <th>NewLeague</th>\n",
       "    </tr>\n",
       "  </thead>\n",
       "  <tbody>\n",
       "    <tr>\n",
       "      <th>0</th>\n",
       "      <td>293</td>\n",
       "      <td>66</td>\n",
       "      <td>1</td>\n",
       "      <td>30</td>\n",
       "      <td>29</td>\n",
       "      <td>14</td>\n",
       "      <td>1</td>\n",
       "      <td>293</td>\n",
       "      <td>66</td>\n",
       "      <td>1</td>\n",
       "      <td>30</td>\n",
       "      <td>29</td>\n",
       "      <td>14</td>\n",
       "      <td>A</td>\n",
       "      <td>E</td>\n",
       "      <td>446</td>\n",
       "      <td>33</td>\n",
       "      <td>20</td>\n",
       "      <td>NaN</td>\n",
       "      <td>A</td>\n",
       "    </tr>\n",
       "    <tr>\n",
       "      <th>1</th>\n",
       "      <td>315</td>\n",
       "      <td>81</td>\n",
       "      <td>7</td>\n",
       "      <td>24</td>\n",
       "      <td>38</td>\n",
       "      <td>39</td>\n",
       "      <td>14</td>\n",
       "      <td>3449</td>\n",
       "      <td>835</td>\n",
       "      <td>69</td>\n",
       "      <td>321</td>\n",
       "      <td>414</td>\n",
       "      <td>375</td>\n",
       "      <td>N</td>\n",
       "      <td>W</td>\n",
       "      <td>632</td>\n",
       "      <td>43</td>\n",
       "      <td>10</td>\n",
       "      <td>475.0</td>\n",
       "      <td>N</td>\n",
       "    </tr>\n",
       "    <tr>\n",
       "      <th>2</th>\n",
       "      <td>479</td>\n",
       "      <td>130</td>\n",
       "      <td>18</td>\n",
       "      <td>66</td>\n",
       "      <td>72</td>\n",
       "      <td>76</td>\n",
       "      <td>3</td>\n",
       "      <td>1624</td>\n",
       "      <td>457</td>\n",
       "      <td>63</td>\n",
       "      <td>224</td>\n",
       "      <td>266</td>\n",
       "      <td>263</td>\n",
       "      <td>A</td>\n",
       "      <td>W</td>\n",
       "      <td>880</td>\n",
       "      <td>82</td>\n",
       "      <td>14</td>\n",
       "      <td>480.0</td>\n",
       "      <td>A</td>\n",
       "    </tr>\n",
       "    <tr>\n",
       "      <th>3</th>\n",
       "      <td>496</td>\n",
       "      <td>141</td>\n",
       "      <td>20</td>\n",
       "      <td>65</td>\n",
       "      <td>78</td>\n",
       "      <td>37</td>\n",
       "      <td>11</td>\n",
       "      <td>5628</td>\n",
       "      <td>1575</td>\n",
       "      <td>225</td>\n",
       "      <td>828</td>\n",
       "      <td>838</td>\n",
       "      <td>354</td>\n",
       "      <td>N</td>\n",
       "      <td>E</td>\n",
       "      <td>200</td>\n",
       "      <td>11</td>\n",
       "      <td>3</td>\n",
       "      <td>500.0</td>\n",
       "      <td>N</td>\n",
       "    </tr>\n",
       "    <tr>\n",
       "      <th>4</th>\n",
       "      <td>321</td>\n",
       "      <td>87</td>\n",
       "      <td>10</td>\n",
       "      <td>39</td>\n",
       "      <td>42</td>\n",
       "      <td>30</td>\n",
       "      <td>2</td>\n",
       "      <td>396</td>\n",
       "      <td>101</td>\n",
       "      <td>12</td>\n",
       "      <td>48</td>\n",
       "      <td>46</td>\n",
       "      <td>33</td>\n",
       "      <td>N</td>\n",
       "      <td>E</td>\n",
       "      <td>805</td>\n",
       "      <td>40</td>\n",
       "      <td>4</td>\n",
       "      <td>91.5</td>\n",
       "      <td>N</td>\n",
       "    </tr>\n",
       "  </tbody>\n",
       "</table>\n",
       "</div>"
      ],
      "text/plain": [
       "   AtBat  Hits  HmRun  Runs  RBI  Walks  Years  CAtBat  CHits  CHmRun  CRuns  \\\n",
       "0    293    66      1    30   29     14      1     293     66       1     30   \n",
       "1    315    81      7    24   38     39     14    3449    835      69    321   \n",
       "2    479   130     18    66   72     76      3    1624    457      63    224   \n",
       "3    496   141     20    65   78     37     11    5628   1575     225    828   \n",
       "4    321    87     10    39   42     30      2     396    101      12     48   \n",
       "\n",
       "   CRBI  CWalks League Division  PutOuts  Assists  Errors  Salary NewLeague  \n",
       "0    29      14      A        E      446       33      20     NaN         A  \n",
       "1   414     375      N        W      632       43      10   475.0         N  \n",
       "2   266     263      A        W      880       82      14   480.0         A  \n",
       "3   838     354      N        E      200       11       3   500.0         N  \n",
       "4    46      33      N        E      805       40       4    91.5         N  "
      ]
     },
     "execution_count": 2,
     "metadata": {},
     "output_type": "execute_result"
    }
   ],
   "source": [
    "Hitters = load_data('Hitters'); print(Hitters.shape); Hitters.head()"
   ]
  },
  {
   "cell_type": "code",
   "execution_count": 3,
   "id": "426b33e0-bda2-41d4-aa9f-cf46f50abfb0",
   "metadata": {},
   "outputs": [
    {
     "data": {
      "text/html": [
       "<div>\n",
       "<style scoped>\n",
       "    .dataframe tbody tr th:only-of-type {\n",
       "        vertical-align: middle;\n",
       "    }\n",
       "\n",
       "    .dataframe tbody tr th {\n",
       "        vertical-align: top;\n",
       "    }\n",
       "\n",
       "    .dataframe thead th {\n",
       "        text-align: right;\n",
       "    }\n",
       "</style>\n",
       "<table border=\"1\" class=\"dataframe\">\n",
       "  <thead>\n",
       "    <tr style=\"text-align: right;\">\n",
       "      <th></th>\n",
       "      <th>AtBat</th>\n",
       "      <th>Hits</th>\n",
       "      <th>HmRun</th>\n",
       "      <th>Runs</th>\n",
       "      <th>RBI</th>\n",
       "      <th>Walks</th>\n",
       "      <th>Years</th>\n",
       "      <th>CAtBat</th>\n",
       "      <th>CHits</th>\n",
       "      <th>CHmRun</th>\n",
       "      <th>CRuns</th>\n",
       "      <th>CRBI</th>\n",
       "      <th>CWalks</th>\n",
       "      <th>PutOuts</th>\n",
       "      <th>Assists</th>\n",
       "      <th>Errors</th>\n",
       "      <th>Salary</th>\n",
       "    </tr>\n",
       "  </thead>\n",
       "  <tbody>\n",
       "    <tr>\n",
       "      <th>count</th>\n",
       "      <td>322.0</td>\n",
       "      <td>322.0</td>\n",
       "      <td>322.0</td>\n",
       "      <td>322.0</td>\n",
       "      <td>322.0</td>\n",
       "      <td>322.0</td>\n",
       "      <td>322.0</td>\n",
       "      <td>322.0</td>\n",
       "      <td>322.0</td>\n",
       "      <td>322.0</td>\n",
       "      <td>322.0</td>\n",
       "      <td>322.0</td>\n",
       "      <td>322.0</td>\n",
       "      <td>322.0</td>\n",
       "      <td>322.0</td>\n",
       "      <td>322.0</td>\n",
       "      <td>263.0</td>\n",
       "    </tr>\n",
       "    <tr>\n",
       "      <th>mean</th>\n",
       "      <td>380.9</td>\n",
       "      <td>101.0</td>\n",
       "      <td>10.8</td>\n",
       "      <td>50.9</td>\n",
       "      <td>48.0</td>\n",
       "      <td>38.7</td>\n",
       "      <td>7.4</td>\n",
       "      <td>2648.7</td>\n",
       "      <td>717.6</td>\n",
       "      <td>69.5</td>\n",
       "      <td>358.8</td>\n",
       "      <td>330.1</td>\n",
       "      <td>260.2</td>\n",
       "      <td>288.9</td>\n",
       "      <td>106.9</td>\n",
       "      <td>8.0</td>\n",
       "      <td>535.9</td>\n",
       "    </tr>\n",
       "    <tr>\n",
       "      <th>std</th>\n",
       "      <td>153.4</td>\n",
       "      <td>46.5</td>\n",
       "      <td>8.7</td>\n",
       "      <td>26.0</td>\n",
       "      <td>26.2</td>\n",
       "      <td>21.6</td>\n",
       "      <td>4.9</td>\n",
       "      <td>2324.2</td>\n",
       "      <td>654.5</td>\n",
       "      <td>86.3</td>\n",
       "      <td>334.1</td>\n",
       "      <td>333.2</td>\n",
       "      <td>267.1</td>\n",
       "      <td>280.7</td>\n",
       "      <td>136.9</td>\n",
       "      <td>6.4</td>\n",
       "      <td>451.1</td>\n",
       "    </tr>\n",
       "    <tr>\n",
       "      <th>min</th>\n",
       "      <td>16.0</td>\n",
       "      <td>1.0</td>\n",
       "      <td>0.0</td>\n",
       "      <td>0.0</td>\n",
       "      <td>0.0</td>\n",
       "      <td>0.0</td>\n",
       "      <td>1.0</td>\n",
       "      <td>19.0</td>\n",
       "      <td>4.0</td>\n",
       "      <td>0.0</td>\n",
       "      <td>1.0</td>\n",
       "      <td>0.0</td>\n",
       "      <td>0.0</td>\n",
       "      <td>0.0</td>\n",
       "      <td>0.0</td>\n",
       "      <td>0.0</td>\n",
       "      <td>67.5</td>\n",
       "    </tr>\n",
       "    <tr>\n",
       "      <th>25%</th>\n",
       "      <td>255.2</td>\n",
       "      <td>64.0</td>\n",
       "      <td>4.0</td>\n",
       "      <td>30.2</td>\n",
       "      <td>28.0</td>\n",
       "      <td>22.0</td>\n",
       "      <td>4.0</td>\n",
       "      <td>816.8</td>\n",
       "      <td>209.0</td>\n",
       "      <td>14.0</td>\n",
       "      <td>100.2</td>\n",
       "      <td>88.8</td>\n",
       "      <td>67.2</td>\n",
       "      <td>109.2</td>\n",
       "      <td>7.0</td>\n",
       "      <td>3.0</td>\n",
       "      <td>190.0</td>\n",
       "    </tr>\n",
       "    <tr>\n",
       "      <th>50%</th>\n",
       "      <td>379.5</td>\n",
       "      <td>96.0</td>\n",
       "      <td>8.0</td>\n",
       "      <td>48.0</td>\n",
       "      <td>44.0</td>\n",
       "      <td>35.0</td>\n",
       "      <td>6.0</td>\n",
       "      <td>1928.0</td>\n",
       "      <td>508.0</td>\n",
       "      <td>37.5</td>\n",
       "      <td>247.0</td>\n",
       "      <td>220.5</td>\n",
       "      <td>170.5</td>\n",
       "      <td>212.0</td>\n",
       "      <td>39.5</td>\n",
       "      <td>6.0</td>\n",
       "      <td>425.0</td>\n",
       "    </tr>\n",
       "    <tr>\n",
       "      <th>75%</th>\n",
       "      <td>512.0</td>\n",
       "      <td>137.0</td>\n",
       "      <td>16.0</td>\n",
       "      <td>69.0</td>\n",
       "      <td>64.8</td>\n",
       "      <td>53.0</td>\n",
       "      <td>11.0</td>\n",
       "      <td>3924.2</td>\n",
       "      <td>1059.2</td>\n",
       "      <td>90.0</td>\n",
       "      <td>526.2</td>\n",
       "      <td>426.2</td>\n",
       "      <td>339.2</td>\n",
       "      <td>325.0</td>\n",
       "      <td>166.0</td>\n",
       "      <td>11.0</td>\n",
       "      <td>750.0</td>\n",
       "    </tr>\n",
       "    <tr>\n",
       "      <th>max</th>\n",
       "      <td>687.0</td>\n",
       "      <td>238.0</td>\n",
       "      <td>40.0</td>\n",
       "      <td>130.0</td>\n",
       "      <td>121.0</td>\n",
       "      <td>105.0</td>\n",
       "      <td>24.0</td>\n",
       "      <td>14053.0</td>\n",
       "      <td>4256.0</td>\n",
       "      <td>548.0</td>\n",
       "      <td>2165.0</td>\n",
       "      <td>1659.0</td>\n",
       "      <td>1566.0</td>\n",
       "      <td>1378.0</td>\n",
       "      <td>492.0</td>\n",
       "      <td>32.0</td>\n",
       "      <td>2460.0</td>\n",
       "    </tr>\n",
       "  </tbody>\n",
       "</table>\n",
       "</div>"
      ],
      "text/plain": [
       "       AtBat   Hits  HmRun   Runs    RBI  Walks  Years   CAtBat   CHits  \\\n",
       "count  322.0  322.0  322.0  322.0  322.0  322.0  322.0    322.0   322.0   \n",
       "mean   380.9  101.0   10.8   50.9   48.0   38.7    7.4   2648.7   717.6   \n",
       "std    153.4   46.5    8.7   26.0   26.2   21.6    4.9   2324.2   654.5   \n",
       "min     16.0    1.0    0.0    0.0    0.0    0.0    1.0     19.0     4.0   \n",
       "25%    255.2   64.0    4.0   30.2   28.0   22.0    4.0    816.8   209.0   \n",
       "50%    379.5   96.0    8.0   48.0   44.0   35.0    6.0   1928.0   508.0   \n",
       "75%    512.0  137.0   16.0   69.0   64.8   53.0   11.0   3924.2  1059.2   \n",
       "max    687.0  238.0   40.0  130.0  121.0  105.0   24.0  14053.0  4256.0   \n",
       "\n",
       "       CHmRun   CRuns    CRBI  CWalks  PutOuts  Assists  Errors  Salary  \n",
       "count   322.0   322.0   322.0   322.0    322.0    322.0   322.0   263.0  \n",
       "mean     69.5   358.8   330.1   260.2    288.9    106.9     8.0   535.9  \n",
       "std      86.3   334.1   333.2   267.1    280.7    136.9     6.4   451.1  \n",
       "min       0.0     1.0     0.0     0.0      0.0      0.0     0.0    67.5  \n",
       "25%      14.0   100.2    88.8    67.2    109.2      7.0     3.0   190.0  \n",
       "50%      37.5   247.0   220.5   170.5    212.0     39.5     6.0   425.0  \n",
       "75%      90.0   526.2   426.2   339.2    325.0    166.0    11.0   750.0  \n",
       "max     548.0  2165.0  1659.0  1566.0   1378.0    492.0    32.0  2460.0  "
      ]
     },
     "execution_count": 3,
     "metadata": {},
     "output_type": "execute_result"
    }
   ],
   "source": [
    "Hitters.describe().round(1)"
   ]
  },
  {
   "cell_type": "code",
   "execution_count": 4,
   "id": "91effeff-df3b-4714-8ce4-dfca214cacf2",
   "metadata": {},
   "outputs": [
    {
     "data": {
      "text/plain": [
       "59"
      ]
     },
     "execution_count": 4,
     "metadata": {},
     "output_type": "execute_result"
    }
   ],
   "source": [
    "np.isnan(Hitters['Salary']).sum()"
   ]
  },
  {
   "cell_type": "code",
   "execution_count": 5,
   "id": "86123ade-5239-4fd0-b040-ef47ba9c19c5",
   "metadata": {
    "lines_to_next_cell": 2
   },
   "outputs": [
    {
     "data": {
      "text/plain": [
       "(263, 20)"
      ]
     },
     "execution_count": 5,
     "metadata": {},
     "output_type": "execute_result"
    }
   ],
   "source": [
    "Hitters = Hitters.dropna(); Hitters.shape"
   ]
  },
  {
   "cell_type": "markdown",
   "id": "bfbf09cb",
   "metadata": {},
   "source": [
    "# Subset Selection Methods\n",
    "## Forward Selection\n",
    "- We predict a baseball player’s `Salary` on the basis of various statistics associated with performance in the previous year."
   ]
  },
  {
   "cell_type": "code",
   "execution_count": 6,
   "id": "ef262640",
   "metadata": {},
   "outputs": [
    {
     "name": "stdout",
     "output_type": "stream",
     "text": [
      "(263, 20)\n"
     ]
    },
    {
     "data": {
      "text/html": [
       "<div>\n",
       "<style scoped>\n",
       "    .dataframe tbody tr th:only-of-type {\n",
       "        vertical-align: middle;\n",
       "    }\n",
       "\n",
       "    .dataframe tbody tr th {\n",
       "        vertical-align: top;\n",
       "    }\n",
       "\n",
       "    .dataframe thead th {\n",
       "        text-align: right;\n",
       "    }\n",
       "</style>\n",
       "<table border=\"1\" class=\"dataframe\">\n",
       "  <thead>\n",
       "    <tr style=\"text-align: right;\">\n",
       "      <th></th>\n",
       "      <th>intercept</th>\n",
       "      <th>AtBat</th>\n",
       "      <th>Hits</th>\n",
       "      <th>HmRun</th>\n",
       "      <th>Runs</th>\n",
       "      <th>RBI</th>\n",
       "      <th>Walks</th>\n",
       "      <th>Years</th>\n",
       "      <th>CAtBat</th>\n",
       "      <th>CHits</th>\n",
       "      <th>CHmRun</th>\n",
       "      <th>CRuns</th>\n",
       "      <th>CRBI</th>\n",
       "      <th>CWalks</th>\n",
       "      <th>League[N]</th>\n",
       "      <th>Division[W]</th>\n",
       "      <th>PutOuts</th>\n",
       "      <th>Assists</th>\n",
       "      <th>Errors</th>\n",
       "      <th>NewLeague[N]</th>\n",
       "    </tr>\n",
       "  </thead>\n",
       "  <tbody>\n",
       "    <tr>\n",
       "      <th>1</th>\n",
       "      <td>1.0</td>\n",
       "      <td>315</td>\n",
       "      <td>81</td>\n",
       "      <td>7</td>\n",
       "      <td>24</td>\n",
       "      <td>38</td>\n",
       "      <td>39</td>\n",
       "      <td>14</td>\n",
       "      <td>3449</td>\n",
       "      <td>835</td>\n",
       "      <td>69</td>\n",
       "      <td>321</td>\n",
       "      <td>414</td>\n",
       "      <td>375</td>\n",
       "      <td>1.0</td>\n",
       "      <td>1.0</td>\n",
       "      <td>632</td>\n",
       "      <td>43</td>\n",
       "      <td>10</td>\n",
       "      <td>1.0</td>\n",
       "    </tr>\n",
       "    <tr>\n",
       "      <th>2</th>\n",
       "      <td>1.0</td>\n",
       "      <td>479</td>\n",
       "      <td>130</td>\n",
       "      <td>18</td>\n",
       "      <td>66</td>\n",
       "      <td>72</td>\n",
       "      <td>76</td>\n",
       "      <td>3</td>\n",
       "      <td>1624</td>\n",
       "      <td>457</td>\n",
       "      <td>63</td>\n",
       "      <td>224</td>\n",
       "      <td>266</td>\n",
       "      <td>263</td>\n",
       "      <td>0.0</td>\n",
       "      <td>1.0</td>\n",
       "      <td>880</td>\n",
       "      <td>82</td>\n",
       "      <td>14</td>\n",
       "      <td>0.0</td>\n",
       "    </tr>\n",
       "    <tr>\n",
       "      <th>3</th>\n",
       "      <td>1.0</td>\n",
       "      <td>496</td>\n",
       "      <td>141</td>\n",
       "      <td>20</td>\n",
       "      <td>65</td>\n",
       "      <td>78</td>\n",
       "      <td>37</td>\n",
       "      <td>11</td>\n",
       "      <td>5628</td>\n",
       "      <td>1575</td>\n",
       "      <td>225</td>\n",
       "      <td>828</td>\n",
       "      <td>838</td>\n",
       "      <td>354</td>\n",
       "      <td>1.0</td>\n",
       "      <td>0.0</td>\n",
       "      <td>200</td>\n",
       "      <td>11</td>\n",
       "      <td>3</td>\n",
       "      <td>1.0</td>\n",
       "    </tr>\n",
       "    <tr>\n",
       "      <th>4</th>\n",
       "      <td>1.0</td>\n",
       "      <td>321</td>\n",
       "      <td>87</td>\n",
       "      <td>10</td>\n",
       "      <td>39</td>\n",
       "      <td>42</td>\n",
       "      <td>30</td>\n",
       "      <td>2</td>\n",
       "      <td>396</td>\n",
       "      <td>101</td>\n",
       "      <td>12</td>\n",
       "      <td>48</td>\n",
       "      <td>46</td>\n",
       "      <td>33</td>\n",
       "      <td>1.0</td>\n",
       "      <td>0.0</td>\n",
       "      <td>805</td>\n",
       "      <td>40</td>\n",
       "      <td>4</td>\n",
       "      <td>1.0</td>\n",
       "    </tr>\n",
       "    <tr>\n",
       "      <th>5</th>\n",
       "      <td>1.0</td>\n",
       "      <td>594</td>\n",
       "      <td>169</td>\n",
       "      <td>4</td>\n",
       "      <td>74</td>\n",
       "      <td>51</td>\n",
       "      <td>35</td>\n",
       "      <td>11</td>\n",
       "      <td>4408</td>\n",
       "      <td>1133</td>\n",
       "      <td>19</td>\n",
       "      <td>501</td>\n",
       "      <td>336</td>\n",
       "      <td>194</td>\n",
       "      <td>0.0</td>\n",
       "      <td>1.0</td>\n",
       "      <td>282</td>\n",
       "      <td>421</td>\n",
       "      <td>25</td>\n",
       "      <td>0.0</td>\n",
       "    </tr>\n",
       "  </tbody>\n",
       "</table>\n",
       "</div>"
      ],
      "text/plain": [
       "   intercept  AtBat  Hits  HmRun  Runs  RBI  Walks  Years  CAtBat  CHits  \\\n",
       "1        1.0    315    81      7    24   38     39     14    3449    835   \n",
       "2        1.0    479   130     18    66   72     76      3    1624    457   \n",
       "3        1.0    496   141     20    65   78     37     11    5628   1575   \n",
       "4        1.0    321    87     10    39   42     30      2     396    101   \n",
       "5        1.0    594   169      4    74   51     35     11    4408   1133   \n",
       "\n",
       "   CHmRun  CRuns  CRBI  CWalks  League[N]  Division[W]  PutOuts  Assists  \\\n",
       "1      69    321   414     375        1.0          1.0      632       43   \n",
       "2      63    224   266     263        0.0          1.0      880       82   \n",
       "3     225    828   838     354        1.0          0.0      200       11   \n",
       "4      12     48    46      33        1.0          0.0      805       40   \n",
       "5      19    501   336     194        0.0          1.0      282      421   \n",
       "\n",
       "   Errors  NewLeague[N]  \n",
       "1      10           1.0  \n",
       "2      14           0.0  \n",
       "3       3           1.0  \n",
       "4       4           1.0  \n",
       "5      25           0.0  "
      ]
     },
     "execution_count": 6,
     "metadata": {},
     "output_type": "execute_result"
    }
   ],
   "source": [
    "# Create a data frame with the predictors\n",
    "design = MS(Hitters.columns.drop('Salary')).fit(Hitters)\n",
    "X = design.transform(Hitters)\n",
    "print(X.shape)\n",
    "X.head()"
   ]
  },
  {
   "cell_type": "markdown",
   "id": "4c4d0b06",
   "metadata": {},
   "source": [
    "- We define the search strategy with `Stepwise()` from `ISLP.models`:\n",
    "    - `Stepwise.first_peak()` continues until no score improvement is found.\n",
    "    - `Stepwise.fixed_steps()` runs a set number of steps."
   ]
  },
  {
   "cell_type": "code",
   "execution_count": 7,
   "id": "b39474bc",
   "metadata": {},
   "outputs": [],
   "source": [
    "strategy = Stepwise.first_peak(design, direction='forward', \n",
    "                               max_terms=len(design.terms))"
   ]
  },
  {
   "cell_type": "markdown",
   "id": "a2e10ddc",
   "metadata": {},
   "source": [
    "- We use forward selection with `sklearn_selected()` from `ISLP.models` to fit a linear regression model.\n",
    "- This function uses a `statsmodels` model and a search strategy.\n",
    "- This function has a default scoring of MSE.\n",
    "- Note: the method `fit()` cannot use the design matrix `X` as input. It requires `Hitters` as input.\n",
    "- The result selects all 19 variables."
   ]
  },
  {
   "cell_type": "code",
   "execution_count": 8,
   "id": "b368300d",
   "metadata": {},
   "outputs": [
    {
     "data": {
      "text/plain": [
       "('Assists',\n",
       " 'AtBat',\n",
       " 'CAtBat',\n",
       " 'CHits',\n",
       " 'CHmRun',\n",
       " 'CRBI',\n",
       " 'CRuns',\n",
       " 'CWalks',\n",
       " 'Division',\n",
       " 'Errors',\n",
       " 'Hits',\n",
       " 'HmRun',\n",
       " 'League',\n",
       " 'NewLeague',\n",
       " 'PutOuts',\n",
       " 'RBI',\n",
       " 'Runs',\n",
       " 'Walks',\n",
       " 'Years')"
      ]
     },
     "execution_count": 8,
     "metadata": {},
     "output_type": "execute_result"
    }
   ],
   "source": [
    "# Define the response\n",
    "Y = np.array(Hitters.Salary)\n",
    "# Fit the model\n",
    "hitters_MSE = sklearn_selected(sm.OLS, strategy)\n",
    "hitters_MSE.fit(Hitters, Y)\n",
    "# Show the selected predictors\n",
    "hitters_MSE.selected_state_"
   ]
  },
  {
   "cell_type": "markdown",
   "id": "2ecb3616",
   "metadata": {},
   "source": [
    "- We can use $C_p$ as scoring criterion to select the best model.\n",
    "- $C_p$ isn't a built-in `sklearn` metric, so we need to define it ourselves.\n",
    "- Because `sklearn` use the convention that higher scores are better, we need to negate the $C_p$ value."
   ]
  },
  {
   "cell_type": "code",
   "execution_count": 9,
   "id": "9d4e08e2",
   "metadata": {},
   "outputs": [],
   "source": [
    "def nCp(sigma2, estimator, X, Y):\n",
    "    n, p = X.shape\n",
    "    Yhat = estimator.predict(X)\n",
    "    RSS = np.sum((Y - Yhat)**2)\n",
    "    return - (RSS + 2 * p * sigma2) / n"
   ]
  },
  {
   "cell_type": "markdown",
   "id": "bf9e3ca3",
   "metadata": {},
   "source": [
    "- We need the residual variance ($\\sigma^2$) for `nCp`. We calculate it from the largest model's MSE.\n",
    "- Then we fix $\\sigma^2$ by using `partial()` of `functools`, so that `nCp` use only the last three terms `estimator, X, Y`.\n",
    "- We fix $\\sigma^2$ because the argument `scoring` requires only `estimator, X, Y`."
   ]
  },
  {
   "cell_type": "code",
   "execution_count": 10,
   "id": "096fe127",
   "metadata": {
    "lines_to_next_cell": 0
   },
   "outputs": [],
   "source": [
    "# Compute the sigma2\n",
    "sigma2 = sm.OLS(Y,X).fit().scale\n",
    "# Fix sigma2 in nCp\n",
    "neg_Cp = partial(nCp, sigma2)"
   ]
  },
  {
   "cell_type": "markdown",
   "id": "c1a78607",
   "metadata": {},
   "source": [
    "- Using `nCp` for scoring yields a smaller model with only 10 selected variables."
   ]
  },
  {
   "cell_type": "code",
   "execution_count": 11,
   "id": "915cdff6",
   "metadata": {},
   "outputs": [
    {
     "data": {
      "text/plain": [
       "('Assists',\n",
       " 'AtBat',\n",
       " 'CAtBat',\n",
       " 'CRBI',\n",
       " 'CRuns',\n",
       " 'CWalks',\n",
       " 'Division',\n",
       " 'Hits',\n",
       " 'PutOuts',\n",
       " 'Walks')"
      ]
     },
     "execution_count": 11,
     "metadata": {},
     "output_type": "execute_result"
    }
   ],
   "source": [
    "hitters_Cp = sklearn_selected(sm.OLS, strategy, scoring=neg_Cp)\n",
    "hitters_Cp.fit(Hitters, Y)\n",
    "hitters_Cp.selected_state_"
   ]
  },
  {
   "cell_type": "markdown",
   "id": "5d1a6191",
   "metadata": {},
   "source": [
    "## Choosing Among Models Using Only Training Data\n",
    "- The `sklearn_selection_path()` estimator stores the models found for each step.\n",
    "- We define a strategy with `Stepwise.fixed_steps()` running fixed 20 steps from NULL to full with 19 variables.\n",
    "- We use each model to compute the fitted values.\n",
    "- The result is a list of 263 fitted values for each 20 models."
   ]
  },
  {
   "cell_type": "code",
   "execution_count": 12,
   "id": "33ae4aa4",
   "metadata": {},
   "outputs": [
    {
     "data": {
      "text/plain": [
       "(263, 20)"
      ]
     },
     "execution_count": 12,
     "metadata": {},
     "output_type": "execute_result"
    }
   ],
   "source": [
    "# Define the strategy\n",
    "strategy = Stepwise.fixed_steps(model_spec=design, n_steps=len(design.terms), direction='forward')\n",
    "# Fit the models\n",
    "full_path = sklearn_selection_path(sm.OLS, strategy)\n",
    "full_path.fit(Hitters, Y)\n",
    "# Fitted values\n",
    "Yhat_in = full_path.predict(Hitters)\n",
    "Yhat_in.shape\n",
    "# row is fitted values, column is model"
   ]
  },
  {
   "cell_type": "markdown",
   "id": "73b6ce9b",
   "metadata": {},
   "source": [
    "- We calculate the MSE for each model and then plot the MSE against the number of variables in each model.\n",
    "- The y-axis is the MSE and fixed set from 50,0000 to 250,0000 for comparison with cross-validation MSE and other methods later"
   ]
  },
  {
   "cell_type": "code",
   "execution_count": 13,
   "id": "381071ba",
   "metadata": {},
   "outputs": [
    {
     "data": {
      "image/png": "[encoded data removed]",
      "text/plain": [
       "<Figure size 800x800 with 1 Axes>"
      ]
     },
     "metadata": {},
     "output_type": "display_data"
    }
   ],
   "source": [
    "mse_fig, ax = plt.subplots(figsize=(8,8))\n",
    "insample_mse = ((Yhat_in - Y[:,None])**2).mean(0)\n",
    "# Y[:,None] is to make it a column vector.\n",
    "# mean(0) is to average over the rows.\n",
    "n_steps = insample_mse.shape[0] # Number of steps is 20\n",
    "ax.plot(np.arange(n_steps), # from 0 to 19\n",
    "        insample_mse, # insample MSE\n",
    "        'k', # color black\n",
    "        label='In-sample')\n",
    "ax.set_ylabel('MSE'); ax.set_xlabel('# Steps of forward stepwise')\n",
    "ax.set_ylim([50000,250000]); ax.set_xticks(range(20)); ax.legend();"
   ]
  },
  {
   "cell_type": "markdown",
   "id": "fcca56d5",
   "metadata": {},
   "source": [
    "## Choosing Among Models Using the Cross-Validation\n",
    "- We perform 5-fold cross-validation for each model along the path.\n",
    "- We use `cross_val_predict()` of `sklearn.model_selection` to calculate the fitted values for a model of each step.\n",
    "    - `cross_val_predict()` uses the training data of remaning folds to fit the model and calculate the fitted values for the excluded fold.\n",
    "        1. The first fold is excluded and the model is fit on the remaining 4 folds.\n",
    "        2. The fitted values are calculated for the first fold.\n",
    "        3. The process is repeated for the remaining folds.\n",
    "        - In the end, we have 5 sets of fitted values for a model of each step. The total number of fitted values for a model of each step is 263.\n",
    "- The result is also a list of 263 fitted values for 20 models along the path."
   ]
  },
  {
   "cell_type": "code",
   "execution_count": 15,
   "id": "a1654ad8",
   "metadata": {
    "lines_to_next_cell": 0
   },
   "outputs": [
    {
     "data": {
      "text/plain": [
       "(263, 20)"
      ]
     },
     "execution_count": 15,
     "metadata": {},
     "output_type": "execute_result"
    }
   ],
   "source": [
    "K = 5\n",
    "kfold = skm.KFold(K, shuffle=True, random_state=0)\n",
    "Yhat_cv = skm.cross_val_predict(full_path, Hitters, Y, cv=kfold)\n",
    "Yhat_cv.shape"
   ]
  },
  {
   "cell_type": "markdown",
   "id": "e2c984e2",
   "metadata": {},
   "source": [
    "- For each model along the path, we compute the MSE in each cross-validation fold. It means we have 5 MSEs for each model.\n",
    "- We calculate the mean and variance of the 5 MSEs for each model.\n",
    "- The variance estimates is rough because the training sets overlap. It means that the errors aren't independent.\n",
    "- First, we need the indices of the training and test sets for each fold. We use `split()` method of `kfold` to get the indices.\n",
    "- Because we use a fix random_state, the indices are the same for 20 models."
   ]
  },
  {
   "cell_type": "code",
   "execution_count": 16,
   "id": "0fa1e87a",
   "metadata": {},
   "outputs": [
    {
     "name": "stdout",
     "output_type": "stream",
     "text": [
      "(210,) (53,)\n",
      "[5 7 8]\n",
      "(210,) (53,)\n",
      "[ 3  4 13]\n",
      "(210,) (53,)\n",
      "[ 0  2 10]\n",
      "(211,) (52,)\n",
      "[ 1  6 11]\n",
      "(211,) (52,)\n",
      "[ 9 21 25]\n"
     ]
    }
   ],
   "source": [
    "# Show shape of each train and test set for each fold\n",
    "for train_idx, test_idx in kfold.split(Y):\n",
    "    print(train_idx.shape, test_idx.shape)\n",
    "    print(test_idx[:3])"
   ]
  },
  {
   "cell_type": "code",
   "execution_count": 17,
   "id": "ce919bd3",
   "metadata": {},
   "outputs": [
    {
     "data": {
      "text/plain": [
       "[array([297431.06375465, 179409.9479167 , 169081.87136598, 161065.23003134,\n",
       "        143343.94710477, 136980.48787987, 133308.92200721, 131281.92026823,\n",
       "        123424.15486916, 122703.80987915, 125273.80434187, 127445.03843963,\n",
       "        127856.74842777, 129173.2015285 , 129795.62564573, 123488.24024446,\n",
       "        126038.61444479, 127633.64608344, 128992.90502241, 129058.63649627]),\n",
       " array([213373.26684906, 171503.22142442, 149740.51439506, 158039.08094899,\n",
       "        136954.50569394, 126681.57443205, 132669.47624458, 172481.81312871,\n",
       "        177296.93538742, 170634.1192835 , 158830.79378516, 165893.21561513,\n",
       "        152772.31322782, 155531.09576055, 148106.82726264, 150350.87095364,\n",
       "        147588.52245651, 147698.76647949, 147679.90672549, 147916.51695233]),\n",
       " array([164217.86614576, 119051.86818073, 106610.80755337, 109849.16390754,\n",
       "         97833.92005879, 109241.85546727, 102674.2023572 ,  95998.89718102,\n",
       "         99621.93621648, 104603.25122781, 108773.32323463, 106275.21727878,\n",
       "         96873.01261006,  95730.21873462,  95624.89642579,  94870.02173792,\n",
       "         95112.75501407,  94851.5905193 ,  94702.85807427,  95543.29074743]),\n",
       " array([173485.72836052, 116989.19290773, 102201.60230676, 109662.66982833,\n",
       "        101684.74147948,  97215.02867442,  90697.78162432,  95674.58264061,\n",
       "        105832.32036154,  98589.48917202,  95206.53903192,  99926.74564074,\n",
       "        103719.83631388, 109107.6614519 , 111134.29924961, 110839.52376576,\n",
       "        110692.46590185, 110246.79541117, 110374.56801296, 110353.2018677 ]),\n",
       " array([172188.60953974, 140209.85934929, 140916.43073648, 148364.79459334,\n",
       "        145424.2418196 , 147981.91027704, 140394.69989328, 137972.87342947,\n",
       "        134588.01460062, 133043.74932891, 132943.13468518, 132442.34346643,\n",
       "        129608.98300451, 130095.71188975, 131840.93812621, 131895.70087402,\n",
       "        131327.73248139, 130978.59085032, 130709.50920418, 130622.34898135])]"
      ]
     },
     "execution_count": 17,
     "metadata": {},
     "output_type": "execute_result"
    }
   ],
   "source": [
    "cv_mse = []\n",
    "for train_idx, test_idx in kfold.split(Y):\n",
    "    errors = (Yhat_cv[test_idx] - Y[test_idx, None])**2\n",
    "    # Y[test_idx, None] is to make it a column vector.\n",
    "    cv_mse.append(errors.mean(0))\n",
    "    # mean(0) is to average over the rows.\n",
    "cv_mse"
   ]
  },
  {
   "cell_type": "markdown",
   "id": "a27004be",
   "metadata": {},
   "source": [
    "- We draw a plot of the mean MSE against the number of variables in each model.\n",
    "- We also plot the standard error of the mean MSE against the number of variables in each model.\n",
    "    - $Std(mean) = \\frac{Std}{\\sqrt{K}}$"
   ]
  },
  {
   "cell_type": "code",
   "execution_count": 18,
   "id": "26520d22",
   "metadata": {},
   "outputs": [
    {
     "data": {
      "image/png": "[encoded data removed]",
      "text/plain": [
       "<Figure size 800x800 with 1 Axes>"
      ]
     },
     "execution_count": 18,
     "metadata": {},
     "output_type": "execute_result"
    }
   ],
   "source": [
    "# Draw the figure\n",
    "ax.errorbar(x = np.arange(n_steps), # n_steps=20\n",
    "            y = np.mean(cv_mse, axis=0),\n",
    "            yerr = np.std(cv_mse, axis=0) / np.sqrt(K),\n",
    "            label = 'Cross-validated',\n",
    "            c = 'r') # color red\n",
    "ax.set_ylim([50000,250000]); ax.legend(); mse_fig"
   ]
  },
  {
   "cell_type": "markdown",
   "id": "9881566e",
   "metadata": {},
   "source": [
    "## Choosing Among Models Using the Validation Set Approach\n",
    "- We use `skm.ShuffleSplit()` to split the data into training (80% = 210) and test set (20% = 53)."
   ]
  },
  {
   "cell_type": "code",
   "execution_count": 19,
   "id": "0dad4f0f",
   "metadata": {},
   "outputs": [],
   "source": [
    "# Split the data into the training and validation set\n",
    "validation = skm.ShuffleSplit(n_splits=1, test_size=0.2, random_state=0)\n",
    "# Get indices of the training and test set\n",
    "# train_idx, test_idx = list(validation.split(Y))[0]\n",
    "for train_idx, test_idx in validation.split(Y):\n",
    "    train_idx = train_idx\n",
    "    test_idx = test_idx"
   ]
  },
  {
   "cell_type": "markdown",
   "id": "87b62cc1",
   "metadata": {},
   "source": [
    "- We fit the model for each step along the path on the training set.\n",
    "- We predict the response on the validation set.\n",
    "- The result is a list of 53 predicted values for each 20 models."
   ]
  },
  {
   "cell_type": "code",
   "execution_count": 20,
   "id": "2f29c593",
   "metadata": {},
   "outputs": [
    {
     "data": {
      "text/plain": [
       "(53, 20)"
      ]
     },
     "execution_count": 20,
     "metadata": {},
     "output_type": "execute_result"
    }
   ],
   "source": [
    "# Define the strategy\n",
    "strategy = Stepwise.fixed_steps(model_spec=design, n_steps=len(design.terms), direction='forward')\n",
    "# Fit the models on the training set\n",
    "full_path = sklearn_selection_path(sm.OLS, strategy)\n",
    "full_path.fit(Hitters.iloc[train_idx], Y[train_idx])\n",
    "# Predict values on the validation set\n",
    "Yhat_val = full_path.predict(Hitters.iloc[test_idx])\n",
    "Yhat_val.shape"
   ]
  },
  {
   "cell_type": "markdown",
   "id": "280a639c",
   "metadata": {},
   "source": [
    "- Based on the predicted values, we calculate the MSE for each model."
   ]
  },
  {
   "cell_type": "code",
   "execution_count": 21,
   "id": "f19c9091",
   "metadata": {
    "lines_to_next_cell": 0
   },
   "outputs": [
    {
     "name": "stdout",
     "output_type": "stream",
     "text": [
      "errors shape: (53, 20)\n",
      "validation_mse shape: (20,)\n"
     ]
    }
   ],
   "source": [
    "errors = (Yhat_val - Y[test_idx, None])**2\n",
    "print('errors shape:', errors.shape)\n",
    "validation_mse = errors.mean(0)\n",
    "# mean(0) is to average over the rows.\n",
    "print('validation_mse shape:', validation_mse.shape)"
   ]
  },
  {
   "cell_type": "markdown",
   "id": "7421fc11",
   "metadata": {},
   "source": [
    "- We plot the MSE against the number of variables in each model."
   ]
  },
  {
   "cell_type": "code",
   "execution_count": 23,
   "id": "1fca6b08",
   "metadata": {
    "lines_to_next_cell": 2
   },
   "outputs": [
    {
     "data": {
      "image/png": "[encoded data removed]",
      "text/plain": [
       "<Figure size 800x800 with 1 Axes>"
      ]
     },
     "execution_count": 23,
     "metadata": {},
     "output_type": "execute_result"
    }
   ],
   "source": [
    "ax.plot(np.arange(n_steps), # n_steps=20\n",
    "        validation_mse,\n",
    "        'b--', # color blue, broken line\n",
    "        label='Validation')\n",
    "ax.set_xticks(np.arange(n_steps)[::2]); ax.set_ylim([50000,250000]); ax.legend(); mse_fig"
   ]
  },
  {
   "cell_type": "markdown",
   "id": "b4df366a",
   "metadata": {},
   "source": [
    "## Best Subset Selection\n",
    "- Forward stepwise selection is a *greedy* method that adds one variable at a time to the model.\n",
    "- Now, we apply best subset selection to the `Hitters` data, where the best predictor set is chosen for each subset size.\n",
    "- We use `fit_path` of `l0bnb` for best subset selection.\n",
    "    - Instead of fixing the subset size, this package treats subset size as a penalty, creating a path of solutions. This difference affects how we handle cross-validation.\n",
    "- First, we define the design matrix `X` without the intercept."
   ]
  },
  {
   "cell_type": "code",
   "execution_count": 24,
   "id": "6e9dd7d4",
   "metadata": {
    "lines_to_next_cell": 0
   },
   "outputs": [],
   "source": [
    "D = design.fit_transform(Hitters)\n",
    "D = D.drop('intercept', axis=1)\n",
    "X = np.asarray(D)"
   ]
  },
  {
   "cell_type": "markdown",
   "id": "00ede5fc",
   "metadata": {},
   "source": [
    "- The `fit_path()` function returns a list with the fitted coefficients (`B`), the intercept (`B0`) and other details."
   ]
  },
  {
   "cell_type": "code",
   "execution_count": 25,
   "id": "caed84ae",
   "metadata": {},
   "outputs": [
    {
     "name": "stdout",
     "output_type": "stream",
     "text": [
      "Preprocessing Data.\n",
      "BnB Started.\n",
      "Iteration: 1. Number of non-zeros:  1\n",
      "Iteration: 2. Number of non-zeros:  2\n",
      "Iteration: 3. Number of non-zeros:  2\n",
      "Iteration: 4. Number of non-zeros:  2\n",
      "Iteration: 5. Number of non-zeros:  3\n",
      "Iteration: 6. Number of non-zeros:  3\n",
      "Iteration: 7. Number of non-zeros:  4\n",
      "Iteration: 8. Number of non-zeros:  9\n",
      "Iteration: 9. Number of non-zeros:  9\n",
      "Iteration: 10. Number of non-zeros:  9\n",
      "Iteration: 11. Number of non-zeros:  9\n",
      "Iteration: 12. Number of non-zeros:  9\n",
      "Iteration: 13. Number of non-zeros:  9\n",
      "Iteration: 14. Number of non-zeros:  9\n",
      "Iteration: 15. Number of non-zeros:  9\n",
      "Iteration: 16. Number of non-zeros:  9\n",
      "Iteration: 17. Number of non-zeros:  9\n",
      "Iteration: 18. Number of non-zeros:  17\n",
      "Iteration: 19. Number of non-zeros:  19\n"
     ]
    }
   ],
   "source": [
    "path = fit_path(X, Y, max_nonzeros=X.shape[1])"
   ]
  },
  {
   "cell_type": "markdown",
   "id": "92e12dbb",
   "metadata": {},
   "source": [
    "- We look at the model at step 4."
   ]
  },
  {
   "cell_type": "code",
   "execution_count": 26,
   "id": "f2fc2ef8",
   "metadata": {
    "lines_to_next_cell": 0
   },
   "outputs": [
    {
     "data": {
      "text/plain": [
       "{'B': array([0.        , 3.25484367, 0.        , 0.        , 0.        ,\n",
       "        0.        , 0.        , 0.        , 0.        , 0.        ,\n",
       "        0.        , 0.67775265, 0.        , 0.        , 0.        ,\n",
       "        0.        , 0.        , 0.        , 0.        ]),\n",
       " 'B0': -38.98216739555505,\n",
       " 'lambda_0': 0.011416248027450207,\n",
       " 'M': 0.5829861733382011,\n",
       " 'Time_exceeded': False}"
      ]
     },
     "execution_count": 26,
     "metadata": {},
     "output_type": "execute_result"
    }
   ],
   "source": [
    "path[3]"
   ]
  },
  {
   "cell_type": "markdown",
   "id": "c295e5b1-fa76-4105-b107-99a175f3211d",
   "metadata": {},
   "source": [
    "- At the fourth step, `'B'` has two nonzero coefficients with a penalty `lambda_0` of $0.114$.\n",
    "- Predictions can be made on a validation set based on `lambda_0` or via cross-validation."
   ]
  }
 ],
 "metadata": {
  "jupytext": {
   "cell_metadata_filter": "-all",
   "main_language": "python",
   "notebook_metadata_filter": "-all"
  },
  "kernelspec": {
   "display_name": "Python 3 (ipykernel)",
   "language": "python",
   "name": "python3"
  },
  "language_info": {
   "codemirror_mode": {
    "name": "ipython",
    "version": 3
   },
   "file_extension": ".py",
   "mimetype": "text/x-python",
   "name": "python",
   "nbconvert_exporter": "python",
   "pygments_lexer": "ipython3",
   "version": "3.11.9"
  }
 },
 "nbformat": 4,
 "nbformat_minor": 5
}
