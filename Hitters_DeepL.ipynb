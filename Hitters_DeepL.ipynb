{
 "cells": [
  {
   "cell_type": "markdown",
   "id": "8fdac296-1121-4528-a6fb-b10597f1b386",
   "metadata": {},
   "source": [
    "# Load Packages\n",
    "- We use `torch`package.\n",
    "- We use `pytorch_lightning` packages to simplify fitting and evaluate models."
   ]
  },
  {
   "cell_type": "code",
   "execution_count": 1,
   "id": "71bd6b71",
   "metadata": {
    "lines_to_next_cell": 2
   },
   "outputs": [],
   "source": [
    "import numpy as np, pandas as pd, matplotlib.pyplot as plt\n",
    "from sklearn.linear_model import \\\n",
    "     (LinearRegression, LogisticRegression, Lasso)\n",
    "from sklearn.preprocessing import StandardScaler\n",
    "from sklearn.model_selection import KFold, train_test_split, GridSearchCV\n",
    "from sklearn.pipeline import Pipeline\n",
    "from ISLP import load_data\n",
    "from ISLP.models import ModelSpec as MS"
   ]
  },
  {
   "cell_type": "markdown",
   "id": "9b799d88",
   "metadata": {},
   "source": [
    "### Torch-Specific Imports\n",
    "There are a number of imports for `torch`. (These are not\n",
    "included with `ISLP`, so must be installed separately.)\n",
    "First we import the main library\n",
    "and essential tools used to specify sequentially-structured networks."
   ]
  },
  {
   "cell_type": "markdown",
   "id": "b53d64db-af55-48a3-bb2f-acddf81c9ad6",
   "metadata": {},
   "source": [
    "- Main library and essential tools to specify sequentially-structured networks"
   ]
  },
  {
   "cell_type": "code",
   "execution_count": 2,
   "id": "3298bdf1",
   "metadata": {},
   "outputs": [],
   "source": [
    "import torch\n",
    "from torch import nn\n",
    "from torch.optim import RMSprop\n",
    "from torch.utils.data import TensorDataset"
   ]
  },
  {
   "cell_type": "markdown",
   "id": "d08cce9d-038e-4154-829a-f145909e6eda",
   "metadata": {},
   "source": [
    "- Tools from `torchmetrics` to compute metrics to evaluate performance.\n",
    "- Tools from `torchinfo` to summarize info of the layers of a model."
   ]
  },
  {
   "cell_type": "code",
   "execution_count": 3,
   "id": "aeae9bd9",
   "metadata": {},
   "outputs": [],
   "source": [
    "from torchmetrics import (MeanAbsoluteError, R2Score)\n",
    "from torchinfo import summary"
   ]
  },
  {
   "cell_type": "markdown",
   "id": "93a3e7e5-013f-460b-8cd6-0c4ef6792d8e",
   "metadata": {},
   "source": [
    "- `pytorch_lightning` package simplifies the specification and fitting and evaluate models by reducing amount of boilerplate code needed.\n",
    "- `pytorch_lightning` is higher-level interface than `torch`.\n",
    "- `pytorch_lightning` is a high-level module for fitting `torch` models"
   ]
  },
  {
   "cell_type": "code",
   "execution_count": 4,
   "id": "a5a39702",
   "metadata": {},
   "outputs": [],
   "source": [
    "from pytorch_lightning import Trainer\n",
    "from pytorch_lightning.loggers import CSVLogger"
   ]
  },
  {
   "cell_type": "markdown",
   "id": "e1b27f4d",
   "metadata": {},
   "source": [
    "- `seed_everything()` set seed.\n",
    "- `use_deterministic_algorithms` fix algorithms."
   ]
  },
  {
   "cell_type": "code",
   "execution_count": 5,
   "id": "11bf06a4",
   "metadata": {},
   "outputs": [
    {
     "name": "stderr",
     "output_type": "stream",
     "text": [
      "Seed set to 0\n"
     ]
    }
   ],
   "source": [
    "from pytorch_lightning import seed_everything\n",
    "seed_everything(0, workers=True)\n",
    "torch.use_deterministic_algorithms(True, warn_only=True)"
   ]
  },
  {
   "cell_type": "markdown",
   "id": "4bd719f8",
   "metadata": {},
   "source": [
    "- We use datasets from `torchvision`.\n",
    "- We use transforms from `torchvision` for preprocessing.\n",
    "- We use a pretrained network for image classification"
   ]
  },
  {
   "cell_type": "code",
   "execution_count": 6,
   "id": "062cd869",
   "metadata": {
    "lines_to_next_cell": 0
   },
   "outputs": [],
   "source": [
    "from torchvision.io import read_image\n",
    "from torchvision.datasets import MNIST, CIFAR100\n",
    "from torchvision.models import (resnet50, ResNet50_Weights)\n",
    "from torchvision.transforms import (Resize, Normalize,\n",
    "                                    CenterCrop, ToTensor)"
   ]
  },
  {
   "cell_type": "markdown",
   "id": "7c2a507a",
   "metadata": {},
   "source": [
    "- `SimpleDataModule` and `SimpleModule` from `ISLP.torch` are simple versions of objects used in `pytorch_lightning`.\n",
    "- `ErrorTracker` collects targets and predictions over each mini-batch during validation or testing, enabling metric computation over the entire validation or test data set.\n",
    "- `read_image()` load test images"
   ]
  },
  {
   "cell_type": "code",
   "execution_count": 7,
   "id": "4a05884a",
   "metadata": {},
   "outputs": [],
   "source": [
    "from ISLP.torch import (SimpleDataModule, SimpleModule,\n",
    "                        ErrorTracker, rec_num_workers)"
   ]
  },
  {
   "cell_type": "markdown",
   "id": "b7b882b7-e23d-4ff0-821d-c859fc88c60a",
   "metadata": {},
   "source": [
    "- We use helper functions from `ISLP.torch.imdb` to load data, lookup that maps integers to keys in data.\n",
    "- We use a modified copy of the preprocessed `imdb` data from `keras`. It saves time for preprocessing.\n",
    "    - `keras` is a separate package for fitting deep learning models."
   ]
  },
  {
   "cell_type": "code",
   "execution_count": 8,
   "id": "1474e88b",
   "metadata": {},
   "outputs": [],
   "source": [
    "from ISLP.torch.imdb import (load_lookup, load_tensor,\n",
    "                             load_sparse, load_sequential)"
   ]
  },
  {
   "cell_type": "markdown",
   "id": "59a9d9b2-b2f7-44e4-971f-1d6ef923e63d",
   "metadata": {},
   "source": [
    "- We use `glob()` from `glob` package to find all files matching wildcard characters.\n",
    "- We use `json` module to load JSON file for looking up classes to identify labels of the pictures in `ResNet50`."
   ]
  },
  {
   "cell_type": "code",
   "execution_count": 9,
   "id": "0100ff28",
   "metadata": {
    "lines_to_next_cell": 2
   },
   "outputs": [],
   "source": [
    "from glob import glob; import json"
   ]
  },
  {
   "cell_type": "markdown",
   "id": "b0f81cea",
   "metadata": {},
   "source": [
    "# Single Layer Network on Hitters Data\n",
    "- Major League Baseball Data from the 1986 and 1987 seasons.\n",
    "- There are 322 rows, with 59 rows of missing values. 263 left.\n",
    "- There are 20 variables.\n",
    "- The response is `Salary`."
   ]
  },
  {
   "cell_type": "code",
   "execution_count": 10,
   "id": "ef59d53a",
   "metadata": {
    "lines_to_next_cell": 0
   },
   "outputs": [],
   "source": [
    "Hitters = load_data('Hitters').dropna()\n",
    "# Number of observations\n",
    "n = Hitters.shape[0]"
   ]
  },
  {
   "cell_type": "markdown",
   "id": "60422359",
   "metadata": {},
   "source": [
    "- We fit two linear models (least squares  and lasso) and  compare their performance to that of a neural network.\n",
    "- We use mean absolute error (MAE) on a validation dataset to compare the models.\n",
    "    $$ {MAE}(y,\\hat{y}) = \\frac{1}{n} \\sum_{i=1}^n |y_i-\\hat{y}_i|.$$"
   ]
  },
  {
   "cell_type": "code",
   "execution_count": 11,
   "id": "4deacf91",
   "metadata": {
    "lines_to_next_cell": 0
   },
   "outputs": [],
   "source": [
    "# Design matrix without intercept\n",
    "Design_matrix = MS(Hitters.columns.drop('Salary'), intercept=False)\n",
    "# Convert to numpy arrays\n",
    "X = Design_matrix.fit_transform(Hitters).to_numpy()\n",
    "Y = Hitters['Salary'].to_numpy()"
   ]
  },
  {
   "cell_type": "markdown",
   "id": "8e6f3cac",
   "metadata": {},
   "source": [
    "- `to_numpy()` converts `pandas` data frames or series to `numpy` arrays because `sklearn` requires `numpy` arrays to fit lasso."
   ]
  },
  {
   "cell_type": "code",
   "execution_count": 12,
   "id": "8593f62b",
   "metadata": {},
   "outputs": [],
   "source": [
    "# Split the data into training and test sets\n",
    "X_train,X_test,Y_train,Y_test = train_test_split(\n",
    "    X, Y, test_size=1/3, random_state=1)"
   ]
  },
  {
   "cell_type": "markdown",
   "id": "d1e980ad",
   "metadata": {},
   "source": [
    "## Linear Regression"
   ]
  },
  {
   "cell_type": "code",
   "execution_count": 13,
   "id": "54b14993",
   "metadata": {},
   "outputs": [
    {
     "name": "stdout",
     "output_type": "stream",
     "text": [
      "MAE of Linear: 259.71528833146294\n"
     ]
    }
   ],
   "source": [
    "hit_lm = LinearRegression().fit(X_train, Y_train)\n",
    "Yhat_test = hit_lm.predict(X_test)\n",
    "# Mean absolute error (MAE)\n",
    "print('MAE of Linear:', np.abs(Yhat_test - Y_test).mean())"
   ]
  },
  {
   "cell_type": "markdown",
   "id": "abd4924c",
   "metadata": {},
   "source": [
    "## Lasso Regression"
   ]
  },
  {
   "cell_type": "markdown",
   "id": "99b2d854",
   "metadata": {},
   "source": [
    "- We use MAE to select and evaluate a model, rather than MSE.\n",
    "- Because the solver uses only MSE, we need to create a cross-validation grid and perform the cross-validation directly.\n",
    "- We do a pipeline: normalize using `StandardScaler`, then fit the model."
   ]
  },
  {
   "cell_type": "code",
   "execution_count": 14,
   "id": "84c668ad",
   "metadata": {},
   "outputs": [],
   "source": [
    "scaler = StandardScaler(with_mean=True, with_std=True)\n",
    "lasso = Lasso(warm_start=True, max_iter=30000)\n",
    "standard_lasso = Pipeline(steps=[('scaler', scaler),\n",
    "                                 ('lasso', lasso)])"
   ]
  },
  {
   "cell_type": "markdown",
   "id": "99739ec1",
   "metadata": {},
   "source": [
    "- `warm_start=True`: The model will reuse the solution of the previous fit as the starting point for the next fit. This can speed up convergence when fitting the model multiple times.\n",
    "- `max_iter=10000`: The maximum number of iterations.\n",
    "- We identify the maximum value of $\\lambda$ (`lam_max`):\n",
    "    - We compute the dot product of the standardized predictors with the response to capture their relationship.\n",
    "    - We take the maximum abolute value of the dot product to identify the feature with the strongest relationship with the response.\n",
    "    - We devide this value by the number of observations to normalize it.\n",
    "- We create a grid of values for $\\lambda$.\n",
    "    - We choose a grid of 100 values of $\\lambda$ from 0.01 to 1\n",
    "    - We scale the grid by `lam_max`"
   ]
  },
  {
   "cell_type": "code",
   "execution_count": 15,
   "id": "8890c9e3",
   "metadata": {},
   "outputs": [],
   "source": [
    "# Standardize the predictors\n",
    "X_s = scaler.fit_transform(X_train)\n",
    "# Number of observations\n",
    "n = X_s.shape[0]\n",
    "# Calculate the Mean-Centered Response Vector\n",
    "Y_centered = Y_train - Y_train.mean()\n",
    "# Calculate the Dot Product\n",
    "dot_product = X_s.T.dot(Y_centered)\n",
    "# Calculate the maximum absolute value of the dot product\n",
    "max_abs_value = np.fabs(dot_product).max()\n",
    "# np.fabs() is a special function handling floating points. np.abs() is a general function.\n",
    "# Compute lam_max\n",
    "lam_max = max_abs_value / n # 255.658\n",
    "# Generate a range of values\n",
    "log_alpha_values = np.linspace(0, np.log(0.01), 100) # 0 to -4.605\n",
    "# Exponentiate the values\n",
    "alpha_values = np.exp(log_alpha_values) # 1 to 0.01\n",
    "# Scale by lam_max\n",
    "scaled_alpha_values = alpha_values * lam_max\n",
    "# Create a param_grid\n",
    "param_grid = {'lasso__alpha': scaled_alpha_values}"
   ]
  },
  {
   "cell_type": "code",
   "execution_count": 16,
   "id": "38773381",
   "metadata": {},
   "outputs": [],
   "source": [
    "# Set up a 10-fold cross-validation\n",
    "cv = KFold(10, shuffle=True, random_state=1)\n",
    "grid = GridSearchCV(standard_lasso, param_grid, cv=cv,\n",
    "                    scoring='neg_mean_absolute_error')\n",
    "grid.fit(X_train, Y_train);"
   ]
  },
  {
   "cell_type": "code",
   "execution_count": 17,
   "id": "adc24a51",
   "metadata": {
    "lines_to_next_cell": 0
   },
   "outputs": [
    {
     "name": "stdout",
     "output_type": "stream",
     "text": [
      "MAE of Lasso: 235.6754837478029\n"
     ]
    }
   ],
   "source": [
    "# Extract the best estimator\n",
    "trained_lasso = grid.best_estimator_\n",
    "# Predict the test set\n",
    "Yhat_test = trained_lasso.predict(X_test)\n",
    "# Show MAE\n",
    "print('MAE of Lasso:', np.abs(Yhat_test - Y_test).mean())"
   ]
  },
  {
   "cell_type": "markdown",
   "id": "7b4253e0",
   "metadata": {},
   "source": [
    "## Neural Network: Classes and Inheritance\n",
    "- We first set up a model structure that describes the network.\n",
    "- We define new classes specific to the model we wish to fit.\n",
    "- `pytorch` do this task by sub-classing a generic representation of a network.\n",
    "- We define a class `HittersModel` that inherits from `torch.nn.Module`. This base class is the parent class for all neural network modules in `pytorch`.\n",
    "- We define the `__init__()` method to specify the structure of the network.\n",
    "    - `super(HittersModel, self).__init__()`: Calls the constructor of the parent class nn.Module to initialize the base class.\n",
    "    - We attact two attributes to the class: `flatten` and `sequential`. They are used in the `forward()` method to describe the map that this module implements.\n",
    "    - `self.flatten = nn.Flatten()`: Defines a layer that flattens the input tensor. This is useful if the input is multi-dimensional (e.g., images) and needs to be converted to a 1D tensor.\n",
    "    - `self.sequential = nn.Sequential()`: Defines a container for a sequence of layers. The layers are added to the container in the order they are passed to the constructor.\n",
    "        - `nn.Linear(input_size, 50)`: Defines a linear layer that maps the input tensor to a 50-dimensional output tensor.\n",
    "        - `nn.ReLU()`: Defines a ReLU activation function.\n",
    "        - `np.Dropout(0.4)`: Defines a dropout layer that randomly sets 40% of the input units to 0 at each update during training. This helps prevent overfitting.\n",
    "            - `np.Dropout(0.4)` layer will randomly set 40% of the input units to zero during training.\n",
    "            - It does not consider whether the input units are already zero; it simply applies the dropout rate to the entire input.\n",
    "            - As a result, the final output can have more than 40% zeros because it includes zeros from both the ReLU and Dropout operations.\n",
    "        - `nn.Linear(50, 1)`: Defines another linear layer that maps the 50-dimensional tensor to a 1-dimensional output tensor.\n",
    "- We define the `forward()` method to specify the forward pass of the network.\n",
    "    - `x = self.flatten(x)`: Flattens the input tensor.\n",
    "    - `torch.flatten(self.sequential(x))`: Applies the sequence of layers to the input tensor.\n",
    "- Objects `torch.nn.Module` has more methods. We can use them because `HittersModel` inherits from `torch.nn.Module`."
   ]
  },
  {
   "cell_type": "code",
   "execution_count": 18,
   "id": "415cf74b",
   "metadata": {},
   "outputs": [],
   "source": [
    "class HittersModel(nn.Module):\n",
    "\n",
    "    def __init__(self, input_size):\n",
    "        super(HittersModel, self).__init__()\n",
    "        self.flatten = nn.Flatten()\n",
    "        self.sequential = nn.Sequential(\n",
    "            nn.Linear(input_size, 50),\n",
    "            nn.ReLU(),\n",
    "            nn.Dropout(0.4),\n",
    "            nn.Linear(50, 1))\n",
    "\n",
    "    def forward(self, x):\n",
    "        x = self.flatten(x)\n",
    "        return torch.flatten(self.sequential(x))"
   ]
  },
  {
   "cell_type": "code",
   "execution_count": 19,
   "id": "60469c96",
   "metadata": {},
   "outputs": [],
   "source": [
    "hit_model = HittersModel(X.shape[1]) # X.shape[1] = 19"
   ]
  },
  {
   "cell_type": "markdown",
   "id": "a14bfd67",
   "metadata": {},
   "source": [
    "- The object `self.sequential` is a composition of four maps.\n",
    "- The first map is a linear map from the input of 19 features to 50 dimensions.\n",
    "    - It introduces $19 \\times 50$ weights and 50 biases (intercepts).\n",
    "- The second map is a ReLU activation function.\n",
    "- The third map is a dropout layer that randomly sets 40% of the output of the ReLU to zero.\n",
    "- The fourth map is a linear map from the 50-dimensional output of the dropout layer to a single output.\n",
    "    - It introduces $50 \\times 1$ weights and 1 bias.\n",
    "- The total number of parameters is $(19+1) \\times 50 + 50 + 1 = 1051$.\n",
    "- We can use `summary()` from `torchinfo` package to summarize this information."
   ]
  },
  {
   "cell_type": "code",
   "execution_count": 20,
   "id": "84720ca7",
   "metadata": {
    "lines_to_next_cell": 0
   },
   "outputs": [
    {
     "data": {
      "text/plain": [
       "===================================================================================================================\n",
       "Layer (type:depth-idx)                   Input Shape               Output Shape              Param #\n",
       "===================================================================================================================\n",
       "HittersModel                             [175, 19]                 [175]                     --\n",
       "├─Flatten: 1-1                           [175, 19]                 [175, 19]                 --\n",
       "├─Sequential: 1-2                        [175, 19]                 [175, 1]                  --\n",
       "│    └─Linear: 2-1                       [175, 19]                 [175, 50]                 1,000\n",
       "│    └─ReLU: 2-2                         [175, 50]                 [175, 50]                 --\n",
       "│    └─Dropout: 2-3                      [175, 50]                 [175, 50]                 --\n",
       "│    └─Linear: 2-4                       [175, 50]                 [175, 1]                  51\n",
       "===================================================================================================================\n",
       "Total params: 1,051\n",
       "Trainable params: 1,051\n",
       "Non-trainable params: 0\n",
       "Total mult-adds (Units.MEGABYTES): 0.18\n",
       "===================================================================================================================\n",
       "Input size (MB): 0.01\n",
       "Forward/backward pass size (MB): 0.07\n",
       "Params size (MB): 0.00\n",
       "Estimated Total Size (MB): 0.09\n",
       "==================================================================================================================="
      ]
     },
     "execution_count": 20,
     "metadata": {},
     "output_type": "execute_result"
    }
   ],
   "source": [
    "summary(hit_model, \n",
    "        input_size=X_train.shape,\n",
    "        col_names=['input_size',\n",
    "                   'output_size',\n",
    "                   'num_params'])"
   ]
  },
  {
   "cell_type": "markdown",
   "id": "8a0ae6ef",
   "metadata": {},
   "source": [
    "- We transform the data to `torch` tensors, which is the basic data structure in `pytorch`.\n",
    "    - `torch` tensors are similar to `numpy` arrays, but they can be used on a GPU.\n",
    "    - `torch` tensors works typically with 32-bit (single precision), rather than 64-bit (double precision) floating point numbers.\n",
    "        - A 32-bit is a way to represent real numbers using 32 bits (4 bytes) of memory. A 64-bit (double precision) uses 64 bits (8 bytes) of memory.\n",
    "        - A 32-bit has precision of 7 decimal digits, while a 64-bit has precision of 15-17 decimal digits.\n",
    "        - A 32-bit can represent a range of numbers between $\\pm 3.4 \\times 10^{38}$, while a 64-bit can represent a range of numbers between $\\pm 1.8 \\times 10^{308}$.\n",
    "        - A 32-bit is faster than a 64-bit because it uses less memory.\n",
    "        - A 32-bit is used some machine learning tasks, while a 64-bit is used in scientific computing, financial calculations.\n",
    "- We convert the data to `np.float32` before transforming it to `torch` tensors."
   ]
  },
  {
   "cell_type": "code",
   "execution_count": 21,
   "id": "6f8038ce",
   "metadata": {
    "lines_to_next_cell": 0
   },
   "outputs": [],
   "source": [
    "# Convert training data to PyTorch tensors\n",
    "X_train_t = torch.tensor(X_train.astype(np.float32))\n",
    "Y_train_t = torch.tensor(Y_train.astype(np.float32))\n",
    "hit_train = TensorDataset(X_train_t, Y_train_t)\n",
    "# Convert test data to PyTorch tensors\n",
    "X_test_t = torch.tensor(X_test.astype(np.float32))\n",
    "Y_test_t = torch.tensor(Y_test.astype(np.float32))\n",
    "hit_test = TensorDataset(X_test_t, Y_test_t)"
   ]
  },
  {
   "cell_type": "markdown",
   "id": "44b386e2",
   "metadata": {},
   "source": [
    "- The dataset is passed to the `DataLoader` object\n",
    "    - `DataLoader` is a generator that provides batches of data to the model.\n",
    "    - `DataLoader` is a class that wraps an iterable around the dataset.\n",
    "    - `DataLoader` is used to iterate over a dataset in batches.\n",
    "    - `DataLoader` is used to shuffle and sample the data.\n",
    "    - `DataLoader` is used to load the data in parallel using `multiprocessing` workers.\n",
    "- `rec_num_workers()` returns the number of workers to use for data loading.\n",
    "    - Number of CPU cores affect the number of workers.\n",
    "    - We use `os.cpu_count()` to get the number of CPU cores.\n",
    "    - Current load on the system affects the number of workers."
   ]
  },
  {
   "cell_type": "code",
   "execution_count": 22,
   "id": "10471525",
   "metadata": {},
   "outputs": [
    {
     "data": {
      "text/plain": [
       "4"
      ]
     },
     "execution_count": 22,
     "metadata": {},
     "output_type": "execute_result"
    }
   ],
   "source": [
    "import os\n",
    "os.cpu_count()"
   ]
  },
  {
   "cell_type": "code",
   "execution_count": 23,
   "id": "ba02b793",
   "metadata": {},
   "outputs": [
    {
     "data": {
      "text/plain": [
       "4"
      ]
     },
     "execution_count": 23,
     "metadata": {},
     "output_type": "execute_result"
    }
   ],
   "source": [
    "max_num_workers = rec_num_workers(); max_num_workers"
   ]
  },
  {
   "cell_type": "markdown",
   "id": "3824cae8",
   "metadata": {},
   "source": [
    "- The general training setup in `pytorch_lightning` involves training, validation, and test data.\n",
    "- Each is represented by different `DataLoader` objects.\n",
    "- During each epoch, we run a training step to learn the model and a validation step to track the error.\n",
    "- The test data is used at the end of training to evaluate the model.\n",
    "- We already have the training and test data. We set the test data as validation data with the argument `validation=hit_test`.\n",
    "    - If we set `validation` a float between 0 and 1, it will use that fraction of the training data as validation data.\n",
    "    - If we use a dataset, it will passed it to a data loader."
   ]
  },
  {
   "cell_type": "code",
   "execution_count": 24,
   "id": "c60b1e3f",
   "metadata": {},
   "outputs": [],
   "source": [
    "hit_dm = SimpleDataModule(hit_train, hit_test, batch_size=32,\n",
    "                          num_workers=min(4, max_num_workers),\n",
    "                          validation=hit_test)"
   ]
  },
  {
   "cell_type": "markdown",
   "id": "8e872bfc",
   "metadata": {},
   "source": [
    "- We provide a `pytorch_lightning` module that controls the steps performed during the training process.\n",
    "- This method record the value of the loss function and addtional metrics at the end of each epoch.\n",
    "- These operations are controlled by the methods `SimpleModule.[training/test/validation]_step()`"
   ]
  },
  {
   "cell_type": "code",
   "execution_count": 25,
   "id": "916cfd66",
   "metadata": {},
   "outputs": [],
   "source": [
    "hit_module = SimpleModule.regression(hit_model, metrics={'mae':MeanAbsoluteError()})"
   ]
  },
  {
   "cell_type": "markdown",
   "id": "9443612a",
   "metadata": {},
   "source": [
    "- `SimpleModule.regression()` uses squared-error loss.\n",
    "- We asked for the mean absolute error (MAE) as an additional metric.\n",
    "- We log (save) the results via `CSVLogger()`. This will save the results to a CSV file within a directory `logs/hitters`.\n",
    "- After the fitting is complete, we can load the results as a `pandas` data frame.\n",
    "- There are other ways to log (record) the results, such as `TensorBoardLogger()` and `WandbLogger()`."
   ]
  },
  {
   "cell_type": "code",
   "execution_count": 26,
   "id": "44a44fb1",
   "metadata": {},
   "outputs": [],
   "source": [
    "hit_logger = CSVLogger('logs', name='hitters')"
   ]
  },
  {
   "cell_type": "markdown",
   "id": "88646945",
   "metadata": {},
   "source": [
    "- We use the `Trainer()` object from `pytorch_lightning` to train our model and log the results.\n",
    "- `deterministic=True` ensures that the results are reproducible.\n",
    "- `max_epochs=50` specifies the model will be trained for 50 epochs.\n",
    "- `log_every_n_steps=5` specifies that the results will be logged every 5 steps. A step refers to a single batch of data.\n",
    "- `callbacks` argument enables various tasks during model training. The `ErrorTracker()` callback computes validation and test errors during training.\n",
    "- `hit_module` specifies the network architecture\n",
    "- `datamodule=hit_dm` tells the trainer how training/validation/test logs are produced.\n"
   ]
  },
  {
   "cell_type": "code",
   "execution_count": 27,
   "id": "8e91122a",
   "metadata": {
    "lines_to_next_cell": 0
   },
   "outputs": [
    {
     "name": "stderr",
     "output_type": "stream",
     "text": [
      "GPU available: False, used: False\n",
      "TPU available: False, using: 0 TPU cores\n",
      "HPU available: False, using: 0 HPUs\n",
      "\n",
      "  | Name  | Type         | Params | Mode \n",
      "-----------------------------------------------\n",
      "0 | model | HittersModel | 1.1 K  | train\n",
      "1 | loss  | MSELoss      | 0      | train\n",
      "-----------------------------------------------\n",
      "1.1 K     Trainable params\n",
      "0         Non-trainable params\n",
      "1.1 K     Total params\n",
      "0.004     Total estimated model params size (MB)\n",
      "8         Modules in train mode\n",
      "0         Modules in eval mode\n",
      "`Trainer.fit` stopped: `max_epochs=50` reached.\n"
     ]
    }
   ],
   "source": [
    "hit_trainer = Trainer(deterministic=True,\n",
    "                      max_epochs=50,\n",
    "                      log_every_n_steps=5,\n",
    "                      logger=hit_logger,\n",
    "                      enable_progress_bar=False,\n",
    "                      callbacks=[ErrorTracker()])\n",
    "hit_trainer.fit(hit_module, datamodule=hit_dm)"
   ]
  },
  {
   "cell_type": "markdown",
   "id": "d817cd7b",
   "metadata": {},
   "source": [
    "- Stochastic Gradient Descent (SGD) is an An optimization algorithm used to minimize the loss function by updating the model parameters iteratively.\n",
    "- The loss function, also known as the cost function or objective function. It measures how well the model's predictions match the actual target values. The goal is to minimize the loss function.\n",
    "    - Regression Loss Functions: Mean Squared Error (MSE), Mean Absolute Error (MAE), Huber Loss, Log-Cosh Loss.\n",
    "    - Classification Loss Functions: Cross-Entropy Loss, Hinge Loss, Squared Hinge Loss, Kullback-Leibler Divergence Loss.\n",
    "        - Cross-Entropy Loss: used with softmax outputs. It is the negative log-likelihood of the true labels given the predicted probabilities. It measures the difference between the predicted probability distribution and the true probability distribution.\n",
    "    - The gradient of the loss function is a vector of partial derivatives of the loss function with respect to each of the model's parameters.\n",
    "    - The positive gradient indicates that the loss function is increasing, while the negative gradient indicates that the loss function is decreasing.\n",
    "    - Gradient Descent is an optimization algorithm that minimizes the loss function by updating the model parameters in the direction of the negative gradient.\n",
    "- At each step, it computes the gradient of the loss function with respect to the model parameters using a subset of the training data (a batch).\n",
    "- The total number of training observations is ( n = 175 ). The batch size is 32. At each step of SGD, the algorithm randomly selects 32 training observations (a batch) to compute the gradient and update the model parameters. After $175/32=5.5$ SGD steps, the algorithm has used all the training data once. This is called an epoch.\n",
    "- Partial Batch: The last step in an epoch may involve a smaller batch if the total number of observations is not perfectly divisible by the batch size.\n",
    "- Batch Size of 32 is common used default that balances computational efficiency, memory usage, and convergence behavior. The choice of is a trade-off and can affect the convergence behavior of the model.\n",
    "    - Example for changing batch-size: `dataloader = torch.utils.data.DataLoader(dataset, batch_size=batch_size, shuffle=True)``"
   ]
  },
  {
   "cell_type": "code",
   "execution_count": 28,
   "id": "e6012d1f",
   "metadata": {
    "lines_to_next_cell": 2
   },
   "outputs": [
    {
     "data": {
      "text/html": [
       "<pre style=\"white-space:pre;overflow-x:auto;line-height:normal;font-family:Menlo,'DejaVu Sans Mono',consolas,'Courier New',monospace\">┏━━━━━━━━━━━━━━━━━━━━━━━━━━━┳━━━━━━━━━━━━━━━━━━━━━━━━━━━┓\n",
       "┃<span style=\"font-weight: bold\">        Test metric        </span>┃<span style=\"font-weight: bold\">       DataLoader 0        </span>┃\n",
       "┡━━━━━━━━━━━━━━━━━━━━━━━━━━━╇━━━━━━━━━━━━━━━━━━━━━━━━━━━┩\n",
       "│<span style=\"color: #008080; text-decoration-color: #008080\">         test_loss         </span>│<span style=\"color: #800080; text-decoration-color: #800080\">      104098.5546875       </span>│\n",
       "│<span style=\"color: #008080; text-decoration-color: #008080\">         test_mae          </span>│<span style=\"color: #800080; text-decoration-color: #800080\">    229.50115966796875     </span>│\n",
       "└───────────────────────────┴───────────────────────────┘\n",
       "</pre>\n"
      ],
      "text/plain": [
       "┏━━━━━━━━━━━━━━━━━━━━━━━━━━━┳━━━━━━━━━━━━━━━━━━━━━━━━━━━┓\n",
       "┃\u001b[1m \u001b[0m\u001b[1m       Test metric       \u001b[0m\u001b[1m \u001b[0m┃\u001b[1m \u001b[0m\u001b[1m      DataLoader 0       \u001b[0m\u001b[1m \u001b[0m┃\n",
       "┡━━━━━━━━━━━━━━━━━━━━━━━━━━━╇━━━━━━━━━━━━━━━━━━━━━━━━━━━┩\n",
       "│\u001b[36m \u001b[0m\u001b[36m        test_loss        \u001b[0m\u001b[36m \u001b[0m│\u001b[35m \u001b[0m\u001b[35m     104098.5546875      \u001b[0m\u001b[35m \u001b[0m│\n",
       "│\u001b[36m \u001b[0m\u001b[36m        test_mae         \u001b[0m\u001b[36m \u001b[0m│\u001b[35m \u001b[0m\u001b[35m   229.50115966796875    \u001b[0m\u001b[35m \u001b[0m│\n",
       "└───────────────────────────┴───────────────────────────┘\n"
      ]
     },
     "metadata": {},
     "output_type": "display_data"
    }
   ],
   "source": [
    "# Evaluate the model\n",
    "hit_trainer.test(hit_module, datamodule=hit_dm);"
   ]
  },
  {
   "cell_type": "markdown",
   "id": "c59342f9",
   "metadata": {},
   "source": [
    "- We use the logged CSV file in `experiment.metrics_file_path` of our logger.\n",
    "- Each time the model is fit, the logger outputs results into a new subdirectory in `logs/hitters`.\n",
    "- We plot MAE as a function of epoch."
   ]
  },
  {
   "cell_type": "code",
   "execution_count": 29,
   "id": "48313d02",
   "metadata": {},
   "outputs": [
    {
     "data": {
      "text/plain": [
       "Index(['epoch', 'step', 'test_loss', 'test_mae', 'train_loss',\n",
       "       'train_mae_epoch', 'train_mae_step', 'valid_loss', 'valid_mae'],\n",
       "      dtype='object')"
      ]
     },
     "execution_count": 29,
     "metadata": {},
     "output_type": "execute_result"
    }
   ],
   "source": [
    "# Retrieve the logged summaries\n",
    "hit_results = pd.read_csv(hit_logger.experiment.metrics_file_path)\n",
    "# Show columns names\n",
    "hit_results.columns"
   ]
  },
  {
   "cell_type": "code",
   "execution_count": 30,
   "id": "7979364e",
   "metadata": {},
   "outputs": [
    {
     "data": {
      "image/png": "[encoded data removed]",
      "text/plain": [
       "<Figure size 600x600 with 1 Axes>"
      ]
     },
     "metadata": {},
     "output_type": "display_data"
    }
   ],
   "source": [
    "fig, ax = plt.subplots(1, 1, figsize=(6, 6))\n",
    "hit_results.plot(x='epoch', y='train_mae_epoch', label='Training',\n",
    "                     marker='o', color='k', ax=ax)\n",
    "hit_results.plot(x='epoch', y='valid_mae', label='Validation',\n",
    "                        marker='x', color='r', ax=ax)\n",
    "ax.set_xlabel('Epoch'); ax.set_ylabel('Loss');\n",
    "ax.set_ylim([0, 400]); ax.set_xticks(np.linspace(0, 50, 11));"
   ]
  },
  {
   "cell_type": "code",
   "execution_count": 31,
   "id": "178a332f",
   "metadata": {},
   "outputs": [],
   "source": [
    "#fig, ax = plt.subplots(1, 1, figsize=(6, 6))\n",
    "#for column, color, label in zip(['train_mae_epoch', 'valid_mae'],\n",
    "#                                ['black', 'red'],\n",
    "#                                ['Training', 'Validation']):\n",
    "#    hit_results.plot(x='epoch', y=column, label=label,\n",
    "#                     marker='o', color=color, ax=ax)"
   ]
  },
  {
   "cell_type": "markdown",
   "id": "807b2306",
   "metadata": {},
   "source": [
    "- We predict from the final model and compute the MAE on the test data.\n",
    "- We call `eval()` to set the model to evaluation mode. This tell `torch` that the modle is fitted and we are ready to make predictions.\n",
    "- The change is that the dropout layer is turned off during evaluation."
   ]
  },
  {
   "cell_type": "code",
   "execution_count": 32,
   "id": "e6a48733",
   "metadata": {
    "lines_to_next_cell": 0
   },
   "outputs": [
    {
     "data": {
      "text/plain": [
       "tensor(229.5012, grad_fn=<MeanBackward0>)"
      ]
     },
     "execution_count": 32,
     "metadata": {},
     "output_type": "execute_result"
    }
   ],
   "source": [
    "hit_model.eval() \n",
    "preds = hit_module(X_test_t)\n",
    "torch.abs(Y_test_t - preds).mean()"
   ]
  },
  {
   "cell_type": "markdown",
   "id": "b51594bb",
   "metadata": {},
   "source": [
    "## Cleanup\n",
    "We delete all references to the torch objects to terminate the worker processes from our data module."
   ]
  },
  {
   "cell_type": "code",
   "execution_count": 33,
   "id": "78ca542d",
   "metadata": {
    "lines_to_next_cell": 2
   },
   "outputs": [],
   "source": [
    "del(Hitters,\n",
    "    hit_model, hit_dm,\n",
    "    hit_logger,\n",
    "    hit_test, hit_train,\n",
    "    X, Y,\n",
    "    X_test, X_train,\n",
    "    Y_test, Y_train,\n",
    "    X_test_t, Y_test_t,\n",
    "    hit_trainer, hit_module)"
   ]
  }
 ],
 "metadata": {
  "jupytext": {
   "cell_metadata_filter": "-all",
   "main_language": "python",
   "notebook_metadata_filter": "-all"
  },
  "kernelspec": {
   "display_name": "Python 3 (ipykernel)",
   "language": "python",
   "name": "python3"
  },
  "language_info": {
   "codemirror_mode": {
    "name": "ipython",
    "version": 3
   },
   "file_extension": ".py",
   "mimetype": "text/x-python",
   "name": "python",
   "nbconvert_exporter": "python",
   "pygments_lexer": "ipython3",
   "version": "3.11.9"
  }
 },
 "nbformat": 4,
 "nbformat_minor": 5
}
